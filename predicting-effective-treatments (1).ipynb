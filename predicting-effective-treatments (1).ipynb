{
 "cells": [
  {
   "cell_type": "markdown",
   "metadata": {},
   "source": [
    "## Problem Statement:\n",
    "### Pedicting effective treatments  for diabetes in turn reducing the readmission into the hospital"
   ]
  },
  {
   "cell_type": "code",
   "execution_count": 1,
   "metadata": {},
   "outputs": [
    {
     "ename": "FileNotFoundError",
     "evalue": "No such file or directory: '../input/infographic/INFOGRAPHIC.jpg'",
     "output_type": "error",
     "traceback": [
      "\u001b[1;31m---------------------------------------------------------------------------\u001b[0m",
      "\u001b[1;31mTypeError\u001b[0m                                 Traceback (most recent call last)",
      "\u001b[1;32m~\\Anaconda3\\lib\\site-packages\\IPython\\core\\display.py\u001b[0m in \u001b[0;36m_data_and_metadata\u001b[1;34m(self, always_both)\u001b[0m\n\u001b[0;32m   1253\u001b[0m         \u001b[1;32mtry\u001b[0m\u001b[1;33m:\u001b[0m\u001b[1;33m\u001b[0m\u001b[1;33m\u001b[0m\u001b[0m\n\u001b[1;32m-> 1254\u001b[1;33m             \u001b[0mb64_data\u001b[0m \u001b[1;33m=\u001b[0m \u001b[0mb2a_base64\u001b[0m\u001b[1;33m(\u001b[0m\u001b[0mself\u001b[0m\u001b[1;33m.\u001b[0m\u001b[0mdata\u001b[0m\u001b[1;33m)\u001b[0m\u001b[1;33m.\u001b[0m\u001b[0mdecode\u001b[0m\u001b[1;33m(\u001b[0m\u001b[1;34m'ascii'\u001b[0m\u001b[1;33m)\u001b[0m\u001b[1;33m\u001b[0m\u001b[1;33m\u001b[0m\u001b[0m\n\u001b[0m\u001b[0;32m   1255\u001b[0m         \u001b[1;32mexcept\u001b[0m \u001b[0mTypeError\u001b[0m\u001b[1;33m:\u001b[0m\u001b[1;33m\u001b[0m\u001b[1;33m\u001b[0m\u001b[0m\n",
      "\u001b[1;31mTypeError\u001b[0m: a bytes-like object is required, not 'str'",
      "\nDuring handling of the above exception, another exception occurred:\n",
      "\u001b[1;31mFileNotFoundError\u001b[0m                         Traceback (most recent call last)",
      "\u001b[1;32m~\\Anaconda3\\lib\\site-packages\\IPython\\core\\formatters.py\u001b[0m in \u001b[0;36m__call__\u001b[1;34m(self, obj, include, exclude)\u001b[0m\n\u001b[0;32m    968\u001b[0m \u001b[1;33m\u001b[0m\u001b[0m\n\u001b[0;32m    969\u001b[0m             \u001b[1;32mif\u001b[0m \u001b[0mmethod\u001b[0m \u001b[1;32mis\u001b[0m \u001b[1;32mnot\u001b[0m \u001b[1;32mNone\u001b[0m\u001b[1;33m:\u001b[0m\u001b[1;33m\u001b[0m\u001b[1;33m\u001b[0m\u001b[0m\n\u001b[1;32m--> 970\u001b[1;33m                 \u001b[1;32mreturn\u001b[0m \u001b[0mmethod\u001b[0m\u001b[1;33m(\u001b[0m\u001b[0minclude\u001b[0m\u001b[1;33m=\u001b[0m\u001b[0minclude\u001b[0m\u001b[1;33m,\u001b[0m \u001b[0mexclude\u001b[0m\u001b[1;33m=\u001b[0m\u001b[0mexclude\u001b[0m\u001b[1;33m)\u001b[0m\u001b[1;33m\u001b[0m\u001b[1;33m\u001b[0m\u001b[0m\n\u001b[0m\u001b[0;32m    971\u001b[0m             \u001b[1;32mreturn\u001b[0m \u001b[1;32mNone\u001b[0m\u001b[1;33m\u001b[0m\u001b[1;33m\u001b[0m\u001b[0m\n\u001b[0;32m    972\u001b[0m         \u001b[1;32melse\u001b[0m\u001b[1;33m:\u001b[0m\u001b[1;33m\u001b[0m\u001b[1;33m\u001b[0m\u001b[0m\n",
      "\u001b[1;32m~\\Anaconda3\\lib\\site-packages\\IPython\\core\\display.py\u001b[0m in \u001b[0;36m_repr_mimebundle_\u001b[1;34m(self, include, exclude)\u001b[0m\n\u001b[0;32m   1242\u001b[0m         \u001b[1;32mif\u001b[0m \u001b[0mself\u001b[0m\u001b[1;33m.\u001b[0m\u001b[0membed\u001b[0m\u001b[1;33m:\u001b[0m\u001b[1;33m\u001b[0m\u001b[1;33m\u001b[0m\u001b[0m\n\u001b[0;32m   1243\u001b[0m             \u001b[0mmimetype\u001b[0m \u001b[1;33m=\u001b[0m \u001b[0mself\u001b[0m\u001b[1;33m.\u001b[0m\u001b[0m_mimetype\u001b[0m\u001b[1;33m\u001b[0m\u001b[1;33m\u001b[0m\u001b[0m\n\u001b[1;32m-> 1244\u001b[1;33m             \u001b[0mdata\u001b[0m\u001b[1;33m,\u001b[0m \u001b[0mmetadata\u001b[0m \u001b[1;33m=\u001b[0m \u001b[0mself\u001b[0m\u001b[1;33m.\u001b[0m\u001b[0m_data_and_metadata\u001b[0m\u001b[1;33m(\u001b[0m\u001b[0malways_both\u001b[0m\u001b[1;33m=\u001b[0m\u001b[1;32mTrue\u001b[0m\u001b[1;33m)\u001b[0m\u001b[1;33m\u001b[0m\u001b[1;33m\u001b[0m\u001b[0m\n\u001b[0m\u001b[0;32m   1245\u001b[0m             \u001b[1;32mif\u001b[0m \u001b[0mmetadata\u001b[0m\u001b[1;33m:\u001b[0m\u001b[1;33m\u001b[0m\u001b[1;33m\u001b[0m\u001b[0m\n\u001b[0;32m   1246\u001b[0m                 \u001b[0mmetadata\u001b[0m \u001b[1;33m=\u001b[0m \u001b[1;33m{\u001b[0m\u001b[0mmimetype\u001b[0m\u001b[1;33m:\u001b[0m \u001b[0mmetadata\u001b[0m\u001b[1;33m}\u001b[0m\u001b[1;33m\u001b[0m\u001b[1;33m\u001b[0m\u001b[0m\n",
      "\u001b[1;32m~\\Anaconda3\\lib\\site-packages\\IPython\\core\\display.py\u001b[0m in \u001b[0;36m_data_and_metadata\u001b[1;34m(self, always_both)\u001b[0m\n\u001b[0;32m   1255\u001b[0m         \u001b[1;32mexcept\u001b[0m \u001b[0mTypeError\u001b[0m\u001b[1;33m:\u001b[0m\u001b[1;33m\u001b[0m\u001b[1;33m\u001b[0m\u001b[0m\n\u001b[0;32m   1256\u001b[0m             raise FileNotFoundError(\n\u001b[1;32m-> 1257\u001b[1;33m                 \"No such file or directory: '%s'\" % (self.data))\n\u001b[0m\u001b[0;32m   1258\u001b[0m         \u001b[0mmd\u001b[0m \u001b[1;33m=\u001b[0m \u001b[1;33m{\u001b[0m\u001b[1;33m}\u001b[0m\u001b[1;33m\u001b[0m\u001b[1;33m\u001b[0m\u001b[0m\n\u001b[0;32m   1259\u001b[0m         \u001b[1;32mif\u001b[0m \u001b[0mself\u001b[0m\u001b[1;33m.\u001b[0m\u001b[0mmetadata\u001b[0m\u001b[1;33m:\u001b[0m\u001b[1;33m\u001b[0m\u001b[1;33m\u001b[0m\u001b[0m\n",
      "\u001b[1;31mFileNotFoundError\u001b[0m: No such file or directory: '../input/infographic/INFOGRAPHIC.jpg'"
     ]
    },
    {
     "ename": "FileNotFoundError",
     "evalue": "No such file or directory: '../input/infographic/INFOGRAPHIC.jpg'",
     "output_type": "error",
     "traceback": [
      "\u001b[1;31m---------------------------------------------------------------------------\u001b[0m",
      "\u001b[1;31mTypeError\u001b[0m                                 Traceback (most recent call last)",
      "\u001b[1;32m~\\Anaconda3\\lib\\site-packages\\IPython\\core\\display.py\u001b[0m in \u001b[0;36m_data_and_metadata\u001b[1;34m(self, always_both)\u001b[0m\n\u001b[0;32m   1253\u001b[0m         \u001b[1;32mtry\u001b[0m\u001b[1;33m:\u001b[0m\u001b[1;33m\u001b[0m\u001b[1;33m\u001b[0m\u001b[0m\n\u001b[1;32m-> 1254\u001b[1;33m             \u001b[0mb64_data\u001b[0m \u001b[1;33m=\u001b[0m \u001b[0mb2a_base64\u001b[0m\u001b[1;33m(\u001b[0m\u001b[0mself\u001b[0m\u001b[1;33m.\u001b[0m\u001b[0mdata\u001b[0m\u001b[1;33m)\u001b[0m\u001b[1;33m.\u001b[0m\u001b[0mdecode\u001b[0m\u001b[1;33m(\u001b[0m\u001b[1;34m'ascii'\u001b[0m\u001b[1;33m)\u001b[0m\u001b[1;33m\u001b[0m\u001b[1;33m\u001b[0m\u001b[0m\n\u001b[0m\u001b[0;32m   1255\u001b[0m         \u001b[1;32mexcept\u001b[0m \u001b[0mTypeError\u001b[0m\u001b[1;33m:\u001b[0m\u001b[1;33m\u001b[0m\u001b[1;33m\u001b[0m\u001b[0m\n",
      "\u001b[1;31mTypeError\u001b[0m: a bytes-like object is required, not 'str'",
      "\nDuring handling of the above exception, another exception occurred:\n",
      "\u001b[1;31mFileNotFoundError\u001b[0m                         Traceback (most recent call last)",
      "\u001b[1;32m~\\Anaconda3\\lib\\site-packages\\IPython\\core\\formatters.py\u001b[0m in \u001b[0;36m__call__\u001b[1;34m(self, obj)\u001b[0m\n\u001b[0;32m    343\u001b[0m             \u001b[0mmethod\u001b[0m \u001b[1;33m=\u001b[0m \u001b[0mget_real_method\u001b[0m\u001b[1;33m(\u001b[0m\u001b[0mobj\u001b[0m\u001b[1;33m,\u001b[0m \u001b[0mself\u001b[0m\u001b[1;33m.\u001b[0m\u001b[0mprint_method\u001b[0m\u001b[1;33m)\u001b[0m\u001b[1;33m\u001b[0m\u001b[1;33m\u001b[0m\u001b[0m\n\u001b[0;32m    344\u001b[0m             \u001b[1;32mif\u001b[0m \u001b[0mmethod\u001b[0m \u001b[1;32mis\u001b[0m \u001b[1;32mnot\u001b[0m \u001b[1;32mNone\u001b[0m\u001b[1;33m:\u001b[0m\u001b[1;33m\u001b[0m\u001b[1;33m\u001b[0m\u001b[0m\n\u001b[1;32m--> 345\u001b[1;33m                 \u001b[1;32mreturn\u001b[0m \u001b[0mmethod\u001b[0m\u001b[1;33m(\u001b[0m\u001b[1;33m)\u001b[0m\u001b[1;33m\u001b[0m\u001b[1;33m\u001b[0m\u001b[0m\n\u001b[0m\u001b[0;32m    346\u001b[0m             \u001b[1;32mreturn\u001b[0m \u001b[1;32mNone\u001b[0m\u001b[1;33m\u001b[0m\u001b[1;33m\u001b[0m\u001b[0m\n\u001b[0;32m    347\u001b[0m         \u001b[1;32melse\u001b[0m\u001b[1;33m:\u001b[0m\u001b[1;33m\u001b[0m\u001b[1;33m\u001b[0m\u001b[0m\n",
      "\u001b[1;32m~\\Anaconda3\\lib\\site-packages\\IPython\\core\\display.py\u001b[0m in \u001b[0;36m_repr_png_\u001b[1;34m(self)\u001b[0m\n\u001b[0;32m   1272\u001b[0m     \u001b[1;32mdef\u001b[0m \u001b[0m_repr_png_\u001b[0m\u001b[1;33m(\u001b[0m\u001b[0mself\u001b[0m\u001b[1;33m)\u001b[0m\u001b[1;33m:\u001b[0m\u001b[1;33m\u001b[0m\u001b[1;33m\u001b[0m\u001b[0m\n\u001b[0;32m   1273\u001b[0m         \u001b[1;32mif\u001b[0m \u001b[0mself\u001b[0m\u001b[1;33m.\u001b[0m\u001b[0membed\u001b[0m \u001b[1;32mand\u001b[0m \u001b[0mself\u001b[0m\u001b[1;33m.\u001b[0m\u001b[0mformat\u001b[0m \u001b[1;33m==\u001b[0m \u001b[0mself\u001b[0m\u001b[1;33m.\u001b[0m\u001b[0m_FMT_PNG\u001b[0m\u001b[1;33m:\u001b[0m\u001b[1;33m\u001b[0m\u001b[1;33m\u001b[0m\u001b[0m\n\u001b[1;32m-> 1274\u001b[1;33m             \u001b[1;32mreturn\u001b[0m \u001b[0mself\u001b[0m\u001b[1;33m.\u001b[0m\u001b[0m_data_and_metadata\u001b[0m\u001b[1;33m(\u001b[0m\u001b[1;33m)\u001b[0m\u001b[1;33m\u001b[0m\u001b[1;33m\u001b[0m\u001b[0m\n\u001b[0m\u001b[0;32m   1275\u001b[0m \u001b[1;33m\u001b[0m\u001b[0m\n\u001b[0;32m   1276\u001b[0m     \u001b[1;32mdef\u001b[0m \u001b[0m_repr_jpeg_\u001b[0m\u001b[1;33m(\u001b[0m\u001b[0mself\u001b[0m\u001b[1;33m)\u001b[0m\u001b[1;33m:\u001b[0m\u001b[1;33m\u001b[0m\u001b[1;33m\u001b[0m\u001b[0m\n",
      "\u001b[1;32m~\\Anaconda3\\lib\\site-packages\\IPython\\core\\display.py\u001b[0m in \u001b[0;36m_data_and_metadata\u001b[1;34m(self, always_both)\u001b[0m\n\u001b[0;32m   1255\u001b[0m         \u001b[1;32mexcept\u001b[0m \u001b[0mTypeError\u001b[0m\u001b[1;33m:\u001b[0m\u001b[1;33m\u001b[0m\u001b[1;33m\u001b[0m\u001b[0m\n\u001b[0;32m   1256\u001b[0m             raise FileNotFoundError(\n\u001b[1;32m-> 1257\u001b[1;33m                 \"No such file or directory: '%s'\" % (self.data))\n\u001b[0m\u001b[0;32m   1258\u001b[0m         \u001b[0mmd\u001b[0m \u001b[1;33m=\u001b[0m \u001b[1;33m{\u001b[0m\u001b[1;33m}\u001b[0m\u001b[1;33m\u001b[0m\u001b[1;33m\u001b[0m\u001b[0m\n\u001b[0;32m   1259\u001b[0m         \u001b[1;32mif\u001b[0m \u001b[0mself\u001b[0m\u001b[1;33m.\u001b[0m\u001b[0mmetadata\u001b[0m\u001b[1;33m:\u001b[0m\u001b[1;33m\u001b[0m\u001b[1;33m\u001b[0m\u001b[0m\n",
      "\u001b[1;31mFileNotFoundError\u001b[0m: No such file or directory: '../input/infographic/INFOGRAPHIC.jpg'"
     ]
    },
    {
     "data": {
      "text/plain": [
       "<IPython.core.display.Image object>"
      ]
     },
     "execution_count": 1,
     "metadata": {},
     "output_type": "execute_result"
    }
   ],
   "source": [
    "from IPython.display import Image\n",
    "Image(\"../input/infographic/INFOGRAPHIC.jpg\")"
   ]
  },
  {
   "cell_type": "code",
   "execution_count": 1,
   "metadata": {
    "_cell_guid": "b1076dfc-b9ad-4769-8c92-a6c4dae69d19",
    "_uuid": "8f2839f25d086af736a60e9eeb907d3b93b6e0e5"
   },
   "outputs": [],
   "source": [
    "# This Python 3 environment comes with many helpful analytics libraries installed\n",
    "# It is defined by the kaggle/python docker image: https://github.com/kaggle/docker-python\n",
    "# For example, here's several helpful packages to load in \n",
    "\n",
    "import numpy as np # linear algebra\n",
    "import pandas as pd # data processing, CSV file I/O (e.g. pd.read_csv)\n",
    "\n",
    "# Input data files are available in the \"../input/\" directory.\n",
    "# For example, running this (by clicking run or pressing Shift+Enter) will list the files in the input directory\n",
    "\n",
    "#import os\n",
    "#print(os.listdir(\"../input\"))\n",
    "\n",
    "# Any results you write to the current directory are saved as output."
   ]
  },
  {
   "cell_type": "code",
   "execution_count": 2,
   "metadata": {
    "_cell_guid": "79c7e3d0-c299-4dcb-8224-4455121ee9b0",
    "_uuid": "d629ff2d2480ee46fbb7e2d37f6b5fab8052498a"
   },
   "outputs": [
    {
     "data": {
      "text/plain": [
       "(101766, 50)"
      ]
     },
     "execution_count": 2,
     "metadata": {},
     "output_type": "execute_result"
    }
   ],
   "source": [
    "data = pd.read_csv('diabetic_data.csv')\n",
    "data.shape"
   ]
  },
  {
   "cell_type": "markdown",
   "metadata": {},
   "source": [
    "# Data Preparation"
   ]
  },
  {
   "cell_type": "code",
   "execution_count": 3,
   "metadata": {},
   "outputs": [
    {
     "data": {
      "text/plain": [
       "Index(['encounter_id', 'patient_nbr', 'race', 'gender', 'age', 'weight',\n",
       "       'admission_type_id', 'discharge_disposition_id', 'admission_source_id',\n",
       "       'time_in_hospital', 'payer_code', 'medical_specialty',\n",
       "       'num_lab_procedures', 'num_procedures', 'num_medications',\n",
       "       'number_outpatient', 'number_emergency', 'number_inpatient', 'diag_1',\n",
       "       'diag_2', 'diag_3', 'number_diagnoses', 'max_glu_serum', 'A1Cresult',\n",
       "       'metformin', 'repaglinide', 'nateglinide', 'chlorpropamide',\n",
       "       'glimepiride', 'acetohexamide', 'glipizide', 'glyburide', 'tolbutamide',\n",
       "       'pioglitazone', 'rosiglitazone', 'acarbose', 'miglitol', 'troglitazone',\n",
       "       'tolazamide', 'examide', 'citoglipton', 'insulin',\n",
       "       'glyburide-metformin', 'glipizide-metformin',\n",
       "       'glimepiride-pioglitazone', 'metformin-rosiglitazone',\n",
       "       'metformin-pioglitazone', 'change', 'diabetesMed', 'readmitted'],\n",
       "      dtype='object')"
      ]
     },
     "execution_count": 3,
     "metadata": {},
     "output_type": "execute_result"
    }
   ],
   "source": [
    "data.columns"
   ]
  },
  {
   "cell_type": "code",
   "execution_count": 4,
   "metadata": {},
   "outputs": [
    {
     "name": "stdout",
     "output_type": "stream",
     "text": [
      "<class 'pandas.core.frame.DataFrame'>\n",
      "RangeIndex: 101766 entries, 0 to 101765\n",
      "Data columns (total 50 columns):\n",
      "encounter_id                101766 non-null int64\n",
      "patient_nbr                 101766 non-null int64\n",
      "race                        101766 non-null object\n",
      "gender                      101766 non-null object\n",
      "age                         101766 non-null object\n",
      "weight                      101766 non-null object\n",
      "admission_type_id           101766 non-null int64\n",
      "discharge_disposition_id    101766 non-null int64\n",
      "admission_source_id         101766 non-null int64\n",
      "time_in_hospital            101766 non-null int64\n",
      "payer_code                  101766 non-null object\n",
      "medical_specialty           101766 non-null object\n",
      "num_lab_procedures          101766 non-null int64\n",
      "num_procedures              101766 non-null int64\n",
      "num_medications             101766 non-null int64\n",
      "number_outpatient           101766 non-null int64\n",
      "number_emergency            101766 non-null int64\n",
      "number_inpatient            101766 non-null int64\n",
      "diag_1                      101766 non-null object\n",
      "diag_2                      101766 non-null object\n",
      "diag_3                      101766 non-null object\n",
      "number_diagnoses            101766 non-null int64\n",
      "max_glu_serum               101766 non-null object\n",
      "A1Cresult                   101766 non-null object\n",
      "metformin                   101766 non-null object\n",
      "repaglinide                 101766 non-null object\n",
      "nateglinide                 101766 non-null object\n",
      "chlorpropamide              101766 non-null object\n",
      "glimepiride                 101766 non-null object\n",
      "acetohexamide               101766 non-null object\n",
      "glipizide                   101766 non-null object\n",
      "glyburide                   101766 non-null object\n",
      "tolbutamide                 101766 non-null object\n",
      "pioglitazone                101766 non-null object\n",
      "rosiglitazone               101766 non-null object\n",
      "acarbose                    101766 non-null object\n",
      "miglitol                    101766 non-null object\n",
      "troglitazone                101766 non-null object\n",
      "tolazamide                  101766 non-null object\n",
      "examide                     101766 non-null object\n",
      "citoglipton                 101766 non-null object\n",
      "insulin                     101766 non-null object\n",
      "glyburide-metformin         101766 non-null object\n",
      "glipizide-metformin         101766 non-null object\n",
      "glimepiride-pioglitazone    101766 non-null object\n",
      "metformin-rosiglitazone     101766 non-null object\n",
      "metformin-pioglitazone      101766 non-null object\n",
      "change                      101766 non-null object\n",
      "diabetesMed                 101766 non-null object\n",
      "readmitted                  101766 non-null object\n",
      "dtypes: int64(13), object(37)\n",
      "memory usage: 38.8+ MB\n"
     ]
    }
   ],
   "source": [
    "data.info()"
   ]
  },
  {
   "cell_type": "code",
   "execution_count": 5,
   "metadata": {},
   "outputs": [
    {
     "data": {
      "text/plain": [
       "False"
      ]
     },
     "execution_count": 5,
     "metadata": {},
     "output_type": "execute_result"
    }
   ],
   "source": [
    "data.isnull().values.any()"
   ]
  },
  {
   "cell_type": "code",
   "execution_count": 6,
   "metadata": {},
   "outputs": [
    {
     "data": {
      "text/plain": [
       "<matplotlib.axes._subplots.AxesSubplot at 0x1d0467a8b70>"
      ]
     },
     "execution_count": 6,
     "metadata": {},
     "output_type": "execute_result"
    }
   ],
   "source": [
    "data.race.value_counts().plot(kind = 'bar' )"
   ]
  },
  {
   "cell_type": "code",
   "execution_count": 7,
   "metadata": {},
   "outputs": [
    {
     "data": {
      "text/plain": [
       "<matplotlib.axes._subplots.AxesSubplot at 0x1d046eae208>"
      ]
     },
     "execution_count": 7,
     "metadata": {},
     "output_type": "execute_result"
    },
    {
     "data": {
      "image/png": "[encoded data removed]",
      "text/plain": [
       "<Figure size 432x288 with 1 Axes>"
      ]
     },
     "metadata": {
      "needs_background": "light"
     },
     "output_type": "display_data"
    }
   ],
   "source": [
    "data.payer_code.value_counts().plot(kind = 'bar' )"
   ]
  },
  {
   "cell_type": "code",
   "execution_count": 8,
   "metadata": {},
   "outputs": [
    {
     "data": {
      "text/plain": [
       "?                                    49949\n",
       "InternalMedicine                     14635\n",
       "Emergency/Trauma                      7565\n",
       "Family/GeneralPractice                7440\n",
       "Cardiology                            5352\n",
       "Surgery-General                       3099\n",
       "Nephrology                            1613\n",
       "Orthopedics                           1400\n",
       "Orthopedics-Reconstructive            1233\n",
       "Radiologist                           1140\n",
       "Pulmonology                            871\n",
       "Psychiatry                             854\n",
       "Urology                                685\n",
       "ObstetricsandGynecology                671\n",
       "Surgery-Cardiovascular/Thoracic        652\n",
       "Gastroenterology                       564\n",
       "Surgery-Vascular                       533\n",
       "Surgery-Neuro                          468\n",
       "PhysicalMedicineandRehabilitation      391\n",
       "Oncology                               348\n",
       "Pediatrics                             254\n",
       "Hematology/Oncology                    207\n",
       "Neurology                              203\n",
       "Pediatrics-Endocrinology               159\n",
       "Otolaryngology                         125\n",
       "Endocrinology                          120\n",
       "Surgery-Thoracic                       109\n",
       "Psychology                             101\n",
       "Podiatry                               100\n",
       "Surgery-Cardiovascular                  98\n",
       "                                     ...  \n",
       "Anesthesiology-Pediatric                19\n",
       "Obstetrics                              19\n",
       "Pathology                               17\n",
       "Rheumatology                            17\n",
       "OutreachServices                        12\n",
       "Anesthesiology                          12\n",
       "Surgery-Maxillofacial                   11\n",
       "PhysicianNotFound                       11\n",
       "Surgery-Colon&Rectal                    11\n",
       "Pediatrics-Neurology                    10\n",
       "Surgery-Pediatric                        8\n",
       "Endocrinology-Metabolism                 8\n",
       "Psychiatry-Child/Adolescent              7\n",
       "AllergyandImmunology                     7\n",
       "Cardiology-Pediatric                     7\n",
       "DCPTEAM                                  6\n",
       "Pediatrics-Hematology-Oncology           4\n",
       "Dentistry                                4\n",
       "Pediatrics-EmergencyMedicine             3\n",
       "Pediatrics-AllergyandImmunology          3\n",
       "Resident                                 2\n",
       "Psychiatry-Addictive                     1\n",
       "Surgery-PlasticwithinHeadandNeck         1\n",
       "Proctology                               1\n",
       "Speech                                   1\n",
       "Neurophysiology                          1\n",
       "Perinatology                             1\n",
       "SportsMedicine                           1\n",
       "Dermatology                              1\n",
       "Pediatrics-InfectiousDiseases            1\n",
       "Name: medical_specialty, Length: 73, dtype: int64"
      ]
     },
     "execution_count": 8,
     "metadata": {},
     "output_type": "execute_result"
    }
   ],
   "source": [
    "data.medical_specialty.value_counts()"
   ]
  },
  {
   "cell_type": "code",
   "execution_count": 9,
   "metadata": {},
   "outputs": [
    {
     "data": {
      "text/plain": [
       "<matplotlib.axes._subplots.AxesSubplot at 0x1d046f86048>"
      ]
     },
     "execution_count": 9,
     "metadata": {},
     "output_type": "execute_result"
    },
    {
     "data": {
      "image/png": "[encoded data removed]",
      "text/plain": [
       "<Figure size 432x288 with 1 Axes>"
      ]
     },
     "metadata": {
      "needs_background": "light"
     },
     "output_type": "display_data"
    }
   ],
   "source": [
    "data.max_glu_serum.value_counts().plot(kind = 'bar' )"
   ]
  },
  {
   "cell_type": "code",
   "execution_count": 10,
   "metadata": {},
   "outputs": [
    {
     "data": {
      "text/plain": [
       "<matplotlib.axes._subplots.AxesSubplot at 0x1d046f2c278>"
      ]
     },
     "execution_count": 10,
     "metadata": {},
     "output_type": "execute_result"
    },
    {
     "data": {
      "image/png": "[encoded data removed]",
      "text/plain": [
       "<Figure size 432x288 with 1 Axes>"
      ]
     },
     "metadata": {
      "needs_background": "light"
     },
     "output_type": "display_data"
    }
   ],
   "source": [
    "data.A1Cresult.value_counts().plot(kind = 'bar' )"
   ]
  },
  {
   "cell_type": "code",
   "execution_count": 11,
   "metadata": {},
   "outputs": [
    {
     "data": {
      "text/plain": [
       "<matplotlib.axes._subplots.AxesSubplot at 0x1d047a91ef0>"
      ]
     },
     "execution_count": 11,
     "metadata": {},
     "output_type": "execute_result"
    },
    {
     "data": {
      "image/png": "[encoded data removed]",
      "text/plain": [
       "<Figure size 432x288 with 1 Axes>"
      ]
     },
     "metadata": {
      "needs_background": "light"
     },
     "output_type": "display_data"
    }
   ],
   "source": [
    "data.change.value_counts().plot(kind = 'bar' )"
   ]
  },
  {
   "cell_type": "code",
   "execution_count": 12,
   "metadata": {},
   "outputs": [
    {
     "data": {
      "text/plain": [
       "<matplotlib.axes._subplots.AxesSubplot at 0x1d047ae0fd0>"
      ]
     },
     "execution_count": 12,
     "metadata": {},
     "output_type": "execute_result"
    },
    {
     "data": {
      "image/png": "[encoded data removed]",
      "text/plain": [
       "<Figure size 432x288 with 1 Axes>"
      ]
     },
     "metadata": {
      "needs_background": "light"
     },
     "output_type": "display_data"
    }
   ],
   "source": [
    "data.diabetesMed.value_counts().plot(kind = 'bar' )"
   ]
  },
  {
   "cell_type": "code",
   "execution_count": 13,
   "metadata": {},
   "outputs": [
    {
     "data": {
      "text/plain": [
       "<matplotlib.axes._subplots.AxesSubplot at 0x1d047b63940>"
      ]
     },
     "execution_count": 13,
     "metadata": {},
     "output_type": "execute_result"
    },
    {
     "data": {
      "image/png": "[encoded data removed]",
      "text/plain": [
       "<Figure size 432x288 with 1 Axes>"
      ]
     },
     "metadata": {
      "needs_background": "light"
     },
     "output_type": "display_data"
    }
   ],
   "source": [
    "data.readmitted.value_counts().plot(kind = 'bar' )"
   ]
  },
  {
   "cell_type": "code",
   "execution_count": 14,
   "metadata": {},
   "outputs": [
    {
     "data": {
      "text/plain": [
       "<matplotlib.axes._subplots.AxesSubplot at 0x1d047baaba8>"
      ]
     },
     "execution_count": 14,
     "metadata": {},
     "output_type": "execute_result"
    },
    {
     "data": {
      "image/png": "[encoded data removed]",
      "text/plain": [
       "<Figure size 432x288 with 1 Axes>"
      ]
     },
     "metadata": {
      "needs_background": "light"
     },
     "output_type": "display_data"
    }
   ],
   "source": [
    "data.age.value_counts().plot(kind = 'bar')"
   ]
  },
  {
   "cell_type": "markdown",
   "metadata": {},
   "source": [
    "## Filtering patients with Diabetes\n",
    "### diabetesMed = Yes"
   ]
  },
  {
   "cell_type": "code",
   "execution_count": 15,
   "metadata": {},
   "outputs": [
    {
     "data": {
      "text/plain": [
       "(78363, 50)"
      ]
     },
     "execution_count": 15,
     "metadata": {},
     "output_type": "execute_result"
    }
   ],
   "source": [
    "data=data[data.diabetesMed=='Yes']\n",
    "data.shape"
   ]
  },
  {
   "cell_type": "markdown",
   "metadata": {},
   "source": [
    "## Filtering patients who didn't readmit\n",
    "### readmission = NO"
   ]
  },
  {
   "cell_type": "code",
   "execution_count": 16,
   "metadata": {},
   "outputs": [
    {
     "data": {
      "text/plain": [
       "(40934, 50)"
      ]
     },
     "execution_count": 16,
     "metadata": {},
     "output_type": "execute_result"
    }
   ],
   "source": [
    "data=data[data.readmitted=='NO']\n",
    "data.shape"
   ]
  },
  {
   "cell_type": "markdown",
   "metadata": {},
   "source": [
    "## Excluding patients who are Dead and are in hospise"
   ]
  },
  {
   "cell_type": "code",
   "execution_count": 17,
   "metadata": {},
   "outputs": [
    {
     "data": {
      "text/plain": [
       "(39355, 50)"
      ]
     },
     "execution_count": 17,
     "metadata": {},
     "output_type": "execute_result"
    }
   ],
   "source": [
    "data=data[~data.discharge_disposition_id.isin([11,13,14,19,20])]\n",
    "data.shape"
   ]
  },
  {
   "cell_type": "markdown",
   "metadata": {},
   "source": [
    "# Handling Missing Values"
   ]
  },
  {
   "cell_type": "markdown",
   "metadata": {},
   "source": [
    "### We can observe that, Payer code, medical speciality & weight have more than 50% of the missing data, and prefer to drop those features."
   ]
  },
  {
   "cell_type": "code",
   "execution_count": 18,
   "metadata": {},
   "outputs": [],
   "source": [
    "data = data.drop(['medical_specialty','payer_code','weight'],axis=1)"
   ]
  },
  {
   "cell_type": "markdown",
   "metadata": {},
   "source": [
    "**We can observe that the \"Race\" Feature has some missing values**"
   ]
  },
  {
   "cell_type": "markdown",
   "metadata": {},
   "source": [
    "**Missing value Imputation using MODE for Race Feature as most of the people in the Dataset are Caucasian**"
   ]
  },
  {
   "cell_type": "markdown",
   "metadata": {},
   "source": [
    "##### 1. Replacing the ? with NaN's"
   ]
  },
  {
   "cell_type": "code",
   "execution_count": 19,
   "metadata": {},
   "outputs": [],
   "source": [
    "data['race']=data.race.replace('?',np.nan)\n"
   ]
  },
  {
   "cell_type": "markdown",
   "metadata": {},
   "source": [
    "##### 2. Filling the NaN's with the mode"
   ]
  },
  {
   "cell_type": "code",
   "execution_count": 20,
   "metadata": {},
   "outputs": [],
   "source": [
    "data['race'].fillna(data['race'].mode()[0], inplace=True)\n"
   ]
  },
  {
   "cell_type": "code",
   "execution_count": 21,
   "metadata": {},
   "outputs": [
    {
     "data": {
      "text/plain": [
       "0"
      ]
     },
     "execution_count": 21,
     "metadata": {},
     "output_type": "execute_result"
    }
   ],
   "source": [
    "data.race.isnull().sum()"
   ]
  },
  {
   "cell_type": "code",
   "execution_count": 22,
   "metadata": {},
   "outputs": [
    {
     "data": {
      "text/plain": [
       "(39355, 47)"
      ]
     },
     "execution_count": 22,
     "metadata": {},
     "output_type": "execute_result"
    }
   ],
   "source": [
    "data.shape"
   ]
  },
  {
   "cell_type": "code",
   "execution_count": 23,
   "metadata": {},
   "outputs": [
    {
     "data": {
      "text/plain": [
       "Index(['encounter_id', 'patient_nbr', 'race', 'gender', 'age',\n",
       "       'admission_type_id', 'discharge_disposition_id', 'admission_source_id',\n",
       "       'time_in_hospital', 'num_lab_procedures', 'num_procedures',\n",
       "       'num_medications', 'number_outpatient', 'number_emergency',\n",
       "       'number_inpatient', 'diag_1', 'diag_2', 'diag_3', 'number_diagnoses',\n",
       "       'max_glu_serum', 'A1Cresult', 'metformin', 'repaglinide', 'nateglinide',\n",
       "       'chlorpropamide', 'glimepiride', 'acetohexamide', 'glipizide',\n",
       "       'glyburide', 'tolbutamide', 'pioglitazone', 'rosiglitazone', 'acarbose',\n",
       "       'miglitol', 'troglitazone', 'tolazamide', 'examide', 'citoglipton',\n",
       "       'insulin', 'glyburide-metformin', 'glipizide-metformin',\n",
       "       'glimepiride-pioglitazone', 'metformin-rosiglitazone',\n",
       "       'metformin-pioglitazone', 'change', 'diabetesMed', 'readmitted'],\n",
       "      dtype='object')"
      ]
     },
     "execution_count": 23,
     "metadata": {},
     "output_type": "execute_result"
    }
   ],
   "source": [
    "data.columns"
   ]
  },
  {
   "cell_type": "code",
   "execution_count": 24,
   "metadata": {},
   "outputs": [],
   "source": [
    "treatments = data[['encounter_id','metformin', 'repaglinide', 'nateglinide',\n",
    "       'chlorpropamide', 'glimepiride', 'acetohexamide', 'glipizide',\n",
    "       'glyburide', 'tolbutamide', 'pioglitazone', 'rosiglitazone', 'acarbose',\n",
    "       'miglitol', 'troglitazone', 'tolazamide', 'examide', 'citoglipton',\n",
    "       'insulin', 'glyburide-metformin', 'glipizide-metformin',\n",
    "       'glimepiride-pioglitazone', 'metformin-rosiglitazone',\n",
    "       'metformin-pioglitazone']].copy()"
   ]
  },
  {
   "cell_type": "code",
   "execution_count": 25,
   "metadata": {},
   "outputs": [
    {
     "data": {
      "text/html": [
       "<div>\n",
       "<style scoped>\n",
       "    .dataframe tbody tr th:only-of-type {\n",
       "        vertical-align: middle;\n",
       "    }\n",
       "\n",
       "    .dataframe tbody tr th {\n",
       "        vertical-align: top;\n",
       "    }\n",
       "\n",
       "    .dataframe thead th {\n",
       "        text-align: right;\n",
       "    }\n",
       "</style>\n",
       "<table border=\"1\" class=\"dataframe\">\n",
       "  <thead>\n",
       "    <tr style=\"text-align: right;\">\n",
       "      <th></th>\n",
       "      <th>encounter_id</th>\n",
       "      <th>metformin</th>\n",
       "      <th>repaglinide</th>\n",
       "      <th>nateglinide</th>\n",
       "      <th>chlorpropamide</th>\n",
       "      <th>glimepiride</th>\n",
       "      <th>acetohexamide</th>\n",
       "      <th>glipizide</th>\n",
       "      <th>glyburide</th>\n",
       "      <th>tolbutamide</th>\n",
       "      <th>...</th>\n",
       "      <th>troglitazone</th>\n",
       "      <th>tolazamide</th>\n",
       "      <th>examide</th>\n",
       "      <th>citoglipton</th>\n",
       "      <th>insulin</th>\n",
       "      <th>glyburide-metformin</th>\n",
       "      <th>glipizide-metformin</th>\n",
       "      <th>glimepiride-pioglitazone</th>\n",
       "      <th>metformin-rosiglitazone</th>\n",
       "      <th>metformin-pioglitazone</th>\n",
       "    </tr>\n",
       "  </thead>\n",
       "  <tbody>\n",
       "    <tr>\n",
       "      <th>2</th>\n",
       "      <td>64410</td>\n",
       "      <td>No</td>\n",
       "      <td>No</td>\n",
       "      <td>No</td>\n",
       "      <td>No</td>\n",
       "      <td>No</td>\n",
       "      <td>No</td>\n",
       "      <td>Steady</td>\n",
       "      <td>No</td>\n",
       "      <td>No</td>\n",
       "      <td>...</td>\n",
       "      <td>No</td>\n",
       "      <td>No</td>\n",
       "      <td>No</td>\n",
       "      <td>No</td>\n",
       "      <td>No</td>\n",
       "      <td>No</td>\n",
       "      <td>No</td>\n",
       "      <td>No</td>\n",
       "      <td>No</td>\n",
       "      <td>No</td>\n",
       "    </tr>\n",
       "    <tr>\n",
       "      <th>3</th>\n",
       "      <td>500364</td>\n",
       "      <td>No</td>\n",
       "      <td>No</td>\n",
       "      <td>No</td>\n",
       "      <td>No</td>\n",
       "      <td>No</td>\n",
       "      <td>No</td>\n",
       "      <td>No</td>\n",
       "      <td>No</td>\n",
       "      <td>No</td>\n",
       "      <td>...</td>\n",
       "      <td>No</td>\n",
       "      <td>No</td>\n",
       "      <td>No</td>\n",
       "      <td>No</td>\n",
       "      <td>Up</td>\n",
       "      <td>No</td>\n",
       "      <td>No</td>\n",
       "      <td>No</td>\n",
       "      <td>No</td>\n",
       "      <td>No</td>\n",
       "    </tr>\n",
       "    <tr>\n",
       "      <th>4</th>\n",
       "      <td>16680</td>\n",
       "      <td>No</td>\n",
       "      <td>No</td>\n",
       "      <td>No</td>\n",
       "      <td>No</td>\n",
       "      <td>No</td>\n",
       "      <td>No</td>\n",
       "      <td>Steady</td>\n",
       "      <td>No</td>\n",
       "      <td>No</td>\n",
       "      <td>...</td>\n",
       "      <td>No</td>\n",
       "      <td>No</td>\n",
       "      <td>No</td>\n",
       "      <td>No</td>\n",
       "      <td>Steady</td>\n",
       "      <td>No</td>\n",
       "      <td>No</td>\n",
       "      <td>No</td>\n",
       "      <td>No</td>\n",
       "      <td>No</td>\n",
       "    </tr>\n",
       "    <tr>\n",
       "      <th>6</th>\n",
       "      <td>55842</td>\n",
       "      <td>Steady</td>\n",
       "      <td>No</td>\n",
       "      <td>No</td>\n",
       "      <td>No</td>\n",
       "      <td>Steady</td>\n",
       "      <td>No</td>\n",
       "      <td>No</td>\n",
       "      <td>No</td>\n",
       "      <td>No</td>\n",
       "      <td>...</td>\n",
       "      <td>No</td>\n",
       "      <td>No</td>\n",
       "      <td>No</td>\n",
       "      <td>No</td>\n",
       "      <td>Steady</td>\n",
       "      <td>No</td>\n",
       "      <td>No</td>\n",
       "      <td>No</td>\n",
       "      <td>No</td>\n",
       "      <td>No</td>\n",
       "    </tr>\n",
       "    <tr>\n",
       "      <th>8</th>\n",
       "      <td>12522</td>\n",
       "      <td>No</td>\n",
       "      <td>No</td>\n",
       "      <td>No</td>\n",
       "      <td>No</td>\n",
       "      <td>No</td>\n",
       "      <td>No</td>\n",
       "      <td>Steady</td>\n",
       "      <td>No</td>\n",
       "      <td>No</td>\n",
       "      <td>...</td>\n",
       "      <td>No</td>\n",
       "      <td>No</td>\n",
       "      <td>No</td>\n",
       "      <td>No</td>\n",
       "      <td>Steady</td>\n",
       "      <td>No</td>\n",
       "      <td>No</td>\n",
       "      <td>No</td>\n",
       "      <td>No</td>\n",
       "      <td>No</td>\n",
       "    </tr>\n",
       "  </tbody>\n",
       "</table>\n",
       "<p>5 rows × 24 columns</p>\n",
       "</div>"
      ],
      "text/plain": [
       "   encounter_id metformin repaglinide nateglinide chlorpropamide glimepiride  \\\n",
       "2         64410        No          No          No             No          No   \n",
       "3        500364        No          No          No             No          No   \n",
       "4         16680        No          No          No             No          No   \n",
       "6         55842    Steady          No          No             No      Steady   \n",
       "8         12522        No          No          No             No          No   \n",
       "\n",
       "  acetohexamide glipizide glyburide tolbutamide  ... troglitazone tolazamide  \\\n",
       "2            No    Steady        No          No  ...           No         No   \n",
       "3            No        No        No          No  ...           No         No   \n",
       "4            No    Steady        No          No  ...           No         No   \n",
       "6            No        No        No          No  ...           No         No   \n",
       "8            No    Steady        No          No  ...           No         No   \n",
       "\n",
       "  examide citoglipton insulin glyburide-metformin glipizide-metformin  \\\n",
       "2      No          No      No                  No                  No   \n",
       "3      No          No      Up                  No                  No   \n",
       "4      No          No  Steady                  No                  No   \n",
       "6      No          No  Steady                  No                  No   \n",
       "8      No          No  Steady                  No                  No   \n",
       "\n",
       "  glimepiride-pioglitazone metformin-rosiglitazone metformin-pioglitazone  \n",
       "2                       No                      No                     No  \n",
       "3                       No                      No                     No  \n",
       "4                       No                      No                     No  \n",
       "6                       No                      No                     No  \n",
       "8                       No                      No                     No  \n",
       "\n",
       "[5 rows x 24 columns]"
      ]
     },
     "execution_count": 25,
     "metadata": {},
     "output_type": "execute_result"
    }
   ],
   "source": [
    "treatments.head()"
   ]
  },
  {
   "cell_type": "markdown",
   "metadata": {},
   "source": [
    "# Feature Engineering"
   ]
  },
  {
   "cell_type": "markdown",
   "metadata": {},
   "source": [
    " ### Custom encoding for the 23 Drug Features\n"
   ]
  },
  {
   "cell_type": "code",
   "execution_count": 26,
   "metadata": {},
   "outputs": [],
   "source": [
    "treatments=treatments.replace(['No','Steady','Up','Down'],[0,1,1,1])\n",
    "treatments.set_index('encounter_id',inplace=True)\n"
   ]
  },
  {
   "cell_type": "code",
   "execution_count": 27,
   "metadata": {},
   "outputs": [
    {
     "data": {
      "text/html": [
       "<div>\n",
       "<style scoped>\n",
       "    .dataframe tbody tr th:only-of-type {\n",
       "        vertical-align: middle;\n",
       "    }\n",
       "\n",
       "    .dataframe tbody tr th {\n",
       "        vertical-align: top;\n",
       "    }\n",
       "\n",
       "    .dataframe thead th {\n",
       "        text-align: right;\n",
       "    }\n",
       "</style>\n",
       "<table border=\"1\" class=\"dataframe\">\n",
       "  <thead>\n",
       "    <tr style=\"text-align: right;\">\n",
       "      <th></th>\n",
       "      <th>metformin</th>\n",
       "      <th>repaglinide</th>\n",
       "      <th>nateglinide</th>\n",
       "      <th>chlorpropamide</th>\n",
       "      <th>glimepiride</th>\n",
       "      <th>acetohexamide</th>\n",
       "      <th>glipizide</th>\n",
       "      <th>glyburide</th>\n",
       "      <th>tolbutamide</th>\n",
       "      <th>pioglitazone</th>\n",
       "      <th>...</th>\n",
       "      <th>troglitazone</th>\n",
       "      <th>tolazamide</th>\n",
       "      <th>examide</th>\n",
       "      <th>citoglipton</th>\n",
       "      <th>insulin</th>\n",
       "      <th>glyburide-metformin</th>\n",
       "      <th>glipizide-metformin</th>\n",
       "      <th>glimepiride-pioglitazone</th>\n",
       "      <th>metformin-rosiglitazone</th>\n",
       "      <th>metformin-pioglitazone</th>\n",
       "    </tr>\n",
       "    <tr>\n",
       "      <th>encounter_id</th>\n",
       "      <th></th>\n",
       "      <th></th>\n",
       "      <th></th>\n",
       "      <th></th>\n",
       "      <th></th>\n",
       "      <th></th>\n",
       "      <th></th>\n",
       "      <th></th>\n",
       "      <th></th>\n",
       "      <th></th>\n",
       "      <th></th>\n",
       "      <th></th>\n",
       "      <th></th>\n",
       "      <th></th>\n",
       "      <th></th>\n",
       "      <th></th>\n",
       "      <th></th>\n",
       "      <th></th>\n",
       "      <th></th>\n",
       "      <th></th>\n",
       "      <th></th>\n",
       "    </tr>\n",
       "  </thead>\n",
       "  <tbody>\n",
       "    <tr>\n",
       "      <th>64410</th>\n",
       "      <td>0</td>\n",
       "      <td>0</td>\n",
       "      <td>0</td>\n",
       "      <td>0</td>\n",
       "      <td>0</td>\n",
       "      <td>0</td>\n",
       "      <td>1</td>\n",
       "      <td>0</td>\n",
       "      <td>0</td>\n",
       "      <td>0</td>\n",
       "      <td>...</td>\n",
       "      <td>0</td>\n",
       "      <td>0</td>\n",
       "      <td>0</td>\n",
       "      <td>0</td>\n",
       "      <td>0</td>\n",
       "      <td>0</td>\n",
       "      <td>0</td>\n",
       "      <td>0</td>\n",
       "      <td>0</td>\n",
       "      <td>0</td>\n",
       "    </tr>\n",
       "    <tr>\n",
       "      <th>500364</th>\n",
       "      <td>0</td>\n",
       "      <td>0</td>\n",
       "      <td>0</td>\n",
       "      <td>0</td>\n",
       "      <td>0</td>\n",
       "      <td>0</td>\n",
       "      <td>0</td>\n",
       "      <td>0</td>\n",
       "      <td>0</td>\n",
       "      <td>0</td>\n",
       "      <td>...</td>\n",
       "      <td>0</td>\n",
       "      <td>0</td>\n",
       "      <td>0</td>\n",
       "      <td>0</td>\n",
       "      <td>1</td>\n",
       "      <td>0</td>\n",
       "      <td>0</td>\n",
       "      <td>0</td>\n",
       "      <td>0</td>\n",
       "      <td>0</td>\n",
       "    </tr>\n",
       "    <tr>\n",
       "      <th>16680</th>\n",
       "      <td>0</td>\n",
       "      <td>0</td>\n",
       "      <td>0</td>\n",
       "      <td>0</td>\n",
       "      <td>0</td>\n",
       "      <td>0</td>\n",
       "      <td>1</td>\n",
       "      <td>0</td>\n",
       "      <td>0</td>\n",
       "      <td>0</td>\n",
       "      <td>...</td>\n",
       "      <td>0</td>\n",
       "      <td>0</td>\n",
       "      <td>0</td>\n",
       "      <td>0</td>\n",
       "      <td>1</td>\n",
       "      <td>0</td>\n",
       "      <td>0</td>\n",
       "      <td>0</td>\n",
       "      <td>0</td>\n",
       "      <td>0</td>\n",
       "    </tr>\n",
       "    <tr>\n",
       "      <th>55842</th>\n",
       "      <td>1</td>\n",
       "      <td>0</td>\n",
       "      <td>0</td>\n",
       "      <td>0</td>\n",
       "      <td>1</td>\n",
       "      <td>0</td>\n",
       "      <td>0</td>\n",
       "      <td>0</td>\n",
       "      <td>0</td>\n",
       "      <td>0</td>\n",
       "      <td>...</td>\n",
       "      <td>0</td>\n",
       "      <td>0</td>\n",
       "      <td>0</td>\n",
       "      <td>0</td>\n",
       "      <td>1</td>\n",
       "      <td>0</td>\n",
       "      <td>0</td>\n",
       "      <td>0</td>\n",
       "      <td>0</td>\n",
       "      <td>0</td>\n",
       "    </tr>\n",
       "    <tr>\n",
       "      <th>12522</th>\n",
       "      <td>0</td>\n",
       "      <td>0</td>\n",
       "      <td>0</td>\n",
       "      <td>0</td>\n",
       "      <td>0</td>\n",
       "      <td>0</td>\n",
       "      <td>1</td>\n",
       "      <td>0</td>\n",
       "      <td>0</td>\n",
       "      <td>0</td>\n",
       "      <td>...</td>\n",
       "      <td>0</td>\n",
       "      <td>0</td>\n",
       "      <td>0</td>\n",
       "      <td>0</td>\n",
       "      <td>1</td>\n",
       "      <td>0</td>\n",
       "      <td>0</td>\n",
       "      <td>0</td>\n",
       "      <td>0</td>\n",
       "      <td>0</td>\n",
       "    </tr>\n",
       "  </tbody>\n",
       "</table>\n",
       "<p>5 rows × 23 columns</p>\n",
       "</div>"
      ],
      "text/plain": [
       "              metformin  repaglinide  nateglinide  chlorpropamide  \\\n",
       "encounter_id                                                        \n",
       "64410                 0            0            0               0   \n",
       "500364                0            0            0               0   \n",
       "16680                 0            0            0               0   \n",
       "55842                 1            0            0               0   \n",
       "12522                 0            0            0               0   \n",
       "\n",
       "              glimepiride  acetohexamide  glipizide  glyburide  tolbutamide  \\\n",
       "encounter_id                                                                  \n",
       "64410                   0              0          1          0            0   \n",
       "500364                  0              0          0          0            0   \n",
       "16680                   0              0          1          0            0   \n",
       "55842                   1              0          0          0            0   \n",
       "12522                   0              0          1          0            0   \n",
       "\n",
       "              pioglitazone  ...  troglitazone  tolazamide  examide  \\\n",
       "encounter_id                ...                                      \n",
       "64410                    0  ...             0           0        0   \n",
       "500364                   0  ...             0           0        0   \n",
       "16680                    0  ...             0           0        0   \n",
       "55842                    0  ...             0           0        0   \n",
       "12522                    0  ...             0           0        0   \n",
       "\n",
       "              citoglipton  insulin  glyburide-metformin  glipizide-metformin  \\\n",
       "encounter_id                                                                   \n",
       "64410                   0        0                    0                    0   \n",
       "500364                  0        1                    0                    0   \n",
       "16680                   0        1                    0                    0   \n",
       "55842                   0        1                    0                    0   \n",
       "12522                   0        1                    0                    0   \n",
       "\n",
       "              glimepiride-pioglitazone  metformin-rosiglitazone  \\\n",
       "encounter_id                                                      \n",
       "64410                                0                        0   \n",
       "500364                               0                        0   \n",
       "16680                                0                        0   \n",
       "55842                                0                        0   \n",
       "12522                                0                        0   \n",
       "\n",
       "              metformin-pioglitazone  \n",
       "encounter_id                          \n",
       "64410                              0  \n",
       "500364                             0  \n",
       "16680                              0  \n",
       "55842                              0  \n",
       "12522                              0  \n",
       "\n",
       "[5 rows x 23 columns]"
      ]
     },
     "execution_count": 27,
     "metadata": {},
     "output_type": "execute_result"
    }
   ],
   "source": [
    "treatments.head()"
   ]
  },
  {
   "cell_type": "code",
   "execution_count": 28,
   "metadata": {},
   "outputs": [
    {
     "data": {
      "text/plain": [
       "1    23080\n",
       "2    11397\n",
       "3     4108\n",
       "4      730\n",
       "5       39\n",
       "6        1\n",
       "dtype: int64"
      ]
     },
     "execution_count": 28,
     "metadata": {},
     "output_type": "execute_result"
    }
   ],
   "source": [
    "treatments.sum(axis=1).value_counts()"
   ]
  },
  {
   "cell_type": "markdown",
   "metadata": {},
   "source": [
    "# Patients are Given at max a combination of 6 drugs for treating diabetes"
   ]
  },
  {
   "cell_type": "markdown",
   "metadata": {},
   "source": [
    "### Feature Engineering - Creating a new feature \"Treatments\""
   ]
  },
  {
   "cell_type": "markdown",
   "metadata": {},
   "source": [
    "**1. When the value of Insuin is '1' , creating the classes \"insulin\" & \"io\" (insulin + others )********"
   ]
  },
  {
   "cell_type": "code",
   "execution_count": 29,
   "metadata": {},
   "outputs": [],
   "source": [
    "i1 = treatments[treatments['insulin']==1].sum(axis = 1).replace([1,2,3,4,5,6],['insulin','io','io','io','io','io'])"
   ]
  },
  {
   "cell_type": "code",
   "execution_count": 30,
   "metadata": {},
   "outputs": [
    {
     "data": {
      "text/plain": [
       "insulin    14675\n",
       "io         12145\n",
       "dtype: int64"
      ]
     },
     "execution_count": 30,
     "metadata": {},
     "output_type": "execute_result"
    }
   ],
   "source": [
    "i1.value_counts()"
   ]
  },
  {
   "cell_type": "markdown",
   "metadata": {},
   "source": [
    "**2. When the value of Insuin is '0' , creating the classes \"others\" & \"no med\"**"
   ]
  },
  {
   "cell_type": "code",
   "execution_count": 31,
   "metadata": {},
   "outputs": [],
   "source": [
    "i0=treatments[treatments['insulin']==0].sum(axis=1).replace([0,1,2,3,4,5,6],['no med','other','other','other','other','other','other'])"
   ]
  },
  {
   "cell_type": "code",
   "execution_count": 32,
   "metadata": {},
   "outputs": [
    {
     "data": {
      "text/plain": [
       "other    12535\n",
       "dtype: int64"
      ]
     },
     "execution_count": 32,
     "metadata": {},
     "output_type": "execute_result"
    }
   ],
   "source": [
    "i0.value_counts()"
   ]
  },
  {
   "cell_type": "code",
   "execution_count": 33,
   "metadata": {},
   "outputs": [],
   "source": [
    "treatments=pd.concat([i1,i0])\n",
    "treatments = pd.DataFrame({'treatments':treatments})"
   ]
  },
  {
   "cell_type": "code",
   "execution_count": 34,
   "metadata": {},
   "outputs": [
    {
     "data": {
      "text/html": [
       "<div>\n",
       "<style scoped>\n",
       "    .dataframe tbody tr th:only-of-type {\n",
       "        vertical-align: middle;\n",
       "    }\n",
       "\n",
       "    .dataframe tbody tr th {\n",
       "        vertical-align: top;\n",
       "    }\n",
       "\n",
       "    .dataframe thead th {\n",
       "        text-align: right;\n",
       "    }\n",
       "</style>\n",
       "<table border=\"1\" class=\"dataframe\">\n",
       "  <thead>\n",
       "    <tr style=\"text-align: right;\">\n",
       "      <th></th>\n",
       "      <th>treatments</th>\n",
       "    </tr>\n",
       "    <tr>\n",
       "      <th>encounter_id</th>\n",
       "      <th></th>\n",
       "    </tr>\n",
       "  </thead>\n",
       "  <tbody>\n",
       "    <tr>\n",
       "      <th>500364</th>\n",
       "      <td>insulin</td>\n",
       "    </tr>\n",
       "    <tr>\n",
       "      <th>16680</th>\n",
       "      <td>io</td>\n",
       "    </tr>\n",
       "    <tr>\n",
       "      <th>55842</th>\n",
       "      <td>io</td>\n",
       "    </tr>\n",
       "    <tr>\n",
       "      <th>12522</th>\n",
       "      <td>io</td>\n",
       "    </tr>\n",
       "    <tr>\n",
       "      <th>15738</th>\n",
       "      <td>io</td>\n",
       "    </tr>\n",
       "  </tbody>\n",
       "</table>\n",
       "</div>"
      ],
      "text/plain": [
       "             treatments\n",
       "encounter_id           \n",
       "500364          insulin\n",
       "16680                io\n",
       "55842                io\n",
       "12522                io\n",
       "15738                io"
      ]
     },
     "execution_count": 34,
     "metadata": {},
     "output_type": "execute_result"
    }
   ],
   "source": [
    "treatments.head()"
   ]
  },
  {
   "cell_type": "markdown",
   "metadata": {},
   "source": [
    "**Adding the new feature to the Actual Dataframe**"
   ]
  },
  {
   "cell_type": "code",
   "execution_count": 35,
   "metadata": {},
   "outputs": [],
   "source": [
    "data=data.join(treatments,on='encounter_id') #setting index as encounter_id"
   ]
  },
  {
   "cell_type": "code",
   "execution_count": 36,
   "metadata": {},
   "outputs": [
    {
     "data": {
      "text/html": [
       "<div>\n",
       "<style scoped>\n",
       "    .dataframe tbody tr th:only-of-type {\n",
       "        vertical-align: middle;\n",
       "    }\n",
       "\n",
       "    .dataframe tbody tr th {\n",
       "        vertical-align: top;\n",
       "    }\n",
       "\n",
       "    .dataframe thead th {\n",
       "        text-align: right;\n",
       "    }\n",
       "</style>\n",
       "<table border=\"1\" class=\"dataframe\">\n",
       "  <thead>\n",
       "    <tr style=\"text-align: right;\">\n",
       "      <th></th>\n",
       "      <th>encounter_id</th>\n",
       "      <th>patient_nbr</th>\n",
       "      <th>race</th>\n",
       "      <th>gender</th>\n",
       "      <th>age</th>\n",
       "      <th>admission_type_id</th>\n",
       "      <th>discharge_disposition_id</th>\n",
       "      <th>admission_source_id</th>\n",
       "      <th>time_in_hospital</th>\n",
       "      <th>num_lab_procedures</th>\n",
       "      <th>...</th>\n",
       "      <th>insulin</th>\n",
       "      <th>glyburide-metformin</th>\n",
       "      <th>glipizide-metformin</th>\n",
       "      <th>glimepiride-pioglitazone</th>\n",
       "      <th>metformin-rosiglitazone</th>\n",
       "      <th>metformin-pioglitazone</th>\n",
       "      <th>change</th>\n",
       "      <th>diabetesMed</th>\n",
       "      <th>readmitted</th>\n",
       "      <th>treatments</th>\n",
       "    </tr>\n",
       "  </thead>\n",
       "  <tbody>\n",
       "    <tr>\n",
       "      <th>2</th>\n",
       "      <td>64410</td>\n",
       "      <td>86047875</td>\n",
       "      <td>AfricanAmerican</td>\n",
       "      <td>Female</td>\n",
       "      <td>[20-30)</td>\n",
       "      <td>1</td>\n",
       "      <td>1</td>\n",
       "      <td>7</td>\n",
       "      <td>2</td>\n",
       "      <td>11</td>\n",
       "      <td>...</td>\n",
       "      <td>No</td>\n",
       "      <td>No</td>\n",
       "      <td>No</td>\n",
       "      <td>No</td>\n",
       "      <td>No</td>\n",
       "      <td>No</td>\n",
       "      <td>No</td>\n",
       "      <td>Yes</td>\n",
       "      <td>NO</td>\n",
       "      <td>other</td>\n",
       "    </tr>\n",
       "    <tr>\n",
       "      <th>3</th>\n",
       "      <td>500364</td>\n",
       "      <td>82442376</td>\n",
       "      <td>Caucasian</td>\n",
       "      <td>Male</td>\n",
       "      <td>[30-40)</td>\n",
       "      <td>1</td>\n",
       "      <td>1</td>\n",
       "      <td>7</td>\n",
       "      <td>2</td>\n",
       "      <td>44</td>\n",
       "      <td>...</td>\n",
       "      <td>Up</td>\n",
       "      <td>No</td>\n",
       "      <td>No</td>\n",
       "      <td>No</td>\n",
       "      <td>No</td>\n",
       "      <td>No</td>\n",
       "      <td>Ch</td>\n",
       "      <td>Yes</td>\n",
       "      <td>NO</td>\n",
       "      <td>insulin</td>\n",
       "    </tr>\n",
       "    <tr>\n",
       "      <th>4</th>\n",
       "      <td>16680</td>\n",
       "      <td>42519267</td>\n",
       "      <td>Caucasian</td>\n",
       "      <td>Male</td>\n",
       "      <td>[40-50)</td>\n",
       "      <td>1</td>\n",
       "      <td>1</td>\n",
       "      <td>7</td>\n",
       "      <td>1</td>\n",
       "      <td>51</td>\n",
       "      <td>...</td>\n",
       "      <td>Steady</td>\n",
       "      <td>No</td>\n",
       "      <td>No</td>\n",
       "      <td>No</td>\n",
       "      <td>No</td>\n",
       "      <td>No</td>\n",
       "      <td>Ch</td>\n",
       "      <td>Yes</td>\n",
       "      <td>NO</td>\n",
       "      <td>io</td>\n",
       "    </tr>\n",
       "    <tr>\n",
       "      <th>6</th>\n",
       "      <td>55842</td>\n",
       "      <td>84259809</td>\n",
       "      <td>Caucasian</td>\n",
       "      <td>Male</td>\n",
       "      <td>[60-70)</td>\n",
       "      <td>3</td>\n",
       "      <td>1</td>\n",
       "      <td>2</td>\n",
       "      <td>4</td>\n",
       "      <td>70</td>\n",
       "      <td>...</td>\n",
       "      <td>Steady</td>\n",
       "      <td>No</td>\n",
       "      <td>No</td>\n",
       "      <td>No</td>\n",
       "      <td>No</td>\n",
       "      <td>No</td>\n",
       "      <td>Ch</td>\n",
       "      <td>Yes</td>\n",
       "      <td>NO</td>\n",
       "      <td>io</td>\n",
       "    </tr>\n",
       "    <tr>\n",
       "      <th>8</th>\n",
       "      <td>12522</td>\n",
       "      <td>48330783</td>\n",
       "      <td>Caucasian</td>\n",
       "      <td>Female</td>\n",
       "      <td>[80-90)</td>\n",
       "      <td>2</td>\n",
       "      <td>1</td>\n",
       "      <td>4</td>\n",
       "      <td>13</td>\n",
       "      <td>68</td>\n",
       "      <td>...</td>\n",
       "      <td>Steady</td>\n",
       "      <td>No</td>\n",
       "      <td>No</td>\n",
       "      <td>No</td>\n",
       "      <td>No</td>\n",
       "      <td>No</td>\n",
       "      <td>Ch</td>\n",
       "      <td>Yes</td>\n",
       "      <td>NO</td>\n",
       "      <td>io</td>\n",
       "    </tr>\n",
       "  </tbody>\n",
       "</table>\n",
       "<p>5 rows × 48 columns</p>\n",
       "</div>"
      ],
      "text/plain": [
       "   encounter_id  patient_nbr             race  gender      age  \\\n",
       "2         64410     86047875  AfricanAmerican  Female  [20-30)   \n",
       "3        500364     82442376        Caucasian    Male  [30-40)   \n",
       "4         16680     42519267        Caucasian    Male  [40-50)   \n",
       "6         55842     84259809        Caucasian    Male  [60-70)   \n",
       "8         12522     48330783        Caucasian  Female  [80-90)   \n",
       "\n",
       "   admission_type_id  discharge_disposition_id  admission_source_id  \\\n",
       "2                  1                         1                    7   \n",
       "3                  1                         1                    7   \n",
       "4                  1                         1                    7   \n",
       "6                  3                         1                    2   \n",
       "8                  2                         1                    4   \n",
       "\n",
       "   time_in_hospital  num_lab_procedures  ...  insulin  glyburide-metformin  \\\n",
       "2                 2                  11  ...       No                   No   \n",
       "3                 2                  44  ...       Up                   No   \n",
       "4                 1                  51  ...   Steady                   No   \n",
       "6                 4                  70  ...   Steady                   No   \n",
       "8                13                  68  ...   Steady                   No   \n",
       "\n",
       "   glipizide-metformin  glimepiride-pioglitazone  metformin-rosiglitazone  \\\n",
       "2                   No                        No                       No   \n",
       "3                   No                        No                       No   \n",
       "4                   No                        No                       No   \n",
       "6                   No                        No                       No   \n",
       "8                   No                        No                       No   \n",
       "\n",
       "  metformin-pioglitazone change diabetesMed  readmitted treatments  \n",
       "2                     No     No         Yes          NO      other  \n",
       "3                     No     Ch         Yes          NO    insulin  \n",
       "4                     No     Ch         Yes          NO         io  \n",
       "6                     No     Ch         Yes          NO         io  \n",
       "8                     No     Ch         Yes          NO         io  \n",
       "\n",
       "[5 rows x 48 columns]"
      ]
     },
     "execution_count": 36,
     "metadata": {},
     "output_type": "execute_result"
    }
   ],
   "source": [
    "data.head()"
   ]
  },
  {
   "cell_type": "markdown",
   "metadata": {},
   "source": [
    "## Since the treatments column was created from the 23 Drugs, We will be removing them"
   ]
  },
  {
   "cell_type": "code",
   "execution_count": 37,
   "metadata": {},
   "outputs": [],
   "source": [
    "data = data.drop(['metformin', 'repaglinide', 'nateglinide',\n",
    "       'chlorpropamide', 'glimepiride', 'acetohexamide', 'glipizide',\n",
    "       'glyburide', 'tolbutamide', 'pioglitazone', 'rosiglitazone', 'acarbose',\n",
    "       'miglitol', 'troglitazone', 'tolazamide', 'examide', 'citoglipton',\n",
    "       'insulin', 'glyburide-metformin', 'glipizide-metformin',\n",
    "       'glimepiride-pioglitazone', 'metformin-rosiglitazone',\n",
    "       'metformin-pioglitazone'],axis=1)"
   ]
  },
  {
   "cell_type": "markdown",
   "metadata": {},
   "source": [
    "## Choosing the records with treatments Insulin and Insulin + other ( w.r.t Problem Statement)"
   ]
  },
  {
   "cell_type": "code",
   "execution_count": 38,
   "metadata": {},
   "outputs": [],
   "source": [
    "#data=data[data.treatments!='other']\n",
    "#data.shape"
   ]
  },
  {
   "cell_type": "code",
   "execution_count": 39,
   "metadata": {},
   "outputs": [
    {
     "data": {
      "text/plain": [
       "Index(['encounter_id', 'patient_nbr', 'race', 'gender', 'age',\n",
       "       'admission_type_id', 'discharge_disposition_id', 'admission_source_id',\n",
       "       'time_in_hospital', 'num_lab_procedures', 'num_procedures',\n",
       "       'num_medications', 'number_outpatient', 'number_emergency',\n",
       "       'number_inpatient', 'diag_1', 'diag_2', 'diag_3', 'number_diagnoses',\n",
       "       'max_glu_serum', 'A1Cresult', 'change', 'diabetesMed', 'readmitted',\n",
       "       'treatments'],\n",
       "      dtype='object')"
      ]
     },
     "execution_count": 39,
     "metadata": {},
     "output_type": "execute_result"
    }
   ],
   "source": [
    "data.columns"
   ]
  },
  {
   "cell_type": "markdown",
   "metadata": {},
   "source": [
    "# Here the features which contains numeric values are of type Discrete Quantitative and has a finite set of values. Discrete data can be both Quantitative and Qualitative. So treating outliers in this dataset is not possible"
   ]
  },
  {
   "cell_type": "markdown",
   "metadata": {},
   "source": [
    "**One hot encoding the nominal categorical values**"
   ]
  },
  {
   "cell_type": "code",
   "execution_count": 40,
   "metadata": {},
   "outputs": [],
   "source": [
    "data = pd.get_dummies(data, columns=['race', 'gender','max_glu_serum', 'A1Cresult', 'change',\n",
    "       'diabetesMed', 'readmitted'])"
   ]
  },
  {
   "cell_type": "code",
   "execution_count": 41,
   "metadata": {},
   "outputs": [
    {
     "data": {
      "text/html": [
       "<div>\n",
       "<style scoped>\n",
       "    .dataframe tbody tr th:only-of-type {\n",
       "        vertical-align: middle;\n",
       "    }\n",
       "\n",
       "    .dataframe tbody tr th {\n",
       "        vertical-align: top;\n",
       "    }\n",
       "\n",
       "    .dataframe thead th {\n",
       "        text-align: right;\n",
       "    }\n",
       "</style>\n",
       "<table border=\"1\" class=\"dataframe\">\n",
       "  <thead>\n",
       "    <tr style=\"text-align: right;\">\n",
       "      <th></th>\n",
       "      <th>encounter_id</th>\n",
       "      <th>patient_nbr</th>\n",
       "      <th>age</th>\n",
       "      <th>admission_type_id</th>\n",
       "      <th>discharge_disposition_id</th>\n",
       "      <th>admission_source_id</th>\n",
       "      <th>time_in_hospital</th>\n",
       "      <th>num_lab_procedures</th>\n",
       "      <th>num_procedures</th>\n",
       "      <th>num_medications</th>\n",
       "      <th>...</th>\n",
       "      <th>max_glu_serum_None</th>\n",
       "      <th>max_glu_serum_Norm</th>\n",
       "      <th>A1Cresult_&gt;7</th>\n",
       "      <th>A1Cresult_&gt;8</th>\n",
       "      <th>A1Cresult_None</th>\n",
       "      <th>A1Cresult_Norm</th>\n",
       "      <th>change_Ch</th>\n",
       "      <th>change_No</th>\n",
       "      <th>diabetesMed_Yes</th>\n",
       "      <th>readmitted_NO</th>\n",
       "    </tr>\n",
       "  </thead>\n",
       "  <tbody>\n",
       "    <tr>\n",
       "      <th>2</th>\n",
       "      <td>64410</td>\n",
       "      <td>86047875</td>\n",
       "      <td>[20-30)</td>\n",
       "      <td>1</td>\n",
       "      <td>1</td>\n",
       "      <td>7</td>\n",
       "      <td>2</td>\n",
       "      <td>11</td>\n",
       "      <td>5</td>\n",
       "      <td>13</td>\n",
       "      <td>...</td>\n",
       "      <td>1</td>\n",
       "      <td>0</td>\n",
       "      <td>0</td>\n",
       "      <td>0</td>\n",
       "      <td>1</td>\n",
       "      <td>0</td>\n",
       "      <td>0</td>\n",
       "      <td>1</td>\n",
       "      <td>1</td>\n",
       "      <td>1</td>\n",
       "    </tr>\n",
       "    <tr>\n",
       "      <th>3</th>\n",
       "      <td>500364</td>\n",
       "      <td>82442376</td>\n",
       "      <td>[30-40)</td>\n",
       "      <td>1</td>\n",
       "      <td>1</td>\n",
       "      <td>7</td>\n",
       "      <td>2</td>\n",
       "      <td>44</td>\n",
       "      <td>1</td>\n",
       "      <td>16</td>\n",
       "      <td>...</td>\n",
       "      <td>1</td>\n",
       "      <td>0</td>\n",
       "      <td>0</td>\n",
       "      <td>0</td>\n",
       "      <td>1</td>\n",
       "      <td>0</td>\n",
       "      <td>1</td>\n",
       "      <td>0</td>\n",
       "      <td>1</td>\n",
       "      <td>1</td>\n",
       "    </tr>\n",
       "    <tr>\n",
       "      <th>4</th>\n",
       "      <td>16680</td>\n",
       "      <td>42519267</td>\n",
       "      <td>[40-50)</td>\n",
       "      <td>1</td>\n",
       "      <td>1</td>\n",
       "      <td>7</td>\n",
       "      <td>1</td>\n",
       "      <td>51</td>\n",
       "      <td>0</td>\n",
       "      <td>8</td>\n",
       "      <td>...</td>\n",
       "      <td>1</td>\n",
       "      <td>0</td>\n",
       "      <td>0</td>\n",
       "      <td>0</td>\n",
       "      <td>1</td>\n",
       "      <td>0</td>\n",
       "      <td>1</td>\n",
       "      <td>0</td>\n",
       "      <td>1</td>\n",
       "      <td>1</td>\n",
       "    </tr>\n",
       "    <tr>\n",
       "      <th>6</th>\n",
       "      <td>55842</td>\n",
       "      <td>84259809</td>\n",
       "      <td>[60-70)</td>\n",
       "      <td>3</td>\n",
       "      <td>1</td>\n",
       "      <td>2</td>\n",
       "      <td>4</td>\n",
       "      <td>70</td>\n",
       "      <td>1</td>\n",
       "      <td>21</td>\n",
       "      <td>...</td>\n",
       "      <td>1</td>\n",
       "      <td>0</td>\n",
       "      <td>0</td>\n",
       "      <td>0</td>\n",
       "      <td>1</td>\n",
       "      <td>0</td>\n",
       "      <td>1</td>\n",
       "      <td>0</td>\n",
       "      <td>1</td>\n",
       "      <td>1</td>\n",
       "    </tr>\n",
       "    <tr>\n",
       "      <th>8</th>\n",
       "      <td>12522</td>\n",
       "      <td>48330783</td>\n",
       "      <td>[80-90)</td>\n",
       "      <td>2</td>\n",
       "      <td>1</td>\n",
       "      <td>4</td>\n",
       "      <td>13</td>\n",
       "      <td>68</td>\n",
       "      <td>2</td>\n",
       "      <td>28</td>\n",
       "      <td>...</td>\n",
       "      <td>1</td>\n",
       "      <td>0</td>\n",
       "      <td>0</td>\n",
       "      <td>0</td>\n",
       "      <td>1</td>\n",
       "      <td>0</td>\n",
       "      <td>1</td>\n",
       "      <td>0</td>\n",
       "      <td>1</td>\n",
       "      <td>1</td>\n",
       "    </tr>\n",
       "  </tbody>\n",
       "</table>\n",
       "<p>5 rows × 38 columns</p>\n",
       "</div>"
      ],
      "text/plain": [
       "   encounter_id  patient_nbr      age  admission_type_id  \\\n",
       "2         64410     86047875  [20-30)                  1   \n",
       "3        500364     82442376  [30-40)                  1   \n",
       "4         16680     42519267  [40-50)                  1   \n",
       "6         55842     84259809  [60-70)                  3   \n",
       "8         12522     48330783  [80-90)                  2   \n",
       "\n",
       "   discharge_disposition_id  admission_source_id  time_in_hospital  \\\n",
       "2                         1                    7                 2   \n",
       "3                         1                    7                 2   \n",
       "4                         1                    7                 1   \n",
       "6                         1                    2                 4   \n",
       "8                         1                    4                13   \n",
       "\n",
       "   num_lab_procedures  num_procedures  num_medications  ...  \\\n",
       "2                  11               5               13  ...   \n",
       "3                  44               1               16  ...   \n",
       "4                  51               0                8  ...   \n",
       "6                  70               1               21  ...   \n",
       "8                  68               2               28  ...   \n",
       "\n",
       "   max_glu_serum_None  max_glu_serum_Norm  A1Cresult_>7 A1Cresult_>8  \\\n",
       "2                   1                   0             0            0   \n",
       "3                   1                   0             0            0   \n",
       "4                   1                   0             0            0   \n",
       "6                   1                   0             0            0   \n",
       "8                   1                   0             0            0   \n",
       "\n",
       "  A1Cresult_None A1Cresult_Norm  change_Ch change_No  diabetesMed_Yes  \\\n",
       "2              1              0          0         1                1   \n",
       "3              1              0          1         0                1   \n",
       "4              1              0          1         0                1   \n",
       "6              1              0          1         0                1   \n",
       "8              1              0          1         0                1   \n",
       "\n",
       "   readmitted_NO  \n",
       "2              1  \n",
       "3              1  \n",
       "4              1  \n",
       "6              1  \n",
       "8              1  \n",
       "\n",
       "[5 rows x 38 columns]"
      ]
     },
     "execution_count": 41,
     "metadata": {},
     "output_type": "execute_result"
    }
   ],
   "source": [
    "data.head()"
   ]
  },
  {
   "cell_type": "markdown",
   "metadata": {},
   "source": [
    "** Encoding the AGE(ordinal) categorical column**"
   ]
  },
  {
   "cell_type": "code",
   "execution_count": 42,
   "metadata": {},
   "outputs": [
    {
     "data": {
      "text/plain": [
       "[70-80)     9646\n",
       "[60-70)     8963\n",
       "[50-60)     7209\n",
       "[80-90)     5873\n",
       "[40-50)     3941\n",
       "[30-40)     1558\n",
       "[90-100)    1000\n",
       "[20-30)      696\n",
       "[10-20)      363\n",
       "[0-10)       106\n",
       "Name: age, dtype: int64"
      ]
     },
     "execution_count": 42,
     "metadata": {},
     "output_type": "execute_result"
    }
   ],
   "source": [
    "data.age.value_counts()"
   ]
  },
  {
   "cell_type": "code",
   "execution_count": 43,
   "metadata": {},
   "outputs": [
    {
     "name": "stdout",
     "output_type": "stream",
     "text": [
      "{'age': {'[0-10)': 1, '[10-20)': 2, '[20-30)': 3, '[30-40)': 4, '[40-50)': 5, '[50-60)': 6, '[60-70)': 7, '[70-80)': 8, '[80-90)': 9, '[90-100)': 10}}\n"
     ]
    }
   ],
   "source": [
    "labels = data['age'].astype('category').cat.categories.tolist()\n",
    "replace_age = {'age' : {k: v for k,v in zip(labels,list(range(1,len(labels)+1)))}}\n",
    "\n",
    "print(replace_age)"
   ]
  },
  {
   "cell_type": "code",
   "execution_count": 44,
   "metadata": {},
   "outputs": [],
   "source": [
    "data.replace(replace_age, inplace=True)"
   ]
  },
  {
   "cell_type": "code",
   "execution_count": 45,
   "metadata": {},
   "outputs": [
    {
     "data": {
      "text/plain": [
       "8     9646\n",
       "7     8963\n",
       "6     7209\n",
       "9     5873\n",
       "5     3941\n",
       "4     1558\n",
       "10    1000\n",
       "3      696\n",
       "2      363\n",
       "1      106\n",
       "Name: age, dtype: int64"
      ]
     },
     "execution_count": 45,
     "metadata": {},
     "output_type": "execute_result"
    }
   ],
   "source": [
    "data.age.value_counts()"
   ]
  },
  {
   "cell_type": "markdown",
   "metadata": {},
   "source": [
    "# Exploratory Data Analysis"
   ]
  },
  {
   "cell_type": "markdown",
   "metadata": {},
   "source": [
    "### UNI VARIATE ANALYSIS"
   ]
  },
  {
   "cell_type": "code",
   "execution_count": 46,
   "metadata": {},
   "outputs": [
    {
     "data": {
      "text/plain": [
       "<matplotlib.axes._subplots.AxesSubplot at 0x1d0461354e0>"
      ]
     },
     "execution_count": 46,
     "metadata": {},
     "output_type": "execute_result"
    },
    {
     "data": {
      "image/png": "[encoded data removed]",
      "text/plain": [
       "<Figure size 432x288 with 1 Axes>"
      ]
     },
     "metadata": {
      "needs_background": "light"
     },
     "output_type": "display_data"
    }
   ],
   "source": [
    "data.num_lab_procedures.plot(kind='hist')"
   ]
  },
  {
   "cell_type": "code",
   "execution_count": 47,
   "metadata": {},
   "outputs": [
    {
     "data": {
      "text/plain": [
       "<matplotlib.axes._subplots.AxesSubplot at 0x1d0485ef9b0>"
      ]
     },
     "execution_count": 47,
     "metadata": {},
     "output_type": "execute_result"
    },
    {
     "data": {
      "image/png": "[encoded data removed]",
      "text/plain": [
       "<Figure size 432x288 with 1 Axes>"
      ]
     },
     "metadata": {
      "needs_background": "light"
     },
     "output_type": "display_data"
    }
   ],
   "source": [
    "import seaborn as sns\n",
    "sns.distplot(data.time_in_hospital)"
   ]
  },
  {
   "cell_type": "code",
   "execution_count": 48,
   "metadata": {},
   "outputs": [
    {
     "data": {
      "image/png": "[encoded data removed]",
      "text/plain": [
       "<Figure size 432x288 with 1 Axes>"
      ]
     },
     "metadata": {},
     "output_type": "display_data"
    }
   ],
   "source": [
    "import matplotlib.pyplot as plt\n",
    "age_count = data['age'].value_counts()\n",
    "sns.set(style=\"darkgrid\")\n",
    "sns.barplot(age_count.index, age_count.values, alpha=0.9)\n",
    "plt.title('Frequency Distribution of age')\n",
    "plt.ylabel('Number of Occurrences', fontsize=12)\n",
    "plt.xlabel('Age', fontsize=12)\n",
    "plt.show()"
   ]
  },
  {
   "cell_type": "code",
   "execution_count": 49,
   "metadata": {},
   "outputs": [
    {
     "data": {
      "image/png": "[encoded data removed]",
      "text/plain": [
       "<Figure size 432x288 with 1 Axes>"
      ]
     },
     "metadata": {},
     "output_type": "display_data"
    }
   ],
   "source": [
    "labels = data['age'].astype('category').cat.categories.tolist()\n",
    "counts = data['age'].value_counts()\n",
    "sizes = [counts[var_cat] for var_cat in labels]\n",
    "fig1, ax1 = plt.subplots()\n",
    "ax1.pie(sizes, labels=labels, autopct='%1.1f%%', shadow=True) #autopct is show the % on plot\n",
    "ax1.axis('equal')\n",
    "plt.show()"
   ]
  },
  {
   "cell_type": "markdown",
   "metadata": {},
   "source": [
    "# Feature Identification"
   ]
  },
  {
   "cell_type": "code",
   "execution_count": 50,
   "metadata": {},
   "outputs": [
    {
     "data": {
      "text/plain": [
       "Index(['encounter_id', 'patient_nbr', 'age', 'admission_type_id',\n",
       "       'discharge_disposition_id', 'admission_source_id', 'time_in_hospital',\n",
       "       'num_lab_procedures', 'num_procedures', 'num_medications',\n",
       "       'number_outpatient', 'number_emergency', 'number_inpatient', 'diag_1',\n",
       "       'diag_2', 'diag_3', 'number_diagnoses', 'treatments',\n",
       "       'race_AfricanAmerican', 'race_Asian', 'race_Caucasian', 'race_Hispanic',\n",
       "       'race_Other', 'gender_Female', 'gender_Male', 'gender_Unknown/Invalid',\n",
       "       'max_glu_serum_>200', 'max_glu_serum_>300', 'max_glu_serum_None',\n",
       "       'max_glu_serum_Norm', 'A1Cresult_>7', 'A1Cresult_>8', 'A1Cresult_None',\n",
       "       'A1Cresult_Norm', 'change_Ch', 'change_No', 'diabetesMed_Yes',\n",
       "       'readmitted_NO'],\n",
       "      dtype='object')"
      ]
     },
     "execution_count": 50,
     "metadata": {},
     "output_type": "execute_result"
    }
   ],
   "source": [
    "data.columns"
   ]
  },
  {
   "cell_type": "markdown",
   "metadata": {},
   "source": [
    "### Considering the Domain knowledge, we would like to drop the Columns \"diag_1\" , \"diag_2\" ,\"diag_3\"\n",
    "\n",
    "##### Since they contain the information about the codes of different types of treatments given to the patient. They don't contribute to the effectiveness of the treat (i.e, our problemm statement)"
   ]
  },
  {
   "cell_type": "code",
   "execution_count": 51,
   "metadata": {},
   "outputs": [],
   "source": [
    "# Creating additional columns for diagnosis# Creati \n",
    "data['level1_diag1'] = data['diag_1']\n",
    "data['level2_diag1'] = data['diag_1']\n",
    "data['level1_diag2'] = data['diag_2']\n",
    "data['level2_diag2'] = data['diag_2']\n",
    "data['level1_diag3'] = data['diag_3']\n",
    "data['level2_diag3'] = data['diag_3']"
   ]
  },
  {
   "cell_type": "code",
   "execution_count": 52,
   "metadata": {},
   "outputs": [],
   "source": [
    "data.loc[data['diag_1'].str.contains('V'), ['level1_diag1', 'level2_diag1']] = 0\n",
    "data.loc[data['diag_1'].str.contains('E'), ['level1_diag1', 'level2_diag1']] = 0\n",
    "data.loc[data['diag_2'].str.contains('V'), ['level1_diag2', 'level2_diag2']] = 0\n",
    "data.loc[data['diag_2'].str.contains('E'), ['level1_diag2', 'level2_diag2']] = 0\n",
    "data.loc[data['diag_3'].str.contains('V'), ['level1_diag3', 'level2_diag3']] = 0\n",
    "data.loc[data['diag_3'].str.contains('E'), ['level1_diag3', 'level2_diag3']] = 0\n",
    "data['level1_diag1'] = data['level1_diag1'].replace('?', -1)\n",
    "data['level2_diag1'] = data['level2_diag1'].replace('?', -1)\n",
    "data['level1_diag2'] = data['level1_diag2'].replace('?', -1)\n",
    "data['level2_diag2'] = data['level2_diag2'].replace('?', -1)\n",
    "data['level1_diag3'] = data['level1_diag3'].replace('?', -1)\n",
    "data['level2_diag3'] = data['level2_diag3'].replace('?', -1)"
   ]
  },
  {
   "cell_type": "code",
   "execution_count": 53,
   "metadata": {},
   "outputs": [],
   "source": [
    "data['level1_diag1'] = data['level1_diag1'].astype(float)\n",
    "data['level2_diag1'] = data['level2_diag1'].astype(float)\n",
    "data['level1_diag2'] = data['level1_diag2'].astype(float)\n",
    "data['level2_diag2'] = data['level2_diag2'].astype(float)\n",
    "data['level1_diag3'] = data['level1_diag3'].astype(float)\n",
    "data['level2_diag3'] = data['level2_diag3'].astype(float)"
   ]
  },
  {
   "cell_type": "code",
   "execution_count": 54,
   "metadata": {},
   "outputs": [],
   "source": [
    "for index, row in data.iterrows():\n",
    "    if (row['level1_diag1'] >= 390 and row['level1_diag1'] < 460) or (np.floor(row['level1_diag1']) == 785):\n",
    "        data.loc[index, 'level1_diag1'] = 1\n",
    "    elif (row['level1_diag1'] >= 460 and row['level1_diag1'] < 520) or (np.floor(row['level1_diag1']) == 786):\n",
    "        data.loc[index, 'level1_diag1'] = 2\n",
    "    elif (row['level1_diag1'] >= 520 and row['level1_diag1'] < 580) or (np.floor(row['level1_diag1']) == 787):\n",
    "        data.loc[index, 'level1_diag1'] = 3\n",
    "    elif (np.floor(row['level1_diag1']) == 250):\n",
    "        data.loc[index, 'level1_diag1'] = 4\n",
    "    elif (row['level1_diag1'] >= 800 and row['level1_diag1'] < 1000):\n",
    "        data.loc[index, 'level1_diag1'] = 5\n",
    "    elif (row['level1_diag1'] >= 710 and row['level1_diag1'] < 740):\n",
    "        data.loc[index, 'level1_diag1'] = 6\n",
    "    elif (row['level1_diag1'] >= 580 and row['level1_diag1'] < 630) or (np.floor(row['level1_diag1']) == 788):\n",
    "        data.loc[index, 'level1_diag1'] = 7\n",
    "    elif (row['level1_diag1'] >= 140 and row['level1_diag1'] < 240):\n",
    "        data.loc[index, 'level1_diag1'] = 8\n",
    "    else:\n",
    "        data.loc[index, 'level1_diag1'] = 0\n",
    "        \n",
    "    if (row['level1_diag2'] >= 390 and row['level1_diag2'] < 460) or (np.floor(row['level1_diag2']) == 785):\n",
    "        data.loc[index, 'level1_diag2'] = 1\n",
    "    elif (row['level1_diag2'] >= 460 and row['level1_diag2'] < 520) or (np.floor(row['level1_diag2']) == 786):\n",
    "        data.loc[index, 'level1_diag2'] = 2\n",
    "    elif (row['level1_diag2'] >= 520 and row['level1_diag2'] < 580) or (np.floor(row['level1_diag2']) == 787):\n",
    "        data.loc[index, 'level1_diag2'] = 3\n",
    "    elif (np.floor(row['level1_diag2']) == 250):\n",
    "        data.loc[index, 'level1_diag2'] = 4\n",
    "    elif (row['level1_diag2'] >= 800 and row['level1_diag2'] < 1000):\n",
    "        data.loc[index, 'level1_diag2'] = 5\n",
    "    elif (row['level1_diag2'] >= 710 and row['level1_diag2'] < 740):\n",
    "        data.loc[index, 'level1_diag2'] = 6\n",
    "    elif (row['level1_diag2'] >= 580 and row['level1_diag2'] < 630) or (np.floor(row['level1_diag2']) == 788):\n",
    "        data.loc[index, 'level1_diag2'] = 7\n",
    "    elif (row['level1_diag2'] >= 140 and row['level1_diag2'] < 240):\n",
    "        data.loc[index, 'level1_diag2'] = 8\n",
    "    else:\n",
    "        data.loc[index, 'level1_diag2'] = 0\n",
    "    \n",
    "    if (row['level1_diag3'] >= 390 and row['level1_diag3'] < 460) or (np.floor(row['level1_diag3']) == 785):\n",
    "        data.loc[index, 'level1_diag3'] = 1\n",
    "    elif (row['level1_diag3'] >= 460 and row['level1_diag3'] < 520) or (np.floor(row['level1_diag3']) == 786):\n",
    "        data.loc[index, 'level1_diag3'] = 2\n",
    "    elif (row['level1_diag3'] >= 520 and row['level1_diag3'] < 580) or (np.floor(row['level1_diag3']) == 787):\n",
    "        data.loc[index, 'level1_diag3'] = 3\n",
    "    elif (np.floor(row['level1_diag3']) == 250):\n",
    "        data.loc[index, 'level1_diag3'] = 4\n",
    "    elif (row['level1_diag3'] >= 800 and row['level1_diag3'] < 1000):\n",
    "        data.loc[index, 'level1_diag3'] = 5\n",
    "    elif (row['level1_diag3'] >= 710 and row['level1_diag3'] < 740):\n",
    "        data.loc[index, 'level1_diag3'] = 6\n",
    "    elif (row['level1_diag3'] >= 580 and row['level1_diag3'] < 630) or (np.floor(row['level1_diag3']) == 788):\n",
    "        data.loc[index, 'level1_diag3'] = 7\n",
    "    elif (row['level1_diag3'] >= 140 and row['level1_diag3'] < 240):\n",
    "        data.loc[index, 'level1_diag3'] = 8\n",
    "    else:\n",
    "        data.loc[index, 'level1_diag3'] = 0"
   ]
  },
  {
   "cell_type": "code",
   "execution_count": 55,
   "metadata": {},
   "outputs": [],
   "source": [
    "for index, row in data.iterrows():\n",
    "    if (row['level2_diag1'] >= 390 and row['level2_diag1'] < 399):\n",
    "        data.loc[index, 'level2_diag1'] = 1\n",
    "    elif (row['level2_diag1'] >= 401 and row['level2_diag1'] < 415):\n",
    "        data.loc[index, 'level2_diag1'] = 2\n",
    "    elif (row['level2_diag1'] >= 415 and row['level2_diag1'] < 460):\n",
    "        data.loc[index, 'level2_diag1'] = 3\n",
    "    elif (np.floor(row['level2_diag1']) == 785):\n",
    "        data.loc[index, 'level2_diag1'] = 4\n",
    "    elif (row['level2_diag1'] >= 460 and row['level2_diag1'] < 489):\n",
    "        data.loc[index, 'level2_diag1'] = 5\n",
    "    elif (row['level2_diag1'] >= 490 and row['level2_diag1'] < 497):\n",
    "        data.loc[index, 'level2_diag1'] = 6\n",
    "    elif (row['level2_diag1'] >= 500 and row['level2_diag1'] < 520):\n",
    "        data.loc[index, 'level2_diag1'] = 7\n",
    "    elif (np.floor(row['level2_diag1']) == 786):\n",
    "        data.loc[index, 'level2_diag1'] = 8\n",
    "    elif (row['level2_diag1'] >= 520 and row['level2_diag1'] < 530):\n",
    "        data.loc[index, 'level2_diag1'] = 9\n",
    "    elif (row['level2_diag1'] >= 530 and row['level2_diag1'] < 544):\n",
    "        data.loc[index, 'level2_diag1'] = 10\n",
    "    elif (row['level2_diag1'] >= 550 and row['level2_diag1'] < 554):\n",
    "        data.loc[index, 'level2_diag1'] = 11\n",
    "    elif (row['level2_diag1'] >= 555 and row['level2_diag1'] < 580):\n",
    "        data.loc[index, 'level2_diag1'] = 12\n",
    "    elif (np.floor(row['level2_diag1']) == 787):\n",
    "        data.loc[index, 'level2_diag1'] = 13\n",
    "    elif (np.floor(row['level2_diag1']) == 250):\n",
    "        data.loc[index, 'level2_diag1'] = 14\n",
    "    elif (row['level2_diag1'] >= 800 and row['level2_diag1'] < 1000):\n",
    "        data.loc[index, 'level2_diag1'] = 15\n",
    "    elif (row['level2_diag1'] >= 710 and row['level2_diag1'] < 740):\n",
    "        data.loc[index, 'level2_diag1'] = 16\n",
    "    elif (row['level2_diag1'] >= 580 and row['level2_diag1'] < 630):\n",
    "        data.loc[index, 'level2_diag1'] = 17\n",
    "    elif (np.floor(row['level2_diag1']) == 788):\n",
    "        data.loc[index, 'level2_diag1'] = 18\n",
    "    elif (row['level2_diag1'] >= 140 and row['level2_diag1'] < 240):\n",
    "        data.loc[index, 'level2_diag1'] = 19\n",
    "    elif row['level2_diag1'] >= 240 and row['level2_diag1'] < 280 and (np.floor(row['level2_diag1']) != 250):\n",
    "        data.loc[index, 'level2_diag1'] = 20\n",
    "    elif (row['level2_diag1'] >= 680 and row['level2_diag1'] < 710) or (np.floor(row['level2_diag1']) == 782):\n",
    "        data.loc[index, 'level2_diag1'] = 21\n",
    "    elif (row['level2_diag1'] >= 290 and row['level2_diag1'] < 320):\n",
    "        data.loc[index, 'level2_diag1'] = 22\n",
    "    else:\n",
    "        data.loc[index, 'level2_diag1'] = 0\n",
    "        \n",
    "    if (row['level2_diag2'] >= 390 and row['level2_diag2'] < 399):\n",
    "        data.loc[index, 'level2_diag2'] = 1\n",
    "    elif (row['level2_diag2'] >= 401 and row['level2_diag2'] < 415):\n",
    "        data.loc[index, 'level2_diag2'] = 2\n",
    "    elif (row['level2_diag2'] >= 415 and row['level2_diag2'] < 460):\n",
    "        data.loc[index, 'level2_diag2'] = 3\n",
    "    elif (np.floor(row['level2_diag2']) == 785):\n",
    "        data.loc[index, 'level2_diag2'] = 4\n",
    "    elif (row['level2_diag2'] >= 460 and row['level2_diag2'] < 489):\n",
    "        data.loc[index, 'level2_diag2'] = 5\n",
    "    elif (row['level2_diag2'] >= 490 and row['level2_diag2'] < 497):\n",
    "        data.loc[index, 'level2_diag2'] = 6\n",
    "    elif (row['level2_diag2'] >= 500 and row['level2_diag2'] < 520):\n",
    "        data.loc[index, 'level2_diag2'] = 7\n",
    "    elif (np.floor(row['level2_diag2']) == 786):\n",
    "        data.loc[index, 'level2_diag2'] = 8\n",
    "    elif (row['level2_diag2'] >= 520 and row['level2_diag2'] < 530):\n",
    "        data.loc[index, 'level2_diag2'] = 9\n",
    "    elif (row['level2_diag2'] >= 530 and row['level2_diag2'] < 544):\n",
    "        data.loc[index, 'level2_diag2'] = 10\n",
    "    elif (row['level2_diag2'] >= 550 and row['level2_diag2'] < 554):\n",
    "        data.loc[index, 'level2_diag2'] = 11\n",
    "    elif (row['level2_diag2'] >= 555 and row['level2_diag2'] < 580):\n",
    "        data.loc[index, 'level2_diag2'] = 12\n",
    "    elif (np.floor(row['level2_diag2']) == 787):\n",
    "        data.loc[index, 'level2_diag2'] = 13\n",
    "    elif (np.floor(row['level2_diag2']) == 250):\n",
    "        data.loc[index, 'level2_diag2'] = 14\n",
    "    elif (row['level2_diag2'] >= 800 and row['level2_diag2'] < 1000):\n",
    "        data.loc[index, 'level2_diag2'] = 15\n",
    "    elif (row['level2_diag2'] >= 710 and row['level2_diag2'] < 740):\n",
    "        data.loc[index, 'level2_diag2'] = 16\n",
    "    elif (row['level2_diag2'] >= 580 and row['level2_diag2'] < 630):\n",
    "        data.loc[index, 'level2_diag2'] = 17\n",
    "    elif (np.floor(row['level2_diag2']) == 788):\n",
    "        data.loc[index, 'level2_diag2'] = 18\n",
    "    elif (row['level2_diag2'] >= 140 and row['level2_diag2'] < 240):\n",
    "        data.loc[index, 'level2_diag2'] = 19\n",
    "    elif row['level2_diag2'] >= 240 and row['level2_diag2'] < 280 and (np.floor(row['level2_diag2']) != 250):\n",
    "        data.loc[index, 'level2_diag2'] = 20\n",
    "    elif (row['level2_diag2'] >= 680 and row['level2_diag2'] < 710) or (np.floor(row['level2_diag2']) == 782):\n",
    "        data.loc[index, 'level2_diag2'] = 21\n",
    "    elif (row['level2_diag2'] >= 290 and row['level2_diag2'] < 320):\n",
    "        data.loc[index, 'level2_diag2'] = 22\n",
    "    else:\n",
    "        data.loc[index, 'level2_diag2'] = 0\n",
    "        \n",
    "        \n",
    "    if (row['level2_diag3'] >= 390 and row['level2_diag3'] < 399):\n",
    "        data.loc[index, 'level2_diag3'] = 1\n",
    "    elif (row['level2_diag3'] >= 401 and row['level2_diag3'] < 415):\n",
    "        data.loc[index, 'level2_diag3'] = 2\n",
    "    elif (row['level2_diag3'] >= 415 and row['level2_diag3'] < 460):\n",
    "        data.loc[index, 'level2_diag3'] = 3\n",
    "    elif (np.floor(row['level2_diag3']) == 785):\n",
    "        data.loc[index, 'level2_diag3'] = 4\n",
    "    elif (row['level2_diag3'] >= 460 and row['level2_diag3'] < 489):\n",
    "        data.loc[index, 'level2_diag3'] = 5\n",
    "    elif (row['level2_diag3'] >= 490 and row['level2_diag3'] < 497):\n",
    "        data.loc[index, 'level2_diag3'] = 6\n",
    "    elif (row['level2_diag3'] >= 500 and row['level2_diag3'] < 520):\n",
    "        data.loc[index, 'level2_diag3'] = 7\n",
    "    elif (np.floor(row['level2_diag3']) == 786):\n",
    "        data.loc[index, 'level2_diag3'] = 8\n",
    "    elif (row['level2_diag3'] >= 520 and row['level2_diag3'] < 530):\n",
    "        data.loc[index, 'level2_diag3'] = 9\n",
    "    elif (row['level2_diag3'] >= 530 and row['level2_diag3'] < 544):\n",
    "        data.loc[index, 'level2_diag3'] = 10\n",
    "    elif (row['level2_diag3'] >= 550 and row['level2_diag3'] < 554):\n",
    "        data.loc[index, 'level2_diag3'] = 11\n",
    "    elif (row['level2_diag3'] >= 555 and row['level2_diag3'] < 580):\n",
    "        data.loc[index, 'level2_diag3'] = 12\n",
    "    elif (np.floor(row['level2_diag3']) == 787):\n",
    "        data.loc[index, 'level2_diag3'] = 13\n",
    "    elif (np.floor(row['level2_diag3']) == 250):\n",
    "        data.loc[index, 'level2_diag3'] = 14\n",
    "    elif (row['level2_diag3'] >= 800 and row['level2_diag3'] < 1000):\n",
    "        data.loc[index, 'level2_diag3'] = 15\n",
    "    elif (row['level2_diag3'] >= 710 and row['level2_diag3'] < 740):\n",
    "        data.loc[index, 'level2_diag3'] = 16\n",
    "    elif (row['level2_diag3'] >= 580 and row['level2_diag3'] < 630):\n",
    "        data.loc[index, 'level2_diag3'] = 17\n",
    "    elif (np.floor(row['level2_diag3']) == 788):\n",
    "        data.loc[index, 'level2_diag3'] = 18\n",
    "    elif (row['level2_diag3'] >= 140 and row['level2_diag3'] < 240):\n",
    "        data.loc[index, 'level2_diag3'] = 19\n",
    "    elif row['level2_diag3'] >= 240 and row['level2_diag3'] < 280 and (np.floor(row['level2_diag3']) != 250):\n",
    "        data.loc[index, 'level2_diag3'] = 20\n",
    "    elif (row['level2_diag3'] >= 680 and row['level2_diag3'] < 710) or (np.floor(row['level2_diag3']) == 782):\n",
    "        data.loc[index, 'level2_diag3'] = 21\n",
    "    elif (row['level2_diag3'] >= 290 and row['level2_diag3'] < 320):\n",
    "        data.loc[index, 'level2_diag3'] = 22\n",
    "    else:\n",
    "        data.loc[index, 'level2_diag3'] = 0"
   ]
  },
  {
   "cell_type": "code",
   "execution_count": null,
   "metadata": {},
   "outputs": [],
   "source": []
  },
  {
   "cell_type": "code",
   "execution_count": null,
   "metadata": {},
   "outputs": [],
   "source": []
  },
  {
   "cell_type": "code",
   "execution_count": null,
   "metadata": {},
   "outputs": [],
   "source": []
  },
  {
   "cell_type": "code",
   "execution_count": null,
   "metadata": {},
   "outputs": [],
   "source": []
  },
  {
   "cell_type": "code",
   "execution_count": 56,
   "metadata": {},
   "outputs": [],
   "source": [
    "data = data.drop(['diag_1','diag_2','diag_3'],axis = 1)"
   ]
  },
  {
   "cell_type": "code",
   "execution_count": 57,
   "metadata": {},
   "outputs": [
    {
     "name": "stdout",
     "output_type": "stream",
     "text": [
      "<class 'pandas.core.frame.DataFrame'>\n",
      "Int64Index: 39355 entries, 2 to 101764\n",
      "Data columns (total 41 columns):\n",
      "encounter_id                39355 non-null int64\n",
      "patient_nbr                 39355 non-null int64\n",
      "age                         39355 non-null int64\n",
      "admission_type_id           39355 non-null int64\n",
      "discharge_disposition_id    39355 non-null int64\n",
      "admission_source_id         39355 non-null int64\n",
      "time_in_hospital            39355 non-null int64\n",
      "num_lab_procedures          39355 non-null int64\n",
      "num_procedures              39355 non-null int64\n",
      "num_medications             39355 non-null int64\n",
      "number_outpatient           39355 non-null int64\n",
      "number_emergency            39355 non-null int64\n",
      "number_inpatient            39355 non-null int64\n",
      "number_diagnoses            39355 non-null int64\n",
      "treatments                  39355 non-null object\n",
      "race_AfricanAmerican        39355 non-null uint8\n",
      "race_Asian                  39355 non-null uint8\n",
      "race_Caucasian              39355 non-null uint8\n",
      "race_Hispanic               39355 non-null uint8\n",
      "race_Other                  39355 non-null uint8\n",
      "gender_Female               39355 non-null uint8\n",
      "gender_Male                 39355 non-null uint8\n",
      "gender_Unknown/Invalid      39355 non-null uint8\n",
      "max_glu_serum_>200          39355 non-null uint8\n",
      "max_glu_serum_>300          39355 non-null uint8\n",
      "max_glu_serum_None          39355 non-null uint8\n",
      "max_glu_serum_Norm          39355 non-null uint8\n",
      "A1Cresult_>7                39355 non-null uint8\n",
      "A1Cresult_>8                39355 non-null uint8\n",
      "A1Cresult_None              39355 non-null uint8\n",
      "A1Cresult_Norm              39355 non-null uint8\n",
      "change_Ch                   39355 non-null uint8\n",
      "change_No                   39355 non-null uint8\n",
      "diabetesMed_Yes             39355 non-null uint8\n",
      "readmitted_NO               39355 non-null uint8\n",
      "level1_diag1                39355 non-null float64\n",
      "level2_diag1                39355 non-null float64\n",
      "level1_diag2                39355 non-null float64\n",
      "level2_diag2                39355 non-null float64\n",
      "level1_diag3                39355 non-null float64\n",
      "level2_diag3                39355 non-null float64\n",
      "dtypes: float64(6), int64(14), object(1), uint8(20)\n",
      "memory usage: 8.6+ MB\n"
     ]
    }
   ],
   "source": [
    "data.info()"
   ]
  },
  {
   "cell_type": "markdown",
   "metadata": {},
   "source": [
    "## With respect to the problem statement given, the output variable is observed to be the “treatments” feature\n",
    "## The input variables are both Discrete Quantitative and Categorical and our output variable is Categorical\n"
   ]
  },
  {
   "cell_type": "markdown",
   "metadata": {},
   "source": [
    "## Since we have a combination of Discrete Quantitative Variables and Categorical Variables, we cannot perform general Correlation tests"
   ]
  },
  {
   "cell_type": "code",
   "execution_count": 58,
   "metadata": {},
   "outputs": [
    {
     "ename": "FileNotFoundError",
     "evalue": "No such file or directory: '../input/correlation/Picture1.png'",
     "output_type": "error",
     "traceback": [
      "\u001b[1;31m---------------------------------------------------------------------------\u001b[0m",
      "\u001b[1;31mTypeError\u001b[0m                                 Traceback (most recent call last)",
      "\u001b[1;32m~\\Anaconda3\\lib\\site-packages\\IPython\\core\\display.py\u001b[0m in \u001b[0;36m_data_and_metadata\u001b[1;34m(self, always_both)\u001b[0m\n\u001b[0;32m   1253\u001b[0m         \u001b[1;32mtry\u001b[0m\u001b[1;33m:\u001b[0m\u001b[1;33m\u001b[0m\u001b[1;33m\u001b[0m\u001b[0m\n\u001b[1;32m-> 1254\u001b[1;33m             \u001b[0mb64_data\u001b[0m \u001b[1;33m=\u001b[0m \u001b[0mb2a_base64\u001b[0m\u001b[1;33m(\u001b[0m\u001b[0mself\u001b[0m\u001b[1;33m.\u001b[0m\u001b[0mdata\u001b[0m\u001b[1;33m)\u001b[0m\u001b[1;33m.\u001b[0m\u001b[0mdecode\u001b[0m\u001b[1;33m(\u001b[0m\u001b[1;34m'ascii'\u001b[0m\u001b[1;33m)\u001b[0m\u001b[1;33m\u001b[0m\u001b[1;33m\u001b[0m\u001b[0m\n\u001b[0m\u001b[0;32m   1255\u001b[0m         \u001b[1;32mexcept\u001b[0m \u001b[0mTypeError\u001b[0m\u001b[1;33m:\u001b[0m\u001b[1;33m\u001b[0m\u001b[1;33m\u001b[0m\u001b[0m\n",
      "\u001b[1;31mTypeError\u001b[0m: a bytes-like object is required, not 'str'",
      "\nDuring handling of the above exception, another exception occurred:\n",
      "\u001b[1;31mFileNotFoundError\u001b[0m                         Traceback (most recent call last)",
      "\u001b[1;32m~\\Anaconda3\\lib\\site-packages\\IPython\\core\\formatters.py\u001b[0m in \u001b[0;36m__call__\u001b[1;34m(self, obj, include, exclude)\u001b[0m\n\u001b[0;32m    968\u001b[0m \u001b[1;33m\u001b[0m\u001b[0m\n\u001b[0;32m    969\u001b[0m             \u001b[1;32mif\u001b[0m \u001b[0mmethod\u001b[0m \u001b[1;32mis\u001b[0m \u001b[1;32mnot\u001b[0m \u001b[1;32mNone\u001b[0m\u001b[1;33m:\u001b[0m\u001b[1;33m\u001b[0m\u001b[1;33m\u001b[0m\u001b[0m\n\u001b[1;32m--> 970\u001b[1;33m                 \u001b[1;32mreturn\u001b[0m \u001b[0mmethod\u001b[0m\u001b[1;33m(\u001b[0m\u001b[0minclude\u001b[0m\u001b[1;33m=\u001b[0m\u001b[0minclude\u001b[0m\u001b[1;33m,\u001b[0m \u001b[0mexclude\u001b[0m\u001b[1;33m=\u001b[0m\u001b[0mexclude\u001b[0m\u001b[1;33m)\u001b[0m\u001b[1;33m\u001b[0m\u001b[1;33m\u001b[0m\u001b[0m\n\u001b[0m\u001b[0;32m    971\u001b[0m             \u001b[1;32mreturn\u001b[0m \u001b[1;32mNone\u001b[0m\u001b[1;33m\u001b[0m\u001b[1;33m\u001b[0m\u001b[0m\n\u001b[0;32m    972\u001b[0m         \u001b[1;32melse\u001b[0m\u001b[1;33m:\u001b[0m\u001b[1;33m\u001b[0m\u001b[1;33m\u001b[0m\u001b[0m\n",
      "\u001b[1;32m~\\Anaconda3\\lib\\site-packages\\IPython\\core\\display.py\u001b[0m in \u001b[0;36m_repr_mimebundle_\u001b[1;34m(self, include, exclude)\u001b[0m\n\u001b[0;32m   1242\u001b[0m         \u001b[1;32mif\u001b[0m \u001b[0mself\u001b[0m\u001b[1;33m.\u001b[0m\u001b[0membed\u001b[0m\u001b[1;33m:\u001b[0m\u001b[1;33m\u001b[0m\u001b[1;33m\u001b[0m\u001b[0m\n\u001b[0;32m   1243\u001b[0m             \u001b[0mmimetype\u001b[0m \u001b[1;33m=\u001b[0m \u001b[0mself\u001b[0m\u001b[1;33m.\u001b[0m\u001b[0m_mimetype\u001b[0m\u001b[1;33m\u001b[0m\u001b[1;33m\u001b[0m\u001b[0m\n\u001b[1;32m-> 1244\u001b[1;33m             \u001b[0mdata\u001b[0m\u001b[1;33m,\u001b[0m \u001b[0mmetadata\u001b[0m \u001b[1;33m=\u001b[0m \u001b[0mself\u001b[0m\u001b[1;33m.\u001b[0m\u001b[0m_data_and_metadata\u001b[0m\u001b[1;33m(\u001b[0m\u001b[0malways_both\u001b[0m\u001b[1;33m=\u001b[0m\u001b[1;32mTrue\u001b[0m\u001b[1;33m)\u001b[0m\u001b[1;33m\u001b[0m\u001b[1;33m\u001b[0m\u001b[0m\n\u001b[0m\u001b[0;32m   1245\u001b[0m             \u001b[1;32mif\u001b[0m \u001b[0mmetadata\u001b[0m\u001b[1;33m:\u001b[0m\u001b[1;33m\u001b[0m\u001b[1;33m\u001b[0m\u001b[0m\n\u001b[0;32m   1246\u001b[0m                 \u001b[0mmetadata\u001b[0m \u001b[1;33m=\u001b[0m \u001b[1;33m{\u001b[0m\u001b[0mmimetype\u001b[0m\u001b[1;33m:\u001b[0m \u001b[0mmetadata\u001b[0m\u001b[1;33m}\u001b[0m\u001b[1;33m\u001b[0m\u001b[1;33m\u001b[0m\u001b[0m\n",
      "\u001b[1;32m~\\Anaconda3\\lib\\site-packages\\IPython\\core\\display.py\u001b[0m in \u001b[0;36m_data_and_metadata\u001b[1;34m(self, always_both)\u001b[0m\n\u001b[0;32m   1255\u001b[0m         \u001b[1;32mexcept\u001b[0m \u001b[0mTypeError\u001b[0m\u001b[1;33m:\u001b[0m\u001b[1;33m\u001b[0m\u001b[1;33m\u001b[0m\u001b[0m\n\u001b[0;32m   1256\u001b[0m             raise FileNotFoundError(\n\u001b[1;32m-> 1257\u001b[1;33m                 \"No such file or directory: '%s'\" % (self.data))\n\u001b[0m\u001b[0;32m   1258\u001b[0m         \u001b[0mmd\u001b[0m \u001b[1;33m=\u001b[0m \u001b[1;33m{\u001b[0m\u001b[1;33m}\u001b[0m\u001b[1;33m\u001b[0m\u001b[1;33m\u001b[0m\u001b[0m\n\u001b[0;32m   1259\u001b[0m         \u001b[1;32mif\u001b[0m \u001b[0mself\u001b[0m\u001b[1;33m.\u001b[0m\u001b[0mmetadata\u001b[0m\u001b[1;33m:\u001b[0m\u001b[1;33m\u001b[0m\u001b[1;33m\u001b[0m\u001b[0m\n",
      "\u001b[1;31mFileNotFoundError\u001b[0m: No such file or directory: '../input/correlation/Picture1.png'"
     ]
    },
    {
     "ename": "FileNotFoundError",
     "evalue": "No such file or directory: '../input/correlation/Picture1.png'",
     "output_type": "error",
     "traceback": [
      "\u001b[1;31m---------------------------------------------------------------------------\u001b[0m",
      "\u001b[1;31mTypeError\u001b[0m                                 Traceback (most recent call last)",
      "\u001b[1;32m~\\Anaconda3\\lib\\site-packages\\IPython\\core\\display.py\u001b[0m in \u001b[0;36m_data_and_metadata\u001b[1;34m(self, always_both)\u001b[0m\n\u001b[0;32m   1253\u001b[0m         \u001b[1;32mtry\u001b[0m\u001b[1;33m:\u001b[0m\u001b[1;33m\u001b[0m\u001b[1;33m\u001b[0m\u001b[0m\n\u001b[1;32m-> 1254\u001b[1;33m             \u001b[0mb64_data\u001b[0m \u001b[1;33m=\u001b[0m \u001b[0mb2a_base64\u001b[0m\u001b[1;33m(\u001b[0m\u001b[0mself\u001b[0m\u001b[1;33m.\u001b[0m\u001b[0mdata\u001b[0m\u001b[1;33m)\u001b[0m\u001b[1;33m.\u001b[0m\u001b[0mdecode\u001b[0m\u001b[1;33m(\u001b[0m\u001b[1;34m'ascii'\u001b[0m\u001b[1;33m)\u001b[0m\u001b[1;33m\u001b[0m\u001b[1;33m\u001b[0m\u001b[0m\n\u001b[0m\u001b[0;32m   1255\u001b[0m         \u001b[1;32mexcept\u001b[0m \u001b[0mTypeError\u001b[0m\u001b[1;33m:\u001b[0m\u001b[1;33m\u001b[0m\u001b[1;33m\u001b[0m\u001b[0m\n",
      "\u001b[1;31mTypeError\u001b[0m: a bytes-like object is required, not 'str'",
      "\nDuring handling of the above exception, another exception occurred:\n",
      "\u001b[1;31mFileNotFoundError\u001b[0m                         Traceback (most recent call last)",
      "\u001b[1;32m~\\Anaconda3\\lib\\site-packages\\IPython\\core\\formatters.py\u001b[0m in \u001b[0;36m__call__\u001b[1;34m(self, obj)\u001b[0m\n\u001b[0;32m    343\u001b[0m             \u001b[0mmethod\u001b[0m \u001b[1;33m=\u001b[0m \u001b[0mget_real_method\u001b[0m\u001b[1;33m(\u001b[0m\u001b[0mobj\u001b[0m\u001b[1;33m,\u001b[0m \u001b[0mself\u001b[0m\u001b[1;33m.\u001b[0m\u001b[0mprint_method\u001b[0m\u001b[1;33m)\u001b[0m\u001b[1;33m\u001b[0m\u001b[1;33m\u001b[0m\u001b[0m\n\u001b[0;32m    344\u001b[0m             \u001b[1;32mif\u001b[0m \u001b[0mmethod\u001b[0m \u001b[1;32mis\u001b[0m \u001b[1;32mnot\u001b[0m \u001b[1;32mNone\u001b[0m\u001b[1;33m:\u001b[0m\u001b[1;33m\u001b[0m\u001b[1;33m\u001b[0m\u001b[0m\n\u001b[1;32m--> 345\u001b[1;33m                 \u001b[1;32mreturn\u001b[0m \u001b[0mmethod\u001b[0m\u001b[1;33m(\u001b[0m\u001b[1;33m)\u001b[0m\u001b[1;33m\u001b[0m\u001b[1;33m\u001b[0m\u001b[0m\n\u001b[0m\u001b[0;32m    346\u001b[0m             \u001b[1;32mreturn\u001b[0m \u001b[1;32mNone\u001b[0m\u001b[1;33m\u001b[0m\u001b[1;33m\u001b[0m\u001b[0m\n\u001b[0;32m    347\u001b[0m         \u001b[1;32melse\u001b[0m\u001b[1;33m:\u001b[0m\u001b[1;33m\u001b[0m\u001b[1;33m\u001b[0m\u001b[0m\n",
      "\u001b[1;32m~\\Anaconda3\\lib\\site-packages\\IPython\\core\\display.py\u001b[0m in \u001b[0;36m_repr_png_\u001b[1;34m(self)\u001b[0m\n\u001b[0;32m   1272\u001b[0m     \u001b[1;32mdef\u001b[0m \u001b[0m_repr_png_\u001b[0m\u001b[1;33m(\u001b[0m\u001b[0mself\u001b[0m\u001b[1;33m)\u001b[0m\u001b[1;33m:\u001b[0m\u001b[1;33m\u001b[0m\u001b[1;33m\u001b[0m\u001b[0m\n\u001b[0;32m   1273\u001b[0m         \u001b[1;32mif\u001b[0m \u001b[0mself\u001b[0m\u001b[1;33m.\u001b[0m\u001b[0membed\u001b[0m \u001b[1;32mand\u001b[0m \u001b[0mself\u001b[0m\u001b[1;33m.\u001b[0m\u001b[0mformat\u001b[0m \u001b[1;33m==\u001b[0m \u001b[0mself\u001b[0m\u001b[1;33m.\u001b[0m\u001b[0m_FMT_PNG\u001b[0m\u001b[1;33m:\u001b[0m\u001b[1;33m\u001b[0m\u001b[1;33m\u001b[0m\u001b[0m\n\u001b[1;32m-> 1274\u001b[1;33m             \u001b[1;32mreturn\u001b[0m \u001b[0mself\u001b[0m\u001b[1;33m.\u001b[0m\u001b[0m_data_and_metadata\u001b[0m\u001b[1;33m(\u001b[0m\u001b[1;33m)\u001b[0m\u001b[1;33m\u001b[0m\u001b[1;33m\u001b[0m\u001b[0m\n\u001b[0m\u001b[0;32m   1275\u001b[0m \u001b[1;33m\u001b[0m\u001b[0m\n\u001b[0;32m   1276\u001b[0m     \u001b[1;32mdef\u001b[0m \u001b[0m_repr_jpeg_\u001b[0m\u001b[1;33m(\u001b[0m\u001b[0mself\u001b[0m\u001b[1;33m)\u001b[0m\u001b[1;33m:\u001b[0m\u001b[1;33m\u001b[0m\u001b[1;33m\u001b[0m\u001b[0m\n",
      "\u001b[1;32m~\\Anaconda3\\lib\\site-packages\\IPython\\core\\display.py\u001b[0m in \u001b[0;36m_data_and_metadata\u001b[1;34m(self, always_both)\u001b[0m\n\u001b[0;32m   1255\u001b[0m         \u001b[1;32mexcept\u001b[0m \u001b[0mTypeError\u001b[0m\u001b[1;33m:\u001b[0m\u001b[1;33m\u001b[0m\u001b[1;33m\u001b[0m\u001b[0m\n\u001b[0;32m   1256\u001b[0m             raise FileNotFoundError(\n\u001b[1;32m-> 1257\u001b[1;33m                 \"No such file or directory: '%s'\" % (self.data))\n\u001b[0m\u001b[0;32m   1258\u001b[0m         \u001b[0mmd\u001b[0m \u001b[1;33m=\u001b[0m \u001b[1;33m{\u001b[0m\u001b[1;33m}\u001b[0m\u001b[1;33m\u001b[0m\u001b[1;33m\u001b[0m\u001b[0m\n\u001b[0;32m   1259\u001b[0m         \u001b[1;32mif\u001b[0m \u001b[0mself\u001b[0m\u001b[1;33m.\u001b[0m\u001b[0mmetadata\u001b[0m\u001b[1;33m:\u001b[0m\u001b[1;33m\u001b[0m\u001b[1;33m\u001b[0m\u001b[0m\n",
      "\u001b[1;31mFileNotFoundError\u001b[0m: No such file or directory: '../input/correlation/Picture1.png'"
     ]
    },
    {
     "data": {
      "text/plain": [
       "<IPython.core.display.Image object>"
      ]
     },
     "execution_count": 58,
     "metadata": {},
     "output_type": "execute_result"
    }
   ],
   "source": [
    "from IPython.display import Image\n",
    "Image(\"../input/correlation/Picture1.png\")"
   ]
  },
  {
   "cell_type": "markdown",
   "metadata": {},
   "source": [
    "### We will be performing Chi-Square Test of Independence for finding the Correlation btw the variables"
   ]
  },
  {
   "cell_type": "markdown",
   "metadata": {},
   "source": [
    "# Chi-Square Test of Independence"
   ]
  },
  {
   "cell_type": "code",
   "execution_count": 59,
   "metadata": {},
   "outputs": [],
   "source": [
    "import pandas as pd\n",
    "import numpy as np\n",
    "import scipy.stats as stats\n",
    "from scipy.stats import chi2_contingency\n",
    "\n",
    "class ChiSquare:\n",
    "    def __init__(self, dataframe):\n",
    "        self.df = dataframe\n",
    "        self.p = None #P-Value\n",
    "        self.chi2 = None #Chi Test Statistic\n",
    "        self.dof = None\n",
    "        \n",
    "        self.dfObserved = None\n",
    "        self.dfExpected = None\n",
    "        \n",
    "    def _print_chisquare_result(self, colX, alpha):\n",
    "        result = \"\"\n",
    "        if self.p<alpha:\n",
    "            result=\"{0} is IMPORTANT for Prediction\".format(colX)\n",
    "        else:\n",
    "            result=\"{0} is NOT an important predictor. (Discard {0} from model)\".format(colX)\n",
    "\n",
    "        print(result)\n",
    "        \n",
    "    def TestIndependence(self,colX,colY, alpha=0.05):\n",
    "        X = self.df[colX].astype(str)\n",
    "        Y = self.df[colY].astype(str)\n",
    "        \n",
    "        self.dfObserved = pd.crosstab(Y,X) \n",
    "        chi2, p, dof, expected = stats.chi2_contingency(self.dfObserved.values)\n",
    "        self.p = p\n",
    "        self.chi2 = chi2\n",
    "        self.dof = dof \n",
    "        \n",
    "        self.dfExpected = pd.DataFrame(expected, columns=self.dfObserved.columns, index = self.dfObserved.index)\n",
    "        \n",
    "        self._print_chisquare_result(colX,alpha)"
   ]
  },
  {
   "cell_type": "code",
   "execution_count": 60,
   "metadata": {},
   "outputs": [
    {
     "data": {
      "text/plain": [
       "0    19725\n",
       "1    19630\n",
       "Name: dummyCat, dtype: int64"
      ]
     },
     "execution_count": 60,
     "metadata": {},
     "output_type": "execute_result"
    }
   ],
   "source": [
    "data['dummyCat'] = np.random.choice([0, 1], size=(len(data),), p=[0.5, 0.5])\n",
    "\n",
    "data.dummyCat.value_counts()"
   ]
  },
  {
   "cell_type": "code",
   "execution_count": 61,
   "metadata": {},
   "outputs": [
    {
     "data": {
      "text/plain": [
       "Index(['encounter_id', 'patient_nbr', 'age', 'admission_type_id',\n",
       "       'discharge_disposition_id', 'admission_source_id', 'time_in_hospital',\n",
       "       'num_lab_procedures', 'num_procedures', 'num_medications',\n",
       "       'number_outpatient', 'number_emergency', 'number_inpatient',\n",
       "       'number_diagnoses', 'treatments', 'race_AfricanAmerican', 'race_Asian',\n",
       "       'race_Caucasian', 'race_Hispanic', 'race_Other', 'gender_Female',\n",
       "       'gender_Male', 'gender_Unknown/Invalid', 'max_glu_serum_>200',\n",
       "       'max_glu_serum_>300', 'max_glu_serum_None', 'max_glu_serum_Norm',\n",
       "       'A1Cresult_>7', 'A1Cresult_>8', 'A1Cresult_None', 'A1Cresult_Norm',\n",
       "       'change_Ch', 'change_No', 'diabetesMed_Yes', 'readmitted_NO',\n",
       "       'level1_diag1', 'level2_diag1', 'level1_diag2', 'level2_diag2',\n",
       "       'level1_diag3', 'level2_diag3', 'dummyCat'],\n",
       "      dtype='object')"
      ]
     },
     "execution_count": 61,
     "metadata": {},
     "output_type": "execute_result"
    }
   ],
   "source": [
    "data.columns"
   ]
  },
  {
   "cell_type": "code",
   "execution_count": 62,
   "metadata": {},
   "outputs": [
    {
     "name": "stdout",
     "output_type": "stream",
     "text": [
      "encounter_id is NOT an important predictor. (Discard encounter_id from model)\n",
      "patient_nbr is NOT an important predictor. (Discard patient_nbr from model)\n",
      "age is IMPORTANT for Prediction\n",
      "admission_type_id is IMPORTANT for Prediction\n",
      "discharge_disposition_id is IMPORTANT for Prediction\n",
      "admission_source_id is IMPORTANT for Prediction\n",
      "time_in_hospital is IMPORTANT for Prediction\n",
      "num_lab_procedures is IMPORTANT for Prediction\n",
      "num_procedures is IMPORTANT for Prediction\n",
      "num_medications is IMPORTANT for Prediction\n",
      "number_outpatient is IMPORTANT for Prediction\n",
      "number_emergency is IMPORTANT for Prediction\n",
      "number_inpatient is IMPORTANT for Prediction\n",
      "number_diagnoses is IMPORTANT for Prediction\n",
      "race_AfricanAmerican is IMPORTANT for Prediction\n",
      "race_Asian is IMPORTANT for Prediction\n",
      "race_Caucasian is IMPORTANT for Prediction\n",
      "race_Hispanic is IMPORTANT for Prediction\n",
      "race_Other is NOT an important predictor. (Discard race_Other from model)\n",
      "gender_Female is IMPORTANT for Prediction\n",
      "gender_Male is IMPORTANT for Prediction\n",
      "max_glu_serum_>200 is IMPORTANT for Prediction\n",
      "max_glu_serum_>300 is IMPORTANT for Prediction\n",
      "max_glu_serum_None is IMPORTANT for Prediction\n",
      "max_glu_serum_Norm is IMPORTANT for Prediction\n",
      "A1Cresult_>7 is IMPORTANT for Prediction\n",
      "A1Cresult_>8 is IMPORTANT for Prediction\n",
      "A1Cresult_None is IMPORTANT for Prediction\n",
      "A1Cresult_Norm is IMPORTANT for Prediction\n",
      "change_Ch is IMPORTANT for Prediction\n",
      "change_No is IMPORTANT for Prediction\n",
      "diabetesMed_Yes is NOT an important predictor. (Discard diabetesMed_Yes from model)\n",
      "readmitted_NO is NOT an important predictor. (Discard readmitted_NO from model)\n",
      "level1_diag1 is IMPORTANT for Prediction\n",
      "level2_diag1 is IMPORTANT for Prediction\n",
      "level1_diag2 is IMPORTANT for Prediction\n",
      "level2_diag2 is IMPORTANT for Prediction\n",
      "level1_diag3 is IMPORTANT for Prediction\n",
      "level2_diag3 is IMPORTANT for Prediction\n",
      "dummyCat is NOT an important predictor. (Discard dummyCat from model)\n"
     ]
    }
   ],
   "source": [
    "#Initialize ChiSquare Class\n",
    "cT = ChiSquare(data)\n",
    "\n",
    "#Feature Selection\n",
    "testColumns = ['encounter_id', 'patient_nbr', 'age', 'admission_type_id',\n",
    "       'discharge_disposition_id', 'admission_source_id', 'time_in_hospital',\n",
    "       'num_lab_procedures', 'num_procedures', 'num_medications',\n",
    "       'number_outpatient', 'number_emergency', 'number_inpatient','number_diagnoses',\n",
    "       'race_AfricanAmerican', 'race_Asian', 'race_Caucasian', 'race_Hispanic',\n",
    "       'race_Other', 'gender_Female', 'gender_Male',\n",
    "       'max_glu_serum_>200', 'max_glu_serum_>300', 'max_glu_serum_None',\n",
    "       'max_glu_serum_Norm', 'A1Cresult_>7', 'A1Cresult_>8', 'A1Cresult_None',\n",
    "       'A1Cresult_Norm', 'change_Ch', 'change_No', 'diabetesMed_Yes',\n",
    "       'readmitted_NO','level1_diag1', 'level2_diag1', 'level1_diag2', 'level2_diag2',\n",
    "       'level1_diag3', 'level2_diag3', 'dummyCat']\n",
    "for var in testColumns:\n",
    "    cT.TestIndependence(colX=var,colY=\"treatments\" ) "
   ]
  },
  {
   "cell_type": "markdown",
   "metadata": {},
   "source": [
    "# Model Building\n",
    "## Train Test Split"
   ]
  },
  {
   "cell_type": "markdown",
   "metadata": {},
   "source": [
    "Since our target variable is Categorical , We would be importing the required Classification model packages"
   ]
  },
  {
   "cell_type": "code",
   "execution_count": 63,
   "metadata": {},
   "outputs": [],
   "source": [
    "from sklearn.model_selection import train_test_split\n",
    "from sklearn.linear_model import LogisticRegression\n",
    "from sklearn.neighbors import KNeighborsClassifier\n",
    "from sklearn.naive_bayes import MultinomialNB,GaussianNB,BernoulliNB\n",
    "from sklearn.tree import DecisionTreeClassifier\n",
    "from sklearn.ensemble import RandomForestClassifier\n",
    "from sklearn.metrics import accuracy_score,confusion_matrix,classification_report"
   ]
  },
  {
   "cell_type": "code",
   "execution_count": null,
   "metadata": {},
   "outputs": [],
   "source": []
  },
  {
   "cell_type": "code",
   "execution_count": 64,
   "metadata": {},
   "outputs": [
    {
     "name": "stdout",
     "output_type": "stream",
     "text": [
      "(39355, 35)\n",
      "(39355,)\n"
     ]
    }
   ],
   "source": [
    "X = data.drop(['encounter_id','patient_nbr','race_Other','diabetesMed_Yes','readmitted_NO','dummyCat','treatments'],axis=1)\n",
    "Y = data['treatments']\n",
    "print(X.shape)\n",
    "print(Y.shape)"
   ]
  },
  {
   "cell_type": "code",
   "execution_count": 65,
   "metadata": {},
   "outputs": [
    {
     "data": {
      "text/plain": [
       "Index(['age', 'admission_type_id', 'discharge_disposition_id',\n",
       "       'admission_source_id', 'time_in_hospital', 'num_lab_procedures',\n",
       "       'num_procedures', 'num_medications', 'number_outpatient',\n",
       "       'number_emergency', 'number_inpatient', 'number_diagnoses',\n",
       "       'race_AfricanAmerican', 'race_Asian', 'race_Caucasian', 'race_Hispanic',\n",
       "       'gender_Female', 'gender_Male', 'gender_Unknown/Invalid',\n",
       "       'max_glu_serum_>200', 'max_glu_serum_>300', 'max_glu_serum_None',\n",
       "       'max_glu_serum_Norm', 'A1Cresult_>7', 'A1Cresult_>8', 'A1Cresult_None',\n",
       "       'A1Cresult_Norm', 'change_Ch', 'change_No', 'level1_diag1',\n",
       "       'level2_diag1', 'level1_diag2', 'level2_diag2', 'level1_diag3',\n",
       "       'level2_diag3'],\n",
       "      dtype='object')"
      ]
     },
     "execution_count": 65,
     "metadata": {},
     "output_type": "execute_result"
    }
   ],
   "source": [
    "X.columns"
   ]
  },
  {
   "cell_type": "code",
   "execution_count": 66,
   "metadata": {},
   "outputs": [
    {
     "data": {
      "text/plain": [
       "((27548, 35), (11807, 35), (27548,), (11807,))"
      ]
     },
     "execution_count": 66,
     "metadata": {},
     "output_type": "execute_result"
    }
   ],
   "source": [
    "from sklearn.model_selection import train_test_split\n",
    "X_train, X_test, y_train, y_test = train_test_split(X, Y, test_size=0.3, random_state=2)\n",
    "X_train.shape,X_test.shape,y_train.shape,y_test.shape"
   ]
  },
  {
   "cell_type": "markdown",
   "metadata": {},
   "source": [
    "# Base Model"
   ]
  },
  {
   "cell_type": "code",
   "execution_count": 67,
   "metadata": {},
   "outputs": [
    {
     "data": {
      "text/plain": [
       "11807"
      ]
     },
     "execution_count": 67,
     "metadata": {},
     "output_type": "execute_result"
    }
   ],
   "source": [
    "y_p=[]\n",
    "for i in range(y_test.shape[0]):\n",
    "    y_p.append(y_test.mode()[0])#Highest class is assigned to a list which is compared with ytest\n",
    "len(y_p) "
   ]
  },
  {
   "cell_type": "code",
   "execution_count": 68,
   "metadata": {},
   "outputs": [],
   "source": [
    "y_pred=pd.Series(y_p)"
   ]
  },
  {
   "cell_type": "code",
   "execution_count": 69,
   "metadata": {},
   "outputs": [
    {
     "name": "stdout",
     "output_type": "stream",
     "text": [
      "Accuracy :  0.37443889218260357\n"
     ]
    }
   ],
   "source": [
    "print(\"Accuracy : \",accuracy_score(y_test,y_pred))"
   ]
  },
  {
   "cell_type": "markdown",
   "metadata": {},
   "source": [
    "## Our Baseline accuracy is 54% \n",
    "#### We can set the accuracy as 54% and the models we build should be giving us accuracies greater than 54%"
   ]
  },
  {
   "cell_type": "markdown",
   "metadata": {},
   "source": [
    "# Predictive Model Development - Iteration 1 "
   ]
  },
  {
   "cell_type": "markdown",
   "metadata": {},
   "source": [
    "## Baseline Models - Logistic Regression "
   ]
  },
  {
   "cell_type": "code",
   "execution_count": 75,
   "metadata": {},
   "outputs": [
    {
     "name": "stderr",
     "output_type": "stream",
     "text": [
      "C:\\Users\\THARMESH.V.R\\Anaconda3\\lib\\site-packages\\sklearn\\linear_model\\logistic.py:432: FutureWarning: Default solver will be changed to 'lbfgs' in 0.22. Specify a solver to silence this warning.\n",
      "  FutureWarning)\n",
      "C:\\Users\\THARMESH.V.R\\Anaconda3\\lib\\site-packages\\sklearn\\linear_model\\logistic.py:469: FutureWarning: Default multi_class will be changed to 'auto' in 0.22. Specify the multi_class option to silence this warning.\n",
      "  \"this warning.\", FutureWarning)\n"
     ]
    },
    {
     "name": "stdout",
     "output_type": "stream",
     "text": [
      "Training Accuracy is: 0.564904893277189\n",
      "Testing Accuracy is: 0.5645803337003472\n",
      "[[1861 1638  922]\n",
      " [ 144 3440   59]\n",
      " [1067 1311 1365]]\n",
      "              precision    recall  f1-score   support\n",
      "\n",
      "     insulin       0.61      0.42      0.50      4421\n",
      "          io       0.54      0.94      0.69      3643\n",
      "       other       0.58      0.36      0.45      3743\n",
      "\n",
      "    accuracy                           0.56     11807\n",
      "   macro avg       0.58      0.58      0.54     11807\n",
      "weighted avg       0.58      0.56      0.54     11807\n",
      "\n"
     ]
    }
   ],
   "source": [
    "#Logistic Regression\n",
    "m1=LogisticRegression()\n",
    "m1.fit(X_train,y_train)\n",
    "y_pred_lr=m1.predict(X_test)\n",
    "Train_Score_lr = m1.score(X_train,y_train)\n",
    "Test_Score_lr = accuracy_score(y_test,y_pred_lr)\n",
    "\n",
    "\n",
    "print('Training Accuracy is:',Train_Score_lr)\n",
    "print('Testing Accuracy is:',Test_Score_lr)\n",
    "print(confusion_matrix(y_test,y_pred_lr))\n",
    "print(classification_report(y_test,y_pred_lr))"
   ]
  },
  {
   "cell_type": "markdown",
   "metadata": {},
   "source": [
    "## KNN"
   ]
  },
  {
   "cell_type": "code",
   "execution_count": 71,
   "metadata": {},
   "outputs": [
    {
     "name": "stdout",
     "output_type": "stream",
     "text": [
      "Training Accuracy is : 0.6208073181356178\n",
      "Testing Accuracy is: 0.42838993817227067\n",
      "              precision    recall  f1-score   support\n",
      "\n",
      "     insulin       0.43      0.53      0.48      4421\n",
      "          io       0.39      0.38      0.38      3643\n",
      "       other       0.48      0.35      0.40      3743\n",
      "\n",
      "    accuracy                           0.43     11807\n",
      "   macro avg       0.43      0.42      0.42     11807\n",
      "weighted avg       0.43      0.43      0.43     11807\n",
      "\n"
     ]
    }
   ],
   "source": [
    "m2 = KNeighborsClassifier()\n",
    "m2.fit(X_train,y_train)\n",
    "y_pred_knn = m2.predict(X_test)\n",
    "Train_Score_knn = m2.score(X_train,y_train)\n",
    "Test_Score_knn = accuracy_score(y_test,y_pred_knn)\n",
    "\n",
    "print('Training Accuracy is :',Train_Score_knn)\n",
    "print('Testing Accuracy is:',Test_Score_knn)\n",
    "print(classification_report(y_test,y_pred_knn))\n"
   ]
  },
  {
   "cell_type": "markdown",
   "metadata": {},
   "source": [
    "## Bernoulli Naives Bayes"
   ]
  },
  {
   "cell_type": "code",
   "execution_count": 72,
   "metadata": {},
   "outputs": [
    {
     "name": "stdout",
     "output_type": "stream",
     "text": [
      "Training Accuracy : 0.5372803833309133\n",
      "Testing Accuracy  : 0.5303633437791141\n",
      "[[1063 1952 1406]\n",
      " [   1 3642    0]\n",
      " [ 757 1429 1557]]\n",
      "              precision    recall  f1-score   support\n",
      "\n",
      "     insulin       0.58      0.24      0.34      4421\n",
      "          io       0.52      1.00      0.68      3643\n",
      "       other       0.53      0.42      0.46      3743\n",
      "\n",
      "    accuracy                           0.53     11807\n",
      "   macro avg       0.54      0.55      0.50     11807\n",
      "weighted avg       0.55      0.53      0.49     11807\n",
      "\n"
     ]
    }
   ],
   "source": [
    "m3=BernoulliNB()\n",
    "m3.fit(X_train,y_train)\n",
    "y_pred_bnb=m3.predict(X_test)\n",
    "Train_Score_bnb = m3.score(X_train,y_train)\n",
    "Test_Score_bnb = accuracy_score(y_test,y_pred_bnb)\n",
    "\n",
    "print('Training Accuracy :',Train_Score_bnb)\n",
    "print('Testing Accuracy  :',Test_Score_bnb)\n",
    "print(confusion_matrix(y_test,y_pred_bnb))\n",
    "print(classification_report(y_test,y_pred_bnb))"
   ]
  },
  {
   "cell_type": "markdown",
   "metadata": {},
   "source": [
    "## Decision Trees"
   ]
  },
  {
   "cell_type": "code",
   "execution_count": 76,
   "metadata": {},
   "outputs": [
    {
     "name": "stdout",
     "output_type": "stream",
     "text": [
      "Training Accuracy : 1.0\n",
      "Testing Accuracy : 0.49292792411281444\n",
      "              precision    recall  f1-score   support\n",
      "\n",
      "     insulin       0.48      0.48      0.48      4421\n",
      "          io       0.55      0.54      0.54      3643\n",
      "       other       0.45      0.46      0.46      3743\n",
      "\n",
      "    accuracy                           0.49     11807\n",
      "   macro avg       0.49      0.49      0.49     11807\n",
      "weighted avg       0.49      0.49      0.49     11807\n",
      "\n"
     ]
    }
   ],
   "source": [
    "m4 = DecisionTreeClassifier()\n",
    "m4.fit(X_train,y_train)\n",
    "y_pred_dt=m4.predict(X_test)\n",
    "Train_Score_dt = m4.score(X_train,y_train)\n",
    "Test_Score_dt = accuracy_score(y_test,y_pred_dt)\n",
    "\n",
    "print('Training Accuracy :',Train_Score_dt)\n",
    "print('Testing Accuracy :',Test_Score_dt)\n",
    "print(classification_report(y_test,y_pred_dt))"
   ]
  },
  {
   "cell_type": "markdown",
   "metadata": {},
   "source": [
    "## Random Forest"
   ]
  },
  {
   "cell_type": "code",
   "execution_count": 77,
   "metadata": {},
   "outputs": [
    {
     "name": "stderr",
     "output_type": "stream",
     "text": [
      "C:\\Users\\THARMESH.V.R\\Anaconda3\\lib\\site-packages\\sklearn\\ensemble\\forest.py:245: FutureWarning: The default value of n_estimators will change from 10 in version 0.20 to 100 in 0.22.\n",
      "  \"10 in version 0.20 to 100 in 0.22.\", FutureWarning)\n"
     ]
    },
    {
     "name": "stdout",
     "output_type": "stream",
     "text": [
      "Training Accuracy : 0.9854435893712792\n",
      "Testing Accuracy : 0.5455238417887693\n",
      "              precision    recall  f1-score   support\n",
      "\n",
      "     insulin       0.53      0.53      0.53      4421\n",
      "          io       0.55      0.71      0.62      3643\n",
      "       other       0.56      0.40      0.47      3743\n",
      "\n",
      "    accuracy                           0.55     11807\n",
      "   macro avg       0.55      0.55      0.54     11807\n",
      "weighted avg       0.55      0.55      0.54     11807\n",
      "\n"
     ]
    }
   ],
   "source": [
    "m5 = RandomForestClassifier()\n",
    "m5.fit(X_train,y_train)\n",
    "y_pred_rf=m5.predict(X_test)\n",
    "Train_Score_rf = m5.score(X_train,y_train)\n",
    "Test_Score_rf = accuracy_score(y_test,y_pred_rf)\n",
    "\n",
    "print('Training Accuracy :',Train_Score_rf)\n",
    "print('Testing Accuracy :',Test_Score_rf)\n",
    "print(classification_report(y_test,y_pred_rf))"
   ]
  },
  {
   "cell_type": "markdown",
   "metadata": {},
   "source": [
    "# Predictive Model Development - Iteration 2"
   ]
  },
  {
   "cell_type": "markdown",
   "metadata": {},
   "source": [
    "## Hyperparameter Tuning"
   ]
  },
  {
   "cell_type": "markdown",
   "metadata": {},
   "source": [
    "### For Decision Tree"
   ]
  },
  {
   "cell_type": "code",
   "execution_count": 78,
   "metadata": {},
   "outputs": [
    {
     "data": {
      "text/plain": [
       "GridSearchCV(cv=3, error_score='raise-deprecating',\n",
       "             estimator=DecisionTreeClassifier(class_weight=None,\n",
       "                                              criterion='gini', max_depth=None,\n",
       "                                              max_features=None,\n",
       "                                              max_leaf_nodes=None,\n",
       "                                              min_impurity_decrease=0.0,\n",
       "                                              min_impurity_split=None,\n",
       "                                              min_samples_leaf=1,\n",
       "                                              min_samples_split=2,\n",
       "                                              min_weight_fraction_leaf=0.0,\n",
       "                                              presort=False, random_state=100,\n",
       "                                              splitter='best'),\n",
       "             iid='warn', n_jobs=None,\n",
       "             param_grid={'criterion': ['entropy', 'gini'],\n",
       "                         'max_depth': range(5, 15, 5),\n",
       "                         'min_samples_leaf': range(50, 150, 50),\n",
       "                         'min_samples_split': range(50, 150, 50)},\n",
       "             pre_dispatch='2*n_jobs', refit=True, return_train_score=False,\n",
       "             scoring='accuracy', verbose=0)"
      ]
     },
     "execution_count": 78,
     "metadata": {},
     "output_type": "execute_result"
    }
   ],
   "source": [
    "# GridSearchCV to find optimal max_depth\n",
    "from sklearn.model_selection import KFold\n",
    "from sklearn.model_selection import GridSearchCV\n",
    "\n",
    "\n",
    "# specify number of folds for k-fold CV\n",
    "n_folds = 3\n",
    "\n",
    "# parameters to build the model on\n",
    "parameters = {'max_depth': range(5, 15, 5),\n",
    "    'min_samples_leaf': range(50, 150, 50),\n",
    "    'min_samples_split': range(50, 150, 50),\n",
    "    'criterion': [\"entropy\", \"gini\"]}\n",
    "\n",
    "# instantiate the model\n",
    "dtree = DecisionTreeClassifier(random_state = 100)\n",
    "\n",
    "# fit tree on training data\n",
    "tree = GridSearchCV(dtree, parameters, \n",
    "                    cv=n_folds, \n",
    "                   scoring=\"accuracy\")\n",
    "tree.fit(X_train, y_train)"
   ]
  },
  {
   "cell_type": "code",
   "execution_count": 79,
   "metadata": {},
   "outputs": [
    {
     "data": {
      "text/plain": [
       "{'criterion': 'entropy',\n",
       " 'max_depth': 10,\n",
       " 'min_samples_leaf': 100,\n",
       " 'min_samples_split': 50}"
      ]
     },
     "execution_count": 79,
     "metadata": {},
     "output_type": "execute_result"
    }
   ],
   "source": [
    "tree.best_params_"
   ]
  },
  {
   "cell_type": "code",
   "execution_count": 80,
   "metadata": {},
   "outputs": [
    {
     "name": "stdout",
     "output_type": "stream",
     "text": [
      "Training Accuracy : 0.5909684913605343\n",
      "Testing Accuracy  : 0.5668671127297366\n",
      "              precision    recall  f1-score   support\n",
      "\n",
      "     insulin       0.59      0.42      0.49      4421\n",
      "          io       0.54      0.90      0.68      3643\n",
      "       other       0.59      0.41      0.49      3743\n",
      "\n",
      "    accuracy                           0.57     11807\n",
      "   macro avg       0.58      0.58      0.55     11807\n",
      "weighted avg       0.58      0.57      0.55     11807\n",
      "\n"
     ]
    }
   ],
   "source": [
    "m6 = DecisionTreeClassifier(criterion='entropy',max_depth=10,min_samples_leaf=100,min_samples_split=50)\n",
    "m6.fit(X_train,y_train)\n",
    "y_pred_tdt=m6.predict(X_test)\n",
    "Train_Score_tdt = m6.score(X_train,y_train)\n",
    "Test_Score_tdt = accuracy_score(y_test,y_pred_tdt)\n",
    "\n",
    "print('Training Accuracy :',Train_Score_tdt)\n",
    "print('Testing Accuracy  :',Test_Score_tdt)\n",
    "print(classification_report(y_test,y_pred_tdt))\n"
   ]
  },
  {
   "cell_type": "markdown",
   "metadata": {},
   "source": [
    "### For KNN"
   ]
  },
  {
   "cell_type": "code",
   "execution_count": 77,
   "metadata": {},
   "outputs": [
    {
     "name": "stdout",
     "output_type": "stream",
     "text": [
      "Tuned Hyperparameter k: {'n_neighbors': 39}\n"
     ]
    }
   ],
   "source": [
    "#Gridsearch CV to find Optimal K value for KNN model\n",
    "grid = {'n_neighbors':np.arange(1,50)}\n",
    "knn=KNeighborsClassifier()\n",
    "knn_cv=GridSearchCV(knn,grid,cv=3)\n",
    "knn_cv.fit(X_train,y_train)\n",
    "\n",
    "\n",
    "print(\"Tuned Hyperparameter k: {}\".format(knn_cv.best_params_))"
   ]
  },
  {
   "cell_type": "code",
   "execution_count": 81,
   "metadata": {},
   "outputs": [
    {
     "name": "stdout",
     "output_type": "stream",
     "text": [
      "Training Accuracy : 0.5035211267605634\n",
      "Testing Accuracy  : 0.45117303294655714\n",
      "              precision    recall  f1-score   support\n",
      "\n",
      "     insulin       0.45      0.52      0.48      4421\n",
      "          io       0.43      0.34      0.38      3643\n",
      "       other       0.47      0.48      0.48      3743\n",
      "\n",
      "    accuracy                           0.45     11807\n",
      "   macro avg       0.45      0.45      0.45     11807\n",
      "weighted avg       0.45      0.45      0.45     11807\n",
      "\n"
     ]
    }
   ],
   "source": [
    "m7 = KNeighborsClassifier(n_neighbors=39)\n",
    "m7.fit(X_train,y_train)\n",
    "y_pred_tknn=m7.predict(X_test)\n",
    "Train_Score_tknn = m7.score(X_train,y_train)\n",
    "Test_Score_tknn = accuracy_score(y_test,y_pred_tknn)\n",
    "\n",
    "\n",
    "print('Training Accuracy :',Train_Score_tknn)\n",
    "print('Testing Accuracy  :',Test_Score_tknn)\n",
    "print(classification_report(y_test,y_pred_tknn))"
   ]
  },
  {
   "cell_type": "markdown",
   "metadata": {},
   "source": [
    "### For Random Forest "
   ]
  },
  {
   "cell_type": "code",
   "execution_count": 79,
   "metadata": {},
   "outputs": [
    {
     "data": {
      "text/plain": [
       "{'n_estimators': 100}"
      ]
     },
     "execution_count": 79,
     "metadata": {},
     "output_type": "execute_result"
    }
   ],
   "source": [
    "parameter={'n_estimators':np.arange(1,101)}\n",
    "gs = GridSearchCV(m5,parameter,cv=3)\n",
    "gs.fit(X_train,y_train)\n",
    "gs.best_params_\n",
    "\n"
   ]
  },
  {
   "cell_type": "code",
   "execution_count": 82,
   "metadata": {},
   "outputs": [
    {
     "name": "stdout",
     "output_type": "stream",
     "text": [
      "Training Accuracy : 1.0\n",
      "Testing Accuracy  : 0.5898195985432371\n",
      "              precision    recall  f1-score   support\n",
      "\n",
      "     insulin       0.62      0.48      0.54      4421\n",
      "          io       0.56      0.87      0.68      3643\n",
      "       other       0.62      0.44      0.52      3743\n",
      "\n",
      "    accuracy                           0.59     11807\n",
      "   macro avg       0.60      0.60      0.58     11807\n",
      "weighted avg       0.60      0.59      0.58     11807\n",
      "\n"
     ]
    }
   ],
   "source": [
    "m8 = RandomForestClassifier(n_estimators=96)\n",
    "m8.fit(X_train,y_train) \n",
    "y_pred_trf=m8.predict(X_test)\n",
    "Train_Score_trf = m8.score(X_train,y_train)\n",
    "Test_Score_trf = accuracy_score(y_test,y_pred_trf)\n",
    "\n",
    "\n",
    "print('Training Accuracy :',Train_Score_trf)\n",
    "print('Testing Accuracy  :',Test_Score_trf)\n",
    "print(classification_report(y_test,y_pred_trf))"
   ]
  },
  {
   "cell_type": "code",
   "execution_count": 83,
   "metadata": {},
   "outputs": [
    {
     "ename": "NameError",
     "evalue": "name 'dt_adb' is not defined",
     "output_type": "error",
     "traceback": [
      "\u001b[1;31m---------------------------------------------------------------------------\u001b[0m",
      "\u001b[1;31mNameError\u001b[0m                                 Traceback (most recent call last)",
      "\u001b[1;32m<ipython-input-83-3b5c1d50e91f>\u001b[0m in \u001b[0;36m<module>\u001b[1;34m\u001b[0m\n\u001b[0;32m      1\u001b[0m \u001b[0mparameter\u001b[0m\u001b[1;33m=\u001b[0m\u001b[1;33m{\u001b[0m\u001b[1;34m'n_estimators'\u001b[0m\u001b[1;33m:\u001b[0m\u001b[0mnp\u001b[0m\u001b[1;33m.\u001b[0m\u001b[0marange\u001b[0m\u001b[1;33m(\u001b[0m\u001b[1;36m1\u001b[0m\u001b[1;33m,\u001b[0m\u001b[1;36m101\u001b[0m\u001b[1;33m)\u001b[0m\u001b[1;33m}\u001b[0m\u001b[1;33m\u001b[0m\u001b[1;33m\u001b[0m\u001b[0m\n\u001b[1;32m----> 2\u001b[1;33m \u001b[0mgsdt\u001b[0m \u001b[1;33m=\u001b[0m \u001b[0mGridSearchCV\u001b[0m\u001b[1;33m(\u001b[0m\u001b[0mdt_adb\u001b[0m\u001b[1;33m,\u001b[0m\u001b[0mparameter\u001b[0m\u001b[1;33m,\u001b[0m\u001b[0mcv\u001b[0m\u001b[1;33m=\u001b[0m\u001b[1;36m3\u001b[0m\u001b[1;33m)\u001b[0m\u001b[1;33m\u001b[0m\u001b[1;33m\u001b[0m\u001b[0m\n\u001b[0m\u001b[0;32m      3\u001b[0m \u001b[0mgsdt\u001b[0m\u001b[1;33m.\u001b[0m\u001b[0mfit\u001b[0m\u001b[1;33m(\u001b[0m\u001b[0mX_train\u001b[0m\u001b[1;33m,\u001b[0m\u001b[0my_train\u001b[0m\u001b[1;33m)\u001b[0m\u001b[1;33m\u001b[0m\u001b[1;33m\u001b[0m\u001b[0m\n\u001b[0;32m      4\u001b[0m \u001b[0mgsdt\u001b[0m\u001b[1;33m.\u001b[0m\u001b[0mbest_params_\u001b[0m\u001b[1;33m\u001b[0m\u001b[1;33m\u001b[0m\u001b[0m\n",
      "\u001b[1;31mNameError\u001b[0m: name 'dt_adb' is not defined"
     ]
    }
   ],
   "source": [
    "parameter={'n_estimators':np.arange(1,101)}\n",
    "gsdt = GridSearchCV(dt_adb,parameter,cv=3)\n",
    "gsdt.fit(X_train,y_train)\n",
    "gsdt.best_params_"
   ]
  },
  {
   "cell_type": "code",
   "execution_count": null,
   "metadata": {},
   "outputs": [],
   "source": [
    "for i in [10,43,51]:\n",
    "    print('n =',i)\n",
    "    r=[]\n",
    "    for j in [0,1,2]:\n",
    "        xtrain,xtest,ytrain,ytest=train_test_split(X,Y,test_size=0.3,random_state=j)\n",
    "        rf=RandomForestClassifier(n_estimators=i,criterion='entropy',random_state=0 )\n",
    "        rf.fit(xtrain,ytrain)\n",
    "        ypred_rf=rf.predict(xtest)\n",
    "        cm_rf=metrics.confusion_matrix(ytest,ypred_rf)\n",
    "        print(metrics.recall_score(ytest,ypred_rf)*100)\n",
    "        r.append(metrics.recall_score(ytest,ypred_rf)*100)\n",
    "    print('mean =',np.mean(r),'var =',np.var(r,ddof=1))\n",
    "    print()"
   ]
  },
  {
   "cell_type": "code",
   "execution_count": 81,
   "metadata": {},
   "outputs": [],
   "source": [
    "from sklearn.ensemble import BaggingClassifier\n",
    "from sklearn.ensemble import AdaBoostClassifier\n",
    "dt_bag=BaggingClassifier(n_estimators=6,random_state=0)\n",
    "dt_adb=AdaBoostClassifier(n_estimators=50,random_state=0)\n",
    "rf_adb=AdaBoostClassifier(base_estimator=m8,n_estimators=400,random_state=0)"
   ]
  },
  {
   "cell_type": "code",
   "execution_count": 82,
   "metadata": {},
   "outputs": [],
   "source": [
    "from sklearn import model_selection"
   ]
  },
  {
   "cell_type": "code",
   "execution_count": 83,
   "metadata": {},
   "outputs": [],
   "source": [
    "models = []\n",
    "models.append(('DecisionTree', m6))\n",
    "models.append(('RandomForest', m8))\n",
    "models.append(('bagged DecisionTree', dt_bag))\n",
    "models.append(('Boosted DecisionTree', dt_adb))\n",
    "models.append(('Boosted RandomForest', rf_adb))"
   ]
  },
  {
   "cell_type": "code",
   "execution_count": 84,
   "metadata": {
    "scrolled": false
   },
   "outputs": [
    {
     "name": "stdout",
     "output_type": "stream",
     "text": [
      "DecisionTree: 0.552662 (0.000071)\n",
      "RandomForest: 0.568975 (0.000063)\n",
      "bagged DecisionTree: 0.506797 (0.000053)\n",
      "Boosted DecisionTree: 0.571414 (0.000045)\n",
      "Boosted RandomForest: 0.570017 (0.000042)\n"
     ]
    },
    {
     "data": {
      "image/png": "[encoded data removed]",
      "text/plain": [
       "<Figure size 432x288 with 1 Axes>"
      ]
     },
     "metadata": {},
     "output_type": "display_data"
    }
   ],
   "source": [
    "results = []\n",
    "names = []\n",
    "scoring = 'accuracy'\n",
    "for name, model in models:\n",
    "\tkfold = model_selection.KFold(n_splits=5,random_state=2)\n",
    "\tcv_results = model_selection.cross_val_score(model, X, Y, cv=kfold, scoring=scoring)\n",
    "\tresults.append(cv_results)\n",
    "\tnames.append(name)\n",
    "\tmsg = \"%s: %f (%f)\" % (name, np.mean(cv_results), cv_results.var())\n",
    "\tprint(msg)\n",
    "# boxplot algorithm comparison\n",
    "fig = plt.figure(figsize=(15,10))\n",
    "fig.suptitle('Algorithm Comparison')\n",
    "ax = fig.add_subplot(111)\n",
    "plt.boxplot(results)\n",
    "ax.set_xticklabels(names)\n",
    "plt.show()"
   ]
  },
  {
   "cell_type": "markdown",
   "metadata": {},
   "source": [
    "# Predictive Model Development - Iteration 3 "
   ]
  },
  {
   "cell_type": "markdown",
   "metadata": {},
   "source": [
    "## CatBoostClassifier"
   ]
  },
  {
   "cell_type": "code",
   "execution_count": 84,
   "metadata": {},
   "outputs": [],
   "source": [
    "data.treatments.replace(['insulin','io','other'],[0,1,2],inplace = True)"
   ]
  },
  {
   "cell_type": "code",
   "execution_count": 85,
   "metadata": {},
   "outputs": [],
   "source": [
    "a = data.drop(['age','treatments'],axis=1)\n",
    "b = data.treatments"
   ]
  },
  {
   "cell_type": "code",
   "execution_count": 86,
   "metadata": {},
   "outputs": [],
   "source": [
    "cate_features_index = np.where(a.dtypes != int)[0]\n"
   ]
  },
  {
   "cell_type": "code",
   "execution_count": 87,
   "metadata": {},
   "outputs": [],
   "source": [
    "xtrain,xtest,ytrain,ytest = train_test_split(a,b,train_size=.70,random_state=2)\n"
   ]
  },
  {
   "cell_type": "code",
   "execution_count": 88,
   "metadata": {
    "scrolled": true
   },
   "outputs": [],
   "source": [
    "from catboost import CatBoostClassifier"
   ]
  },
  {
   "cell_type": "code",
   "execution_count": 89,
   "metadata": {
    "scrolled": true
   },
   "outputs": [],
   "source": [
    "#from sklearn.ensemble import CatBoostClassifier"
   ]
  },
  {
   "cell_type": "code",
   "execution_count": 90,
   "metadata": {},
   "outputs": [],
   "source": [
    "#from sklearn.ensemble import CatBoostClassifier\n",
    "from catboost import CatBoostClassifier, Pool,cv\n",
    "#let us make the catboost model, use_best_model params will make the model prevent overfitting\n",
    "model = CatBoostClassifier(eval_metric='Accuracy',use_best_model=True,random_seed=42)"
   ]
  },
  {
   "cell_type": "code",
   "execution_count": 91,
   "metadata": {
    "_kg_hide-output": true
   },
   "outputs": [
    {
     "name": "stdout",
     "output_type": "stream",
     "text": [
      "0:\tlearn: 0.5469000\ttest: 0.5444228\tbest: 0.5444228 (0)\ttotal: 529ms\tremaining: 8m 48s\n",
      "1:\tlearn: 0.5607304\ttest: 0.5589057\tbest: 0.5589057 (1)\ttotal: 842ms\tremaining: 7m\n",
      "2:\tlearn: 0.5673007\ttest: 0.5644109\tbest: 0.5644109 (2)\ttotal: 1.22s\tremaining: 6m 46s\n",
      "3:\tlearn: 0.5681719\ttest: 0.5643262\tbest: 0.5644109 (2)\ttotal: 1.39s\tremaining: 5m 45s\n",
      "4:\tlearn: 0.5682445\ttest: 0.5645803\tbest: 0.5645803 (4)\ttotal: 1.74s\tremaining: 5m 46s\n",
      "5:\tlearn: 0.5680267\ttest: 0.5676294\tbest: 0.5676294 (5)\ttotal: 2.11s\tremaining: 5m 48s\n",
      "6:\tlearn: 0.5708944\ttest: 0.5685610\tbest: 0.5685610 (6)\ttotal: 2.47s\tremaining: 5m 50s\n",
      "7:\tlearn: 0.5696602\ttest: 0.5672059\tbest: 0.5685610 (6)\ttotal: 2.83s\tremaining: 5m 50s\n",
      "8:\tlearn: 0.5698417\ttest: 0.5668671\tbest: 0.5685610 (6)\ttotal: 3.15s\tremaining: 5m 46s\n",
      "9:\tlearn: 0.5699143\ttest: 0.5672906\tbest: 0.5685610 (6)\ttotal: 3.5s\tremaining: 5m 46s\n",
      "10:\tlearn: 0.5709307\ttest: 0.5687304\tbest: 0.5687304 (10)\ttotal: 3.86s\tremaining: 5m 47s\n",
      "11:\tlearn: 0.5706403\ttest: 0.5677988\tbest: 0.5687304 (10)\ttotal: 4.21s\tremaining: 5m 46s\n",
      "12:\tlearn: 0.5704225\ttest: 0.5675447\tbest: 0.5687304 (10)\ttotal: 4.59s\tremaining: 5m 48s\n",
      "13:\tlearn: 0.5705677\ttest: 0.5683916\tbest: 0.5687304 (10)\ttotal: 5.03s\tremaining: 5m 54s\n",
      "14:\tlearn: 0.5691520\ttest: 0.5688998\tbest: 0.5688998 (14)\ttotal: 5.3s\tremaining: 5m 48s\n",
      "15:\tlearn: 0.5711848\ttest: 0.5704243\tbest: 0.5704243 (15)\ttotal: 5.7s\tremaining: 5m 50s\n",
      "16:\tlearn: 0.5721649\ttest: 0.5714407\tbest: 0.5714407 (16)\ttotal: 5.95s\tremaining: 5m 44s\n",
      "17:\tlearn: 0.5724917\ttest: 0.5723723\tbest: 0.5723723 (17)\ttotal: 6.31s\tremaining: 5m 44s\n",
      "18:\tlearn: 0.5720560\ttest: 0.5716948\tbest: 0.5723723 (17)\ttotal: 6.67s\tremaining: 5m 44s\n",
      "19:\tlearn: 0.5723101\ttest: 0.5715254\tbest: 0.5723723 (17)\ttotal: 7.04s\tremaining: 5m 45s\n",
      "20:\tlearn: 0.5718019\ttest: 0.5718641\tbest: 0.5723723 (17)\ttotal: 7.4s\tremaining: 5m 44s\n",
      "21:\tlearn: 0.5715115\ttest: 0.5708478\tbest: 0.5723723 (17)\ttotal: 7.89s\tremaining: 5m 50s\n",
      "22:\tlearn: 0.5717656\ttest: 0.5723723\tbest: 0.5723723 (17)\ttotal: 8.33s\tremaining: 5m 53s\n",
      "23:\tlearn: 0.5727458\ttest: 0.5733887\tbest: 0.5733887 (23)\ttotal: 8.63s\tremaining: 5m 51s\n",
      "24:\tlearn: 0.5726732\ttest: 0.5735581\tbest: 0.5735581 (24)\ttotal: 8.94s\tremaining: 5m 48s\n",
      "25:\tlearn: 0.5726369\ttest: 0.5731346\tbest: 0.5735581 (24)\ttotal: 9.29s\tremaining: 5m 48s\n",
      "26:\tlearn: 0.5736896\ttest: 0.5740662\tbest: 0.5740662 (26)\ttotal: 9.67s\tremaining: 5m 48s\n",
      "27:\tlearn: 0.5736170\ttest: 0.5746591\tbest: 0.5746591 (27)\ttotal: 10s\tremaining: 5m 48s\n",
      "28:\tlearn: 0.5742341\ttest: 0.5746591\tbest: 0.5746591 (27)\ttotal: 10.4s\tremaining: 5m 48s\n",
      "29:\tlearn: 0.5753957\ttest: 0.5759295\tbest: 0.5759295 (29)\ttotal: 10.8s\tremaining: 5m 47s\n",
      "30:\tlearn: 0.5755772\ttest: 0.5764377\tbest: 0.5764377 (30)\ttotal: 11.1s\tremaining: 5m 46s\n",
      "31:\tlearn: 0.5757224\ttest: 0.5769459\tbest: 0.5769459 (31)\ttotal: 11.5s\tremaining: 5m 46s\n",
      "32:\tlearn: 0.5756498\ttest: 0.5777928\tbest: 0.5777928 (32)\ttotal: 11.8s\tremaining: 5m 46s\n",
      "33:\tlearn: 0.5759039\ttest: 0.5782163\tbest: 0.5782163 (33)\ttotal: 12.2s\tremaining: 5m 46s\n",
      "34:\tlearn: 0.5759039\ttest: 0.5783010\tbest: 0.5783010 (34)\ttotal: 12.6s\tremaining: 5m 47s\n",
      "35:\tlearn: 0.5758313\ttest: 0.5783010\tbest: 0.5783010 (34)\ttotal: 13s\tremaining: 5m 48s\n",
      "36:\tlearn: 0.5764121\ttest: 0.5776234\tbest: 0.5783010 (34)\ttotal: 13.3s\tremaining: 5m 47s\n",
      "37:\tlearn: 0.5775374\ttest: 0.5769459\tbest: 0.5783010 (34)\ttotal: 16.1s\tremaining: 6m 48s\n",
      "38:\tlearn: 0.5776463\ttest: 0.5772000\tbest: 0.5783010 (34)\ttotal: 18.9s\tremaining: 7m 44s\n",
      "39:\tlearn: 0.5776463\ttest: 0.5760989\tbest: 0.5783010 (34)\ttotal: 20.6s\tremaining: 8m 13s\n",
      "40:\tlearn: 0.5776100\ttest: 0.5774541\tbest: 0.5783010 (34)\ttotal: 20.9s\tremaining: 8m 9s\n",
      "41:\tlearn: 0.5777915\ttest: 0.5776234\tbest: 0.5783010 (34)\ttotal: 21.3s\tremaining: 8m 6s\n",
      "42:\tlearn: 0.5779004\ttest: 0.5761836\tbest: 0.5783010 (34)\ttotal: 21.7s\tremaining: 8m 3s\n",
      "43:\tlearn: 0.5782997\ttest: 0.5766071\tbest: 0.5783010 (34)\ttotal: 22.1s\tremaining: 7m 59s\n",
      "44:\tlearn: 0.5781545\ttest: 0.5769459\tbest: 0.5783010 (34)\ttotal: 22.2s\tremaining: 7m 51s\n",
      "45:\tlearn: 0.5780456\ttest: 0.5766071\tbest: 0.5783010 (34)\ttotal: 22.6s\tremaining: 7m 48s\n",
      "46:\tlearn: 0.5780093\ttest: 0.5774541\tbest: 0.5783010 (34)\ttotal: 22.9s\tremaining: 7m 44s\n",
      "47:\tlearn: 0.5778278\ttest: 0.5772000\tbest: 0.5783010 (34)\ttotal: 23.3s\tremaining: 7m 41s\n",
      "48:\tlearn: 0.5782634\ttest: 0.5773694\tbest: 0.5783010 (34)\ttotal: 23.6s\tremaining: 7m 38s\n",
      "49:\tlearn: 0.5787353\ttest: 0.5766918\tbest: 0.5783010 (34)\ttotal: 23.9s\tremaining: 7m 34s\n",
      "50:\tlearn: 0.5790983\ttest: 0.5776234\tbest: 0.5783010 (34)\ttotal: 24.2s\tremaining: 7m 30s\n",
      "51:\tlearn: 0.5789168\ttest: 0.5771153\tbest: 0.5783010 (34)\ttotal: 26.7s\tremaining: 8m 6s\n",
      "52:\tlearn: 0.5794976\ttest: 0.5772000\tbest: 0.5783010 (34)\ttotal: 29.4s\tremaining: 8m 44s\n",
      "53:\tlearn: 0.5794250\ttest: 0.5773694\tbest: 0.5783010 (34)\ttotal: 31.4s\tremaining: 9m 10s\n",
      "54:\tlearn: 0.5792072\ttest: 0.5776234\tbest: 0.5783010 (34)\ttotal: 31.7s\tremaining: 9m 5s\n",
      "55:\tlearn: 0.5798606\ttest: 0.5783010\tbest: 0.5783010 (34)\ttotal: 32.1s\tremaining: 9m\n",
      "56:\tlearn: 0.5805140\ttest: 0.5783010\tbest: 0.5783010 (34)\ttotal: 32.4s\tremaining: 8m 56s\n",
      "57:\tlearn: 0.5810948\ttest: 0.5792327\tbest: 0.5792327 (57)\ttotal: 32.7s\tremaining: 8m 51s\n",
      "58:\tlearn: 0.5810222\ttest: 0.5788939\tbest: 0.5792327 (57)\ttotal: 33.1s\tremaining: 8m 47s\n",
      "59:\tlearn: 0.5809133\ttest: 0.5788939\tbest: 0.5792327 (57)\ttotal: 33.4s\tremaining: 8m 43s\n",
      "60:\tlearn: 0.5811674\ttest: 0.5788939\tbest: 0.5792327 (57)\ttotal: 33.8s\tremaining: 8m 40s\n",
      "61:\tlearn: 0.5814578\ttest: 0.5783857\tbest: 0.5792327 (57)\ttotal: 34.2s\tremaining: 8m 36s\n",
      "62:\tlearn: 0.5816030\ttest: 0.5791480\tbest: 0.5792327 (57)\ttotal: 34.5s\tremaining: 8m 33s\n",
      "63:\tlearn: 0.5812400\ttest: 0.5792327\tbest: 0.5792327 (57)\ttotal: 34.9s\tremaining: 8m 30s\n",
      "64:\tlearn: 0.5813852\ttest: 0.5793174\tbest: 0.5793174 (64)\ttotal: 35.2s\tremaining: 8m 26s\n",
      "65:\tlearn: 0.5811311\ttest: 0.5798255\tbest: 0.5798255 (65)\ttotal: 38.1s\tremaining: 8m 58s\n",
      "66:\tlearn: 0.5812400\ttest: 0.5799102\tbest: 0.5799102 (66)\ttotal: 41.4s\tremaining: 9m 36s\n",
      "67:\tlearn: 0.5814941\ttest: 0.5794867\tbest: 0.5799102 (66)\ttotal: 42.5s\tremaining: 9m 42s\n",
      "68:\tlearn: 0.5816756\ttest: 0.5806725\tbest: 0.5806725 (68)\ttotal: 42.9s\tremaining: 9m 38s\n",
      "69:\tlearn: 0.5817482\ttest: 0.5804184\tbest: 0.5806725 (68)\ttotal: 43s\tremaining: 9m 30s\n",
      "70:\tlearn: 0.5812400\ttest: 0.5804184\tbest: 0.5806725 (68)\ttotal: 43.3s\tremaining: 9m 26s\n",
      "71:\tlearn: 0.5816393\ttest: 0.5810113\tbest: 0.5810113 (71)\ttotal: 43.6s\tremaining: 9m 22s\n",
      "72:\tlearn: 0.5817845\ttest: 0.5808419\tbest: 0.5810113 (71)\ttotal: 44s\tremaining: 9m 18s\n",
      "73:\tlearn: 0.5821838\ttest: 0.5811807\tbest: 0.5811807 (73)\ttotal: 44.3s\tremaining: 9m 14s\n",
      "74:\tlearn: 0.5827646\ttest: 0.5821123\tbest: 0.5821123 (74)\ttotal: 44.7s\tremaining: 9m 11s\n",
      "75:\tlearn: 0.5829461\ttest: 0.5816041\tbest: 0.5821123 (74)\ttotal: 45s\tremaining: 9m 7s\n",
      "76:\tlearn: 0.5832728\ttest: 0.5811807\tbest: 0.5821123 (74)\ttotal: 45.3s\tremaining: 9m 3s\n",
      "77:\tlearn: 0.5832728\ttest: 0.5816041\tbest: 0.5821123 (74)\ttotal: 45.7s\tremaining: 9m\n",
      "78:\tlearn: 0.5835632\ttest: 0.5816888\tbest: 0.5821123 (74)\ttotal: 45.9s\tremaining: 8m 55s\n",
      "79:\tlearn: 0.5831276\ttest: 0.5816888\tbest: 0.5821123 (74)\ttotal: 46.1s\tremaining: 8m 49s\n",
      "80:\tlearn: 0.5836358\ttest: 0.5814347\tbest: 0.5821123 (74)\ttotal: 46.4s\tremaining: 8m 46s\n",
      "81:\tlearn: 0.5837447\ttest: 0.5810113\tbest: 0.5821123 (74)\ttotal: 46.8s\tremaining: 8m 43s\n",
      "82:\tlearn: 0.5835995\ttest: 0.5809266\tbest: 0.5821123 (74)\ttotal: 47.1s\tremaining: 8m 40s\n",
      "83:\tlearn: 0.5840714\ttest: 0.5818582\tbest: 0.5821123 (74)\ttotal: 47.4s\tremaining: 8m 37s\n",
      "84:\tlearn: 0.5838899\ttest: 0.5822817\tbest: 0.5822817 (84)\ttotal: 47.8s\tremaining: 8m 34s\n",
      "85:\tlearn: 0.5841440\ttest: 0.5821970\tbest: 0.5822817 (84)\ttotal: 48.1s\tremaining: 8m 31s\n",
      "86:\tlearn: 0.5841803\ttest: 0.5819429\tbest: 0.5822817 (84)\ttotal: 49.9s\tremaining: 8m 43s\n",
      "87:\tlearn: 0.5844707\ttest: 0.5819429\tbest: 0.5822817 (84)\ttotal: 52.4s\tremaining: 9m 3s\n",
      "88:\tlearn: 0.5843255\ttest: 0.5821970\tbest: 0.5822817 (84)\ttotal: 55.2s\tremaining: 9m 25s\n",
      "89:\tlearn: 0.5843255\ttest: 0.5818582\tbest: 0.5822817 (84)\ttotal: 55.6s\tremaining: 9m 22s\n",
      "90:\tlearn: 0.5847611\ttest: 0.5819429\tbest: 0.5822817 (84)\ttotal: 55.9s\tremaining: 9m 18s\n",
      "91:\tlearn: 0.5850878\ttest: 0.5821123\tbest: 0.5822817 (84)\ttotal: 56.3s\tremaining: 9m 15s\n",
      "92:\tlearn: 0.5855234\ttest: 0.5816888\tbest: 0.5822817 (84)\ttotal: 56.6s\tremaining: 9m 12s\n",
      "93:\tlearn: 0.5853419\ttest: 0.5813500\tbest: 0.5822817 (84)\ttotal: 56.8s\tremaining: 9m 7s\n"
     ]
    },
    {
     "name": "stdout",
     "output_type": "stream",
     "text": [
      "94:\tlearn: 0.5851967\ttest: 0.5814347\tbest: 0.5822817 (84)\ttotal: 57.2s\tremaining: 9m 4s\n",
      "95:\tlearn: 0.5849063\ttest: 0.5818582\tbest: 0.5822817 (84)\ttotal: 57.5s\tremaining: 9m 1s\n",
      "96:\tlearn: 0.5849063\ttest: 0.5824511\tbest: 0.5824511 (96)\ttotal: 58.1s\tremaining: 9m\n",
      "97:\tlearn: 0.5853056\ttest: 0.5821123\tbest: 0.5824511 (96)\ttotal: 58.5s\tremaining: 8m 58s\n",
      "98:\tlearn: 0.5853056\ttest: 0.5823664\tbest: 0.5824511 (96)\ttotal: 59s\tremaining: 8m 57s\n",
      "99:\tlearn: 0.5857776\ttest: 0.5816888\tbest: 0.5824511 (96)\ttotal: 59.2s\tremaining: 8m 52s\n",
      "100:\tlearn: 0.5857413\ttest: 0.5816041\tbest: 0.5824511 (96)\ttotal: 59.6s\tremaining: 8m 50s\n",
      "101:\tlearn: 0.5856687\ttest: 0.5811807\tbest: 0.5824511 (96)\ttotal: 1m\tremaining: 8m 48s\n",
      "102:\tlearn: 0.5857413\ttest: 0.5814347\tbest: 0.5824511 (96)\ttotal: 1m\tremaining: 8m 45s\n",
      "103:\tlearn: 0.5859591\ttest: 0.5816041\tbest: 0.5824511 (96)\ttotal: 1m\tremaining: 8m 45s\n",
      "104:\tlearn: 0.5864673\ttest: 0.5822817\tbest: 0.5824511 (96)\ttotal: 1m 1s\tremaining: 8m 42s\n",
      "105:\tlearn: 0.5867214\ttest: 0.5821123\tbest: 0.5824511 (96)\ttotal: 1m 1s\tremaining: 8m 39s\n",
      "106:\tlearn: 0.5870118\ttest: 0.5822817\tbest: 0.5824511 (96)\ttotal: 1m 2s\tremaining: 8m 37s\n",
      "107:\tlearn: 0.5869029\ttest: 0.5827052\tbest: 0.5827052 (107)\ttotal: 1m 2s\tremaining: 8m 35s\n",
      "108:\tlearn: 0.5869755\ttest: 0.5830440\tbest: 0.5830440 (108)\ttotal: 1m 2s\tremaining: 8m 32s\n",
      "109:\tlearn: 0.5871570\ttest: 0.5829593\tbest: 0.5830440 (108)\ttotal: 1m 3s\tremaining: 8m 29s\n",
      "110:\tlearn: 0.5878104\ttest: 0.5830440\tbest: 0.5830440 (108)\ttotal: 1m 3s\tremaining: 8m 28s\n",
      "111:\tlearn: 0.5876652\ttest: 0.5827899\tbest: 0.5830440 (108)\ttotal: 1m 3s\tremaining: 8m 27s\n",
      "112:\tlearn: 0.5879556\ttest: 0.5822817\tbest: 0.5830440 (108)\ttotal: 1m 4s\tremaining: 8m 26s\n",
      "113:\tlearn: 0.5882097\ttest: 0.5822817\tbest: 0.5830440 (108)\ttotal: 1m 4s\tremaining: 8m 25s\n",
      "114:\tlearn: 0.5884275\ttest: 0.5825358\tbest: 0.5830440 (108)\ttotal: 1m 5s\tremaining: 8m 23s\n",
      "115:\tlearn: 0.5885364\ttest: 0.5827899\tbest: 0.5830440 (108)\ttotal: 1m 5s\tremaining: 8m 22s\n",
      "116:\tlearn: 0.5884638\ttest: 0.5832133\tbest: 0.5832133 (116)\ttotal: 1m 6s\tremaining: 8m 21s\n",
      "117:\tlearn: 0.5886816\ttest: 0.5833827\tbest: 0.5833827 (117)\ttotal: 1m 6s\tremaining: 8m 19s\n",
      "118:\tlearn: 0.5886453\ttest: 0.5834674\tbest: 0.5834674 (118)\ttotal: 1m 7s\tremaining: 8m 16s\n",
      "119:\tlearn: 0.5888268\ttest: 0.5838062\tbest: 0.5838062 (119)\ttotal: 1m 7s\tremaining: 8m 13s\n",
      "120:\tlearn: 0.5888631\ttest: 0.5836368\tbest: 0.5838062 (119)\ttotal: 1m 7s\tremaining: 8m 9s\n",
      "121:\tlearn: 0.5882823\ttest: 0.5838909\tbest: 0.5838909 (121)\ttotal: 1m 7s\tremaining: 8m 8s\n",
      "122:\tlearn: 0.5886090\ttest: 0.5840603\tbest: 0.5840603 (122)\ttotal: 1m 8s\tremaining: 8m 7s\n",
      "123:\tlearn: 0.5888268\ttest: 0.5834674\tbest: 0.5840603 (122)\ttotal: 1m 9s\tremaining: 8m 7s\n",
      "124:\tlearn: 0.5889357\ttest: 0.5835521\tbest: 0.5840603 (122)\ttotal: 1m 9s\tremaining: 8m 6s\n",
      "125:\tlearn: 0.5896254\ttest: 0.5846532\tbest: 0.5846532 (125)\ttotal: 1m 9s\tremaining: 8m 5s\n",
      "126:\tlearn: 0.5894439\ttest: 0.5844838\tbest: 0.5846532 (125)\ttotal: 1m 10s\tremaining: 8m 4s\n",
      "127:\tlearn: 0.5896980\ttest: 0.5844838\tbest: 0.5846532 (125)\ttotal: 1m 10s\tremaining: 8m 3s\n",
      "128:\tlearn: 0.5896980\ttest: 0.5849073\tbest: 0.5849073 (128)\ttotal: 1m 11s\tremaining: 8m 2s\n",
      "129:\tlearn: 0.5901336\ttest: 0.5850766\tbest: 0.5850766 (129)\ttotal: 1m 11s\tremaining: 8m 1s\n",
      "130:\tlearn: 0.5901336\ttest: 0.5854154\tbest: 0.5854154 (130)\ttotal: 1m 12s\tremaining: 8m\n",
      "131:\tlearn: 0.5902788\ttest: 0.5850766\tbest: 0.5854154 (130)\ttotal: 1m 12s\tremaining: 7m 58s\n",
      "132:\tlearn: 0.5903514\ttest: 0.5852460\tbest: 0.5854154 (130)\ttotal: 1m 12s\tremaining: 7m 55s\n",
      "133:\tlearn: 0.5906055\ttest: 0.5852460\tbest: 0.5854154 (130)\ttotal: 1m 13s\tremaining: 7m 54s\n",
      "134:\tlearn: 0.5907870\ttest: 0.5859236\tbest: 0.5859236 (134)\ttotal: 1m 13s\tremaining: 7m 53s\n",
      "135:\tlearn: 0.5905692\ttest: 0.5856695\tbest: 0.5859236 (134)\ttotal: 1m 14s\tremaining: 7m 52s\n",
      "136:\tlearn: 0.5908596\ttest: 0.5855848\tbest: 0.5859236 (134)\ttotal: 1m 14s\tremaining: 7m 49s\n",
      "137:\tlearn: 0.5908959\ttest: 0.5849073\tbest: 0.5859236 (134)\ttotal: 1m 14s\tremaining: 7m 48s\n",
      "138:\tlearn: 0.5909322\ttest: 0.5854154\tbest: 0.5859236 (134)\ttotal: 1m 15s\tremaining: 7m 46s\n",
      "139:\tlearn: 0.5907144\ttest: 0.5848226\tbest: 0.5859236 (134)\ttotal: 1m 15s\tremaining: 7m 44s\n",
      "140:\tlearn: 0.5909685\ttest: 0.5849073\tbest: 0.5859236 (134)\ttotal: 1m 16s\tremaining: 7m 43s\n",
      "141:\tlearn: 0.5906055\ttest: 0.5855848\tbest: 0.5859236 (134)\ttotal: 1m 16s\tremaining: 7m 41s\n",
      "142:\tlearn: 0.5908959\ttest: 0.5860930\tbest: 0.5860930 (142)\ttotal: 1m 16s\tremaining: 7m 40s\n",
      "143:\tlearn: 0.5910774\ttest: 0.5860930\tbest: 0.5860930 (142)\ttotal: 1m 17s\tremaining: 7m 39s\n",
      "144:\tlearn: 0.5912589\ttest: 0.5860930\tbest: 0.5860930 (142)\ttotal: 1m 17s\tremaining: 7m 38s\n",
      "145:\tlearn: 0.5910048\ttest: 0.5860083\tbest: 0.5860930 (142)\ttotal: 1m 18s\tremaining: 7m 37s\n",
      "146:\tlearn: 0.5908233\ttest: 0.5855848\tbest: 0.5860930 (142)\ttotal: 1m 18s\tremaining: 7m 35s\n",
      "147:\tlearn: 0.5910411\ttest: 0.5856695\tbest: 0.5860930 (142)\ttotal: 1m 18s\tremaining: 7m 34s\n",
      "148:\tlearn: 0.5911863\ttest: 0.5852460\tbest: 0.5860930 (142)\ttotal: 1m 19s\tremaining: 7m 33s\n",
      "149:\tlearn: 0.5913315\ttest: 0.5853307\tbest: 0.5860930 (142)\ttotal: 1m 19s\tremaining: 7m 32s\n",
      "150:\tlearn: 0.5914404\ttest: 0.5852460\tbest: 0.5860930 (142)\ttotal: 1m 20s\tremaining: 7m 30s\n",
      "151:\tlearn: 0.5915856\ttest: 0.5852460\tbest: 0.5860930 (142)\ttotal: 1m 20s\tremaining: 7m 28s\n",
      "152:\tlearn: 0.5916582\ttest: 0.5854154\tbest: 0.5860930 (142)\ttotal: 1m 20s\tremaining: 7m 26s\n",
      "153:\tlearn: 0.5912226\ttest: 0.5857542\tbest: 0.5860930 (142)\ttotal: 1m 21s\tremaining: 7m 25s\n",
      "154:\tlearn: 0.5909322\ttest: 0.5852460\tbest: 0.5860930 (142)\ttotal: 1m 21s\tremaining: 7m 23s\n",
      "155:\tlearn: 0.5910411\ttest: 0.5849073\tbest: 0.5860930 (142)\ttotal: 1m 21s\tremaining: 7m 22s\n",
      "156:\tlearn: 0.5911500\ttest: 0.5850766\tbest: 0.5860930 (142)\ttotal: 1m 22s\tremaining: 7m 21s\n",
      "157:\tlearn: 0.5910774\ttest: 0.5849073\tbest: 0.5860930 (142)\ttotal: 1m 22s\tremaining: 7m 19s\n",
      "158:\tlearn: 0.5912952\ttest: 0.5847379\tbest: 0.5860930 (142)\ttotal: 1m 23s\tremaining: 7m 19s\n",
      "159:\tlearn: 0.5912952\ttest: 0.5847379\tbest: 0.5860930 (142)\ttotal: 1m 23s\tremaining: 7m 17s\n",
      "160:\tlearn: 0.5912589\ttest: 0.5849073\tbest: 0.5860930 (142)\ttotal: 1m 23s\tremaining: 7m 16s\n",
      "161:\tlearn: 0.5914404\ttest: 0.5849073\tbest: 0.5860930 (142)\ttotal: 1m 24s\tremaining: 7m 16s\n",
      "162:\tlearn: 0.5911863\ttest: 0.5845685\tbest: 0.5860930 (142)\ttotal: 1m 24s\tremaining: 7m 15s\n",
      "163:\tlearn: 0.5914041\ttest: 0.5849073\tbest: 0.5860930 (142)\ttotal: 1m 25s\tremaining: 7m 13s\n",
      "164:\tlearn: 0.5915856\ttest: 0.5848226\tbest: 0.5860930 (142)\ttotal: 1m 25s\tremaining: 7m 11s\n",
      "165:\tlearn: 0.5914404\ttest: 0.5850766\tbest: 0.5860930 (142)\ttotal: 1m 25s\tremaining: 7m 9s\n",
      "166:\tlearn: 0.5918760\ttest: 0.5841450\tbest: 0.5860930 (142)\ttotal: 1m 25s\tremaining: 7m 7s\n",
      "167:\tlearn: 0.5919849\ttest: 0.5841450\tbest: 0.5860930 (142)\ttotal: 1m 26s\tremaining: 7m 6s\n",
      "168:\tlearn: 0.5919123\ttest: 0.5849920\tbest: 0.5860930 (142)\ttotal: 1m 26s\tremaining: 7m 5s\n",
      "169:\tlearn: 0.5919849\ttest: 0.5849920\tbest: 0.5860930 (142)\ttotal: 1m 26s\tremaining: 7m 4s\n",
      "170:\tlearn: 0.5920575\ttest: 0.5850766\tbest: 0.5860930 (142)\ttotal: 1m 27s\tremaining: 7m 3s\n",
      "171:\tlearn: 0.5922390\ttest: 0.5849073\tbest: 0.5860930 (142)\ttotal: 1m 27s\tremaining: 7m 2s\n",
      "172:\tlearn: 0.5924205\ttest: 0.5851613\tbest: 0.5860930 (142)\ttotal: 1m 28s\tremaining: 7m 1s\n",
      "173:\tlearn: 0.5927109\ttest: 0.5855001\tbest: 0.5860930 (142)\ttotal: 1m 28s\tremaining: 7m 1s\n",
      "174:\tlearn: 0.5924931\ttest: 0.5853307\tbest: 0.5860930 (142)\ttotal: 1m 29s\tremaining: 7m\n",
      "175:\tlearn: 0.5926383\ttest: 0.5854154\tbest: 0.5860930 (142)\ttotal: 1m 29s\tremaining: 6m 59s\n",
      "176:\tlearn: 0.5924931\ttest: 0.5854154\tbest: 0.5860930 (142)\ttotal: 1m 30s\tremaining: 6m 59s\n",
      "177:\tlearn: 0.5923842\ttest: 0.5857542\tbest: 0.5860930 (142)\ttotal: 1m 30s\tremaining: 6m 58s\n",
      "178:\tlearn: 0.5924205\ttest: 0.5855848\tbest: 0.5860930 (142)\ttotal: 1m 30s\tremaining: 6m 56s\n",
      "179:\tlearn: 0.5924931\ttest: 0.5854154\tbest: 0.5860930 (142)\ttotal: 1m 31s\tremaining: 6m 56s\n",
      "180:\tlearn: 0.5926746\ttest: 0.5852460\tbest: 0.5860930 (142)\ttotal: 1m 31s\tremaining: 6m 55s\n",
      "181:\tlearn: 0.5927109\ttest: 0.5855848\tbest: 0.5860930 (142)\ttotal: 1m 32s\tremaining: 6m 54s\n",
      "182:\tlearn: 0.5927835\ttest: 0.5855848\tbest: 0.5860930 (142)\ttotal: 1m 32s\tremaining: 6m 54s\n",
      "183:\tlearn: 0.5927835\ttest: 0.5857542\tbest: 0.5860930 (142)\ttotal: 1m 33s\tremaining: 6m 54s\n",
      "184:\tlearn: 0.5930013\ttest: 0.5854154\tbest: 0.5860930 (142)\ttotal: 1m 33s\tremaining: 6m 53s\n",
      "185:\tlearn: 0.5931102\ttest: 0.5858389\tbest: 0.5860930 (142)\ttotal: 1m 33s\tremaining: 6m 51s\n"
     ]
    },
    {
     "name": "stdout",
     "output_type": "stream",
     "text": [
      "186:\tlearn: 0.5930013\ttest: 0.5860083\tbest: 0.5860930 (142)\ttotal: 1m 34s\tremaining: 6m 50s\n",
      "187:\tlearn: 0.5931102\ttest: 0.5866012\tbest: 0.5866012 (187)\ttotal: 1m 34s\tremaining: 6m 49s\n",
      "188:\tlearn: 0.5933280\ttest: 0.5860083\tbest: 0.5866012 (187)\ttotal: 1m 35s\tremaining: 6m 49s\n",
      "189:\tlearn: 0.5934006\ttest: 0.5861777\tbest: 0.5866012 (187)\ttotal: 1m 35s\tremaining: 6m 47s\n",
      "190:\tlearn: 0.5931465\ttest: 0.5862624\tbest: 0.5866012 (187)\ttotal: 1m 35s\tremaining: 6m 46s\n",
      "191:\tlearn: 0.5936910\ttest: 0.5862624\tbest: 0.5866012 (187)\ttotal: 1m 36s\tremaining: 6m 45s\n",
      "192:\tlearn: 0.5938362\ttest: 0.5866012\tbest: 0.5866012 (187)\ttotal: 1m 36s\tremaining: 6m 45s\n",
      "193:\tlearn: 0.5939088\ttest: 0.5864318\tbest: 0.5866012 (187)\ttotal: 1m 37s\tremaining: 6m 43s\n",
      "194:\tlearn: 0.5938362\ttest: 0.5866012\tbest: 0.5866012 (187)\ttotal: 1m 37s\tremaining: 6m 43s\n",
      "195:\tlearn: 0.5934732\ttest: 0.5864318\tbest: 0.5866012 (187)\ttotal: 1m 38s\tremaining: 6m 42s\n",
      "196:\tlearn: 0.5936547\ttest: 0.5865165\tbest: 0.5866012 (187)\ttotal: 1m 38s\tremaining: 6m 40s\n",
      "197:\tlearn: 0.5935095\ttest: 0.5864318\tbest: 0.5866012 (187)\ttotal: 1m 38s\tremaining: 6m 40s\n",
      "198:\tlearn: 0.5938362\ttest: 0.5864318\tbest: 0.5866012 (187)\ttotal: 1m 39s\tremaining: 6m 38s\n",
      "199:\tlearn: 0.5939451\ttest: 0.5866859\tbest: 0.5866859 (199)\ttotal: 1m 39s\tremaining: 6m 38s\n",
      "200:\tlearn: 0.5941266\ttest: 0.5869400\tbest: 0.5869400 (200)\ttotal: 1m 39s\tremaining: 6m 37s\n",
      "201:\tlearn: 0.5938725\ttest: 0.5868553\tbest: 0.5869400 (200)\ttotal: 1m 40s\tremaining: 6m 37s\n",
      "202:\tlearn: 0.5938725\ttest: 0.5869400\tbest: 0.5869400 (200)\ttotal: 1m 40s\tremaining: 6m 35s\n",
      "203:\tlearn: 0.5940177\ttest: 0.5867706\tbest: 0.5869400 (200)\ttotal: 1m 40s\tremaining: 6m 33s\n",
      "204:\tlearn: 0.5938725\ttest: 0.5866859\tbest: 0.5869400 (200)\ttotal: 1m 41s\tremaining: 6m 33s\n",
      "205:\tlearn: 0.5942355\ttest: 0.5866012\tbest: 0.5869400 (200)\ttotal: 1m 41s\tremaining: 6m 31s\n",
      "206:\tlearn: 0.5940903\ttest: 0.5866012\tbest: 0.5869400 (200)\ttotal: 1m 42s\tremaining: 6m 30s\n",
      "207:\tlearn: 0.5941266\ttest: 0.5863471\tbest: 0.5869400 (200)\ttotal: 1m 42s\tremaining: 6m 29s\n",
      "208:\tlearn: 0.5940903\ttest: 0.5866012\tbest: 0.5869400 (200)\ttotal: 1m 42s\tremaining: 6m 28s\n",
      "209:\tlearn: 0.5940903\ttest: 0.5866859\tbest: 0.5869400 (200)\ttotal: 1m 43s\tremaining: 6m 27s\n",
      "210:\tlearn: 0.5941992\ttest: 0.5869400\tbest: 0.5869400 (200)\ttotal: 1m 43s\tremaining: 6m 26s\n",
      "211:\tlearn: 0.5942718\ttest: 0.5869400\tbest: 0.5869400 (200)\ttotal: 1m 43s\tremaining: 6m 25s\n",
      "212:\tlearn: 0.5941266\ttest: 0.5872787\tbest: 0.5872787 (212)\ttotal: 1m 44s\tremaining: 6m 25s\n",
      "213:\tlearn: 0.5943444\ttest: 0.5870246\tbest: 0.5872787 (212)\ttotal: 1m 44s\tremaining: 6m 24s\n",
      "214:\tlearn: 0.5943081\ttest: 0.5873634\tbest: 0.5873634 (214)\ttotal: 1m 45s\tremaining: 6m 24s\n",
      "215:\tlearn: 0.5942718\ttest: 0.5871940\tbest: 0.5873634 (214)\ttotal: 1m 45s\tremaining: 6m 22s\n",
      "216:\tlearn: 0.5944533\ttest: 0.5872787\tbest: 0.5873634 (214)\ttotal: 1m 45s\tremaining: 6m 21s\n",
      "217:\tlearn: 0.5945985\ttest: 0.5875328\tbest: 0.5875328 (217)\ttotal: 1m 45s\tremaining: 6m 19s\n",
      "218:\tlearn: 0.5945622\ttest: 0.5878716\tbest: 0.5878716 (218)\ttotal: 1m 46s\tremaining: 6m 19s\n",
      "219:\tlearn: 0.5948889\ttest: 0.5881257\tbest: 0.5881257 (219)\ttotal: 1m 46s\tremaining: 6m 18s\n",
      "220:\tlearn: 0.5948889\ttest: 0.5881257\tbest: 0.5881257 (219)\ttotal: 1m 47s\tremaining: 6m 18s\n",
      "221:\tlearn: 0.5948163\ttest: 0.5881257\tbest: 0.5881257 (219)\ttotal: 1m 47s\tremaining: 6m 16s\n",
      "222:\tlearn: 0.5949978\ttest: 0.5877869\tbest: 0.5881257 (219)\ttotal: 1m 47s\tremaining: 6m 15s\n",
      "223:\tlearn: 0.5949252\ttest: 0.5878716\tbest: 0.5881257 (219)\ttotal: 1m 48s\tremaining: 6m 15s\n",
      "224:\tlearn: 0.5948889\ttest: 0.5882104\tbest: 0.5882104 (224)\ttotal: 1m 48s\tremaining: 6m 14s\n",
      "225:\tlearn: 0.5950704\ttest: 0.5880410\tbest: 0.5882104 (224)\ttotal: 1m 49s\tremaining: 6m 14s\n",
      "226:\tlearn: 0.5951430\ttest: 0.5879563\tbest: 0.5882104 (224)\ttotal: 1m 49s\tremaining: 6m 13s\n",
      "227:\tlearn: 0.5951430\ttest: 0.5881257\tbest: 0.5882104 (224)\ttotal: 1m 50s\tremaining: 6m 13s\n",
      "228:\tlearn: 0.5951793\ttest: 0.5882104\tbest: 0.5882104 (224)\ttotal: 1m 50s\tremaining: 6m 12s\n",
      "229:\tlearn: 0.5953245\ttest: 0.5882951\tbest: 0.5882951 (229)\ttotal: 1m 51s\tremaining: 6m 12s\n",
      "230:\tlearn: 0.5956875\ttest: 0.5877022\tbest: 0.5882951 (229)\ttotal: 1m 51s\tremaining: 6m 11s\n",
      "231:\tlearn: 0.5957238\ttest: 0.5877022\tbest: 0.5882951 (229)\ttotal: 1m 52s\tremaining: 6m 11s\n",
      "232:\tlearn: 0.5955060\ttest: 0.5878716\tbest: 0.5882951 (229)\ttotal: 1m 52s\tremaining: 6m 10s\n",
      "233:\tlearn: 0.5955423\ttest: 0.5879563\tbest: 0.5882951 (229)\ttotal: 1m 53s\tremaining: 6m 10s\n",
      "234:\tlearn: 0.5955423\ttest: 0.5879563\tbest: 0.5882951 (229)\ttotal: 1m 53s\tremaining: 6m 8s\n",
      "235:\tlearn: 0.5954697\ttest: 0.5879563\tbest: 0.5882951 (229)\ttotal: 1m 53s\tremaining: 6m 6s\n",
      "236:\tlearn: 0.5955060\ttest: 0.5877869\tbest: 0.5882951 (229)\ttotal: 1m 53s\tremaining: 6m 6s\n",
      "237:\tlearn: 0.5956149\ttest: 0.5880410\tbest: 0.5882951 (229)\ttotal: 1m 53s\tremaining: 6m 4s\n",
      "238:\tlearn: 0.5959416\ttest: 0.5882951\tbest: 0.5882951 (229)\ttotal: 1m 54s\tremaining: 6m 4s\n",
      "239:\tlearn: 0.5960142\ttest: 0.5884645\tbest: 0.5884645 (239)\ttotal: 1m 54s\tremaining: 6m 3s\n",
      "240:\tlearn: 0.5958327\ttest: 0.5880410\tbest: 0.5884645 (239)\ttotal: 1m 55s\tremaining: 6m 2s\n",
      "241:\tlearn: 0.5959416\ttest: 0.5879563\tbest: 0.5884645 (239)\ttotal: 1m 55s\tremaining: 6m 1s\n",
      "242:\tlearn: 0.5960868\ttest: 0.5880410\tbest: 0.5884645 (239)\ttotal: 1m 55s\tremaining: 6m\n",
      "243:\tlearn: 0.5961231\ttest: 0.5880410\tbest: 0.5884645 (239)\ttotal: 1m 56s\tremaining: 6m\n",
      "244:\tlearn: 0.5962320\ttest: 0.5880410\tbest: 0.5884645 (239)\ttotal: 1m 57s\tremaining: 6m\n",
      "245:\tlearn: 0.5963046\ttest: 0.5877022\tbest: 0.5884645 (239)\ttotal: 1m 57s\tremaining: 6m\n",
      "246:\tlearn: 0.5963046\ttest: 0.5877869\tbest: 0.5884645 (239)\ttotal: 1m 57s\tremaining: 5m 59s\n",
      "247:\tlearn: 0.5963046\ttest: 0.5877022\tbest: 0.5884645 (239)\ttotal: 1m 58s\tremaining: 5m 59s\n",
      "248:\tlearn: 0.5962320\ttest: 0.5877869\tbest: 0.5884645 (239)\ttotal: 1m 58s\tremaining: 5m 57s\n",
      "249:\tlearn: 0.5966676\ttest: 0.5877022\tbest: 0.5884645 (239)\ttotal: 1m 59s\tremaining: 5m 57s\n",
      "250:\tlearn: 0.5967039\ttest: 0.5878716\tbest: 0.5884645 (239)\ttotal: 1m 59s\tremaining: 5m 56s\n",
      "251:\tlearn: 0.5967765\ttest: 0.5878716\tbest: 0.5884645 (239)\ttotal: 1m 59s\tremaining: 5m 55s\n",
      "252:\tlearn: 0.5966313\ttest: 0.5878716\tbest: 0.5884645 (239)\ttotal: 2m\tremaining: 5m 55s\n",
      "253:\tlearn: 0.5969580\ttest: 0.5880410\tbest: 0.5884645 (239)\ttotal: 2m\tremaining: 5m 54s\n",
      "254:\tlearn: 0.5969943\ttest: 0.5878716\tbest: 0.5884645 (239)\ttotal: 2m 1s\tremaining: 5m 54s\n",
      "255:\tlearn: 0.5972847\ttest: 0.5877869\tbest: 0.5884645 (239)\ttotal: 2m 1s\tremaining: 5m 54s\n",
      "256:\tlearn: 0.5970306\ttest: 0.5877869\tbest: 0.5884645 (239)\ttotal: 2m 2s\tremaining: 5m 52s\n",
      "257:\tlearn: 0.5969217\ttest: 0.5878716\tbest: 0.5884645 (239)\ttotal: 2m 2s\tremaining: 5m 51s\n",
      "258:\tlearn: 0.5971395\ttest: 0.5878716\tbest: 0.5884645 (239)\ttotal: 2m 2s\tremaining: 5m 51s\n",
      "259:\tlearn: 0.5971032\ttest: 0.5877869\tbest: 0.5884645 (239)\ttotal: 2m 3s\tremaining: 5m 50s\n",
      "260:\tlearn: 0.5972121\ttest: 0.5882104\tbest: 0.5884645 (239)\ttotal: 2m 3s\tremaining: 5m 50s\n",
      "261:\tlearn: 0.5969217\ttest: 0.5877869\tbest: 0.5884645 (239)\ttotal: 2m 4s\tremaining: 5m 50s\n",
      "262:\tlearn: 0.5972121\ttest: 0.5882104\tbest: 0.5884645 (239)\ttotal: 2m 4s\tremaining: 5m 50s\n",
      "263:\tlearn: 0.5973210\ttest: 0.5882951\tbest: 0.5884645 (239)\ttotal: 2m 5s\tremaining: 5m 48s\n",
      "264:\tlearn: 0.5976840\ttest: 0.5881257\tbest: 0.5884645 (239)\ttotal: 2m 5s\tremaining: 5m 48s\n",
      "265:\tlearn: 0.5976477\ttest: 0.5882104\tbest: 0.5884645 (239)\ttotal: 2m 5s\tremaining: 5m 47s\n",
      "266:\tlearn: 0.5979018\ttest: 0.5879563\tbest: 0.5884645 (239)\ttotal: 2m 6s\tremaining: 5m 46s\n",
      "267:\tlearn: 0.5978655\ttest: 0.5880410\tbest: 0.5884645 (239)\ttotal: 2m 6s\tremaining: 5m 45s\n",
      "268:\tlearn: 0.5979381\ttest: 0.5879563\tbest: 0.5884645 (239)\ttotal: 2m 6s\tremaining: 5m 44s\n",
      "269:\tlearn: 0.5980470\ttest: 0.5878716\tbest: 0.5884645 (239)\ttotal: 2m 6s\tremaining: 5m 42s\n",
      "270:\tlearn: 0.5981196\ttest: 0.5881257\tbest: 0.5884645 (239)\ttotal: 2m 7s\tremaining: 5m 42s\n",
      "271:\tlearn: 0.5981922\ttest: 0.5878716\tbest: 0.5884645 (239)\ttotal: 2m 7s\tremaining: 5m 41s\n",
      "272:\tlearn: 0.5981922\ttest: 0.5878716\tbest: 0.5884645 (239)\ttotal: 2m 7s\tremaining: 5m 40s\n",
      "273:\tlearn: 0.5980833\ttest: 0.5880410\tbest: 0.5884645 (239)\ttotal: 2m 8s\tremaining: 5m 39s\n",
      "274:\tlearn: 0.5980833\ttest: 0.5878716\tbest: 0.5884645 (239)\ttotal: 2m 8s\tremaining: 5m 39s\n",
      "275:\tlearn: 0.5981922\ttest: 0.5879563\tbest: 0.5884645 (239)\ttotal: 2m 9s\tremaining: 5m 39s\n"
     ]
    },
    {
     "name": "stdout",
     "output_type": "stream",
     "text": [
      "276:\tlearn: 0.5985552\ttest: 0.5875328\tbest: 0.5884645 (239)\ttotal: 2m 9s\tremaining: 5m 38s\n",
      "277:\tlearn: 0.5985915\ttest: 0.5874481\tbest: 0.5884645 (239)\ttotal: 2m 9s\tremaining: 5m 37s\n",
      "278:\tlearn: 0.5985915\ttest: 0.5875328\tbest: 0.5884645 (239)\ttotal: 2m 9s\tremaining: 5m 35s\n",
      "279:\tlearn: 0.5985915\ttest: 0.5873634\tbest: 0.5884645 (239)\ttotal: 2m 10s\tremaining: 5m 35s\n",
      "280:\tlearn: 0.5984100\ttest: 0.5873634\tbest: 0.5884645 (239)\ttotal: 2m 10s\tremaining: 5m 34s\n",
      "281:\tlearn: 0.5983737\ttest: 0.5874481\tbest: 0.5884645 (239)\ttotal: 2m 11s\tremaining: 5m 33s\n",
      "282:\tlearn: 0.5985189\ttest: 0.5875328\tbest: 0.5884645 (239)\ttotal: 2m 11s\tremaining: 5m 33s\n",
      "283:\tlearn: 0.5984100\ttest: 0.5870246\tbest: 0.5884645 (239)\ttotal: 2m 12s\tremaining: 5m 33s\n",
      "284:\tlearn: 0.5983011\ttest: 0.5870246\tbest: 0.5884645 (239)\ttotal: 2m 12s\tremaining: 5m 32s\n",
      "285:\tlearn: 0.5983737\ttest: 0.5871093\tbest: 0.5884645 (239)\ttotal: 2m 12s\tremaining: 5m 31s\n",
      "286:\tlearn: 0.5985915\ttest: 0.5871093\tbest: 0.5884645 (239)\ttotal: 2m 13s\tremaining: 5m 31s\n",
      "287:\tlearn: 0.5986641\ttest: 0.5871940\tbest: 0.5884645 (239)\ttotal: 2m 13s\tremaining: 5m 30s\n",
      "288:\tlearn: 0.5984100\ttest: 0.5871940\tbest: 0.5884645 (239)\ttotal: 2m 14s\tremaining: 5m 30s\n",
      "289:\tlearn: 0.5986278\ttest: 0.5873634\tbest: 0.5884645 (239)\ttotal: 2m 14s\tremaining: 5m 29s\n",
      "290:\tlearn: 0.5987005\ttest: 0.5865165\tbest: 0.5884645 (239)\ttotal: 2m 14s\tremaining: 5m 28s\n",
      "291:\tlearn: 0.5989546\ttest: 0.5866859\tbest: 0.5884645 (239)\ttotal: 2m 15s\tremaining: 5m 28s\n",
      "292:\tlearn: 0.5987005\ttest: 0.5866859\tbest: 0.5884645 (239)\ttotal: 2m 15s\tremaining: 5m 27s\n",
      "293:\tlearn: 0.5989183\ttest: 0.5868553\tbest: 0.5884645 (239)\ttotal: 2m 16s\tremaining: 5m 27s\n",
      "294:\tlearn: 0.5988457\ttest: 0.5871093\tbest: 0.5884645 (239)\ttotal: 2m 16s\tremaining: 5m 26s\n",
      "295:\tlearn: 0.5988457\ttest: 0.5874481\tbest: 0.5884645 (239)\ttotal: 2m 17s\tremaining: 5m 26s\n",
      "296:\tlearn: 0.5988094\ttest: 0.5877022\tbest: 0.5884645 (239)\ttotal: 2m 17s\tremaining: 5m 26s\n",
      "297:\tlearn: 0.5987731\ttest: 0.5877022\tbest: 0.5884645 (239)\ttotal: 2m 18s\tremaining: 5m 25s\n",
      "298:\tlearn: 0.5988457\ttest: 0.5877022\tbest: 0.5884645 (239)\ttotal: 2m 18s\tremaining: 5m 24s\n",
      "299:\tlearn: 0.5991361\ttest: 0.5877022\tbest: 0.5884645 (239)\ttotal: 2m 18s\tremaining: 5m 24s\n",
      "300:\tlearn: 0.5991724\ttest: 0.5882104\tbest: 0.5884645 (239)\ttotal: 2m 19s\tremaining: 5m 23s\n",
      "301:\tlearn: 0.5989909\ttest: 0.5880410\tbest: 0.5884645 (239)\ttotal: 2m 19s\tremaining: 5m 22s\n",
      "302:\tlearn: 0.5990998\ttest: 0.5879563\tbest: 0.5884645 (239)\ttotal: 2m 19s\tremaining: 5m 21s\n",
      "303:\tlearn: 0.5991724\ttest: 0.5880410\tbest: 0.5884645 (239)\ttotal: 2m 20s\tremaining: 5m 20s\n",
      "304:\tlearn: 0.5990998\ttest: 0.5881257\tbest: 0.5884645 (239)\ttotal: 2m 20s\tremaining: 5m 19s\n",
      "305:\tlearn: 0.5992450\ttest: 0.5883798\tbest: 0.5884645 (239)\ttotal: 2m 20s\tremaining: 5m 19s\n",
      "306:\tlearn: 0.5992087\ttest: 0.5883798\tbest: 0.5884645 (239)\ttotal: 2m 20s\tremaining: 5m 17s\n",
      "307:\tlearn: 0.5993176\ttest: 0.5889726\tbest: 0.5889726 (307)\ttotal: 2m 21s\tremaining: 5m 17s\n",
      "308:\tlearn: 0.5990635\ttest: 0.5888033\tbest: 0.5889726 (307)\ttotal: 2m 21s\tremaining: 5m 17s\n",
      "309:\tlearn: 0.5990998\ttest: 0.5888033\tbest: 0.5889726 (307)\ttotal: 2m 22s\tremaining: 5m 16s\n",
      "310:\tlearn: 0.5995354\ttest: 0.5885492\tbest: 0.5889726 (307)\ttotal: 2m 22s\tremaining: 5m 16s\n",
      "311:\tlearn: 0.5996443\ttest: 0.5886339\tbest: 0.5889726 (307)\ttotal: 2m 23s\tremaining: 5m 16s\n",
      "312:\tlearn: 0.5995354\ttest: 0.5887186\tbest: 0.5889726 (307)\ttotal: 2m 24s\tremaining: 5m 16s\n",
      "313:\tlearn: 0.5996080\ttest: 0.5887186\tbest: 0.5889726 (307)\ttotal: 2m 24s\tremaining: 5m 15s\n",
      "314:\tlearn: 0.5997169\ttest: 0.5881257\tbest: 0.5889726 (307)\ttotal: 2m 25s\tremaining: 5m 15s\n",
      "315:\tlearn: 0.5996806\ttest: 0.5882951\tbest: 0.5889726 (307)\ttotal: 2m 25s\tremaining: 5m 15s\n",
      "316:\tlearn: 0.6000073\ttest: 0.5888879\tbest: 0.5889726 (307)\ttotal: 2m 26s\tremaining: 5m 14s\n",
      "317:\tlearn: 0.5999710\ttest: 0.5888033\tbest: 0.5889726 (307)\ttotal: 2m 26s\tremaining: 5m 14s\n",
      "318:\tlearn: 0.6001888\ttest: 0.5891420\tbest: 0.5891420 (318)\ttotal: 2m 27s\tremaining: 5m 14s\n",
      "319:\tlearn: 0.6003340\ttest: 0.5887186\tbest: 0.5891420 (318)\ttotal: 2m 27s\tremaining: 5m 13s\n",
      "320:\tlearn: 0.6002977\ttest: 0.5888033\tbest: 0.5891420 (318)\ttotal: 2m 28s\tremaining: 5m 13s\n",
      "321:\tlearn: 0.6004429\ttest: 0.5889726\tbest: 0.5891420 (318)\ttotal: 2m 28s\tremaining: 5m 13s\n",
      "322:\tlearn: 0.6003703\ttest: 0.5888033\tbest: 0.5891420 (318)\ttotal: 2m 29s\tremaining: 5m 12s\n",
      "323:\tlearn: 0.6004792\ttest: 0.5889726\tbest: 0.5891420 (318)\ttotal: 2m 29s\tremaining: 5m 12s\n",
      "324:\tlearn: 0.6005155\ttest: 0.5888879\tbest: 0.5891420 (318)\ttotal: 2m 30s\tremaining: 5m 11s\n",
      "325:\tlearn: 0.6004429\ttest: 0.5883798\tbest: 0.5891420 (318)\ttotal: 2m 30s\tremaining: 5m 11s\n",
      "326:\tlearn: 0.6004792\ttest: 0.5883798\tbest: 0.5891420 (318)\ttotal: 2m 30s\tremaining: 5m 10s\n",
      "327:\tlearn: 0.6002251\ttest: 0.5882951\tbest: 0.5891420 (318)\ttotal: 2m 31s\tremaining: 5m 9s\n",
      "328:\tlearn: 0.6003703\ttest: 0.5884645\tbest: 0.5891420 (318)\ttotal: 2m 31s\tremaining: 5m 9s\n",
      "329:\tlearn: 0.6004792\ttest: 0.5884645\tbest: 0.5891420 (318)\ttotal: 2m 32s\tremaining: 5m 8s\n",
      "330:\tlearn: 0.6005881\ttest: 0.5890573\tbest: 0.5891420 (318)\ttotal: 2m 32s\tremaining: 5m 8s\n",
      "331:\tlearn: 0.6007696\ttest: 0.5892267\tbest: 0.5892267 (331)\ttotal: 2m 33s\tremaining: 5m 8s\n",
      "332:\tlearn: 0.6007333\ttest: 0.5893114\tbest: 0.5893114 (332)\ttotal: 2m 33s\tremaining: 5m 7s\n",
      "333:\tlearn: 0.6009511\ttest: 0.5894808\tbest: 0.5894808 (333)\ttotal: 2m 33s\tremaining: 5m 6s\n",
      "334:\tlearn: 0.6012052\ttest: 0.5893961\tbest: 0.5894808 (333)\ttotal: 2m 34s\tremaining: 5m 6s\n",
      "335:\tlearn: 0.6012778\ttest: 0.5894808\tbest: 0.5894808 (333)\ttotal: 2m 34s\tremaining: 5m 5s\n",
      "336:\tlearn: 0.6010237\ttest: 0.5897349\tbest: 0.5897349 (336)\ttotal: 2m 35s\tremaining: 5m 5s\n",
      "337:\tlearn: 0.6012052\ttest: 0.5898196\tbest: 0.5898196 (337)\ttotal: 2m 35s\tremaining: 5m 4s\n",
      "338:\tlearn: 0.6011689\ttest: 0.5897349\tbest: 0.5898196 (337)\ttotal: 2m 36s\tremaining: 5m 4s\n",
      "339:\tlearn: 0.6010237\ttest: 0.5897349\tbest: 0.5898196 (337)\ttotal: 2m 36s\tremaining: 5m 3s\n",
      "340:\tlearn: 0.6010963\ttest: 0.5897349\tbest: 0.5898196 (337)\ttotal: 2m 37s\tremaining: 5m 3s\n",
      "341:\tlearn: 0.6010237\ttest: 0.5899890\tbest: 0.5899890 (341)\ttotal: 2m 37s\tremaining: 5m 2s\n",
      "342:\tlearn: 0.6010963\ttest: 0.5901584\tbest: 0.5901584 (342)\ttotal: 2m 37s\tremaining: 5m 2s\n",
      "343:\tlearn: 0.6012415\ttest: 0.5901584\tbest: 0.5901584 (342)\ttotal: 2m 38s\tremaining: 5m 2s\n",
      "344:\tlearn: 0.6012052\ttest: 0.5900737\tbest: 0.5901584 (342)\ttotal: 2m 38s\tremaining: 5m 1s\n",
      "345:\tlearn: 0.6012052\ttest: 0.5900737\tbest: 0.5901584 (342)\ttotal: 2m 39s\tremaining: 5m 1s\n",
      "346:\tlearn: 0.6012415\ttest: 0.5898196\tbest: 0.5901584 (342)\ttotal: 2m 39s\tremaining: 5m 1s\n",
      "347:\tlearn: 0.6012052\ttest: 0.5897349\tbest: 0.5901584 (342)\ttotal: 2m 40s\tremaining: 5m\n",
      "348:\tlearn: 0.6012778\ttest: 0.5895655\tbest: 0.5901584 (342)\ttotal: 2m 40s\tremaining: 5m\n",
      "349:\tlearn: 0.6011689\ttest: 0.5894808\tbest: 0.5901584 (342)\ttotal: 2m 41s\tremaining: 4m 59s\n",
      "350:\tlearn: 0.6012052\ttest: 0.5895655\tbest: 0.5901584 (342)\ttotal: 2m 41s\tremaining: 4m 59s\n",
      "351:\tlearn: 0.6013867\ttest: 0.5896502\tbest: 0.5901584 (342)\ttotal: 2m 42s\tremaining: 4m 58s\n",
      "352:\tlearn: 0.6014593\ttest: 0.5893961\tbest: 0.5901584 (342)\ttotal: 2m 42s\tremaining: 4m 58s\n",
      "353:\tlearn: 0.6013504\ttest: 0.5897349\tbest: 0.5901584 (342)\ttotal: 2m 43s\tremaining: 4m 57s\n",
      "354:\tlearn: 0.6015319\ttest: 0.5899043\tbest: 0.5901584 (342)\ttotal: 2m 43s\tremaining: 4m 57s\n",
      "355:\tlearn: 0.6014230\ttest: 0.5898196\tbest: 0.5901584 (342)\ttotal: 2m 44s\tremaining: 4m 57s\n",
      "356:\tlearn: 0.6010963\ttest: 0.5894808\tbest: 0.5901584 (342)\ttotal: 2m 44s\tremaining: 4m 57s\n",
      "357:\tlearn: 0.6010963\ttest: 0.5894808\tbest: 0.5901584 (342)\ttotal: 2m 45s\tremaining: 4m 56s\n",
      "358:\tlearn: 0.6013867\ttest: 0.5893114\tbest: 0.5901584 (342)\ttotal: 2m 45s\tremaining: 4m 56s\n",
      "359:\tlearn: 0.6013504\ttest: 0.5893961\tbest: 0.5901584 (342)\ttotal: 2m 46s\tremaining: 4m 55s\n",
      "360:\tlearn: 0.6013504\ttest: 0.5895655\tbest: 0.5901584 (342)\ttotal: 2m 46s\tremaining: 4m 55s\n",
      "361:\tlearn: 0.6017134\ttest: 0.5893961\tbest: 0.5901584 (342)\ttotal: 2m 47s\tremaining: 4m 54s\n",
      "362:\tlearn: 0.6017860\ttest: 0.5894808\tbest: 0.5901584 (342)\ttotal: 2m 47s\tremaining: 4m 54s\n",
      "363:\tlearn: 0.6018949\ttest: 0.5899043\tbest: 0.5901584 (342)\ttotal: 2m 48s\tremaining: 4m 53s\n",
      "364:\tlearn: 0.6020401\ttest: 0.5896502\tbest: 0.5901584 (342)\ttotal: 2m 48s\tremaining: 4m 53s\n",
      "365:\tlearn: 0.6021853\ttest: 0.5894808\tbest: 0.5901584 (342)\ttotal: 2m 49s\tremaining: 4m 52s\n"
     ]
    },
    {
     "name": "stdout",
     "output_type": "stream",
     "text": [
      "366:\tlearn: 0.6019675\ttest: 0.5897349\tbest: 0.5901584 (342)\ttotal: 2m 49s\tremaining: 4m 52s\n",
      "367:\tlearn: 0.6019675\ttest: 0.5897349\tbest: 0.5901584 (342)\ttotal: 2m 50s\tremaining: 4m 52s\n",
      "368:\tlearn: 0.6020038\ttest: 0.5899043\tbest: 0.5901584 (342)\ttotal: 2m 50s\tremaining: 4m 52s\n",
      "369:\tlearn: 0.6020038\ttest: 0.5897349\tbest: 0.5901584 (342)\ttotal: 2m 51s\tremaining: 4m 51s\n",
      "370:\tlearn: 0.6020401\ttest: 0.5897349\tbest: 0.5901584 (342)\ttotal: 2m 51s\tremaining: 4m 51s\n",
      "371:\tlearn: 0.6020038\ttest: 0.5896502\tbest: 0.5901584 (342)\ttotal: 2m 52s\tremaining: 4m 51s\n",
      "372:\tlearn: 0.6022216\ttest: 0.5897349\tbest: 0.5901584 (342)\ttotal: 2m 53s\tremaining: 4m 50s\n",
      "373:\tlearn: 0.6022216\ttest: 0.5899043\tbest: 0.5901584 (342)\ttotal: 2m 53s\tremaining: 4m 50s\n",
      "374:\tlearn: 0.6022216\ttest: 0.5899043\tbest: 0.5901584 (342)\ttotal: 2m 53s\tremaining: 4m 49s\n",
      "375:\tlearn: 0.6024031\ttest: 0.5899043\tbest: 0.5901584 (342)\ttotal: 2m 54s\tremaining: 4m 49s\n",
      "376:\tlearn: 0.6022216\ttest: 0.5901584\tbest: 0.5901584 (342)\ttotal: 2m 54s\tremaining: 4m 48s\n",
      "377:\tlearn: 0.6021853\ttest: 0.5899043\tbest: 0.5901584 (342)\ttotal: 2m 55s\tremaining: 4m 48s\n",
      "378:\tlearn: 0.6022216\ttest: 0.5899043\tbest: 0.5901584 (342)\ttotal: 2m 55s\tremaining: 4m 48s\n",
      "379:\tlearn: 0.6022579\ttest: 0.5898196\tbest: 0.5901584 (342)\ttotal: 2m 56s\tremaining: 4m 47s\n",
      "380:\tlearn: 0.6024394\ttest: 0.5896502\tbest: 0.5901584 (342)\ttotal: 2m 56s\tremaining: 4m 47s\n",
      "381:\tlearn: 0.6024394\ttest: 0.5895655\tbest: 0.5901584 (342)\ttotal: 2m 57s\tremaining: 4m 46s\n",
      "382:\tlearn: 0.6025120\ttest: 0.5899890\tbest: 0.5901584 (342)\ttotal: 2m 57s\tremaining: 4m 46s\n",
      "383:\tlearn: 0.6028024\ttest: 0.5902431\tbest: 0.5902431 (383)\ttotal: 2m 58s\tremaining: 4m 45s\n",
      "384:\tlearn: 0.6027661\ttest: 0.5901584\tbest: 0.5902431 (383)\ttotal: 2m 58s\tremaining: 4m 45s\n",
      "385:\tlearn: 0.6028387\ttest: 0.5902431\tbest: 0.5902431 (383)\ttotal: 2m 59s\tremaining: 4m 45s\n",
      "386:\tlearn: 0.6029839\ttest: 0.5900737\tbest: 0.5902431 (383)\ttotal: 3m\tremaining: 4m 45s\n",
      "387:\tlearn: 0.6029476\ttest: 0.5900737\tbest: 0.5902431 (383)\ttotal: 3m\tremaining: 4m 45s\n",
      "388:\tlearn: 0.6029839\ttest: 0.5900737\tbest: 0.5902431 (383)\ttotal: 3m 1s\tremaining: 4m 44s\n",
      "389:\tlearn: 0.6029839\ttest: 0.5900737\tbest: 0.5902431 (383)\ttotal: 3m 1s\tremaining: 4m 44s\n",
      "390:\tlearn: 0.6030565\ttest: 0.5897349\tbest: 0.5902431 (383)\ttotal: 3m 2s\tremaining: 4m 43s\n",
      "391:\tlearn: 0.6030202\ttest: 0.5897349\tbest: 0.5902431 (383)\ttotal: 3m 2s\tremaining: 4m 43s\n",
      "392:\tlearn: 0.6032017\ttest: 0.5897349\tbest: 0.5902431 (383)\ttotal: 3m 3s\tremaining: 4m 43s\n",
      "393:\tlearn: 0.6032017\ttest: 0.5899890\tbest: 0.5902431 (383)\ttotal: 3m 3s\tremaining: 4m 42s\n",
      "394:\tlearn: 0.6030565\ttest: 0.5900737\tbest: 0.5902431 (383)\ttotal: 3m 4s\tremaining: 4m 42s\n",
      "395:\tlearn: 0.6030565\ttest: 0.5898196\tbest: 0.5902431 (383)\ttotal: 3m 4s\tremaining: 4m 42s\n",
      "396:\tlearn: 0.6028750\ttest: 0.5901584\tbest: 0.5902431 (383)\ttotal: 3m 5s\tremaining: 4m 41s\n",
      "397:\tlearn: 0.6029113\ttest: 0.5900737\tbest: 0.5902431 (383)\ttotal: 3m 6s\tremaining: 4m 41s\n",
      "398:\tlearn: 0.6030565\ttest: 0.5900737\tbest: 0.5902431 (383)\ttotal: 3m 6s\tremaining: 4m 41s\n",
      "399:\tlearn: 0.6029113\ttest: 0.5899890\tbest: 0.5902431 (383)\ttotal: 3m 7s\tremaining: 4m 40s\n",
      "400:\tlearn: 0.6030202\ttest: 0.5899043\tbest: 0.5902431 (383)\ttotal: 3m 7s\tremaining: 4m 40s\n",
      "401:\tlearn: 0.6030565\ttest: 0.5899043\tbest: 0.5902431 (383)\ttotal: 3m 8s\tremaining: 4m 39s\n",
      "402:\tlearn: 0.6030202\ttest: 0.5896502\tbest: 0.5902431 (383)\ttotal: 3m 8s\tremaining: 4m 39s\n",
      "403:\tlearn: 0.6031291\ttest: 0.5901584\tbest: 0.5902431 (383)\ttotal: 3m 9s\tremaining: 4m 39s\n",
      "404:\tlearn: 0.6033469\ttest: 0.5900737\tbest: 0.5902431 (383)\ttotal: 3m 10s\tremaining: 4m 39s\n",
      "405:\tlearn: 0.6034558\ttest: 0.5904125\tbest: 0.5904125 (405)\ttotal: 3m 10s\tremaining: 4m 38s\n",
      "406:\tlearn: 0.6034558\ttest: 0.5904125\tbest: 0.5904125 (405)\ttotal: 3m 11s\tremaining: 4m 38s\n",
      "407:\tlearn: 0.6033832\ttest: 0.5904972\tbest: 0.5904972 (407)\ttotal: 3m 11s\tremaining: 4m 38s\n",
      "408:\tlearn: 0.6036373\ttest: 0.5910053\tbest: 0.5910053 (408)\ttotal: 3m 12s\tremaining: 4m 37s\n",
      "409:\tlearn: 0.6034921\ttest: 0.5906666\tbest: 0.5910053 (408)\ttotal: 3m 12s\tremaining: 4m 37s\n",
      "410:\tlearn: 0.6033832\ttest: 0.5910053\tbest: 0.5910053 (408)\ttotal: 3m 13s\tremaining: 4m 37s\n",
      "411:\tlearn: 0.6034921\ttest: 0.5908359\tbest: 0.5910053 (408)\ttotal: 3m 14s\tremaining: 4m 36s\n",
      "412:\tlearn: 0.6034558\ttest: 0.5909206\tbest: 0.5910053 (408)\ttotal: 3m 14s\tremaining: 4m 36s\n",
      "413:\tlearn: 0.6035284\ttest: 0.5911747\tbest: 0.5911747 (413)\ttotal: 3m 15s\tremaining: 4m 36s\n",
      "414:\tlearn: 0.6032017\ttest: 0.5910900\tbest: 0.5911747 (413)\ttotal: 3m 15s\tremaining: 4m 35s\n",
      "415:\tlearn: 0.6032017\ttest: 0.5910900\tbest: 0.5911747 (413)\ttotal: 3m 16s\tremaining: 4m 35s\n",
      "416:\tlearn: 0.6034921\ttest: 0.5912594\tbest: 0.5912594 (416)\ttotal: 3m 16s\tremaining: 4m 35s\n",
      "417:\tlearn: 0.6036010\ttest: 0.5912594\tbest: 0.5912594 (416)\ttotal: 3m 17s\tremaining: 4m 34s\n",
      "418:\tlearn: 0.6035647\ttest: 0.5911747\tbest: 0.5912594 (416)\ttotal: 3m 17s\tremaining: 4m 34s\n",
      "419:\tlearn: 0.6036373\ttest: 0.5908359\tbest: 0.5912594 (416)\ttotal: 3m 18s\tremaining: 4m 34s\n",
      "420:\tlearn: 0.6037099\ttest: 0.5908359\tbest: 0.5912594 (416)\ttotal: 3m 18s\tremaining: 4m 33s\n",
      "421:\tlearn: 0.6040003\ttest: 0.5907512\tbest: 0.5912594 (416)\ttotal: 3m 19s\tremaining: 4m 33s\n",
      "422:\tlearn: 0.6039640\ttest: 0.5906666\tbest: 0.5912594 (416)\ttotal: 3m 19s\tremaining: 4m 32s\n",
      "423:\tlearn: 0.6040003\ttest: 0.5910053\tbest: 0.5912594 (416)\ttotal: 3m 20s\tremaining: 4m 32s\n",
      "424:\tlearn: 0.6040003\ttest: 0.5906666\tbest: 0.5912594 (416)\ttotal: 3m 21s\tremaining: 4m 32s\n",
      "425:\tlearn: 0.6044359\ttest: 0.5909206\tbest: 0.5912594 (416)\ttotal: 3m 21s\tremaining: 4m 31s\n",
      "426:\tlearn: 0.6043270\ttest: 0.5909206\tbest: 0.5912594 (416)\ttotal: 3m 22s\tremaining: 4m 31s\n",
      "427:\tlearn: 0.6042181\ttest: 0.5910053\tbest: 0.5912594 (416)\ttotal: 3m 22s\tremaining: 4m 31s\n",
      "428:\tlearn: 0.6042907\ttest: 0.5911747\tbest: 0.5912594 (416)\ttotal: 3m 23s\tremaining: 4m 30s\n",
      "429:\tlearn: 0.6041818\ttest: 0.5907512\tbest: 0.5912594 (416)\ttotal: 3m 23s\tremaining: 4m 30s\n",
      "430:\tlearn: 0.6043633\ttest: 0.5909206\tbest: 0.5912594 (416)\ttotal: 3m 24s\tremaining: 4m 29s\n",
      "431:\tlearn: 0.6043633\ttest: 0.5909206\tbest: 0.5912594 (416)\ttotal: 3m 24s\tremaining: 4m 29s\n",
      "432:\tlearn: 0.6045085\ttest: 0.5911747\tbest: 0.5912594 (416)\ttotal: 3m 25s\tremaining: 4m 28s\n",
      "433:\tlearn: 0.6044722\ttest: 0.5912594\tbest: 0.5912594 (416)\ttotal: 3m 25s\tremaining: 4m 28s\n",
      "434:\tlearn: 0.6046537\ttest: 0.5914288\tbest: 0.5914288 (434)\ttotal: 3m 26s\tremaining: 4m 28s\n",
      "435:\tlearn: 0.6046900\ttest: 0.5915982\tbest: 0.5915982 (435)\ttotal: 3m 26s\tremaining: 4m 27s\n",
      "436:\tlearn: 0.6048352\ttest: 0.5915135\tbest: 0.5915982 (435)\ttotal: 3m 27s\tremaining: 4m 27s\n",
      "437:\tlearn: 0.6047989\ttest: 0.5914288\tbest: 0.5915982 (435)\ttotal: 3m 27s\tremaining: 4m 26s\n",
      "438:\tlearn: 0.6049078\ttest: 0.5915135\tbest: 0.5915982 (435)\ttotal: 3m 28s\tremaining: 4m 26s\n",
      "439:\tlearn: 0.6049441\ttest: 0.5916829\tbest: 0.5916829 (439)\ttotal: 3m 28s\tremaining: 4m 25s\n",
      "440:\tlearn: 0.6049441\ttest: 0.5918523\tbest: 0.5918523 (440)\ttotal: 3m 29s\tremaining: 4m 25s\n",
      "441:\tlearn: 0.6051982\ttest: 0.5915982\tbest: 0.5918523 (440)\ttotal: 3m 30s\tremaining: 4m 25s\n",
      "442:\tlearn: 0.6051619\ttest: 0.5915982\tbest: 0.5918523 (440)\ttotal: 3m 31s\tremaining: 4m 25s\n",
      "443:\tlearn: 0.6053071\ttest: 0.5918523\tbest: 0.5918523 (440)\ttotal: 3m 31s\tremaining: 4m 25s\n",
      "444:\tlearn: 0.6052345\ttest: 0.5919370\tbest: 0.5919370 (444)\ttotal: 3m 32s\tremaining: 4m 25s\n",
      "445:\tlearn: 0.6051982\ttest: 0.5915135\tbest: 0.5919370 (444)\ttotal: 3m 33s\tremaining: 4m 24s\n",
      "446:\tlearn: 0.6052345\ttest: 0.5918523\tbest: 0.5919370 (444)\ttotal: 3m 33s\tremaining: 4m 24s\n",
      "447:\tlearn: 0.6051982\ttest: 0.5922758\tbest: 0.5922758 (447)\ttotal: 3m 34s\tremaining: 4m 24s\n",
      "448:\tlearn: 0.6051256\ttest: 0.5923605\tbest: 0.5923605 (448)\ttotal: 3m 34s\tremaining: 4m 23s\n",
      "449:\tlearn: 0.6052345\ttest: 0.5924452\tbest: 0.5924452 (449)\ttotal: 3m 35s\tremaining: 4m 23s\n",
      "450:\tlearn: 0.6052345\ttest: 0.5925299\tbest: 0.5925299 (450)\ttotal: 3m 35s\tremaining: 4m 22s\n",
      "451:\tlearn: 0.6050530\ttest: 0.5921064\tbest: 0.5925299 (450)\ttotal: 3m 36s\tremaining: 4m 22s\n",
      "452:\tlearn: 0.6053434\ttest: 0.5918523\tbest: 0.5925299 (450)\ttotal: 3m 36s\tremaining: 4m 21s\n",
      "453:\tlearn: 0.6052708\ttest: 0.5920217\tbest: 0.5925299 (450)\ttotal: 3m 37s\tremaining: 4m 21s\n",
      "454:\tlearn: 0.6054523\ttest: 0.5921064\tbest: 0.5925299 (450)\ttotal: 3m 37s\tremaining: 4m 21s\n",
      "455:\tlearn: 0.6054160\ttest: 0.5918523\tbest: 0.5925299 (450)\ttotal: 3m 38s\tremaining: 4m 20s\n"
     ]
    },
    {
     "name": "stdout",
     "output_type": "stream",
     "text": [
      "456:\tlearn: 0.6054160\ttest: 0.5918523\tbest: 0.5925299 (450)\ttotal: 3m 38s\tremaining: 4m 20s\n",
      "457:\tlearn: 0.6051619\ttest: 0.5917676\tbest: 0.5925299 (450)\ttotal: 3m 39s\tremaining: 4m 19s\n",
      "458:\tlearn: 0.6052345\ttest: 0.5922758\tbest: 0.5925299 (450)\ttotal: 3m 39s\tremaining: 4m 19s\n",
      "459:\tlearn: 0.6052345\ttest: 0.5922758\tbest: 0.5925299 (450)\ttotal: 3m 40s\tremaining: 4m 18s\n",
      "460:\tlearn: 0.6054523\ttest: 0.5925299\tbest: 0.5925299 (450)\ttotal: 3m 40s\tremaining: 4m 18s\n",
      "461:\tlearn: 0.6055612\ttest: 0.5921064\tbest: 0.5925299 (450)\ttotal: 3m 41s\tremaining: 4m 17s\n",
      "462:\tlearn: 0.6055975\ttest: 0.5922758\tbest: 0.5925299 (450)\ttotal: 3m 41s\tremaining: 4m 17s\n",
      "463:\tlearn: 0.6057790\ttest: 0.5925299\tbest: 0.5925299 (450)\ttotal: 3m 42s\tremaining: 4m 17s\n",
      "464:\tlearn: 0.6056701\ttest: 0.5923605\tbest: 0.5925299 (450)\ttotal: 3m 43s\tremaining: 4m 16s\n",
      "465:\tlearn: 0.6057064\ttest: 0.5921911\tbest: 0.5925299 (450)\ttotal: 3m 43s\tremaining: 4m 16s\n",
      "466:\tlearn: 0.6057064\ttest: 0.5924452\tbest: 0.5925299 (450)\ttotal: 3m 44s\tremaining: 4m 15s\n",
      "467:\tlearn: 0.6057790\ttest: 0.5923605\tbest: 0.5925299 (450)\ttotal: 3m 44s\tremaining: 4m 15s\n",
      "468:\tlearn: 0.6060694\ttest: 0.5922758\tbest: 0.5925299 (450)\ttotal: 3m 45s\tremaining: 4m 14s\n",
      "469:\tlearn: 0.6061420\ttest: 0.5919370\tbest: 0.5925299 (450)\ttotal: 3m 45s\tremaining: 4m 14s\n",
      "470:\tlearn: 0.6061783\ttest: 0.5921064\tbest: 0.5925299 (450)\ttotal: 3m 46s\tremaining: 4m 14s\n",
      "471:\tlearn: 0.6061783\ttest: 0.5921064\tbest: 0.5925299 (450)\ttotal: 3m 46s\tremaining: 4m 13s\n",
      "472:\tlearn: 0.6059242\ttest: 0.5919370\tbest: 0.5925299 (450)\ttotal: 3m 47s\tremaining: 4m 13s\n",
      "473:\tlearn: 0.6060331\ttest: 0.5920217\tbest: 0.5925299 (450)\ttotal: 3m 47s\tremaining: 4m 12s\n",
      "474:\tlearn: 0.6061420\ttest: 0.5919370\tbest: 0.5925299 (450)\ttotal: 3m 48s\tremaining: 4m 12s\n",
      "475:\tlearn: 0.6062872\ttest: 0.5920217\tbest: 0.5925299 (450)\ttotal: 3m 49s\tremaining: 4m 12s\n",
      "476:\tlearn: 0.6065050\ttest: 0.5920217\tbest: 0.5925299 (450)\ttotal: 3m 49s\tremaining: 4m 11s\n",
      "477:\tlearn: 0.6062872\ttest: 0.5921911\tbest: 0.5925299 (450)\ttotal: 3m 50s\tremaining: 4m 11s\n",
      "478:\tlearn: 0.6065050\ttest: 0.5916829\tbest: 0.5925299 (450)\ttotal: 3m 50s\tremaining: 4m 11s\n",
      "479:\tlearn: 0.6065050\ttest: 0.5916829\tbest: 0.5925299 (450)\ttotal: 3m 51s\tremaining: 4m 10s\n",
      "480:\tlearn: 0.6063961\ttest: 0.5918523\tbest: 0.5925299 (450)\ttotal: 3m 52s\tremaining: 4m 10s\n",
      "481:\tlearn: 0.6063961\ttest: 0.5921064\tbest: 0.5925299 (450)\ttotal: 3m 52s\tremaining: 4m 9s\n",
      "482:\tlearn: 0.6064687\ttest: 0.5920217\tbest: 0.5925299 (450)\ttotal: 3m 53s\tremaining: 4m 9s\n",
      "483:\tlearn: 0.6065050\ttest: 0.5920217\tbest: 0.5925299 (450)\ttotal: 3m 53s\tremaining: 4m 9s\n",
      "484:\tlearn: 0.6063598\ttest: 0.5920217\tbest: 0.5925299 (450)\ttotal: 3m 54s\tremaining: 4m 8s\n",
      "485:\tlearn: 0.6065050\ttest: 0.5919370\tbest: 0.5925299 (450)\ttotal: 3m 54s\tremaining: 4m 8s\n",
      "486:\tlearn: 0.6064324\ttest: 0.5916829\tbest: 0.5925299 (450)\ttotal: 3m 55s\tremaining: 4m 8s\n",
      "487:\tlearn: 0.6065776\ttest: 0.5916829\tbest: 0.5925299 (450)\ttotal: 3m 56s\tremaining: 4m 7s\n",
      "488:\tlearn: 0.6069043\ttest: 0.5919370\tbest: 0.5925299 (450)\ttotal: 3m 56s\tremaining: 4m 7s\n",
      "489:\tlearn: 0.6068317\ttest: 0.5921064\tbest: 0.5925299 (450)\ttotal: 3m 57s\tremaining: 4m 7s\n",
      "490:\tlearn: 0.6067591\ttest: 0.5921064\tbest: 0.5925299 (450)\ttotal: 3m 58s\tremaining: 4m 6s\n",
      "491:\tlearn: 0.6067228\ttest: 0.5918523\tbest: 0.5925299 (450)\ttotal: 3m 58s\tremaining: 4m 6s\n",
      "492:\tlearn: 0.6067228\ttest: 0.5923605\tbest: 0.5925299 (450)\ttotal: 3m 59s\tremaining: 4m 5s\n",
      "493:\tlearn: 0.6070132\ttest: 0.5926146\tbest: 0.5926146 (493)\ttotal: 3m 59s\tremaining: 4m 5s\n",
      "494:\tlearn: 0.6070495\ttest: 0.5928686\tbest: 0.5928686 (494)\ttotal: 4m\tremaining: 4m 5s\n",
      "495:\tlearn: 0.6070858\ttest: 0.5929533\tbest: 0.5929533 (495)\ttotal: 4m\tremaining: 4m 4s\n",
      "496:\tlearn: 0.6070495\ttest: 0.5926992\tbest: 0.5929533 (495)\ttotal: 4m 1s\tremaining: 4m 4s\n",
      "497:\tlearn: 0.6074488\ttest: 0.5930380\tbest: 0.5930380 (497)\ttotal: 4m 1s\tremaining: 4m 3s\n",
      "498:\tlearn: 0.6073036\ttest: 0.5932074\tbest: 0.5932074 (498)\ttotal: 4m 2s\tremaining: 4m 3s\n",
      "499:\tlearn: 0.6072673\ttest: 0.5932074\tbest: 0.5932074 (498)\ttotal: 4m 3s\tremaining: 4m 3s\n",
      "500:\tlearn: 0.6073399\ttest: 0.5932074\tbest: 0.5932074 (498)\ttotal: 4m 3s\tremaining: 4m 2s\n",
      "501:\tlearn: 0.6075940\ttest: 0.5935462\tbest: 0.5935462 (501)\ttotal: 4m 4s\tremaining: 4m 2s\n",
      "502:\tlearn: 0.6077029\ttest: 0.5935462\tbest: 0.5935462 (501)\ttotal: 4m 5s\tremaining: 4m 2s\n",
      "503:\tlearn: 0.6075577\ttest: 0.5937156\tbest: 0.5937156 (503)\ttotal: 4m 5s\tremaining: 4m 1s\n",
      "504:\tlearn: 0.6077755\ttest: 0.5938850\tbest: 0.5938850 (504)\ttotal: 4m 6s\tremaining: 4m 1s\n",
      "505:\tlearn: 0.6078118\ttest: 0.5936309\tbest: 0.5938850 (504)\ttotal: 4m 6s\tremaining: 4m\n",
      "506:\tlearn: 0.6081022\ttest: 0.5933768\tbest: 0.5938850 (504)\ttotal: 4m 7s\tremaining: 4m\n",
      "507:\tlearn: 0.6082111\ttest: 0.5932921\tbest: 0.5938850 (504)\ttotal: 4m 7s\tremaining: 3m 59s\n",
      "508:\tlearn: 0.6081748\ttest: 0.5932074\tbest: 0.5938850 (504)\ttotal: 4m 8s\tremaining: 3m 59s\n",
      "509:\tlearn: 0.6077755\ttest: 0.5932921\tbest: 0.5938850 (504)\ttotal: 4m 8s\tremaining: 3m 59s\n",
      "510:\tlearn: 0.6077755\ttest: 0.5934615\tbest: 0.5938850 (504)\ttotal: 4m 9s\tremaining: 3m 58s\n",
      "511:\tlearn: 0.6079933\ttest: 0.5935462\tbest: 0.5938850 (504)\ttotal: 4m 10s\tremaining: 3m 58s\n",
      "512:\tlearn: 0.6080296\ttest: 0.5933768\tbest: 0.5938850 (504)\ttotal: 4m 10s\tremaining: 3m 58s\n",
      "513:\tlearn: 0.6081385\ttest: 0.5933768\tbest: 0.5938850 (504)\ttotal: 4m 11s\tremaining: 3m 57s\n",
      "514:\tlearn: 0.6077392\ttest: 0.5932921\tbest: 0.5938850 (504)\ttotal: 4m 12s\tremaining: 3m 57s\n",
      "515:\tlearn: 0.6077755\ttest: 0.5934615\tbest: 0.5938850 (504)\ttotal: 4m 12s\tremaining: 3m 57s\n",
      "516:\tlearn: 0.6077755\ttest: 0.5932921\tbest: 0.5938850 (504)\ttotal: 4m 13s\tremaining: 3m 56s\n",
      "517:\tlearn: 0.6076666\ttest: 0.5935462\tbest: 0.5938850 (504)\ttotal: 4m 13s\tremaining: 3m 56s\n",
      "518:\tlearn: 0.6078481\ttest: 0.5933768\tbest: 0.5938850 (504)\ttotal: 4m 14s\tremaining: 3m 55s\n",
      "519:\tlearn: 0.6076303\ttest: 0.5932921\tbest: 0.5938850 (504)\ttotal: 4m 14s\tremaining: 3m 55s\n",
      "520:\tlearn: 0.6077755\ttest: 0.5938850\tbest: 0.5938850 (504)\ttotal: 4m 15s\tremaining: 3m 54s\n",
      "521:\tlearn: 0.6078844\ttest: 0.5937156\tbest: 0.5938850 (504)\ttotal: 4m 16s\tremaining: 3m 54s\n",
      "522:\tlearn: 0.6080659\ttest: 0.5937156\tbest: 0.5938850 (504)\ttotal: 4m 16s\tremaining: 3m 54s\n",
      "523:\tlearn: 0.6081022\ttest: 0.5937156\tbest: 0.5938850 (504)\ttotal: 4m 17s\tremaining: 3m 53s\n",
      "524:\tlearn: 0.6080659\ttest: 0.5938003\tbest: 0.5938850 (504)\ttotal: 4m 17s\tremaining: 3m 53s\n",
      "525:\tlearn: 0.6082837\ttest: 0.5938003\tbest: 0.5938850 (504)\ttotal: 4m 18s\tremaining: 3m 52s\n",
      "526:\tlearn: 0.6081385\ttest: 0.5937156\tbest: 0.5938850 (504)\ttotal: 4m 18s\tremaining: 3m 52s\n",
      "527:\tlearn: 0.6081385\ttest: 0.5937156\tbest: 0.5938850 (504)\ttotal: 4m 19s\tremaining: 3m 52s\n",
      "528:\tlearn: 0.6081385\ttest: 0.5938850\tbest: 0.5938850 (504)\ttotal: 4m 20s\tremaining: 3m 51s\n",
      "529:\tlearn: 0.6081385\ttest: 0.5939697\tbest: 0.5939697 (529)\ttotal: 4m 20s\tremaining: 3m 51s\n",
      "530:\tlearn: 0.6082111\ttest: 0.5940544\tbest: 0.5940544 (530)\ttotal: 4m 21s\tremaining: 3m 50s\n",
      "531:\tlearn: 0.6080659\ttest: 0.5940544\tbest: 0.5940544 (530)\ttotal: 4m 22s\tremaining: 3m 50s\n",
      "532:\tlearn: 0.6079207\ttest: 0.5943085\tbest: 0.5943085 (532)\ttotal: 4m 22s\tremaining: 3m 50s\n",
      "533:\tlearn: 0.6081022\ttest: 0.5943932\tbest: 0.5943932 (533)\ttotal: 4m 23s\tremaining: 3m 49s\n",
      "534:\tlearn: 0.6082837\ttest: 0.5941391\tbest: 0.5943932 (533)\ttotal: 4m 23s\tremaining: 3m 49s\n",
      "535:\tlearn: 0.6082474\ttest: 0.5941391\tbest: 0.5943932 (533)\ttotal: 4m 24s\tremaining: 3m 48s\n",
      "536:\tlearn: 0.6082111\ttest: 0.5940544\tbest: 0.5943932 (533)\ttotal: 4m 24s\tremaining: 3m 48s\n",
      "537:\tlearn: 0.6080659\ttest: 0.5940544\tbest: 0.5943932 (533)\ttotal: 4m 25s\tremaining: 3m 47s\n",
      "538:\tlearn: 0.6081748\ttest: 0.5937156\tbest: 0.5943932 (533)\ttotal: 4m 25s\tremaining: 3m 47s\n",
      "539:\tlearn: 0.6083200\ttest: 0.5938003\tbest: 0.5943932 (533)\ttotal: 4m 26s\tremaining: 3m 46s\n",
      "540:\tlearn: 0.6082837\ttest: 0.5938850\tbest: 0.5943932 (533)\ttotal: 4m 26s\tremaining: 3m 46s\n",
      "541:\tlearn: 0.6084289\ttest: 0.5938850\tbest: 0.5943932 (533)\ttotal: 4m 27s\tremaining: 3m 45s\n",
      "542:\tlearn: 0.6086104\ttest: 0.5938003\tbest: 0.5943932 (533)\ttotal: 4m 27s\tremaining: 3m 45s\n",
      "543:\tlearn: 0.6085741\ttest: 0.5939697\tbest: 0.5943932 (533)\ttotal: 4m 28s\tremaining: 3m 45s\n",
      "544:\tlearn: 0.6084652\ttest: 0.5938850\tbest: 0.5943932 (533)\ttotal: 4m 29s\tremaining: 3m 44s\n",
      "545:\tlearn: 0.6084652\ttest: 0.5939697\tbest: 0.5943932 (533)\ttotal: 4m 29s\tremaining: 3m 44s\n"
     ]
    },
    {
     "name": "stdout",
     "output_type": "stream",
     "text": [
      "546:\tlearn: 0.6085015\ttest: 0.5938850\tbest: 0.5943932 (533)\ttotal: 4m 30s\tremaining: 3m 43s\n",
      "547:\tlearn: 0.6086830\ttest: 0.5938850\tbest: 0.5943932 (533)\ttotal: 4m 30s\tremaining: 3m 43s\n",
      "548:\tlearn: 0.6083200\ttest: 0.5933768\tbest: 0.5943932 (533)\ttotal: 4m 31s\tremaining: 3m 42s\n",
      "549:\tlearn: 0.6083200\ttest: 0.5935462\tbest: 0.5943932 (533)\ttotal: 4m 31s\tremaining: 3m 42s\n",
      "550:\tlearn: 0.6087919\ttest: 0.5935462\tbest: 0.5943932 (533)\ttotal: 4m 32s\tremaining: 3m 41s\n",
      "551:\tlearn: 0.6087919\ttest: 0.5936309\tbest: 0.5943932 (533)\ttotal: 4m 32s\tremaining: 3m 41s\n",
      "552:\tlearn: 0.6090460\ttest: 0.5933768\tbest: 0.5943932 (533)\ttotal: 4m 33s\tremaining: 3m 40s\n",
      "553:\tlearn: 0.6089008\ttest: 0.5931227\tbest: 0.5943932 (533)\ttotal: 4m 33s\tremaining: 3m 40s\n",
      "554:\tlearn: 0.6093364\ttest: 0.5931227\tbest: 0.5943932 (533)\ttotal: 4m 34s\tremaining: 3m 40s\n",
      "555:\tlearn: 0.6093001\ttest: 0.5932074\tbest: 0.5943932 (533)\ttotal: 4m 34s\tremaining: 3m 39s\n",
      "556:\tlearn: 0.6095542\ttest: 0.5935462\tbest: 0.5943932 (533)\ttotal: 4m 35s\tremaining: 3m 39s\n",
      "557:\tlearn: 0.6094816\ttest: 0.5933768\tbest: 0.5943932 (533)\ttotal: 4m 36s\tremaining: 3m 38s\n",
      "558:\tlearn: 0.6094816\ttest: 0.5935462\tbest: 0.5943932 (533)\ttotal: 4m 36s\tremaining: 3m 38s\n",
      "559:\tlearn: 0.6090460\ttest: 0.5935462\tbest: 0.5943932 (533)\ttotal: 4m 37s\tremaining: 3m 37s\n",
      "560:\tlearn: 0.6090823\ttest: 0.5938003\tbest: 0.5943932 (533)\ttotal: 4m 37s\tremaining: 3m 37s\n",
      "561:\tlearn: 0.6090460\ttest: 0.5938850\tbest: 0.5943932 (533)\ttotal: 4m 38s\tremaining: 3m 36s\n",
      "562:\tlearn: 0.6091549\ttest: 0.5937156\tbest: 0.5943932 (533)\ttotal: 4m 38s\tremaining: 3m 36s\n",
      "563:\tlearn: 0.6092275\ttest: 0.5937156\tbest: 0.5943932 (533)\ttotal: 4m 39s\tremaining: 3m 35s\n",
      "564:\tlearn: 0.6091549\ttest: 0.5938003\tbest: 0.5943932 (533)\ttotal: 4m 39s\tremaining: 3m 35s\n",
      "565:\tlearn: 0.6093001\ttest: 0.5938003\tbest: 0.5943932 (533)\ttotal: 4m 40s\tremaining: 3m 34s\n",
      "566:\tlearn: 0.6093364\ttest: 0.5938850\tbest: 0.5943932 (533)\ttotal: 4m 40s\tremaining: 3m 34s\n",
      "567:\tlearn: 0.6093727\ttest: 0.5934615\tbest: 0.5943932 (533)\ttotal: 4m 41s\tremaining: 3m 33s\n",
      "568:\tlearn: 0.6096994\ttest: 0.5937156\tbest: 0.5943932 (533)\ttotal: 4m 41s\tremaining: 3m 33s\n",
      "569:\tlearn: 0.6095542\ttest: 0.5935462\tbest: 0.5943932 (533)\ttotal: 4m 42s\tremaining: 3m 33s\n",
      "570:\tlearn: 0.6095905\ttest: 0.5934615\tbest: 0.5943932 (533)\ttotal: 4m 42s\tremaining: 3m 32s\n",
      "571:\tlearn: 0.6095542\ttest: 0.5934615\tbest: 0.5943932 (533)\ttotal: 4m 43s\tremaining: 3m 32s\n",
      "572:\tlearn: 0.6094453\ttest: 0.5933768\tbest: 0.5943932 (533)\ttotal: 4m 43s\tremaining: 3m 31s\n",
      "573:\tlearn: 0.6095905\ttest: 0.5935462\tbest: 0.5943932 (533)\ttotal: 4m 44s\tremaining: 3m 31s\n",
      "574:\tlearn: 0.6095905\ttest: 0.5933768\tbest: 0.5943932 (533)\ttotal: 4m 44s\tremaining: 3m 30s\n",
      "575:\tlearn: 0.6096994\ttest: 0.5933768\tbest: 0.5943932 (533)\ttotal: 4m 45s\tremaining: 3m 30s\n",
      "576:\tlearn: 0.6097720\ttest: 0.5932074\tbest: 0.5943932 (533)\ttotal: 4m 46s\tremaining: 3m 29s\n",
      "577:\tlearn: 0.6098446\ttest: 0.5934615\tbest: 0.5943932 (533)\ttotal: 4m 46s\tremaining: 3m 29s\n",
      "578:\tlearn: 0.6100987\ttest: 0.5935462\tbest: 0.5943932 (533)\ttotal: 4m 47s\tremaining: 3m 28s\n",
      "579:\tlearn: 0.6100987\ttest: 0.5935462\tbest: 0.5943932 (533)\ttotal: 4m 47s\tremaining: 3m 28s\n",
      "580:\tlearn: 0.6100261\ttest: 0.5934615\tbest: 0.5943932 (533)\ttotal: 4m 48s\tremaining: 3m 27s\n",
      "581:\tlearn: 0.6100624\ttest: 0.5933768\tbest: 0.5943932 (533)\ttotal: 4m 48s\tremaining: 3m 27s\n",
      "582:\tlearn: 0.6095905\ttest: 0.5932074\tbest: 0.5943932 (533)\ttotal: 4m 49s\tremaining: 3m 26s\n",
      "583:\tlearn: 0.6096631\ttest: 0.5932921\tbest: 0.5943932 (533)\ttotal: 4m 49s\tremaining: 3m 26s\n",
      "584:\tlearn: 0.6095179\ttest: 0.5935462\tbest: 0.5943932 (533)\ttotal: 4m 50s\tremaining: 3m 25s\n",
      "585:\tlearn: 0.6096268\ttest: 0.5935462\tbest: 0.5943932 (533)\ttotal: 4m 50s\tremaining: 3m 25s\n",
      "586:\tlearn: 0.6096631\ttest: 0.5934615\tbest: 0.5943932 (533)\ttotal: 4m 51s\tremaining: 3m 24s\n",
      "587:\tlearn: 0.6098083\ttest: 0.5936309\tbest: 0.5943932 (533)\ttotal: 4m 51s\tremaining: 3m 24s\n",
      "588:\tlearn: 0.6096994\ttest: 0.5937156\tbest: 0.5943932 (533)\ttotal: 4m 52s\tremaining: 3m 24s\n",
      "589:\tlearn: 0.6097720\ttest: 0.5932921\tbest: 0.5943932 (533)\ttotal: 4m 53s\tremaining: 3m 23s\n",
      "590:\tlearn: 0.6098083\ttest: 0.5933768\tbest: 0.5943932 (533)\ttotal: 4m 53s\tremaining: 3m 23s\n",
      "591:\tlearn: 0.6098083\ttest: 0.5934615\tbest: 0.5943932 (533)\ttotal: 4m 54s\tremaining: 3m 22s\n",
      "592:\tlearn: 0.6096631\ttest: 0.5934615\tbest: 0.5943932 (533)\ttotal: 4m 54s\tremaining: 3m 22s\n",
      "593:\tlearn: 0.6100624\ttest: 0.5933768\tbest: 0.5943932 (533)\ttotal: 4m 55s\tremaining: 3m 21s\n",
      "594:\tlearn: 0.6100987\ttest: 0.5934615\tbest: 0.5943932 (533)\ttotal: 4m 55s\tremaining: 3m 21s\n",
      "595:\tlearn: 0.6098809\ttest: 0.5934615\tbest: 0.5943932 (533)\ttotal: 4m 56s\tremaining: 3m 20s\n",
      "596:\tlearn: 0.6102439\ttest: 0.5932921\tbest: 0.5943932 (533)\ttotal: 4m 56s\tremaining: 3m 20s\n",
      "597:\tlearn: 0.6099898\ttest: 0.5935462\tbest: 0.5943932 (533)\ttotal: 4m 57s\tremaining: 3m 19s\n",
      "598:\tlearn: 0.6100261\ttest: 0.5935462\tbest: 0.5943932 (533)\ttotal: 4m 57s\tremaining: 3m 19s\n",
      "599:\tlearn: 0.6101713\ttest: 0.5936309\tbest: 0.5943932 (533)\ttotal: 4m 58s\tremaining: 3m 18s\n",
      "600:\tlearn: 0.6102439\ttest: 0.5938850\tbest: 0.5943932 (533)\ttotal: 4m 58s\tremaining: 3m 18s\n",
      "601:\tlearn: 0.6101350\ttest: 0.5938850\tbest: 0.5943932 (533)\ttotal: 4m 59s\tremaining: 3m 17s\n",
      "602:\tlearn: 0.6099535\ttest: 0.5938003\tbest: 0.5943932 (533)\ttotal: 4m 59s\tremaining: 3m 17s\n",
      "603:\tlearn: 0.6102439\ttest: 0.5940544\tbest: 0.5943932 (533)\ttotal: 5m\tremaining: 3m 16s\n",
      "604:\tlearn: 0.6102076\ttest: 0.5938850\tbest: 0.5943932 (533)\ttotal: 5m\tremaining: 3m 16s\n",
      "605:\tlearn: 0.6101350\ttest: 0.5942238\tbest: 0.5943932 (533)\ttotal: 5m 1s\tremaining: 3m 15s\n",
      "606:\tlearn: 0.6101350\ttest: 0.5939697\tbest: 0.5943932 (533)\ttotal: 5m 1s\tremaining: 3m 15s\n",
      "607:\tlearn: 0.6101713\ttest: 0.5940544\tbest: 0.5943932 (533)\ttotal: 5m 2s\tremaining: 3m 14s\n",
      "608:\tlearn: 0.6100624\ttest: 0.5941391\tbest: 0.5943932 (533)\ttotal: 5m 2s\tremaining: 3m 14s\n",
      "609:\tlearn: 0.6100261\ttest: 0.5942238\tbest: 0.5943932 (533)\ttotal: 5m 3s\tremaining: 3m 13s\n",
      "610:\tlearn: 0.6102076\ttest: 0.5941391\tbest: 0.5943932 (533)\ttotal: 5m 3s\tremaining: 3m 13s\n",
      "611:\tlearn: 0.6102439\ttest: 0.5941391\tbest: 0.5943932 (533)\ttotal: 5m 4s\tremaining: 3m 13s\n",
      "612:\tlearn: 0.6102439\ttest: 0.5941391\tbest: 0.5943932 (533)\ttotal: 5m 5s\tremaining: 3m 12s\n",
      "613:\tlearn: 0.6103528\ttest: 0.5941391\tbest: 0.5943932 (533)\ttotal: 5m 5s\tremaining: 3m 12s\n",
      "614:\tlearn: 0.6103528\ttest: 0.5942238\tbest: 0.5943932 (533)\ttotal: 5m 6s\tremaining: 3m 11s\n",
      "615:\tlearn: 0.6102439\ttest: 0.5943932\tbest: 0.5943932 (533)\ttotal: 5m 6s\tremaining: 3m 11s\n",
      "616:\tlearn: 0.6105706\ttest: 0.5942238\tbest: 0.5943932 (533)\ttotal: 5m 7s\tremaining: 3m 10s\n",
      "617:\tlearn: 0.6107521\ttest: 0.5942238\tbest: 0.5943932 (533)\ttotal: 5m 7s\tremaining: 3m 10s\n",
      "618:\tlearn: 0.6107158\ttest: 0.5942238\tbest: 0.5943932 (533)\ttotal: 5m 8s\tremaining: 3m 9s\n",
      "619:\tlearn: 0.6107521\ttest: 0.5941391\tbest: 0.5943932 (533)\ttotal: 5m 9s\tremaining: 3m 9s\n",
      "620:\tlearn: 0.6107521\ttest: 0.5941391\tbest: 0.5943932 (533)\ttotal: 5m 9s\tremaining: 3m 9s\n",
      "621:\tlearn: 0.6108973\ttest: 0.5942238\tbest: 0.5943932 (533)\ttotal: 5m 10s\tremaining: 3m 8s\n",
      "622:\tlearn: 0.6108610\ttest: 0.5943932\tbest: 0.5943932 (533)\ttotal: 5m 10s\tremaining: 3m 8s\n",
      "623:\tlearn: 0.6108973\ttest: 0.5944779\tbest: 0.5944779 (623)\ttotal: 5m 11s\tremaining: 3m 7s\n",
      "624:\tlearn: 0.6109699\ttest: 0.5947319\tbest: 0.5947319 (624)\ttotal: 5m 12s\tremaining: 3m 7s\n",
      "625:\tlearn: 0.6109336\ttest: 0.5945625\tbest: 0.5947319 (624)\ttotal: 5m 12s\tremaining: 3m 6s\n",
      "626:\tlearn: 0.6108610\ttest: 0.5947319\tbest: 0.5947319 (624)\ttotal: 5m 13s\tremaining: 3m 6s\n",
      "627:\tlearn: 0.6110788\ttest: 0.5946472\tbest: 0.5947319 (624)\ttotal: 5m 14s\tremaining: 3m 6s\n",
      "628:\tlearn: 0.6111514\ttest: 0.5946472\tbest: 0.5947319 (624)\ttotal: 5m 14s\tremaining: 3m 5s\n",
      "629:\tlearn: 0.6110788\ttest: 0.5946472\tbest: 0.5947319 (624)\ttotal: 5m 15s\tremaining: 3m 5s\n",
      "630:\tlearn: 0.6112603\ttest: 0.5944779\tbest: 0.5947319 (624)\ttotal: 5m 15s\tremaining: 3m 4s\n",
      "631:\tlearn: 0.6113329\ttest: 0.5943932\tbest: 0.5947319 (624)\ttotal: 5m 16s\tremaining: 3m 4s\n",
      "632:\tlearn: 0.6112603\ttest: 0.5943085\tbest: 0.5947319 (624)\ttotal: 5m 17s\tremaining: 3m 3s\n",
      "633:\tlearn: 0.6111877\ttest: 0.5942238\tbest: 0.5947319 (624)\ttotal: 5m 17s\tremaining: 3m 3s\n",
      "634:\tlearn: 0.6112966\ttest: 0.5941391\tbest: 0.5947319 (624)\ttotal: 5m 18s\tremaining: 3m 2s\n",
      "635:\tlearn: 0.6113329\ttest: 0.5940544\tbest: 0.5947319 (624)\ttotal: 5m 18s\tremaining: 3m 2s\n"
     ]
    },
    {
     "name": "stdout",
     "output_type": "stream",
     "text": [
      "636:\tlearn: 0.6112603\ttest: 0.5941391\tbest: 0.5947319 (624)\ttotal: 5m 19s\tremaining: 3m 2s\n",
      "637:\tlearn: 0.6112603\ttest: 0.5942238\tbest: 0.5947319 (624)\ttotal: 5m 20s\tremaining: 3m 1s\n",
      "638:\tlearn: 0.6113692\ttest: 0.5943085\tbest: 0.5947319 (624)\ttotal: 5m 20s\tremaining: 3m 1s\n",
      "639:\tlearn: 0.6114418\ttest: 0.5946472\tbest: 0.5947319 (624)\ttotal: 5m 21s\tremaining: 3m\n",
      "640:\tlearn: 0.6111877\ttest: 0.5944779\tbest: 0.5947319 (624)\ttotal: 5m 21s\tremaining: 3m\n",
      "641:\tlearn: 0.6112966\ttest: 0.5946472\tbest: 0.5947319 (624)\ttotal: 5m 22s\tremaining: 2m 59s\n",
      "642:\tlearn: 0.6113329\ttest: 0.5943932\tbest: 0.5947319 (624)\ttotal: 5m 22s\tremaining: 2m 59s\n",
      "643:\tlearn: 0.6112603\ttest: 0.5946472\tbest: 0.5947319 (624)\ttotal: 5m 23s\tremaining: 2m 58s\n",
      "644:\tlearn: 0.6112966\ttest: 0.5943932\tbest: 0.5947319 (624)\ttotal: 5m 24s\tremaining: 2m 58s\n",
      "645:\tlearn: 0.6112966\ttest: 0.5948166\tbest: 0.5948166 (645)\ttotal: 5m 25s\tremaining: 2m 58s\n",
      "646:\tlearn: 0.6114781\ttest: 0.5949860\tbest: 0.5949860 (646)\ttotal: 5m 25s\tremaining: 2m 57s\n",
      "647:\tlearn: 0.6114781\ttest: 0.5946472\tbest: 0.5949860 (646)\ttotal: 5m 26s\tremaining: 2m 57s\n",
      "648:\tlearn: 0.6113692\ttest: 0.5946472\tbest: 0.5949860 (646)\ttotal: 5m 26s\tremaining: 2m 56s\n",
      "649:\tlearn: 0.6111514\ttest: 0.5946472\tbest: 0.5949860 (646)\ttotal: 5m 27s\tremaining: 2m 56s\n",
      "650:\tlearn: 0.6111514\ttest: 0.5947319\tbest: 0.5949860 (646)\ttotal: 5m 27s\tremaining: 2m 55s\n",
      "651:\tlearn: 0.6111514\ttest: 0.5949013\tbest: 0.5949860 (646)\ttotal: 5m 28s\tremaining: 2m 55s\n",
      "652:\tlearn: 0.6112240\ttest: 0.5947319\tbest: 0.5949860 (646)\ttotal: 5m 28s\tremaining: 2m 54s\n",
      "653:\tlearn: 0.6113329\ttest: 0.5947319\tbest: 0.5949860 (646)\ttotal: 5m 29s\tremaining: 2m 54s\n",
      "654:\tlearn: 0.6112966\ttest: 0.5945625\tbest: 0.5949860 (646)\ttotal: 5m 29s\tremaining: 2m 53s\n",
      "655:\tlearn: 0.6113692\ttest: 0.5945625\tbest: 0.5949860 (646)\ttotal: 5m 30s\tremaining: 2m 53s\n",
      "656:\tlearn: 0.6114418\ttest: 0.5945625\tbest: 0.5949860 (646)\ttotal: 5m 31s\tremaining: 2m 52s\n",
      "657:\tlearn: 0.6115144\ttest: 0.5947319\tbest: 0.5949860 (646)\ttotal: 5m 31s\tremaining: 2m 52s\n",
      "658:\tlearn: 0.6113692\ttest: 0.5948166\tbest: 0.5949860 (646)\ttotal: 5m 32s\tremaining: 2m 51s\n",
      "659:\tlearn: 0.6113329\ttest: 0.5948166\tbest: 0.5949860 (646)\ttotal: 5m 33s\tremaining: 2m 51s\n",
      "660:\tlearn: 0.6113692\ttest: 0.5946472\tbest: 0.5949860 (646)\ttotal: 5m 33s\tremaining: 2m 51s\n",
      "661:\tlearn: 0.6114055\ttest: 0.5949860\tbest: 0.5949860 (646)\ttotal: 5m 34s\tremaining: 2m 50s\n",
      "662:\tlearn: 0.6114055\ttest: 0.5948166\tbest: 0.5949860 (646)\ttotal: 5m 34s\tremaining: 2m 50s\n",
      "663:\tlearn: 0.6116596\ttest: 0.5949013\tbest: 0.5949860 (646)\ttotal: 5m 35s\tremaining: 2m 49s\n",
      "664:\tlearn: 0.6118048\ttest: 0.5947319\tbest: 0.5949860 (646)\ttotal: 5m 35s\tremaining: 2m 49s\n",
      "665:\tlearn: 0.6117322\ttest: 0.5947319\tbest: 0.5949860 (646)\ttotal: 5m 36s\tremaining: 2m 48s\n",
      "666:\tlearn: 0.6116596\ttest: 0.5948166\tbest: 0.5949860 (646)\ttotal: 5m 36s\tremaining: 2m 48s\n",
      "667:\tlearn: 0.6115870\ttest: 0.5949013\tbest: 0.5949860 (646)\ttotal: 5m 37s\tremaining: 2m 47s\n",
      "668:\tlearn: 0.6115144\ttest: 0.5947319\tbest: 0.5949860 (646)\ttotal: 5m 38s\tremaining: 2m 47s\n",
      "669:\tlearn: 0.6117322\ttest: 0.5949013\tbest: 0.5949860 (646)\ttotal: 5m 38s\tremaining: 2m 46s\n",
      "670:\tlearn: 0.6116233\ttest: 0.5949013\tbest: 0.5949860 (646)\ttotal: 5m 39s\tremaining: 2m 46s\n",
      "671:\tlearn: 0.6116959\ttest: 0.5949013\tbest: 0.5949860 (646)\ttotal: 5m 39s\tremaining: 2m 45s\n",
      "672:\tlearn: 0.6116596\ttest: 0.5950707\tbest: 0.5950707 (672)\ttotal: 5m 40s\tremaining: 2m 45s\n",
      "673:\tlearn: 0.6120590\ttest: 0.5950707\tbest: 0.5950707 (672)\ttotal: 5m 41s\tremaining: 2m 45s\n",
      "674:\tlearn: 0.6121316\ttest: 0.5951554\tbest: 0.5951554 (674)\ttotal: 5m 41s\tremaining: 2m 44s\n",
      "675:\tlearn: 0.6120953\ttest: 0.5952401\tbest: 0.5952401 (675)\ttotal: 5m 42s\tremaining: 2m 44s\n",
      "676:\tlearn: 0.6122042\ttest: 0.5952401\tbest: 0.5952401 (675)\ttotal: 5m 42s\tremaining: 2m 43s\n",
      "677:\tlearn: 0.6122405\ttest: 0.5953248\tbest: 0.5953248 (677)\ttotal: 5m 43s\tremaining: 2m 43s\n",
      "678:\tlearn: 0.6122042\ttest: 0.5951554\tbest: 0.5953248 (677)\ttotal: 5m 43s\tremaining: 2m 42s\n",
      "679:\tlearn: 0.6123131\ttest: 0.5951554\tbest: 0.5953248 (677)\ttotal: 5m 44s\tremaining: 2m 42s\n",
      "680:\tlearn: 0.6123857\ttest: 0.5952401\tbest: 0.5953248 (677)\ttotal: 5m 45s\tremaining: 2m 41s\n",
      "681:\tlearn: 0.6123494\ttest: 0.5952401\tbest: 0.5953248 (677)\ttotal: 5m 45s\tremaining: 2m 41s\n",
      "682:\tlearn: 0.6124946\ttest: 0.5953248\tbest: 0.5953248 (677)\ttotal: 5m 46s\tremaining: 2m 40s\n",
      "683:\tlearn: 0.6125309\ttest: 0.5953248\tbest: 0.5953248 (677)\ttotal: 5m 46s\tremaining: 2m 40s\n",
      "684:\tlearn: 0.6126761\ttest: 0.5952401\tbest: 0.5953248 (677)\ttotal: 5m 47s\tremaining: 2m 39s\n",
      "685:\tlearn: 0.6127124\ttest: 0.5951554\tbest: 0.5953248 (677)\ttotal: 5m 48s\tremaining: 2m 39s\n",
      "686:\tlearn: 0.6126398\ttest: 0.5950707\tbest: 0.5953248 (677)\ttotal: 5m 48s\tremaining: 2m 38s\n",
      "687:\tlearn: 0.6127124\ttest: 0.5953248\tbest: 0.5953248 (677)\ttotal: 5m 49s\tremaining: 2m 38s\n",
      "688:\tlearn: 0.6127124\ttest: 0.5953248\tbest: 0.5953248 (677)\ttotal: 5m 49s\tremaining: 2m 37s\n",
      "689:\tlearn: 0.6126398\ttest: 0.5951554\tbest: 0.5953248 (677)\ttotal: 5m 50s\tremaining: 2m 37s\n",
      "690:\tlearn: 0.6127850\ttest: 0.5951554\tbest: 0.5953248 (677)\ttotal: 5m 51s\tremaining: 2m 37s\n",
      "691:\tlearn: 0.6127850\ttest: 0.5952401\tbest: 0.5953248 (677)\ttotal: 5m 51s\tremaining: 2m 36s\n",
      "692:\tlearn: 0.6127124\ttest: 0.5949860\tbest: 0.5953248 (677)\ttotal: 5m 52s\tremaining: 2m 36s\n",
      "693:\tlearn: 0.6126035\ttest: 0.5949860\tbest: 0.5953248 (677)\ttotal: 5m 53s\tremaining: 2m 35s\n",
      "694:\tlearn: 0.6126761\ttest: 0.5947319\tbest: 0.5953248 (677)\ttotal: 5m 53s\tremaining: 2m 35s\n",
      "695:\tlearn: 0.6126398\ttest: 0.5948166\tbest: 0.5953248 (677)\ttotal: 5m 54s\tremaining: 2m 34s\n",
      "696:\tlearn: 0.6127850\ttest: 0.5948166\tbest: 0.5953248 (677)\ttotal: 5m 54s\tremaining: 2m 34s\n",
      "697:\tlearn: 0.6128939\ttest: 0.5947319\tbest: 0.5953248 (677)\ttotal: 5m 55s\tremaining: 2m 33s\n",
      "698:\tlearn: 0.6128213\ttest: 0.5947319\tbest: 0.5953248 (677)\ttotal: 5m 56s\tremaining: 2m 33s\n",
      "699:\tlearn: 0.6128576\ttest: 0.5947319\tbest: 0.5953248 (677)\ttotal: 5m 56s\tremaining: 2m 32s\n",
      "700:\tlearn: 0.6128213\ttest: 0.5949860\tbest: 0.5953248 (677)\ttotal: 5m 57s\tremaining: 2m 32s\n",
      "701:\tlearn: 0.6128213\ttest: 0.5947319\tbest: 0.5953248 (677)\ttotal: 5m 57s\tremaining: 2m 31s\n",
      "702:\tlearn: 0.6129302\ttest: 0.5945625\tbest: 0.5953248 (677)\ttotal: 5m 58s\tremaining: 2m 31s\n",
      "703:\tlearn: 0.6129302\ttest: 0.5945625\tbest: 0.5953248 (677)\ttotal: 5m 58s\tremaining: 2m 30s\n",
      "704:\tlearn: 0.6128939\ttest: 0.5943932\tbest: 0.5953248 (677)\ttotal: 5m 59s\tremaining: 2m 30s\n",
      "705:\tlearn: 0.6131480\ttest: 0.5942238\tbest: 0.5953248 (677)\ttotal: 5m 59s\tremaining: 2m 29s\n",
      "706:\tlearn: 0.6132569\ttest: 0.5944779\tbest: 0.5953248 (677)\ttotal: 6m\tremaining: 2m 29s\n",
      "707:\tlearn: 0.6134747\ttest: 0.5946472\tbest: 0.5953248 (677)\ttotal: 6m 1s\tremaining: 2m 28s\n",
      "708:\tlearn: 0.6134747\ttest: 0.5948166\tbest: 0.5953248 (677)\ttotal: 6m 1s\tremaining: 2m 28s\n",
      "709:\tlearn: 0.6133295\ttest: 0.5947319\tbest: 0.5953248 (677)\ttotal: 6m 2s\tremaining: 2m 27s\n",
      "710:\tlearn: 0.6134021\ttest: 0.5947319\tbest: 0.5953248 (677)\ttotal: 6m 2s\tremaining: 2m 27s\n",
      "711:\tlearn: 0.6135110\ttest: 0.5949860\tbest: 0.5953248 (677)\ttotal: 6m 3s\tremaining: 2m 26s\n",
      "712:\tlearn: 0.6135110\ttest: 0.5949860\tbest: 0.5953248 (677)\ttotal: 6m 3s\tremaining: 2m 26s\n",
      "713:\tlearn: 0.6135836\ttest: 0.5950707\tbest: 0.5953248 (677)\ttotal: 6m 4s\tremaining: 2m 25s\n",
      "714:\tlearn: 0.6136562\ttest: 0.5950707\tbest: 0.5953248 (677)\ttotal: 6m 4s\tremaining: 2m 25s\n",
      "715:\tlearn: 0.6136562\ttest: 0.5953248\tbest: 0.5953248 (677)\ttotal: 6m 5s\tremaining: 2m 24s\n",
      "716:\tlearn: 0.6136925\ttest: 0.5954095\tbest: 0.5954095 (716)\ttotal: 6m 5s\tremaining: 2m 24s\n",
      "717:\tlearn: 0.6138377\ttest: 0.5953248\tbest: 0.5954095 (716)\ttotal: 6m 6s\tremaining: 2m 23s\n",
      "718:\tlearn: 0.6136925\ttest: 0.5953248\tbest: 0.5954095 (716)\ttotal: 6m 7s\tremaining: 2m 23s\n",
      "719:\tlearn: 0.6138014\ttest: 0.5954095\tbest: 0.5954095 (716)\ttotal: 6m 7s\tremaining: 2m 22s\n",
      "720:\tlearn: 0.6137651\ttest: 0.5954095\tbest: 0.5954095 (716)\ttotal: 6m 8s\tremaining: 2m 22s\n",
      "721:\tlearn: 0.6136199\ttest: 0.5953248\tbest: 0.5954095 (716)\ttotal: 6m 8s\tremaining: 2m 21s\n",
      "722:\tlearn: 0.6136925\ttest: 0.5952401\tbest: 0.5954095 (716)\ttotal: 6m 9s\tremaining: 2m 21s\n",
      "723:\tlearn: 0.6136199\ttest: 0.5949013\tbest: 0.5954095 (716)\ttotal: 6m 9s\tremaining: 2m 20s\n",
      "724:\tlearn: 0.6138014\ttest: 0.5950707\tbest: 0.5954095 (716)\ttotal: 6m 10s\tremaining: 2m 20s\n",
      "725:\tlearn: 0.6139466\ttest: 0.5948166\tbest: 0.5954095 (716)\ttotal: 6m 10s\tremaining: 2m 19s\n"
     ]
    },
    {
     "name": "stdout",
     "output_type": "stream",
     "text": [
      "726:\tlearn: 0.6141644\ttest: 0.5949860\tbest: 0.5954095 (716)\ttotal: 6m 11s\tremaining: 2m 19s\n",
      "727:\tlearn: 0.6141644\ttest: 0.5949013\tbest: 0.5954095 (716)\ttotal: 6m 12s\tremaining: 2m 19s\n",
      "728:\tlearn: 0.6141644\ttest: 0.5949860\tbest: 0.5954095 (716)\ttotal: 6m 12s\tremaining: 2m 18s\n",
      "729:\tlearn: 0.6142370\ttest: 0.5947319\tbest: 0.5954095 (716)\ttotal: 6m 13s\tremaining: 2m 18s\n",
      "730:\tlearn: 0.6142007\ttest: 0.5949013\tbest: 0.5954095 (716)\ttotal: 6m 14s\tremaining: 2m 17s\n",
      "731:\tlearn: 0.6144185\ttest: 0.5950707\tbest: 0.5954095 (716)\ttotal: 6m 14s\tremaining: 2m 17s\n",
      "732:\tlearn: 0.6144911\ttest: 0.5950707\tbest: 0.5954095 (716)\ttotal: 6m 15s\tremaining: 2m 16s\n",
      "733:\tlearn: 0.6146363\ttest: 0.5953248\tbest: 0.5954095 (716)\ttotal: 6m 15s\tremaining: 2m 16s\n",
      "734:\tlearn: 0.6146000\ttest: 0.5951554\tbest: 0.5954095 (716)\ttotal: 6m 16s\tremaining: 2m 15s\n",
      "735:\tlearn: 0.6147089\ttest: 0.5954942\tbest: 0.5954942 (735)\ttotal: 6m 16s\tremaining: 2m 15s\n",
      "736:\tlearn: 0.6144911\ttest: 0.5953248\tbest: 0.5954942 (735)\ttotal: 6m 17s\tremaining: 2m 14s\n",
      "737:\tlearn: 0.6146363\ttest: 0.5949013\tbest: 0.5954942 (735)\ttotal: 6m 18s\tremaining: 2m 14s\n",
      "738:\tlearn: 0.6147815\ttest: 0.5948166\tbest: 0.5954942 (735)\ttotal: 6m 18s\tremaining: 2m 13s\n",
      "739:\tlearn: 0.6147452\ttest: 0.5949013\tbest: 0.5954942 (735)\ttotal: 6m 19s\tremaining: 2m 13s\n",
      "740:\tlearn: 0.6147815\ttest: 0.5948166\tbest: 0.5954942 (735)\ttotal: 6m 19s\tremaining: 2m 12s\n",
      "741:\tlearn: 0.6148541\ttest: 0.5953248\tbest: 0.5954942 (735)\ttotal: 6m 20s\tremaining: 2m 12s\n",
      "742:\tlearn: 0.6148541\ttest: 0.5953248\tbest: 0.5954942 (735)\ttotal: 6m 21s\tremaining: 2m 11s\n",
      "743:\tlearn: 0.6149630\ttest: 0.5954095\tbest: 0.5954942 (735)\ttotal: 6m 21s\tremaining: 2m 11s\n",
      "744:\tlearn: 0.6149630\ttest: 0.5951554\tbest: 0.5954942 (735)\ttotal: 6m 22s\tremaining: 2m 10s\n",
      "745:\tlearn: 0.6148904\ttest: 0.5950707\tbest: 0.5954942 (735)\ttotal: 6m 22s\tremaining: 2m 10s\n",
      "746:\tlearn: 0.6147089\ttest: 0.5949860\tbest: 0.5954942 (735)\ttotal: 6m 23s\tremaining: 2m 9s\n",
      "747:\tlearn: 0.6148904\ttest: 0.5948166\tbest: 0.5954942 (735)\ttotal: 6m 24s\tremaining: 2m 9s\n",
      "748:\tlearn: 0.6148904\ttest: 0.5948166\tbest: 0.5954942 (735)\ttotal: 6m 24s\tremaining: 2m 8s\n",
      "749:\tlearn: 0.6150356\ttest: 0.5947319\tbest: 0.5954942 (735)\ttotal: 6m 25s\tremaining: 2m 8s\n",
      "750:\tlearn: 0.6150356\ttest: 0.5951554\tbest: 0.5954942 (735)\ttotal: 6m 26s\tremaining: 2m 8s\n",
      "751:\tlearn: 0.6150719\ttest: 0.5951554\tbest: 0.5954942 (735)\ttotal: 6m 26s\tremaining: 2m 7s\n",
      "752:\tlearn: 0.6149630\ttest: 0.5951554\tbest: 0.5954942 (735)\ttotal: 6m 27s\tremaining: 2m 7s\n",
      "753:\tlearn: 0.6150356\ttest: 0.5951554\tbest: 0.5954942 (735)\ttotal: 6m 28s\tremaining: 2m 6s\n",
      "754:\tlearn: 0.6151808\ttest: 0.5952401\tbest: 0.5954942 (735)\ttotal: 6m 28s\tremaining: 2m 6s\n",
      "755:\tlearn: 0.6151445\ttest: 0.5952401\tbest: 0.5954942 (735)\ttotal: 6m 29s\tremaining: 2m 5s\n",
      "756:\tlearn: 0.6152171\ttest: 0.5953248\tbest: 0.5954942 (735)\ttotal: 6m 30s\tremaining: 2m 5s\n",
      "757:\tlearn: 0.6153260\ttest: 0.5954942\tbest: 0.5954942 (735)\ttotal: 6m 30s\tremaining: 2m 4s\n",
      "758:\tlearn: 0.6152171\ttest: 0.5954942\tbest: 0.5954942 (735)\ttotal: 6m 31s\tremaining: 2m 4s\n",
      "759:\tlearn: 0.6153623\ttest: 0.5955789\tbest: 0.5955789 (759)\ttotal: 6m 32s\tremaining: 2m 3s\n",
      "760:\tlearn: 0.6152897\ttest: 0.5956636\tbest: 0.5956636 (760)\ttotal: 6m 33s\tremaining: 2m 3s\n",
      "761:\tlearn: 0.6152534\ttest: 0.5956636\tbest: 0.5956636 (760)\ttotal: 6m 33s\tremaining: 2m 2s\n",
      "762:\tlearn: 0.6155438\ttest: 0.5954942\tbest: 0.5956636 (760)\ttotal: 6m 34s\tremaining: 2m 2s\n",
      "763:\tlearn: 0.6154712\ttest: 0.5955789\tbest: 0.5956636 (760)\ttotal: 6m 34s\tremaining: 2m 1s\n",
      "764:\tlearn: 0.6154349\ttest: 0.5955789\tbest: 0.5956636 (760)\ttotal: 6m 35s\tremaining: 2m 1s\n",
      "765:\tlearn: 0.6153986\ttest: 0.5953248\tbest: 0.5956636 (760)\ttotal: 6m 36s\tremaining: 2m\n",
      "766:\tlearn: 0.6153986\ttest: 0.5953248\tbest: 0.5956636 (760)\ttotal: 6m 36s\tremaining: 2m\n",
      "767:\tlearn: 0.6153260\ttest: 0.5952401\tbest: 0.5956636 (760)\ttotal: 6m 37s\tremaining: 1m 59s\n",
      "768:\tlearn: 0.6153986\ttest: 0.5952401\tbest: 0.5956636 (760)\ttotal: 6m 37s\tremaining: 1m 59s\n",
      "769:\tlearn: 0.6155438\ttest: 0.5950707\tbest: 0.5956636 (760)\ttotal: 6m 38s\tremaining: 1m 58s\n",
      "770:\tlearn: 0.6154349\ttest: 0.5952401\tbest: 0.5956636 (760)\ttotal: 6m 38s\tremaining: 1m 58s\n",
      "771:\tlearn: 0.6154349\ttest: 0.5952401\tbest: 0.5956636 (760)\ttotal: 6m 39s\tremaining: 1m 57s\n",
      "772:\tlearn: 0.6155075\ttest: 0.5952401\tbest: 0.5956636 (760)\ttotal: 6m 39s\tremaining: 1m 57s\n",
      "773:\tlearn: 0.6156527\ttest: 0.5951554\tbest: 0.5956636 (760)\ttotal: 6m 40s\tremaining: 1m 56s\n",
      "774:\tlearn: 0.6156164\ttest: 0.5951554\tbest: 0.5956636 (760)\ttotal: 6m 41s\tremaining: 1m 56s\n",
      "775:\tlearn: 0.6156527\ttest: 0.5952401\tbest: 0.5956636 (760)\ttotal: 6m 41s\tremaining: 1m 55s\n",
      "776:\tlearn: 0.6157253\ttest: 0.5954095\tbest: 0.5956636 (760)\ttotal: 6m 42s\tremaining: 1m 55s\n",
      "777:\tlearn: 0.6156164\ttest: 0.5952401\tbest: 0.5956636 (760)\ttotal: 6m 42s\tremaining: 1m 54s\n",
      "778:\tlearn: 0.6156527\ttest: 0.5953248\tbest: 0.5956636 (760)\ttotal: 6m 43s\tremaining: 1m 54s\n",
      "779:\tlearn: 0.6157253\ttest: 0.5953248\tbest: 0.5956636 (760)\ttotal: 6m 44s\tremaining: 1m 53s\n",
      "780:\tlearn: 0.6156890\ttest: 0.5954095\tbest: 0.5956636 (760)\ttotal: 6m 44s\tremaining: 1m 53s\n",
      "781:\tlearn: 0.6156527\ttest: 0.5954095\tbest: 0.5956636 (760)\ttotal: 6m 45s\tremaining: 1m 52s\n",
      "782:\tlearn: 0.6159431\ttest: 0.5954095\tbest: 0.5956636 (760)\ttotal: 6m 45s\tremaining: 1m 52s\n",
      "783:\tlearn: 0.6159431\ttest: 0.5953248\tbest: 0.5956636 (760)\ttotal: 6m 46s\tremaining: 1m 51s\n",
      "784:\tlearn: 0.6159431\ttest: 0.5955789\tbest: 0.5956636 (760)\ttotal: 6m 46s\tremaining: 1m 51s\n",
      "785:\tlearn: 0.6159431\ttest: 0.5954942\tbest: 0.5956636 (760)\ttotal: 6m 47s\tremaining: 1m 50s\n",
      "786:\tlearn: 0.6159431\ttest: 0.5954942\tbest: 0.5956636 (760)\ttotal: 6m 48s\tremaining: 1m 50s\n",
      "787:\tlearn: 0.6159068\ttest: 0.5954942\tbest: 0.5956636 (760)\ttotal: 6m 48s\tremaining: 1m 49s\n",
      "788:\tlearn: 0.6157979\ttest: 0.5955789\tbest: 0.5956636 (760)\ttotal: 6m 49s\tremaining: 1m 49s\n",
      "789:\tlearn: 0.6158705\ttest: 0.5955789\tbest: 0.5956636 (760)\ttotal: 6m 49s\tremaining: 1m 48s\n",
      "790:\tlearn: 0.6160883\ttest: 0.5955789\tbest: 0.5956636 (760)\ttotal: 6m 50s\tremaining: 1m 48s\n",
      "791:\tlearn: 0.6161246\ttest: 0.5957483\tbest: 0.5957483 (791)\ttotal: 6m 50s\tremaining: 1m 47s\n",
      "792:\tlearn: 0.6162335\ttest: 0.5956636\tbest: 0.5957483 (791)\ttotal: 6m 51s\tremaining: 1m 47s\n",
      "793:\tlearn: 0.6163424\ttest: 0.5957483\tbest: 0.5957483 (791)\ttotal: 6m 52s\tremaining: 1m 46s\n",
      "794:\tlearn: 0.6164150\ttest: 0.5956636\tbest: 0.5957483 (791)\ttotal: 6m 52s\tremaining: 1m 46s\n",
      "795:\tlearn: 0.6163424\ttest: 0.5956636\tbest: 0.5957483 (791)\ttotal: 6m 53s\tremaining: 1m 45s\n",
      "796:\tlearn: 0.6163061\ttest: 0.5957483\tbest: 0.5957483 (791)\ttotal: 6m 54s\tremaining: 1m 45s\n",
      "797:\tlearn: 0.6163787\ttest: 0.5960871\tbest: 0.5960871 (797)\ttotal: 6m 54s\tremaining: 1m 44s\n",
      "798:\tlearn: 0.6164876\ttest: 0.5960871\tbest: 0.5960871 (797)\ttotal: 6m 55s\tremaining: 1m 44s\n",
      "799:\tlearn: 0.6167054\ttest: 0.5958330\tbest: 0.5960871 (797)\ttotal: 6m 55s\tremaining: 1m 43s\n",
      "800:\tlearn: 0.6165965\ttest: 0.5958330\tbest: 0.5960871 (797)\ttotal: 6m 56s\tremaining: 1m 43s\n",
      "801:\tlearn: 0.6165965\ttest: 0.5958330\tbest: 0.5960871 (797)\ttotal: 6m 57s\tremaining: 1m 42s\n",
      "802:\tlearn: 0.6165602\ttest: 0.5959177\tbest: 0.5960871 (797)\ttotal: 6m 57s\tremaining: 1m 42s\n",
      "803:\tlearn: 0.6164513\ttest: 0.5958330\tbest: 0.5960871 (797)\ttotal: 6m 58s\tremaining: 1m 41s\n",
      "804:\tlearn: 0.6164513\ttest: 0.5958330\tbest: 0.5960871 (797)\ttotal: 6m 58s\tremaining: 1m 41s\n",
      "805:\tlearn: 0.6166691\ttest: 0.5959177\tbest: 0.5960871 (797)\ttotal: 6m 59s\tremaining: 1m 41s\n",
      "806:\tlearn: 0.6171047\ttest: 0.5957483\tbest: 0.5960871 (797)\ttotal: 7m\tremaining: 1m 40s\n",
      "807:\tlearn: 0.6169232\ttest: 0.5957483\tbest: 0.5960871 (797)\ttotal: 7m 1s\tremaining: 1m 40s\n",
      "808:\tlearn: 0.6167780\ttest: 0.5955789\tbest: 0.5960871 (797)\ttotal: 7m 1s\tremaining: 1m 39s\n",
      "809:\tlearn: 0.6167417\ttest: 0.5956636\tbest: 0.5960871 (797)\ttotal: 7m 2s\tremaining: 1m 39s\n",
      "810:\tlearn: 0.6166691\ttest: 0.5955789\tbest: 0.5960871 (797)\ttotal: 7m 3s\tremaining: 1m 38s\n",
      "811:\tlearn: 0.6168869\ttest: 0.5955789\tbest: 0.5960871 (797)\ttotal: 7m 3s\tremaining: 1m 38s\n",
      "812:\tlearn: 0.6168143\ttest: 0.5959177\tbest: 0.5960871 (797)\ttotal: 7m 4s\tremaining: 1m 37s\n",
      "813:\tlearn: 0.6168869\ttest: 0.5960024\tbest: 0.5960871 (797)\ttotal: 7m 5s\tremaining: 1m 37s\n",
      "814:\tlearn: 0.6168869\ttest: 0.5960024\tbest: 0.5960871 (797)\ttotal: 7m 6s\tremaining: 1m 36s\n",
      "815:\tlearn: 0.6168869\ttest: 0.5959177\tbest: 0.5960871 (797)\ttotal: 7m 7s\tremaining: 1m 36s\n"
     ]
    },
    {
     "name": "stdout",
     "output_type": "stream",
     "text": [
      "816:\tlearn: 0.6168506\ttest: 0.5959177\tbest: 0.5960871 (797)\ttotal: 7m 7s\tremaining: 1m 35s\n",
      "817:\tlearn: 0.6167417\ttest: 0.5960871\tbest: 0.5960871 (797)\ttotal: 7m 8s\tremaining: 1m 35s\n",
      "818:\tlearn: 0.6169232\ttest: 0.5960871\tbest: 0.5960871 (797)\ttotal: 7m 9s\tremaining: 1m 34s\n",
      "819:\tlearn: 0.6172499\ttest: 0.5960871\tbest: 0.5960871 (797)\ttotal: 7m 9s\tremaining: 1m 34s\n",
      "820:\tlearn: 0.6172499\ttest: 0.5960871\tbest: 0.5960871 (797)\ttotal: 7m 10s\tremaining: 1m 33s\n",
      "821:\tlearn: 0.6171773\ttest: 0.5960871\tbest: 0.5960871 (797)\ttotal: 7m 11s\tremaining: 1m 33s\n",
      "822:\tlearn: 0.6171047\ttest: 0.5960871\tbest: 0.5960871 (797)\ttotal: 7m 11s\tremaining: 1m 32s\n",
      "823:\tlearn: 0.6172862\ttest: 0.5960024\tbest: 0.5960871 (797)\ttotal: 7m 12s\tremaining: 1m 32s\n",
      "824:\tlearn: 0.6173225\ttest: 0.5957483\tbest: 0.5960871 (797)\ttotal: 7m 12s\tremaining: 1m 31s\n",
      "825:\tlearn: 0.6172499\ttest: 0.5956636\tbest: 0.5960871 (797)\ttotal: 7m 13s\tremaining: 1m 31s\n",
      "826:\tlearn: 0.6173225\ttest: 0.5956636\tbest: 0.5960871 (797)\ttotal: 7m 14s\tremaining: 1m 30s\n",
      "827:\tlearn: 0.6174314\ttest: 0.5960024\tbest: 0.5960871 (797)\ttotal: 7m 15s\tremaining: 1m 30s\n",
      "828:\tlearn: 0.6173951\ttest: 0.5960024\tbest: 0.5960871 (797)\ttotal: 7m 16s\tremaining: 1m 29s\n",
      "829:\tlearn: 0.6175040\ttest: 0.5960024\tbest: 0.5960871 (797)\ttotal: 7m 16s\tremaining: 1m 29s\n",
      "830:\tlearn: 0.6175040\ttest: 0.5960024\tbest: 0.5960871 (797)\ttotal: 7m 17s\tremaining: 1m 28s\n",
      "831:\tlearn: 0.6175403\ttest: 0.5959177\tbest: 0.5960871 (797)\ttotal: 7m 18s\tremaining: 1m 28s\n",
      "832:\tlearn: 0.6175403\ttest: 0.5961718\tbest: 0.5961718 (832)\ttotal: 7m 18s\tremaining: 1m 27s\n",
      "833:\tlearn: 0.6176129\ttest: 0.5961718\tbest: 0.5961718 (832)\ttotal: 7m 19s\tremaining: 1m 27s\n",
      "834:\tlearn: 0.6176129\ttest: 0.5962565\tbest: 0.5962565 (834)\ttotal: 7m 20s\tremaining: 1m 26s\n",
      "835:\tlearn: 0.6177218\ttest: 0.5964258\tbest: 0.5964258 (835)\ttotal: 7m 20s\tremaining: 1m 26s\n",
      "836:\tlearn: 0.6176855\ttest: 0.5962565\tbest: 0.5964258 (835)\ttotal: 7m 21s\tremaining: 1m 25s\n",
      "837:\tlearn: 0.6176129\ttest: 0.5960871\tbest: 0.5964258 (835)\ttotal: 7m 22s\tremaining: 1m 25s\n",
      "838:\tlearn: 0.6177944\ttest: 0.5961718\tbest: 0.5964258 (835)\ttotal: 7m 22s\tremaining: 1m 24s\n",
      "839:\tlearn: 0.6176855\ttest: 0.5964258\tbest: 0.5964258 (835)\ttotal: 7m 23s\tremaining: 1m 24s\n",
      "840:\tlearn: 0.6176492\ttest: 0.5963412\tbest: 0.5964258 (835)\ttotal: 7m 23s\tremaining: 1m 23s\n",
      "841:\tlearn: 0.6177218\ttest: 0.5962565\tbest: 0.5964258 (835)\ttotal: 7m 24s\tremaining: 1m 23s\n",
      "842:\tlearn: 0.6180122\ttest: 0.5963412\tbest: 0.5964258 (835)\ttotal: 7m 25s\tremaining: 1m 22s\n",
      "843:\tlearn: 0.6179396\ttest: 0.5960871\tbest: 0.5964258 (835)\ttotal: 7m 25s\tremaining: 1m 22s\n",
      "844:\tlearn: 0.6182300\ttest: 0.5961718\tbest: 0.5964258 (835)\ttotal: 7m 26s\tremaining: 1m 21s\n",
      "845:\tlearn: 0.6182663\ttest: 0.5960024\tbest: 0.5964258 (835)\ttotal: 7m 27s\tremaining: 1m 21s\n",
      "846:\tlearn: 0.6183026\ttest: 0.5957483\tbest: 0.5964258 (835)\ttotal: 7m 27s\tremaining: 1m 20s\n",
      "847:\tlearn: 0.6181574\ttest: 0.5957483\tbest: 0.5964258 (835)\ttotal: 7m 28s\tremaining: 1m 20s\n",
      "848:\tlearn: 0.6181574\ttest: 0.5958330\tbest: 0.5964258 (835)\ttotal: 7m 28s\tremaining: 1m 19s\n",
      "849:\tlearn: 0.6182300\ttest: 0.5958330\tbest: 0.5964258 (835)\ttotal: 7m 29s\tremaining: 1m 19s\n",
      "850:\tlearn: 0.6181937\ttest: 0.5960871\tbest: 0.5964258 (835)\ttotal: 7m 30s\tremaining: 1m 18s\n",
      "851:\tlearn: 0.6183026\ttest: 0.5958330\tbest: 0.5964258 (835)\ttotal: 7m 30s\tremaining: 1m 18s\n",
      "852:\tlearn: 0.6180848\ttest: 0.5957483\tbest: 0.5964258 (835)\ttotal: 7m 31s\tremaining: 1m 17s\n",
      "853:\tlearn: 0.6180122\ttest: 0.5960024\tbest: 0.5964258 (835)\ttotal: 7m 32s\tremaining: 1m 17s\n",
      "854:\tlearn: 0.6182300\ttest: 0.5960024\tbest: 0.5964258 (835)\ttotal: 7m 33s\tremaining: 1m 16s\n",
      "855:\tlearn: 0.6182300\ttest: 0.5960024\tbest: 0.5964258 (835)\ttotal: 7m 34s\tremaining: 1m 16s\n",
      "856:\tlearn: 0.6181211\ttest: 0.5958330\tbest: 0.5964258 (835)\ttotal: 7m 34s\tremaining: 1m 15s\n",
      "857:\tlearn: 0.6180122\ttest: 0.5958330\tbest: 0.5964258 (835)\ttotal: 7m 35s\tremaining: 1m 15s\n",
      "858:\tlearn: 0.6181937\ttest: 0.5958330\tbest: 0.5964258 (835)\ttotal: 7m 35s\tremaining: 1m 14s\n",
      "859:\tlearn: 0.6181574\ttest: 0.5958330\tbest: 0.5964258 (835)\ttotal: 7m 36s\tremaining: 1m 14s\n",
      "860:\tlearn: 0.6182663\ttest: 0.5958330\tbest: 0.5964258 (835)\ttotal: 7m 37s\tremaining: 1m 13s\n",
      "861:\tlearn: 0.6182663\ttest: 0.5957483\tbest: 0.5964258 (835)\ttotal: 7m 37s\tremaining: 1m 13s\n",
      "862:\tlearn: 0.6183752\ttest: 0.5956636\tbest: 0.5964258 (835)\ttotal: 7m 38s\tremaining: 1m 12s\n",
      "863:\tlearn: 0.6182300\ttest: 0.5957483\tbest: 0.5964258 (835)\ttotal: 7m 39s\tremaining: 1m 12s\n",
      "864:\tlearn: 0.6180848\ttest: 0.5957483\tbest: 0.5964258 (835)\ttotal: 7m 39s\tremaining: 1m 11s\n",
      "865:\tlearn: 0.6182663\ttest: 0.5954095\tbest: 0.5964258 (835)\ttotal: 7m 40s\tremaining: 1m 11s\n",
      "866:\tlearn: 0.6183026\ttest: 0.5956636\tbest: 0.5964258 (835)\ttotal: 7m 40s\tremaining: 1m 10s\n",
      "867:\tlearn: 0.6183752\ttest: 0.5958330\tbest: 0.5964258 (835)\ttotal: 7m 41s\tremaining: 1m 10s\n",
      "868:\tlearn: 0.6183752\ttest: 0.5957483\tbest: 0.5964258 (835)\ttotal: 7m 41s\tremaining: 1m 9s\n",
      "869:\tlearn: 0.6185930\ttest: 0.5956636\tbest: 0.5964258 (835)\ttotal: 7m 42s\tremaining: 1m 9s\n",
      "870:\tlearn: 0.6186656\ttest: 0.5958330\tbest: 0.5964258 (835)\ttotal: 7m 43s\tremaining: 1m 8s\n",
      "871:\tlearn: 0.6187745\ttest: 0.5959177\tbest: 0.5964258 (835)\ttotal: 7m 43s\tremaining: 1m 8s\n",
      "872:\tlearn: 0.6188108\ttest: 0.5959177\tbest: 0.5964258 (835)\ttotal: 7m 44s\tremaining: 1m 7s\n",
      "873:\tlearn: 0.6188471\ttest: 0.5959177\tbest: 0.5964258 (835)\ttotal: 7m 44s\tremaining: 1m 6s\n",
      "874:\tlearn: 0.6189560\ttest: 0.5963412\tbest: 0.5964258 (835)\ttotal: 7m 45s\tremaining: 1m 6s\n",
      "875:\tlearn: 0.6189560\ttest: 0.5962565\tbest: 0.5964258 (835)\ttotal: 7m 45s\tremaining: 1m 5s\n",
      "876:\tlearn: 0.6189560\ttest: 0.5960871\tbest: 0.5964258 (835)\ttotal: 7m 46s\tremaining: 1m 5s\n",
      "877:\tlearn: 0.6189560\ttest: 0.5959177\tbest: 0.5964258 (835)\ttotal: 7m 47s\tremaining: 1m 4s\n",
      "878:\tlearn: 0.6189560\ttest: 0.5959177\tbest: 0.5964258 (835)\ttotal: 7m 47s\tremaining: 1m 4s\n",
      "879:\tlearn: 0.6190649\ttest: 0.5959177\tbest: 0.5964258 (835)\ttotal: 7m 48s\tremaining: 1m 3s\n",
      "880:\tlearn: 0.6189560\ttest: 0.5959177\tbest: 0.5964258 (835)\ttotal: 7m 48s\tremaining: 1m 3s\n",
      "881:\tlearn: 0.6189197\ttest: 0.5958330\tbest: 0.5964258 (835)\ttotal: 7m 49s\tremaining: 1m 2s\n",
      "882:\tlearn: 0.6189923\ttest: 0.5957483\tbest: 0.5964258 (835)\ttotal: 7m 50s\tremaining: 1m 2s\n",
      "883:\tlearn: 0.6191012\ttest: 0.5956636\tbest: 0.5964258 (835)\ttotal: 7m 50s\tremaining: 1m 1s\n",
      "884:\tlearn: 0.6189923\ttest: 0.5957483\tbest: 0.5964258 (835)\ttotal: 7m 51s\tremaining: 1m 1s\n",
      "885:\tlearn: 0.6189923\ttest: 0.5957483\tbest: 0.5964258 (835)\ttotal: 7m 51s\tremaining: 1m\n",
      "886:\tlearn: 0.6189197\ttest: 0.5955789\tbest: 0.5964258 (835)\ttotal: 7m 52s\tremaining: 1m\n",
      "887:\tlearn: 0.6191012\ttest: 0.5956636\tbest: 0.5964258 (835)\ttotal: 7m 52s\tremaining: 59.7s\n",
      "888:\tlearn: 0.6190286\ttest: 0.5958330\tbest: 0.5964258 (835)\ttotal: 7m 53s\tremaining: 59.1s\n",
      "889:\tlearn: 0.6187382\ttest: 0.5960024\tbest: 0.5964258 (835)\ttotal: 7m 54s\tremaining: 58.6s\n",
      "890:\tlearn: 0.6191375\ttest: 0.5959177\tbest: 0.5964258 (835)\ttotal: 7m 54s\tremaining: 58.1s\n",
      "891:\tlearn: 0.6192101\ttest: 0.5960024\tbest: 0.5964258 (835)\ttotal: 7m 55s\tremaining: 57.6s\n",
      "892:\tlearn: 0.6193553\ttest: 0.5959177\tbest: 0.5964258 (835)\ttotal: 7m 55s\tremaining: 57s\n",
      "893:\tlearn: 0.6194642\ttest: 0.5960024\tbest: 0.5964258 (835)\ttotal: 7m 56s\tremaining: 56.5s\n",
      "894:\tlearn: 0.6191375\ttest: 0.5960871\tbest: 0.5964258 (835)\ttotal: 7m 57s\tremaining: 56s\n",
      "895:\tlearn: 0.6191012\ttest: 0.5960871\tbest: 0.5964258 (835)\ttotal: 7m 57s\tremaining: 55.4s\n",
      "896:\tlearn: 0.6188834\ttest: 0.5960871\tbest: 0.5964258 (835)\ttotal: 7m 58s\tremaining: 54.9s\n",
      "897:\tlearn: 0.6189197\ttest: 0.5960024\tbest: 0.5964258 (835)\ttotal: 7m 58s\tremaining: 54.4s\n",
      "898:\tlearn: 0.6188834\ttest: 0.5958330\tbest: 0.5964258 (835)\ttotal: 7m 59s\tremaining: 53.8s\n",
      "899:\tlearn: 0.6186656\ttest: 0.5958330\tbest: 0.5964258 (835)\ttotal: 7m 59s\tremaining: 53.3s\n",
      "900:\tlearn: 0.6189923\ttest: 0.5959177\tbest: 0.5964258 (835)\ttotal: 8m\tremaining: 52.8s\n",
      "901:\tlearn: 0.6189923\ttest: 0.5959177\tbest: 0.5964258 (835)\ttotal: 8m\tremaining: 52.3s\n",
      "902:\tlearn: 0.6189560\ttest: 0.5960024\tbest: 0.5964258 (835)\ttotal: 8m 1s\tremaining: 51.7s\n",
      "903:\tlearn: 0.6191738\ttest: 0.5960024\tbest: 0.5964258 (835)\ttotal: 8m 2s\tremaining: 51.2s\n",
      "904:\tlearn: 0.6191738\ttest: 0.5961718\tbest: 0.5964258 (835)\ttotal: 8m 2s\tremaining: 50.7s\n",
      "905:\tlearn: 0.6192101\ttest: 0.5961718\tbest: 0.5964258 (835)\ttotal: 8m 3s\tremaining: 50.1s\n"
     ]
    },
    {
     "name": "stdout",
     "output_type": "stream",
     "text": [
      "906:\tlearn: 0.6192464\ttest: 0.5958330\tbest: 0.5964258 (835)\ttotal: 8m 3s\tremaining: 49.6s\n",
      "907:\tlearn: 0.6196094\ttest: 0.5960024\tbest: 0.5964258 (835)\ttotal: 8m 4s\tremaining: 49.1s\n",
      "908:\tlearn: 0.6195731\ttest: 0.5959177\tbest: 0.5964258 (835)\ttotal: 8m 4s\tremaining: 48.5s\n",
      "909:\tlearn: 0.6197183\ttest: 0.5959177\tbest: 0.5964258 (835)\ttotal: 8m 5s\tremaining: 48s\n",
      "910:\tlearn: 0.6197183\ttest: 0.5958330\tbest: 0.5964258 (835)\ttotal: 8m 6s\tremaining: 47.5s\n",
      "911:\tlearn: 0.6198635\ttest: 0.5959177\tbest: 0.5964258 (835)\ttotal: 8m 6s\tremaining: 46.9s\n",
      "912:\tlearn: 0.6198998\ttest: 0.5959177\tbest: 0.5964258 (835)\ttotal: 8m 7s\tremaining: 46.4s\n",
      "913:\tlearn: 0.6197909\ttest: 0.5961718\tbest: 0.5964258 (835)\ttotal: 8m 7s\tremaining: 45.9s\n",
      "914:\tlearn: 0.6197909\ttest: 0.5961718\tbest: 0.5964258 (835)\ttotal: 8m 8s\tremaining: 45.4s\n",
      "915:\tlearn: 0.6198272\ttest: 0.5962565\tbest: 0.5964258 (835)\ttotal: 8m 8s\tremaining: 44.8s\n",
      "916:\tlearn: 0.6200450\ttest: 0.5960871\tbest: 0.5964258 (835)\ttotal: 8m 9s\tremaining: 44.3s\n",
      "917:\tlearn: 0.6201176\ttest: 0.5961718\tbest: 0.5964258 (835)\ttotal: 8m 9s\tremaining: 43.8s\n",
      "918:\tlearn: 0.6201539\ttest: 0.5961718\tbest: 0.5964258 (835)\ttotal: 8m 10s\tremaining: 43.2s\n",
      "919:\tlearn: 0.6201902\ttest: 0.5960024\tbest: 0.5964258 (835)\ttotal: 8m 11s\tremaining: 42.7s\n",
      "920:\tlearn: 0.6200087\ttest: 0.5965105\tbest: 0.5965105 (920)\ttotal: 8m 11s\tremaining: 42.2s\n",
      "921:\tlearn: 0.6200813\ttest: 0.5965952\tbest: 0.5965952 (921)\ttotal: 8m 12s\tremaining: 41.6s\n",
      "922:\tlearn: 0.6199361\ttest: 0.5962565\tbest: 0.5965952 (921)\ttotal: 8m 12s\tremaining: 41.1s\n",
      "923:\tlearn: 0.6202265\ttest: 0.5964258\tbest: 0.5965952 (921)\ttotal: 8m 13s\tremaining: 40.6s\n",
      "924:\tlearn: 0.6202265\ttest: 0.5964258\tbest: 0.5965952 (921)\ttotal: 8m 13s\tremaining: 40s\n",
      "925:\tlearn: 0.6201539\ttest: 0.5965105\tbest: 0.5965952 (921)\ttotal: 8m 14s\tremaining: 39.5s\n",
      "926:\tlearn: 0.6201902\ttest: 0.5964258\tbest: 0.5965952 (921)\ttotal: 8m 14s\tremaining: 39s\n",
      "927:\tlearn: 0.6203354\ttest: 0.5964258\tbest: 0.5965952 (921)\ttotal: 8m 15s\tremaining: 38.4s\n",
      "928:\tlearn: 0.6205169\ttest: 0.5965105\tbest: 0.5965952 (921)\ttotal: 8m 16s\tremaining: 37.9s\n",
      "929:\tlearn: 0.6205895\ttest: 0.5965952\tbest: 0.5965952 (921)\ttotal: 8m 16s\tremaining: 37.4s\n",
      "930:\tlearn: 0.6205169\ttest: 0.5966799\tbest: 0.5966799 (930)\ttotal: 8m 17s\tremaining: 36.8s\n",
      "931:\tlearn: 0.6205169\ttest: 0.5965105\tbest: 0.5966799 (930)\ttotal: 8m 17s\tremaining: 36.3s\n",
      "932:\tlearn: 0.6206258\ttest: 0.5965952\tbest: 0.5966799 (930)\ttotal: 8m 18s\tremaining: 35.8s\n",
      "933:\tlearn: 0.6204443\ttest: 0.5967646\tbest: 0.5967646 (933)\ttotal: 8m 18s\tremaining: 35.3s\n",
      "934:\tlearn: 0.6206621\ttest: 0.5965952\tbest: 0.5967646 (933)\ttotal: 8m 19s\tremaining: 34.7s\n",
      "935:\tlearn: 0.6206621\ttest: 0.5965952\tbest: 0.5967646 (933)\ttotal: 8m 20s\tremaining: 34.2s\n",
      "936:\tlearn: 0.6206984\ttest: 0.5967646\tbest: 0.5967646 (933)\ttotal: 8m 21s\tremaining: 33.7s\n",
      "937:\tlearn: 0.6206258\ttest: 0.5966799\tbest: 0.5967646 (933)\ttotal: 8m 21s\tremaining: 33.2s\n",
      "938:\tlearn: 0.6209162\ttest: 0.5966799\tbest: 0.5967646 (933)\ttotal: 8m 22s\tremaining: 32.6s\n",
      "939:\tlearn: 0.6208436\ttest: 0.5969340\tbest: 0.5969340 (939)\ttotal: 8m 22s\tremaining: 32.1s\n",
      "940:\tlearn: 0.6208073\ttest: 0.5967646\tbest: 0.5969340 (939)\ttotal: 8m 23s\tremaining: 31.6s\n",
      "941:\tlearn: 0.6208073\ttest: 0.5967646\tbest: 0.5969340 (939)\ttotal: 8m 23s\tremaining: 31s\n",
      "942:\tlearn: 0.6209162\ttest: 0.5967646\tbest: 0.5969340 (939)\ttotal: 8m 24s\tremaining: 30.5s\n",
      "943:\tlearn: 0.6209162\ttest: 0.5966799\tbest: 0.5969340 (939)\ttotal: 8m 24s\tremaining: 30s\n",
      "944:\tlearn: 0.6209888\ttest: 0.5967646\tbest: 0.5969340 (939)\ttotal: 8m 25s\tremaining: 29.4s\n",
      "945:\tlearn: 0.6210614\ttest: 0.5965952\tbest: 0.5969340 (939)\ttotal: 8m 26s\tremaining: 28.9s\n",
      "946:\tlearn: 0.6210977\ttest: 0.5966799\tbest: 0.5969340 (939)\ttotal: 8m 26s\tremaining: 28.4s\n",
      "947:\tlearn: 0.6210614\ttest: 0.5965952\tbest: 0.5969340 (939)\ttotal: 8m 27s\tremaining: 27.8s\n",
      "948:\tlearn: 0.6211340\ttest: 0.5965952\tbest: 0.5969340 (939)\ttotal: 8m 27s\tremaining: 27.3s\n",
      "949:\tlearn: 0.6211340\ttest: 0.5966799\tbest: 0.5969340 (939)\ttotal: 8m 28s\tremaining: 26.7s\n",
      "950:\tlearn: 0.6212066\ttest: 0.5966799\tbest: 0.5969340 (939)\ttotal: 8m 28s\tremaining: 26.2s\n",
      "951:\tlearn: 0.6212792\ttest: 0.5967646\tbest: 0.5969340 (939)\ttotal: 8m 29s\tremaining: 25.7s\n",
      "952:\tlearn: 0.6212066\ttest: 0.5967646\tbest: 0.5969340 (939)\ttotal: 8m 29s\tremaining: 25.1s\n",
      "953:\tlearn: 0.6210977\ttest: 0.5966799\tbest: 0.5969340 (939)\ttotal: 8m 30s\tremaining: 24.6s\n",
      "954:\tlearn: 0.6211340\ttest: 0.5968493\tbest: 0.5969340 (939)\ttotal: 8m 31s\tremaining: 24.1s\n",
      "955:\tlearn: 0.6212792\ttest: 0.5969340\tbest: 0.5969340 (939)\ttotal: 8m 31s\tremaining: 23.5s\n",
      "956:\tlearn: 0.6213155\ttest: 0.5969340\tbest: 0.5969340 (939)\ttotal: 8m 32s\tremaining: 23s\n",
      "957:\tlearn: 0.6212066\ttest: 0.5967646\tbest: 0.5969340 (939)\ttotal: 8m 32s\tremaining: 22.5s\n",
      "958:\tlearn: 0.6212429\ttest: 0.5968493\tbest: 0.5969340 (939)\ttotal: 8m 33s\tremaining: 21.9s\n",
      "959:\tlearn: 0.6213518\ttest: 0.5966799\tbest: 0.5969340 (939)\ttotal: 8m 33s\tremaining: 21.4s\n",
      "960:\tlearn: 0.6214244\ttest: 0.5968493\tbest: 0.5969340 (939)\ttotal: 8m 34s\tremaining: 20.9s\n",
      "961:\tlearn: 0.6213881\ttest: 0.5967646\tbest: 0.5969340 (939)\ttotal: 8m 35s\tremaining: 20.3s\n",
      "962:\tlearn: 0.6213881\ttest: 0.5968493\tbest: 0.5969340 (939)\ttotal: 8m 35s\tremaining: 19.8s\n",
      "963:\tlearn: 0.6213881\ttest: 0.5968493\tbest: 0.5969340 (939)\ttotal: 8m 36s\tremaining: 19.3s\n",
      "964:\tlearn: 0.6213518\ttest: 0.5968493\tbest: 0.5969340 (939)\ttotal: 8m 37s\tremaining: 18.8s\n",
      "965:\tlearn: 0.6215333\ttest: 0.5967646\tbest: 0.5969340 (939)\ttotal: 8m 37s\tremaining: 18.2s\n",
      "966:\tlearn: 0.6216059\ttest: 0.5964258\tbest: 0.5969340 (939)\ttotal: 8m 37s\tremaining: 17.7s\n",
      "967:\tlearn: 0.6215333\ttest: 0.5965952\tbest: 0.5969340 (939)\ttotal: 8m 38s\tremaining: 17.1s\n",
      "968:\tlearn: 0.6214607\ttest: 0.5965952\tbest: 0.5969340 (939)\ttotal: 8m 39s\tremaining: 16.6s\n",
      "969:\tlearn: 0.6214244\ttest: 0.5965105\tbest: 0.5969340 (939)\ttotal: 8m 39s\tremaining: 16.1s\n",
      "970:\tlearn: 0.6215333\ttest: 0.5966799\tbest: 0.5969340 (939)\ttotal: 8m 40s\tremaining: 15.5s\n",
      "971:\tlearn: 0.6216785\ttest: 0.5966799\tbest: 0.5969340 (939)\ttotal: 8m 40s\tremaining: 15s\n",
      "972:\tlearn: 0.6217511\ttest: 0.5966799\tbest: 0.5969340 (939)\ttotal: 8m 41s\tremaining: 14.5s\n",
      "973:\tlearn: 0.6216422\ttest: 0.5965105\tbest: 0.5969340 (939)\ttotal: 8m 41s\tremaining: 13.9s\n",
      "974:\tlearn: 0.6217511\ttest: 0.5967646\tbest: 0.5969340 (939)\ttotal: 8m 42s\tremaining: 13.4s\n",
      "975:\tlearn: 0.6218237\ttest: 0.5968493\tbest: 0.5969340 (939)\ttotal: 8m 43s\tremaining: 12.9s\n",
      "976:\tlearn: 0.6219689\ttest: 0.5969340\tbest: 0.5969340 (939)\ttotal: 8m 43s\tremaining: 12.3s\n",
      "977:\tlearn: 0.6219689\ttest: 0.5968493\tbest: 0.5969340 (939)\ttotal: 8m 44s\tremaining: 11.8s\n",
      "978:\tlearn: 0.6218963\ttest: 0.5967646\tbest: 0.5969340 (939)\ttotal: 8m 44s\tremaining: 11.3s\n",
      "979:\tlearn: 0.6219689\ttest: 0.5968493\tbest: 0.5969340 (939)\ttotal: 8m 45s\tremaining: 10.7s\n",
      "980:\tlearn: 0.6220778\ttest: 0.5969340\tbest: 0.5969340 (939)\ttotal: 8m 45s\tremaining: 10.2s\n",
      "981:\tlearn: 0.6221141\ttest: 0.5966799\tbest: 0.5969340 (939)\ttotal: 8m 46s\tremaining: 9.65s\n",
      "982:\tlearn: 0.6221504\ttest: 0.5965952\tbest: 0.5969340 (939)\ttotal: 8m 47s\tremaining: 9.12s\n",
      "983:\tlearn: 0.6222956\ttest: 0.5965105\tbest: 0.5969340 (939)\ttotal: 8m 47s\tremaining: 8.58s\n",
      "984:\tlearn: 0.6221504\ttest: 0.5965952\tbest: 0.5969340 (939)\ttotal: 8m 48s\tremaining: 8.04s\n",
      "985:\tlearn: 0.6222230\ttest: 0.5965952\tbest: 0.5969340 (939)\ttotal: 8m 48s\tremaining: 7.51s\n",
      "986:\tlearn: 0.6223319\ttest: 0.5965952\tbest: 0.5969340 (939)\ttotal: 8m 49s\tremaining: 6.97s\n",
      "987:\tlearn: 0.6225134\ttest: 0.5965952\tbest: 0.5969340 (939)\ttotal: 8m 49s\tremaining: 6.43s\n",
      "988:\tlearn: 0.6225497\ttest: 0.5965952\tbest: 0.5969340 (939)\ttotal: 8m 50s\tremaining: 5.9s\n",
      "989:\tlearn: 0.6226223\ttest: 0.5965952\tbest: 0.5969340 (939)\ttotal: 8m 50s\tremaining: 5.36s\n",
      "990:\tlearn: 0.6226586\ttest: 0.5965105\tbest: 0.5969340 (939)\ttotal: 8m 51s\tremaining: 4.83s\n",
      "991:\tlearn: 0.6226223\ttest: 0.5965105\tbest: 0.5969340 (939)\ttotal: 8m 52s\tremaining: 4.29s\n",
      "992:\tlearn: 0.6225134\ttest: 0.5964258\tbest: 0.5969340 (939)\ttotal: 8m 52s\tremaining: 3.75s\n",
      "993:\tlearn: 0.6226223\ttest: 0.5965105\tbest: 0.5969340 (939)\ttotal: 8m 53s\tremaining: 3.22s\n",
      "994:\tlearn: 0.6228038\ttest: 0.5965105\tbest: 0.5969340 (939)\ttotal: 8m 53s\tremaining: 2.68s\n",
      "995:\tlearn: 0.6228764\ttest: 0.5966799\tbest: 0.5969340 (939)\ttotal: 8m 54s\tremaining: 2.15s\n",
      "996:\tlearn: 0.6228401\ttest: 0.5967646\tbest: 0.5969340 (939)\ttotal: 8m 55s\tremaining: 1.61s\n"
     ]
    },
    {
     "name": "stdout",
     "output_type": "stream",
     "text": [
      "997:\tlearn: 0.6229490\ttest: 0.5966799\tbest: 0.5969340 (939)\ttotal: 8m 55s\tremaining: 1.07s\n",
      "998:\tlearn: 0.6229490\ttest: 0.5965952\tbest: 0.5969340 (939)\ttotal: 8m 56s\tremaining: 537ms\n",
      "999:\tlearn: 0.6229490\ttest: 0.5965952\tbest: 0.5969340 (939)\ttotal: 8m 56s\tremaining: 0us\n",
      "\n",
      "bestTest = 0.5969340222\n",
      "bestIteration = 939\n",
      "\n",
      "Shrink model to first 940 iterations.\n"
     ]
    },
    {
     "data": {
      "text/plain": [
       "<catboost.core.CatBoostClassifier at 0x1d04ec759e8>"
      ]
     },
     "execution_count": 91,
     "metadata": {},
     "output_type": "execute_result"
    }
   ],
   "source": [
    "model.fit(xtrain,ytrain,cat_features=cate_features_index,eval_set=(xtest,ytest))"
   ]
  },
  {
   "cell_type": "code",
   "execution_count": 93,
   "metadata": {},
   "outputs": [
    {
     "name": "stdout",
     "output_type": "stream",
     "text": [
      "the test accuracy is :0.596934\n",
      "the train accuracy is : 0.6643676491941338\n",
      "              precision    recall  f1-score   support\n",
      "\n",
      "           0       0.64      0.47      0.54      4421\n",
      "           1       0.55      0.90      0.68      3643\n",
      "           2       0.65      0.46      0.54      3743\n",
      "\n",
      "    accuracy                           0.60     11807\n",
      "   macro avg       0.61      0.61      0.59     11807\n",
      "weighted avg       0.61      0.60      0.58     11807\n",
      "\n"
     ]
    }
   ],
   "source": [
    "#show the model test acc, but you have to note that the acc is not the cv acc,\n",
    "#so recommend to use the cv acc to evaluate your model!\n",
    "print('the test accuracy is :{:.6f}'.format(accuracy_score(ytest,model.predict(xtest))))\n",
    "test_score_catboost = accuracy_score(ytest,model.predict(xtest))\n",
    "print(\"the train accuracy is :\",model.score(xtrain,ytrain))\n",
    "train_score_catboost = model.score(xtrain,ytrain)\n",
    "y_pred_catboost=model.predict(xtest)\n",
    "print(classification_report(ytest,y_pred_catboost))"
   ]
  },
  {
   "cell_type": "code",
   "execution_count": 94,
   "metadata": {},
   "outputs": [
    {
     "data": {
      "text/plain": [
       "array([[2.],\n",
       "       [1.],\n",
       "       [1.],\n",
       "       ...,\n",
       "       [2.],\n",
       "       [1.],\n",
       "       [1.]])"
      ]
     },
     "execution_count": 94,
     "metadata": {},
     "output_type": "execute_result"
    }
   ],
   "source": [
    "model.predict(xtest)"
   ]
  },
  {
   "cell_type": "code",
   "execution_count": 95,
   "metadata": {},
   "outputs": [
    {
     "data": {
      "text/html": [
       "<div>\n",
       "<style scoped>\n",
       "    .dataframe tbody tr th:only-of-type {\n",
       "        vertical-align: middle;\n",
       "    }\n",
       "\n",
       "    .dataframe tbody tr th {\n",
       "        vertical-align: top;\n",
       "    }\n",
       "\n",
       "    .dataframe thead th {\n",
       "        text-align: right;\n",
       "    }\n",
       "</style>\n",
       "<table border=\"1\" class=\"dataframe\">\n",
       "  <thead>\n",
       "    <tr style=\"text-align: right;\">\n",
       "      <th></th>\n",
       "      <th>Models</th>\n",
       "      <th>Training Accuracy</th>\n",
       "      <th>Testing Accuracy</th>\n",
       "    </tr>\n",
       "  </thead>\n",
       "  <tbody>\n",
       "    <tr>\n",
       "      <th>7</th>\n",
       "      <td>Cat Boost</td>\n",
       "      <td>0.656490</td>\n",
       "      <td>0.598289</td>\n",
       "    </tr>\n",
       "    <tr>\n",
       "      <th>6</th>\n",
       "      <td>Tuned Random Forest</td>\n",
       "      <td>1.000000</td>\n",
       "      <td>0.589396</td>\n",
       "    </tr>\n",
       "    <tr>\n",
       "      <th>4</th>\n",
       "      <td>Tuned Decison Tree</td>\n",
       "      <td>0.590968</td>\n",
       "      <td>0.566867</td>\n",
       "    </tr>\n",
       "    <tr>\n",
       "      <th>3</th>\n",
       "      <td>Random Forest</td>\n",
       "      <td>0.985661</td>\n",
       "      <td>0.545863</td>\n",
       "    </tr>\n",
       "    <tr>\n",
       "      <th>1</th>\n",
       "      <td>Bernauli Naives Bayes</td>\n",
       "      <td>0.537280</td>\n",
       "      <td>0.530363</td>\n",
       "    </tr>\n",
       "    <tr>\n",
       "      <th>2</th>\n",
       "      <td>Decision Tree</td>\n",
       "      <td>1.000000</td>\n",
       "      <td>0.487931</td>\n",
       "    </tr>\n",
       "    <tr>\n",
       "      <th>5</th>\n",
       "      <td>Tuned KNN</td>\n",
       "      <td>0.503521</td>\n",
       "      <td>0.451173</td>\n",
       "    </tr>\n",
       "    <tr>\n",
       "      <th>0</th>\n",
       "      <td>KNN</td>\n",
       "      <td>0.620807</td>\n",
       "      <td>0.428390</td>\n",
       "    </tr>\n",
       "  </tbody>\n",
       "</table>\n",
       "</div>"
      ],
      "text/plain": [
       "                  Models  Training Accuracy  Testing Accuracy\n",
       "7              Cat Boost           0.656490          0.598289\n",
       "6    Tuned Random Forest           1.000000          0.589396\n",
       "4     Tuned Decison Tree           0.590968          0.566867\n",
       "3          Random Forest           0.985661          0.545863\n",
       "1  Bernauli Naives Bayes           0.537280          0.530363\n",
       "2          Decision Tree           1.000000          0.487931\n",
       "5              Tuned KNN           0.503521          0.451173\n",
       "0                    KNN           0.620807          0.428390"
      ]
     },
     "execution_count": 95,
     "metadata": {},
     "output_type": "execute_result"
    }
   ],
   "source": [
    "Model_Scores=pd.DataFrame({'Models':['KNN','Bernauli Naives Bayes','Decision Tree','Random Forest','Tuned Decison Tree','Tuned KNN','Tuned Random Forest','Cat Boost'],\n",
    "             'Training Accuracy':[Train_Score_knn,Train_Score_bnb,Train_Score_dt,Train_Score_rf,Train_Score_tdt,Train_Score_tknn,Train_Score_trf,train_score_catboost],\n",
    "             'Testing Accuracy':[Test_Score_knn,Test_Score_bnb,Test_Score_dt,Test_Score_rf,Test_Score_tdt,Test_Score_tknn,Test_Score_trf,test_score_catboost],\n",
    "                })\n",
    "\n",
    "Model_Scores.sort_values(by=('Testing Accuracy'),ascending=False)"
   ]
  },
  {
   "cell_type": "markdown",
   "metadata": {},
   "source": [
    "# Model Comparision"
   ]
  },
  {
   "cell_type": "markdown",
   "metadata": {},
   "source": [
    "## We have seen the individual values of each of the base model. Now let's compare and see which model is performing well for the given problem statement."
   ]
  },
  {
   "cell_type": "markdown",
   "metadata": {},
   "source": [
    "## when you evaluate the model we trained we get high scores, this just means how well our model learnt from our training data."
   ]
  },
  {
   "cell_type": "markdown",
   "metadata": {},
   "source": [
    "## Testing accuracy is a better estimate than training accuracy of out-of-sample performance"
   ]
  },
  {
   "cell_type": "code",
   "execution_count": 84,
   "metadata": {},
   "outputs": [],
   "source": [
    "%load_ext autoreload\n",
    "%autoreload 2\n",
    "%matplotlib inline"
   ]
  },
  {
   "cell_type": "code",
   "execution_count": 85,
   "metadata": {},
   "outputs": [],
   "source": [
    "from IPython.display import display\n",
    "\n",
    "from sklearn.tree import export_graphviz\n",
    "import graphviz"
   ]
  },
  {
   "cell_type": "code",
   "execution_count": 86,
   "metadata": {},
   "outputs": [
    {
     "data": {
      "image/svg+xml": [
       "<?xml version=\"1.0\" encoding=\"UTF-8\" standalone=\"no\"?>\n",
       "<!DOCTYPE svg PUBLIC \"-//W3C//DTD SVG 1.1//EN\"\n",
       " \"http://www.w3.org/Graphics/SVG/1.1/DTD/svg11.dtd\">\n",
       "<!-- Generated by graphviz version 2.38.0 (20140413.2041)\n",
       " -->\n",
       "<!-- Title: Tree Pages: 1 -->\n",
       "<svg width=\"2366pt\" height=\"671pt\"\n",
       " viewBox=\"0.00 0.00 2366.00 671.00\" xmlns=\"http://www.w3.org/2000/svg\" xmlns:xlink=\"http://www.w3.org/1999/xlink\">\n",
       "<g id=\"graph0\" class=\"graph\" transform=\"scale(1 1) rotate(0) translate(4 667)\">\n",
       "<title>Tree</title>\n",
       "<polygon fill=\"white\" stroke=\"none\" points=\"-4,4 -4,-667 2362,-667 2362,4 -4,4\"/>\n",
       "<!-- 0 -->\n",
       "<g id=\"node1\" class=\"node\"><title>0</title>\n",
       "<path fill=\"#e58139\" fill-opacity=\"0.176471\" stroke=\"black\" d=\"M1242.5,-663C1242.5,-663 1119.5,-663 1119.5,-663 1113.5,-663 1107.5,-657 1107.5,-651 1107.5,-651 1107.5,-592 1107.5,-592 1107.5,-586 1113.5,-580 1119.5,-580 1119.5,-580 1242.5,-580 1242.5,-580 1248.5,-580 1254.5,-586 1254.5,-592 1254.5,-592 1254.5,-651 1254.5,-651 1254.5,-657 1248.5,-663 1242.5,-663\"/>\n",
       "<text text-anchor=\"start\" x=\"1129\" y=\"-647.8\" font-family=\"Helvetica,sans-Serif\" font-size=\"14.00\">change_No ≤ 0.5</text>\n",
       "<text text-anchor=\"start\" x=\"1145.5\" y=\"-632.8\" font-family=\"Helvetica,sans-Serif\" font-size=\"14.00\">gini = 0.495</text>\n",
       "<text text-anchor=\"start\" x=\"1128.5\" y=\"-617.8\" font-family=\"Helvetica,sans-Serif\" font-size=\"14.00\">samples = 18774</text>\n",
       "<text text-anchor=\"start\" x=\"1115.5\" y=\"-602.8\" font-family=\"Helvetica,sans-Serif\" font-size=\"14.00\">value = [10300, 8474]</text>\n",
       "<text text-anchor=\"start\" x=\"1138.5\" y=\"-587.8\" font-family=\"Helvetica,sans-Serif\" font-size=\"14.00\">class = insulin</text>\n",
       "</g>\n",
       "<!-- 1 -->\n",
       "<g id=\"node2\" class=\"node\"><title>1</title>\n",
       "<path fill=\"#399de5\" fill-opacity=\"0.474510\" stroke=\"black\" d=\"M1168,-544C1168,-544 1044,-544 1044,-544 1038,-544 1032,-538 1032,-532 1032,-532 1032,-473 1032,-473 1032,-467 1038,-461 1044,-461 1044,-461 1168,-461 1168,-461 1174,-461 1180,-467 1180,-473 1180,-473 1180,-532 1180,-532 1180,-538 1174,-544 1168,-544\"/>\n",
       "<text text-anchor=\"start\" x=\"1077\" y=\"-528.8\" font-family=\"Helvetica,sans-Serif\" font-size=\"14.00\">age ≤ 4.5</text>\n",
       "<text text-anchor=\"start\" x=\"1070.5\" y=\"-513.8\" font-family=\"Helvetica,sans-Serif\" font-size=\"14.00\">gini = 0.451</text>\n",
       "<text text-anchor=\"start\" x=\"1053.5\" y=\"-498.8\" font-family=\"Helvetica,sans-Serif\" font-size=\"14.00\">samples = 12913</text>\n",
       "<text text-anchor=\"start\" x=\"1044\" y=\"-483.8\" font-family=\"Helvetica,sans-Serif\" font-size=\"14.00\">value = [4439, 8474]</text>\n",
       "<text text-anchor=\"start\" x=\"1040\" y=\"-468.8\" font-family=\"Helvetica,sans-Serif\" font-size=\"14.00\">class = Insulin+others</text>\n",
       "</g>\n",
       "<!-- 0&#45;&gt;1 -->\n",
       "<g id=\"edge1\" class=\"edge\"><title>0&#45;&gt;1</title>\n",
       "<path fill=\"none\" stroke=\"black\" d=\"M1154.98,-579.907C1149.34,-571.105 1143.31,-561.703 1137.48,-552.612\"/>\n",
       "<polygon fill=\"black\" stroke=\"black\" points=\"1140.32,-550.551 1131.97,-544.021 1134.43,-554.328 1140.32,-550.551\"/>\n",
       "<text text-anchor=\"middle\" x=\"1126.63\" y=\"-564.743\" font-family=\"Helvetica,sans-Serif\" font-size=\"14.00\">True</text>\n",
       "</g>\n",
       "<!-- 32 -->\n",
       "<g id=\"node33\" class=\"node\"><title>32</title>\n",
       "<path fill=\"#e58139\" stroke=\"black\" d=\"M1303.5,-536.5C1303.5,-536.5 1210.5,-536.5 1210.5,-536.5 1204.5,-536.5 1198.5,-530.5 1198.5,-524.5 1198.5,-524.5 1198.5,-480.5 1198.5,-480.5 1198.5,-474.5 1204.5,-468.5 1210.5,-468.5 1210.5,-468.5 1303.5,-468.5 1303.5,-468.5 1309.5,-468.5 1315.5,-474.5 1315.5,-480.5 1315.5,-480.5 1315.5,-524.5 1315.5,-524.5 1315.5,-530.5 1309.5,-536.5 1303.5,-536.5\"/>\n",
       "<text text-anchor=\"start\" x=\"1229\" y=\"-521.3\" font-family=\"Helvetica,sans-Serif\" font-size=\"14.00\">gini = 0.0</text>\n",
       "<text text-anchor=\"start\" x=\"1208.5\" y=\"-506.3\" font-family=\"Helvetica,sans-Serif\" font-size=\"14.00\">samples = 5861</text>\n",
       "<text text-anchor=\"start\" x=\"1206.5\" y=\"-491.3\" font-family=\"Helvetica,sans-Serif\" font-size=\"14.00\">value = [5861, 0]</text>\n",
       "<text text-anchor=\"start\" x=\"1214.5\" y=\"-476.3\" font-family=\"Helvetica,sans-Serif\" font-size=\"14.00\">class = insulin</text>\n",
       "</g>\n",
       "<!-- 0&#45;&gt;32 -->\n",
       "<g id=\"edge32\" class=\"edge\"><title>0&#45;&gt;32</title>\n",
       "<path fill=\"none\" stroke=\"black\" d=\"M1207.37,-579.907C1214.68,-568.652 1222.63,-556.418 1229.97,-545.106\"/>\n",
       "<polygon fill=\"black\" stroke=\"black\" points=\"1232.94,-546.96 1235.46,-536.667 1227.07,-543.146 1232.94,-546.96\"/>\n",
       "<text text-anchor=\"middle\" x=\"1240.65\" y=\"-557.421\" font-family=\"Helvetica,sans-Serif\" font-size=\"14.00\">False</text>\n",
       "</g>\n",
       "<!-- 2 -->\n",
       "<g id=\"node3\" class=\"node\"><title>2</title>\n",
       "<path fill=\"#e58139\" fill-opacity=\"0.345098\" stroke=\"black\" d=\"M855.5,-425C855.5,-425 754.5,-425 754.5,-425 748.5,-425 742.5,-419 742.5,-413 742.5,-413 742.5,-354 742.5,-354 742.5,-348 748.5,-342 754.5,-342 754.5,-342 855.5,-342 855.5,-342 861.5,-342 867.5,-348 867.5,-354 867.5,-354 867.5,-413 867.5,-413 867.5,-419 861.5,-425 855.5,-425\"/>\n",
       "<text text-anchor=\"start\" x=\"776\" y=\"-409.8\" font-family=\"Helvetica,sans-Serif\" font-size=\"14.00\">age ≤ 3.5</text>\n",
       "<text text-anchor=\"start\" x=\"769.5\" y=\"-394.8\" font-family=\"Helvetica,sans-Serif\" font-size=\"14.00\">gini = 0.478</text>\n",
       "<text text-anchor=\"start\" x=\"756.5\" y=\"-379.8\" font-family=\"Helvetica,sans-Serif\" font-size=\"14.00\">samples = 1001</text>\n",
       "<text text-anchor=\"start\" x=\"750.5\" y=\"-364.8\" font-family=\"Helvetica,sans-Serif\" font-size=\"14.00\">value = [605, 396]</text>\n",
       "<text text-anchor=\"start\" x=\"762.5\" y=\"-349.8\" font-family=\"Helvetica,sans-Serif\" font-size=\"14.00\">class = insulin</text>\n",
       "</g>\n",
       "<!-- 1&#45;&gt;2 -->\n",
       "<g id=\"edge2\" class=\"edge\"><title>1&#45;&gt;2</title>\n",
       "<path fill=\"none\" stroke=\"black\" d=\"M1031.98,-472.729C984.755,-454.372 923.844,-430.695 877.013,-412.492\"/>\n",
       "<polygon fill=\"black\" stroke=\"black\" points=\"878.132,-409.172 867.543,-408.811 875.596,-415.696 878.132,-409.172\"/>\n",
       "</g>\n",
       "<!-- 17 -->\n",
       "<g id=\"node18\" class=\"node\"><title>17</title>\n",
       "<path fill=\"#399de5\" fill-opacity=\"0.525490\" stroke=\"black\" d=\"M1464.5,-425C1464.5,-425 1321.5,-425 1321.5,-425 1315.5,-425 1309.5,-419 1309.5,-413 1309.5,-413 1309.5,-354 1309.5,-354 1309.5,-348 1315.5,-342 1321.5,-342 1321.5,-342 1464.5,-342 1464.5,-342 1470.5,-342 1476.5,-348 1476.5,-354 1476.5,-354 1476.5,-413 1476.5,-413 1476.5,-419 1470.5,-425 1464.5,-425\"/>\n",
       "<text text-anchor=\"start\" x=\"1317.5\" y=\"-409.8\" font-family=\"Helvetica,sans-Serif\" font-size=\"14.00\">number_diagnoses ≤ 8.5</text>\n",
       "<text text-anchor=\"start\" x=\"1357.5\" y=\"-394.8\" font-family=\"Helvetica,sans-Serif\" font-size=\"14.00\">gini = 0.437</text>\n",
       "<text text-anchor=\"start\" x=\"1340.5\" y=\"-379.8\" font-family=\"Helvetica,sans-Serif\" font-size=\"14.00\">samples = 11912</text>\n",
       "<text text-anchor=\"start\" x=\"1331\" y=\"-364.8\" font-family=\"Helvetica,sans-Serif\" font-size=\"14.00\">value = [3834, 8078]</text>\n",
       "<text text-anchor=\"start\" x=\"1327\" y=\"-349.8\" font-family=\"Helvetica,sans-Serif\" font-size=\"14.00\">class = Insulin+others</text>\n",
       "</g>\n",
       "<!-- 1&#45;&gt;17 -->\n",
       "<g id=\"edge17\" class=\"edge\"><title>1&#45;&gt;17</title>\n",
       "<path fill=\"none\" stroke=\"black\" d=\"M1180.05,-464.935C1183.06,-463.584 1186.05,-462.268 1189,-461 1224.73,-445.625 1264.67,-430.259 1299.67,-417.375\"/>\n",
       "<polygon fill=\"black\" stroke=\"black\" points=\"1301.22,-420.535 1309.41,-413.808 1298.82,-413.962 1301.22,-420.535\"/>\n",
       "</g>\n",
       "<!-- 3 -->\n",
       "<g id=\"node4\" class=\"node\"><title>3</title>\n",
       "<path fill=\"#e58139\" fill-opacity=\"0.678431\" stroke=\"black\" d=\"M470.5,-306C470.5,-306 345.5,-306 345.5,-306 339.5,-306 333.5,-300 333.5,-294 333.5,-294 333.5,-235 333.5,-235 333.5,-229 339.5,-223 345.5,-223 345.5,-223 470.5,-223 470.5,-223 476.5,-223 482.5,-229 482.5,-235 482.5,-235 482.5,-294 482.5,-294 482.5,-300 476.5,-306 470.5,-306\"/>\n",
       "<text text-anchor=\"start\" x=\"341.5\" y=\"-290.8\" font-family=\"Helvetica,sans-Serif\" font-size=\"14.00\">race_Caucasian ≤ 0.5</text>\n",
       "<text text-anchor=\"start\" x=\"372.5\" y=\"-275.8\" font-family=\"Helvetica,sans-Serif\" font-size=\"14.00\">gini = 0.368</text>\n",
       "<text text-anchor=\"start\" x=\"363\" y=\"-260.8\" font-family=\"Helvetica,sans-Serif\" font-size=\"14.00\">samples = 399</text>\n",
       "<text text-anchor=\"start\" x=\"357.5\" y=\"-245.8\" font-family=\"Helvetica,sans-Serif\" font-size=\"14.00\">value = [302, 97]</text>\n",
       "<text text-anchor=\"start\" x=\"365.5\" y=\"-230.8\" font-family=\"Helvetica,sans-Serif\" font-size=\"14.00\">class = insulin</text>\n",
       "</g>\n",
       "<!-- 2&#45;&gt;3 -->\n",
       "<g id=\"edge3\" class=\"edge\"><title>2&#45;&gt;3</title>\n",
       "<path fill=\"none\" stroke=\"black\" d=\"M742.094,-363.961C674.717,-344.104 567.417,-312.482 492.659,-290.45\"/>\n",
       "<polygon fill=\"black\" stroke=\"black\" points=\"493.374,-287.012 482.793,-287.542 491.396,-293.726 493.374,-287.012\"/>\n",
       "</g>\n",
       "<!-- 10 -->\n",
       "<g id=\"node11\" class=\"node\"><title>10</title>\n",
       "<path fill=\"#e58139\" fill-opacity=\"0.011765\" stroke=\"black\" d=\"M871,-306C871,-306 739,-306 739,-306 733,-306 727,-300 727,-294 727,-294 727,-235 727,-235 727,-229 733,-223 739,-223 739,-223 871,-223 871,-223 877,-223 883,-229 883,-235 883,-235 883,-294 883,-294 883,-300 877,-306 871,-306\"/>\n",
       "<text text-anchor=\"start\" x=\"735\" y=\"-290.8\" font-family=\"Helvetica,sans-Serif\" font-size=\"14.00\">number_inpatient ≤ 0.5</text>\n",
       "<text text-anchor=\"start\" x=\"777\" y=\"-275.8\" font-family=\"Helvetica,sans-Serif\" font-size=\"14.00\">gini = 0.5</text>\n",
       "<text text-anchor=\"start\" x=\"760\" y=\"-260.8\" font-family=\"Helvetica,sans-Serif\" font-size=\"14.00\">samples = 602</text>\n",
       "<text text-anchor=\"start\" x=\"750.5\" y=\"-245.8\" font-family=\"Helvetica,sans-Serif\" font-size=\"14.00\">value = [303, 299]</text>\n",
       "<text text-anchor=\"start\" x=\"762.5\" y=\"-230.8\" font-family=\"Helvetica,sans-Serif\" font-size=\"14.00\">class = insulin</text>\n",
       "</g>\n",
       "<!-- 2&#45;&gt;10 -->\n",
       "<g id=\"edge10\" class=\"edge\"><title>2&#45;&gt;10</title>\n",
       "<path fill=\"none\" stroke=\"black\" d=\"M805,-341.907C805,-333.649 805,-324.864 805,-316.302\"/>\n",
       "<polygon fill=\"black\" stroke=\"black\" points=\"808.5,-316.021 805,-306.021 801.5,-316.021 808.5,-316.021\"/>\n",
       "</g>\n",
       "<!-- 4 -->\n",
       "<g id=\"node5\" class=\"node\"><title>4</title>\n",
       "<path fill=\"#e58139\" fill-opacity=\"0.494118\" stroke=\"black\" d=\"M254.5,-187C254.5,-187 111.5,-187 111.5,-187 105.5,-187 99.5,-181 99.5,-175 99.5,-175 99.5,-116 99.5,-116 99.5,-110 105.5,-104 111.5,-104 111.5,-104 254.5,-104 254.5,-104 260.5,-104 266.5,-110 266.5,-116 266.5,-116 266.5,-175 266.5,-175 266.5,-181 260.5,-187 254.5,-187\"/>\n",
       "<text text-anchor=\"start\" x=\"107.5\" y=\"-171.8\" font-family=\"Helvetica,sans-Serif\" font-size=\"14.00\">number_diagnoses ≤ 6.5</text>\n",
       "<text text-anchor=\"start\" x=\"147.5\" y=\"-156.8\" font-family=\"Helvetica,sans-Serif\" font-size=\"14.00\">gini = 0.446</text>\n",
       "<text text-anchor=\"start\" x=\"138\" y=\"-141.8\" font-family=\"Helvetica,sans-Serif\" font-size=\"14.00\">samples = 176</text>\n",
       "<text text-anchor=\"start\" x=\"132.5\" y=\"-126.8\" font-family=\"Helvetica,sans-Serif\" font-size=\"14.00\">value = [117, 59]</text>\n",
       "<text text-anchor=\"start\" x=\"140.5\" y=\"-111.8\" font-family=\"Helvetica,sans-Serif\" font-size=\"14.00\">class = insulin</text>\n",
       "</g>\n",
       "<!-- 3&#45;&gt;4 -->\n",
       "<g id=\"edge4\" class=\"edge\"><title>3&#45;&gt;4</title>\n",
       "<path fill=\"none\" stroke=\"black\" d=\"M333.391,-224.703C313.222,-214.215 291.213,-202.771 270.41,-191.953\"/>\n",
       "<polygon fill=\"black\" stroke=\"black\" points=\"271.751,-188.706 261.264,-187.197 268.522,-194.916 271.751,-188.706\"/>\n",
       "</g>\n",
       "<!-- 7 -->\n",
       "<g id=\"node8\" class=\"node\"><title>7</title>\n",
       "<path fill=\"#e58139\" fill-opacity=\"0.796078\" stroke=\"black\" d=\"M479,-187C479,-187 337,-187 337,-187 331,-187 325,-181 325,-175 325,-175 325,-116 325,-116 325,-110 331,-104 337,-104 337,-104 479,-104 479,-104 485,-104 491,-110 491,-116 491,-116 491,-175 491,-175 491,-181 485,-187 479,-187\"/>\n",
       "<text text-anchor=\"start\" x=\"333\" y=\"-171.8\" font-family=\"Helvetica,sans-Serif\" font-size=\"14.00\">num_medications ≤ 10.5</text>\n",
       "<text text-anchor=\"start\" x=\"372.5\" y=\"-156.8\" font-family=\"Helvetica,sans-Serif\" font-size=\"14.00\">gini = 0.283</text>\n",
       "<text text-anchor=\"start\" x=\"363\" y=\"-141.8\" font-family=\"Helvetica,sans-Serif\" font-size=\"14.00\">samples = 223</text>\n",
       "<text text-anchor=\"start\" x=\"357.5\" y=\"-126.8\" font-family=\"Helvetica,sans-Serif\" font-size=\"14.00\">value = [185, 38]</text>\n",
       "<text text-anchor=\"start\" x=\"365.5\" y=\"-111.8\" font-family=\"Helvetica,sans-Serif\" font-size=\"14.00\">class = insulin</text>\n",
       "</g>\n",
       "<!-- 3&#45;&gt;7 -->\n",
       "<g id=\"edge7\" class=\"edge\"><title>3&#45;&gt;7</title>\n",
       "<path fill=\"none\" stroke=\"black\" d=\"M408,-222.907C408,-214.649 408,-205.864 408,-197.302\"/>\n",
       "<polygon fill=\"black\" stroke=\"black\" points=\"411.5,-197.021 408,-187.021 404.5,-197.021 411.5,-197.021\"/>\n",
       "</g>\n",
       "<!-- 5 -->\n",
       "<g id=\"node6\" class=\"node\"><title>5</title>\n",
       "<path fill=\"#e58139\" fill-opacity=\"0.368627\" stroke=\"black\" d=\"M98,-68C98,-68 12,-68 12,-68 6,-68 0,-62 0,-56 0,-56 0,-12 0,-12 0,-6 6,-0 12,-0 12,-0 98,-0 98,-0 104,-0 110,-6 110,-12 110,-12 110,-56 110,-56 110,-62 104,-68 98,-68\"/>\n",
       "<text text-anchor=\"start\" x=\"19.5\" y=\"-52.8\" font-family=\"Helvetica,sans-Serif\" font-size=\"14.00\">gini = 0.475</text>\n",
       "<text text-anchor=\"start\" x=\"10\" y=\"-37.8\" font-family=\"Helvetica,sans-Serif\" font-size=\"14.00\">samples = 124</text>\n",
       "<text text-anchor=\"start\" x=\"8\" y=\"-22.8\" font-family=\"Helvetica,sans-Serif\" font-size=\"14.00\">value = [76, 48]</text>\n",
       "<text text-anchor=\"start\" x=\"12.5\" y=\"-7.8\" font-family=\"Helvetica,sans-Serif\" font-size=\"14.00\">class = insulin</text>\n",
       "</g>\n",
       "<!-- 4&#45;&gt;5 -->\n",
       "<g id=\"edge5\" class=\"edge\"><title>4&#45;&gt;5</title>\n",
       "<path fill=\"none\" stroke=\"black\" d=\"M135.338,-103.726C124.356,-94.3318 112.686,-84.349 101.744,-74.9883\"/>\n",
       "<polygon fill=\"black\" stroke=\"black\" points=\"103.8,-72.1406 93.9256,-68.2996 99.2492,-77.4598 103.8,-72.1406\"/>\n",
       "</g>\n",
       "<!-- 6 -->\n",
       "<g id=\"node7\" class=\"node\"><title>6</title>\n",
       "<path fill=\"#e58139\" fill-opacity=\"0.733333\" stroke=\"black\" d=\"M226,-68C226,-68 140,-68 140,-68 134,-68 128,-62 128,-56 128,-56 128,-12 128,-12 128,-6 134,-0 140,-0 140,-0 226,-0 226,-0 232,-0 238,-6 238,-12 238,-12 238,-56 238,-56 238,-62 232,-68 226,-68\"/>\n",
       "<text text-anchor=\"start\" x=\"147.5\" y=\"-52.8\" font-family=\"Helvetica,sans-Serif\" font-size=\"14.00\">gini = 0.334</text>\n",
       "<text text-anchor=\"start\" x=\"142\" y=\"-37.8\" font-family=\"Helvetica,sans-Serif\" font-size=\"14.00\">samples = 52</text>\n",
       "<text text-anchor=\"start\" x=\"136\" y=\"-22.8\" font-family=\"Helvetica,sans-Serif\" font-size=\"14.00\">value = [41, 11]</text>\n",
       "<text text-anchor=\"start\" x=\"140.5\" y=\"-7.8\" font-family=\"Helvetica,sans-Serif\" font-size=\"14.00\">class = insulin</text>\n",
       "</g>\n",
       "<!-- 4&#45;&gt;6 -->\n",
       "<g id=\"edge6\" class=\"edge\"><title>4&#45;&gt;6</title>\n",
       "<path fill=\"none\" stroke=\"black\" d=\"M183,-103.726C183,-95.5175 183,-86.8595 183,-78.56\"/>\n",
       "<polygon fill=\"black\" stroke=\"black\" points=\"186.5,-78.2996 183,-68.2996 179.5,-78.2996 186.5,-78.2996\"/>\n",
       "</g>\n",
       "<!-- 8 -->\n",
       "<g id=\"node9\" class=\"node\"><title>8</title>\n",
       "<path fill=\"#e58139\" fill-opacity=\"0.878431\" stroke=\"black\" d=\"M361.5,-68C361.5,-68 268.5,-68 268.5,-68 262.5,-68 256.5,-62 256.5,-56 256.5,-56 256.5,-12 256.5,-12 256.5,-6 262.5,-0 268.5,-0 268.5,-0 361.5,-0 361.5,-0 367.5,-0 373.5,-6 373.5,-12 373.5,-12 373.5,-56 373.5,-56 373.5,-62 367.5,-68 361.5,-68\"/>\n",
       "<text text-anchor=\"start\" x=\"279.5\" y=\"-52.8\" font-family=\"Helvetica,sans-Serif\" font-size=\"14.00\">gini = 0.193</text>\n",
       "<text text-anchor=\"start\" x=\"270\" y=\"-37.8\" font-family=\"Helvetica,sans-Serif\" font-size=\"14.00\">samples = 120</text>\n",
       "<text text-anchor=\"start\" x=\"264.5\" y=\"-22.8\" font-family=\"Helvetica,sans-Serif\" font-size=\"14.00\">value = [107, 13]</text>\n",
       "<text text-anchor=\"start\" x=\"272.5\" y=\"-7.8\" font-family=\"Helvetica,sans-Serif\" font-size=\"14.00\">class = insulin</text>\n",
       "</g>\n",
       "<!-- 7&#45;&gt;8 -->\n",
       "<g id=\"edge8\" class=\"edge\"><title>7&#45;&gt;8</title>\n",
       "<path fill=\"none\" stroke=\"black\" d=\"M373.37,-103.726C365.701,-94.6966 357.571,-85.1235 349.891,-76.0816\"/>\n",
       "<polygon fill=\"black\" stroke=\"black\" points=\"352.423,-73.6559 343.282,-68.2996 347.088,-78.1873 352.423,-73.6559\"/>\n",
       "</g>\n",
       "<!-- 9 -->\n",
       "<g id=\"node10\" class=\"node\"><title>9</title>\n",
       "<path fill=\"#e58139\" fill-opacity=\"0.678431\" stroke=\"black\" d=\"M490,-68C490,-68 404,-68 404,-68 398,-68 392,-62 392,-56 392,-56 392,-12 392,-12 392,-6 398,-0 404,-0 404,-0 490,-0 490,-0 496,-0 502,-6 502,-12 502,-12 502,-56 502,-56 502,-62 496,-68 490,-68\"/>\n",
       "<text text-anchor=\"start\" x=\"411.5\" y=\"-52.8\" font-family=\"Helvetica,sans-Serif\" font-size=\"14.00\">gini = 0.368</text>\n",
       "<text text-anchor=\"start\" x=\"402\" y=\"-37.8\" font-family=\"Helvetica,sans-Serif\" font-size=\"14.00\">samples = 103</text>\n",
       "<text text-anchor=\"start\" x=\"400\" y=\"-22.8\" font-family=\"Helvetica,sans-Serif\" font-size=\"14.00\">value = [78, 25]</text>\n",
       "<text text-anchor=\"start\" x=\"404.5\" y=\"-7.8\" font-family=\"Helvetica,sans-Serif\" font-size=\"14.00\">class = insulin</text>\n",
       "</g>\n",
       "<!-- 7&#45;&gt;9 -->\n",
       "<g id=\"edge9\" class=\"edge\"><title>7&#45;&gt;9</title>\n",
       "<path fill=\"none\" stroke=\"black\" d=\"M422.522,-103.726C425.543,-95.2439 428.735,-86.2819 431.781,-77.7312\"/>\n",
       "<polygon fill=\"black\" stroke=\"black\" points=\"435.082,-78.8943 435.14,-68.2996 428.487,-76.5456 435.082,-78.8943\"/>\n",
       "</g>\n",
       "<!-- 11 -->\n",
       "<g id=\"node12\" class=\"node\"><title>11</title>\n",
       "<path fill=\"#399de5\" fill-opacity=\"0.145098\" stroke=\"black\" d=\"M787,-187C787,-187 647,-187 647,-187 641,-187 635,-181 635,-175 635,-175 635,-116 635,-116 635,-110 641,-104 647,-104 647,-104 787,-104 787,-104 793,-104 799,-110 799,-116 799,-116 799,-175 799,-175 799,-181 793,-187 787,-187\"/>\n",
       "<text text-anchor=\"start\" x=\"643\" y=\"-171.8\" font-family=\"Helvetica,sans-Serif\" font-size=\"14.00\">admission_type_id ≤ 4.0</text>\n",
       "<text text-anchor=\"start\" x=\"681.5\" y=\"-156.8\" font-family=\"Helvetica,sans-Serif\" font-size=\"14.00\">gini = 0.497</text>\n",
       "<text text-anchor=\"start\" x=\"672\" y=\"-141.8\" font-family=\"Helvetica,sans-Serif\" font-size=\"14.00\">samples = 479</text>\n",
       "<text text-anchor=\"start\" x=\"662.5\" y=\"-126.8\" font-family=\"Helvetica,sans-Serif\" font-size=\"14.00\">value = [221, 258]</text>\n",
       "<text text-anchor=\"start\" x=\"651\" y=\"-111.8\" font-family=\"Helvetica,sans-Serif\" font-size=\"14.00\">class = Insulin+others</text>\n",
       "</g>\n",
       "<!-- 10&#45;&gt;11 -->\n",
       "<g id=\"edge11\" class=\"edge\"><title>10&#45;&gt;11</title>\n",
       "<path fill=\"none\" stroke=\"black\" d=\"M774.469,-222.907C767.711,-213.923 760.485,-204.315 753.516,-195.05\"/>\n",
       "<polygon fill=\"black\" stroke=\"black\" points=\"756.285,-192.909 747.477,-187.021 750.691,-197.116 756.285,-192.909\"/>\n",
       "</g>\n",
       "<!-- 14 -->\n",
       "<g id=\"node15\" class=\"node\"><title>14</title>\n",
       "<path fill=\"#e58139\" fill-opacity=\"0.498039\" stroke=\"black\" d=\"M954.5,-187C954.5,-187 829.5,-187 829.5,-187 823.5,-187 817.5,-181 817.5,-175 817.5,-175 817.5,-116 817.5,-116 817.5,-110 823.5,-104 829.5,-104 829.5,-104 954.5,-104 954.5,-104 960.5,-104 966.5,-110 966.5,-116 966.5,-116 966.5,-175 966.5,-175 966.5,-181 960.5,-187 954.5,-187\"/>\n",
       "<text text-anchor=\"start\" x=\"825.5\" y=\"-171.8\" font-family=\"Helvetica,sans-Serif\" font-size=\"14.00\">time_in_hospital ≤ 3.5</text>\n",
       "<text text-anchor=\"start\" x=\"856.5\" y=\"-156.8\" font-family=\"Helvetica,sans-Serif\" font-size=\"14.00\">gini = 0.444</text>\n",
       "<text text-anchor=\"start\" x=\"847\" y=\"-141.8\" font-family=\"Helvetica,sans-Serif\" font-size=\"14.00\">samples = 123</text>\n",
       "<text text-anchor=\"start\" x=\"845\" y=\"-126.8\" font-family=\"Helvetica,sans-Serif\" font-size=\"14.00\">value = [82, 41]</text>\n",
       "<text text-anchor=\"start\" x=\"849.5\" y=\"-111.8\" font-family=\"Helvetica,sans-Serif\" font-size=\"14.00\">class = insulin</text>\n",
       "</g>\n",
       "<!-- 10&#45;&gt;14 -->\n",
       "<g id=\"edge14\" class=\"edge\"><title>10&#45;&gt;14</title>\n",
       "<path fill=\"none\" stroke=\"black\" d=\"M835.184,-222.907C841.865,-213.923 849.009,-204.315 855.899,-195.05\"/>\n",
       "<polygon fill=\"black\" stroke=\"black\" points=\"858.711,-197.134 861.869,-187.021 853.093,-192.957 858.711,-197.134\"/>\n",
       "</g>\n",
       "<!-- 12 -->\n",
       "<g id=\"node13\" class=\"node\"><title>12</title>\n",
       "<path fill=\"#399de5\" fill-opacity=\"0.219608\" stroke=\"black\" d=\"M656,-68C656,-68 532,-68 532,-68 526,-68 520,-62 520,-56 520,-56 520,-12 520,-12 520,-6 526,-0 532,-0 532,-0 656,-0 656,-0 662,-0 668,-6 668,-12 668,-12 668,-56 668,-56 668,-62 662,-68 656,-68\"/>\n",
       "<text text-anchor=\"start\" x=\"558.5\" y=\"-52.8\" font-family=\"Helvetica,sans-Serif\" font-size=\"14.00\">gini = 0.492</text>\n",
       "<text text-anchor=\"start\" x=\"549\" y=\"-37.8\" font-family=\"Helvetica,sans-Serif\" font-size=\"14.00\">samples = 418</text>\n",
       "<text text-anchor=\"start\" x=\"539.5\" y=\"-22.8\" font-family=\"Helvetica,sans-Serif\" font-size=\"14.00\">value = [183, 235]</text>\n",
       "<text text-anchor=\"start\" x=\"528\" y=\"-7.8\" font-family=\"Helvetica,sans-Serif\" font-size=\"14.00\">class = Insulin+others</text>\n",
       "</g>\n",
       "<!-- 11&#45;&gt;12 -->\n",
       "<g id=\"edge12\" class=\"edge\"><title>11&#45;&gt;12</title>\n",
       "<path fill=\"none\" stroke=\"black\" d=\"M671.199,-103.726C660.647,-94.3318 649.433,-84.349 638.918,-74.9883\"/>\n",
       "<polygon fill=\"black\" stroke=\"black\" points=\"641.201,-72.3347 631.405,-68.2996 636.547,-77.5631 641.201,-72.3347\"/>\n",
       "</g>\n",
       "<!-- 13 -->\n",
       "<g id=\"node14\" class=\"node\"><title>13</title>\n",
       "<path fill=\"#e58139\" fill-opacity=\"0.396078\" stroke=\"black\" d=\"M784,-68C784,-68 698,-68 698,-68 692,-68 686,-62 686,-56 686,-56 686,-12 686,-12 686,-6 692,-0 698,-0 698,-0 784,-0 784,-0 790,-0 796,-6 796,-12 796,-12 796,-56 796,-56 796,-62 790,-68 784,-68\"/>\n",
       "<text text-anchor=\"start\" x=\"709\" y=\"-52.8\" font-family=\"Helvetica,sans-Serif\" font-size=\"14.00\">gini = 0.47</text>\n",
       "<text text-anchor=\"start\" x=\"700\" y=\"-37.8\" font-family=\"Helvetica,sans-Serif\" font-size=\"14.00\">samples = 61</text>\n",
       "<text text-anchor=\"start\" x=\"694\" y=\"-22.8\" font-family=\"Helvetica,sans-Serif\" font-size=\"14.00\">value = [38, 23]</text>\n",
       "<text text-anchor=\"start\" x=\"698.5\" y=\"-7.8\" font-family=\"Helvetica,sans-Serif\" font-size=\"14.00\">class = insulin</text>\n",
       "</g>\n",
       "<!-- 11&#45;&gt;13 -->\n",
       "<g id=\"edge13\" class=\"edge\"><title>11&#45;&gt;13</title>\n",
       "<path fill=\"none\" stroke=\"black\" d=\"M725.937,-103.726C727.756,-95.4263 729.676,-86.6671 731.513,-78.2834\"/>\n",
       "<polygon fill=\"black\" stroke=\"black\" points=\"734.979,-78.8171 733.701,-68.2996 728.142,-77.3184 734.979,-78.8171\"/>\n",
       "</g>\n",
       "<!-- 15 -->\n",
       "<g id=\"node16\" class=\"node\"><title>15</title>\n",
       "<path fill=\"#e58139\" fill-opacity=\"0.278431\" stroke=\"black\" d=\"M912,-68C912,-68 826,-68 826,-68 820,-68 814,-62 814,-56 814,-56 814,-12 814,-12 814,-6 820,-0 826,-0 826,-0 912,-0 912,-0 918,-0 924,-6 924,-12 924,-12 924,-56 924,-56 924,-62 918,-68 912,-68\"/>\n",
       "<text text-anchor=\"start\" x=\"833.5\" y=\"-52.8\" font-family=\"Helvetica,sans-Serif\" font-size=\"14.00\">gini = 0.487</text>\n",
       "<text text-anchor=\"start\" x=\"828\" y=\"-37.8\" font-family=\"Helvetica,sans-Serif\" font-size=\"14.00\">samples = 62</text>\n",
       "<text text-anchor=\"start\" x=\"822\" y=\"-22.8\" font-family=\"Helvetica,sans-Serif\" font-size=\"14.00\">value = [36, 26]</text>\n",
       "<text text-anchor=\"start\" x=\"826.5\" y=\"-7.8\" font-family=\"Helvetica,sans-Serif\" font-size=\"14.00\">class = insulin</text>\n",
       "</g>\n",
       "<!-- 14&#45;&gt;15 -->\n",
       "<g id=\"edge15\" class=\"edge\"><title>14&#45;&gt;15</title>\n",
       "<path fill=\"none\" stroke=\"black\" d=\"M883.436,-103.726C881.692,-95.4263 879.852,-86.6671 878.091,-78.2834\"/>\n",
       "<polygon fill=\"black\" stroke=\"black\" points=\"881.475,-77.3666 875.994,-68.2996 874.625,-78.8055 881.475,-77.3666\"/>\n",
       "</g>\n",
       "<!-- 16 -->\n",
       "<g id=\"node17\" class=\"node\"><title>16</title>\n",
       "<path fill=\"#e58139\" fill-opacity=\"0.674510\" stroke=\"black\" d=\"M1040,-68C1040,-68 954,-68 954,-68 948,-68 942,-62 942,-56 942,-56 942,-12 942,-12 942,-6 948,-0 954,-0 954,-0 1040,-0 1040,-0 1046,-0 1052,-6 1052,-12 1052,-12 1052,-56 1052,-56 1052,-62 1046,-68 1040,-68\"/>\n",
       "<text text-anchor=\"start\" x=\"961.5\" y=\"-52.8\" font-family=\"Helvetica,sans-Serif\" font-size=\"14.00\">gini = 0.371</text>\n",
       "<text text-anchor=\"start\" x=\"956\" y=\"-37.8\" font-family=\"Helvetica,sans-Serif\" font-size=\"14.00\">samples = 61</text>\n",
       "<text text-anchor=\"start\" x=\"950\" y=\"-22.8\" font-family=\"Helvetica,sans-Serif\" font-size=\"14.00\">value = [46, 15]</text>\n",
       "<text text-anchor=\"start\" x=\"954.5\" y=\"-7.8\" font-family=\"Helvetica,sans-Serif\" font-size=\"14.00\">class = insulin</text>\n",
       "</g>\n",
       "<!-- 14&#45;&gt;16 -->\n",
       "<g id=\"edge16\" class=\"edge\"><title>14&#45;&gt;16</title>\n",
       "<path fill=\"none\" stroke=\"black\" d=\"M931.098,-103.726C939.932,-94.5142 949.308,-84.7364 958.131,-75.5343\"/>\n",
       "<polygon fill=\"black\" stroke=\"black\" points=\"960.674,-77.9399 965.069,-68.2996 955.621,-73.095 960.674,-77.9399\"/>\n",
       "</g>\n",
       "<!-- 18 -->\n",
       "<g id=\"node19\" class=\"node\"><title>18</title>\n",
       "<path fill=\"#399de5\" fill-opacity=\"0.639216\" stroke=\"black\" d=\"M1470.5,-306C1470.5,-306 1315.5,-306 1315.5,-306 1309.5,-306 1303.5,-300 1303.5,-294 1303.5,-294 1303.5,-235 1303.5,-235 1303.5,-229 1309.5,-223 1315.5,-223 1315.5,-223 1470.5,-223 1470.5,-223 1476.5,-223 1482.5,-229 1482.5,-235 1482.5,-235 1482.5,-294 1482.5,-294 1482.5,-300 1476.5,-306 1470.5,-306\"/>\n",
       "<text text-anchor=\"start\" x=\"1311.5\" y=\"-290.8\" font-family=\"Helvetica,sans-Serif\" font-size=\"14.00\">admission_source_id ≤ 6.5</text>\n",
       "<text text-anchor=\"start\" x=\"1361\" y=\"-275.8\" font-family=\"Helvetica,sans-Serif\" font-size=\"14.00\">gini = 0.39</text>\n",
       "<text text-anchor=\"start\" x=\"1344.5\" y=\"-260.8\" font-family=\"Helvetica,sans-Serif\" font-size=\"14.00\">samples = 5685</text>\n",
       "<text text-anchor=\"start\" x=\"1331\" y=\"-245.8\" font-family=\"Helvetica,sans-Serif\" font-size=\"14.00\">value = [1508, 4177]</text>\n",
       "<text text-anchor=\"start\" x=\"1327\" y=\"-230.8\" font-family=\"Helvetica,sans-Serif\" font-size=\"14.00\">class = Insulin+others</text>\n",
       "</g>\n",
       "<!-- 17&#45;&gt;18 -->\n",
       "<g id=\"edge18\" class=\"edge\"><title>17&#45;&gt;18</title>\n",
       "<path fill=\"none\" stroke=\"black\" d=\"M1393,-341.907C1393,-333.649 1393,-324.864 1393,-316.302\"/>\n",
       "<polygon fill=\"black\" stroke=\"black\" points=\"1396.5,-316.021 1393,-306.021 1389.5,-316.021 1396.5,-316.021\"/>\n",
       "</g>\n",
       "<!-- 25 -->\n",
       "<g id=\"node26\" class=\"node\"><title>25</title>\n",
       "<path fill=\"#399de5\" fill-opacity=\"0.403922\" stroke=\"black\" d=\"M1936,-306C1936,-306 1804,-306 1804,-306 1798,-306 1792,-300 1792,-294 1792,-294 1792,-235 1792,-235 1792,-229 1798,-223 1804,-223 1804,-223 1936,-223 1936,-223 1942,-223 1948,-229 1948,-235 1948,-235 1948,-294 1948,-294 1948,-300 1942,-306 1936,-306\"/>\n",
       "<text text-anchor=\"start\" x=\"1800\" y=\"-290.8\" font-family=\"Helvetica,sans-Serif\" font-size=\"14.00\">number_inpatient ≤ 0.5</text>\n",
       "<text text-anchor=\"start\" x=\"1834.5\" y=\"-275.8\" font-family=\"Helvetica,sans-Serif\" font-size=\"14.00\">gini = 0.468</text>\n",
       "<text text-anchor=\"start\" x=\"1821.5\" y=\"-260.8\" font-family=\"Helvetica,sans-Serif\" font-size=\"14.00\">samples = 6227</text>\n",
       "<text text-anchor=\"start\" x=\"1808\" y=\"-245.8\" font-family=\"Helvetica,sans-Serif\" font-size=\"14.00\">value = [2326, 3901]</text>\n",
       "<text text-anchor=\"start\" x=\"1804\" y=\"-230.8\" font-family=\"Helvetica,sans-Serif\" font-size=\"14.00\">class = Insulin+others</text>\n",
       "</g>\n",
       "<!-- 17&#45;&gt;25 -->\n",
       "<g id=\"edge25\" class=\"edge\"><title>17&#45;&gt;25</title>\n",
       "<path fill=\"none\" stroke=\"black\" d=\"M1476.63,-361.986C1562.18,-341.004 1694.55,-308.535 1781.74,-287.149\"/>\n",
       "<polygon fill=\"black\" stroke=\"black\" points=\"1782.73,-290.509 1791.61,-284.727 1781.07,-283.71 1782.73,-290.509\"/>\n",
       "</g>\n",
       "<!-- 19 -->\n",
       "<g id=\"node20\" class=\"node\"><title>19</title>\n",
       "<path fill=\"#399de5\" fill-opacity=\"0.729412\" stroke=\"black\" d=\"M1379.5,-187C1379.5,-187 1224.5,-187 1224.5,-187 1218.5,-187 1212.5,-181 1212.5,-175 1212.5,-175 1212.5,-116 1212.5,-116 1212.5,-110 1218.5,-104 1224.5,-104 1224.5,-104 1379.5,-104 1379.5,-104 1385.5,-104 1391.5,-110 1391.5,-116 1391.5,-116 1391.5,-175 1391.5,-175 1391.5,-181 1385.5,-187 1379.5,-187\"/>\n",
       "<text text-anchor=\"start\" x=\"1220.5\" y=\"-171.8\" font-family=\"Helvetica,sans-Serif\" font-size=\"14.00\">admission_source_id ≤ 5.5</text>\n",
       "<text text-anchor=\"start\" x=\"1266.5\" y=\"-156.8\" font-family=\"Helvetica,sans-Serif\" font-size=\"14.00\">gini = 0.335</text>\n",
       "<text text-anchor=\"start\" x=\"1253.5\" y=\"-141.8\" font-family=\"Helvetica,sans-Serif\" font-size=\"14.00\">samples = 2545</text>\n",
       "<text text-anchor=\"start\" x=\"1244\" y=\"-126.8\" font-family=\"Helvetica,sans-Serif\" font-size=\"14.00\">value = [542, 2003]</text>\n",
       "<text text-anchor=\"start\" x=\"1236\" y=\"-111.8\" font-family=\"Helvetica,sans-Serif\" font-size=\"14.00\">class = Insulin+others</text>\n",
       "</g>\n",
       "<!-- 18&#45;&gt;19 -->\n",
       "<g id=\"edge19\" class=\"edge\"><title>18&#45;&gt;19</title>\n",
       "<path fill=\"none\" stroke=\"black\" d=\"M1361.43,-222.907C1354.44,-213.923 1346.97,-204.315 1339.76,-195.05\"/>\n",
       "<polygon fill=\"black\" stroke=\"black\" points=\"1342.42,-192.766 1333.52,-187.021 1336.89,-197.063 1342.42,-192.766\"/>\n",
       "</g>\n",
       "<!-- 22 -->\n",
       "<g id=\"node23\" class=\"node\"><title>22</title>\n",
       "<path fill=\"#399de5\" fill-opacity=\"0.556863\" stroke=\"black\" d=\"M1546,-187C1546,-187 1422,-187 1422,-187 1416,-187 1410,-181 1410,-175 1410,-175 1410,-116 1410,-116 1410,-110 1416,-104 1422,-104 1422,-104 1546,-104 1546,-104 1552,-104 1558,-110 1558,-116 1558,-116 1558,-175 1558,-175 1558,-181 1552,-187 1546,-187\"/>\n",
       "<text text-anchor=\"start\" x=\"1455\" y=\"-171.8\" font-family=\"Helvetica,sans-Serif\" font-size=\"14.00\">age ≤ 5.5</text>\n",
       "<text text-anchor=\"start\" x=\"1448.5\" y=\"-156.8\" font-family=\"Helvetica,sans-Serif\" font-size=\"14.00\">gini = 0.426</text>\n",
       "<text text-anchor=\"start\" x=\"1435.5\" y=\"-141.8\" font-family=\"Helvetica,sans-Serif\" font-size=\"14.00\">samples = 3140</text>\n",
       "<text text-anchor=\"start\" x=\"1426\" y=\"-126.8\" font-family=\"Helvetica,sans-Serif\" font-size=\"14.00\">value = [966, 2174]</text>\n",
       "<text text-anchor=\"start\" x=\"1418\" y=\"-111.8\" font-family=\"Helvetica,sans-Serif\" font-size=\"14.00\">class = Insulin+others</text>\n",
       "</g>\n",
       "<!-- 18&#45;&gt;22 -->\n",
       "<g id=\"edge22\" class=\"edge\"><title>18&#45;&gt;22</title>\n",
       "<path fill=\"none\" stroke=\"black\" d=\"M1424.57,-222.907C1431.56,-213.923 1439.03,-204.315 1446.24,-195.05\"/>\n",
       "<polygon fill=\"black\" stroke=\"black\" points=\"1449.11,-197.063 1452.48,-187.021 1443.58,-192.766 1449.11,-197.063\"/>\n",
       "</g>\n",
       "<!-- 20 -->\n",
       "<g id=\"node21\" class=\"node\"><title>20</title>\n",
       "<path fill=\"#399de5\" fill-opacity=\"0.701961\" stroke=\"black\" d=\"M1206,-68C1206,-68 1082,-68 1082,-68 1076,-68 1070,-62 1070,-56 1070,-56 1070,-12 1070,-12 1070,-6 1076,-0 1082,-0 1082,-0 1206,-0 1206,-0 1212,-0 1218,-6 1218,-12 1218,-12 1218,-56 1218,-56 1218,-62 1212,-68 1206,-68\"/>\n",
       "<text text-anchor=\"start\" x=\"1108.5\" y=\"-52.8\" font-family=\"Helvetica,sans-Serif\" font-size=\"14.00\">gini = 0.353</text>\n",
       "<text text-anchor=\"start\" x=\"1095.5\" y=\"-37.8\" font-family=\"Helvetica,sans-Serif\" font-size=\"14.00\">samples = 2335</text>\n",
       "<text text-anchor=\"start\" x=\"1086\" y=\"-22.8\" font-family=\"Helvetica,sans-Serif\" font-size=\"14.00\">value = [535, 1800]</text>\n",
       "<text text-anchor=\"start\" x=\"1078\" y=\"-7.8\" font-family=\"Helvetica,sans-Serif\" font-size=\"14.00\">class = Insulin+others</text>\n",
       "</g>\n",
       "<!-- 19&#45;&gt;20 -->\n",
       "<g id=\"edge20\" class=\"edge\"><title>19&#45;&gt;20</title>\n",
       "<path fill=\"none\" stroke=\"black\" d=\"M1243.17,-103.726C1229.14,-94.0078 1214.21,-83.6597 1200.31,-74.0222\"/>\n",
       "<polygon fill=\"black\" stroke=\"black\" points=\"1202.01,-70.9447 1191.8,-68.1252 1198.02,-76.6981 1202.01,-70.9447\"/>\n",
       "</g>\n",
       "<!-- 21 -->\n",
       "<g id=\"node22\" class=\"node\"><title>21</title>\n",
       "<path fill=\"#399de5\" fill-opacity=\"0.964706\" stroke=\"black\" d=\"M1372,-68C1372,-68 1248,-68 1248,-68 1242,-68 1236,-62 1236,-56 1236,-56 1236,-12 1236,-12 1236,-6 1242,-0 1248,-0 1248,-0 1372,-0 1372,-0 1378,-0 1384,-6 1384,-12 1384,-12 1384,-56 1384,-56 1384,-62 1378,-68 1372,-68\"/>\n",
       "<text text-anchor=\"start\" x=\"1274.5\" y=\"-52.8\" font-family=\"Helvetica,sans-Serif\" font-size=\"14.00\">gini = 0.064</text>\n",
       "<text text-anchor=\"start\" x=\"1265\" y=\"-37.8\" font-family=\"Helvetica,sans-Serif\" font-size=\"14.00\">samples = 210</text>\n",
       "<text text-anchor=\"start\" x=\"1263\" y=\"-22.8\" font-family=\"Helvetica,sans-Serif\" font-size=\"14.00\">value = [7, 203]</text>\n",
       "<text text-anchor=\"start\" x=\"1244\" y=\"-7.8\" font-family=\"Helvetica,sans-Serif\" font-size=\"14.00\">class = Insulin+others</text>\n",
       "</g>\n",
       "<!-- 19&#45;&gt;21 -->\n",
       "<g id=\"edge21\" class=\"edge\"><title>19&#45;&gt;21</title>\n",
       "<path fill=\"none\" stroke=\"black\" d=\"M1304.98,-103.726C1305.59,-95.4263 1306.23,-86.6671 1306.84,-78.2834\"/>\n",
       "<polygon fill=\"black\" stroke=\"black\" points=\"1310.33,-78.5281 1307.57,-68.2996 1303.35,-78.018 1310.33,-78.5281\"/>\n",
       "</g>\n",
       "<!-- 23 -->\n",
       "<g id=\"node24\" class=\"node\"><title>23</title>\n",
       "<path fill=\"#399de5\" fill-opacity=\"0.376471\" stroke=\"black\" d=\"M1538,-68C1538,-68 1414,-68 1414,-68 1408,-68 1402,-62 1402,-56 1402,-56 1402,-12 1402,-12 1402,-6 1408,-0 1414,-0 1414,-0 1538,-0 1538,-0 1544,-0 1550,-6 1550,-12 1550,-12 1550,-56 1550,-56 1550,-62 1544,-68 1538,-68\"/>\n",
       "<text text-anchor=\"start\" x=\"1440.5\" y=\"-52.8\" font-family=\"Helvetica,sans-Serif\" font-size=\"14.00\">gini = 0.473</text>\n",
       "<text text-anchor=\"start\" x=\"1431\" y=\"-37.8\" font-family=\"Helvetica,sans-Serif\" font-size=\"14.00\">samples = 565</text>\n",
       "<text text-anchor=\"start\" x=\"1421.5\" y=\"-22.8\" font-family=\"Helvetica,sans-Serif\" font-size=\"14.00\">value = [217, 348]</text>\n",
       "<text text-anchor=\"start\" x=\"1410\" y=\"-7.8\" font-family=\"Helvetica,sans-Serif\" font-size=\"14.00\">class = Insulin+others</text>\n",
       "</g>\n",
       "<!-- 22&#45;&gt;23 -->\n",
       "<g id=\"edge23\" class=\"edge\"><title>22&#45;&gt;23</title>\n",
       "<path fill=\"none\" stroke=\"black\" d=\"M1481.02,-103.726C1480.41,-95.4263 1479.77,-86.6671 1479.16,-78.2834\"/>\n",
       "<polygon fill=\"black\" stroke=\"black\" points=\"1482.65,-78.018 1478.43,-68.2996 1475.67,-78.5281 1482.65,-78.018\"/>\n",
       "</g>\n",
       "<!-- 24 -->\n",
       "<g id=\"node25\" class=\"node\"><title>24</title>\n",
       "<path fill=\"#399de5\" fill-opacity=\"0.588235\" stroke=\"black\" d=\"M1704,-68C1704,-68 1580,-68 1580,-68 1574,-68 1568,-62 1568,-56 1568,-56 1568,-12 1568,-12 1568,-6 1574,-0 1580,-0 1580,-0 1704,-0 1704,-0 1710,-0 1716,-6 1716,-12 1716,-12 1716,-56 1716,-56 1716,-62 1710,-68 1704,-68\"/>\n",
       "<text text-anchor=\"start\" x=\"1606.5\" y=\"-52.8\" font-family=\"Helvetica,sans-Serif\" font-size=\"14.00\">gini = 0.413</text>\n",
       "<text text-anchor=\"start\" x=\"1593.5\" y=\"-37.8\" font-family=\"Helvetica,sans-Serif\" font-size=\"14.00\">samples = 2575</text>\n",
       "<text text-anchor=\"start\" x=\"1584\" y=\"-22.8\" font-family=\"Helvetica,sans-Serif\" font-size=\"14.00\">value = [749, 1826]</text>\n",
       "<text text-anchor=\"start\" x=\"1576\" y=\"-7.8\" font-family=\"Helvetica,sans-Serif\" font-size=\"14.00\">class = Insulin+others</text>\n",
       "</g>\n",
       "<!-- 22&#45;&gt;24 -->\n",
       "<g id=\"edge24\" class=\"edge\"><title>22&#45;&gt;24</title>\n",
       "<path fill=\"none\" stroke=\"black\" d=\"M1542.83,-103.726C1556.86,-94.0078 1571.79,-83.6597 1585.69,-74.0222\"/>\n",
       "<polygon fill=\"black\" stroke=\"black\" points=\"1587.98,-76.6981 1594.2,-68.1252 1583.99,-70.9447 1587.98,-76.6981\"/>\n",
       "</g>\n",
       "<!-- 26 -->\n",
       "<g id=\"node27\" class=\"node\"><title>26</title>\n",
       "<path fill=\"#399de5\" fill-opacity=\"0.466667\" stroke=\"black\" d=\"M1937,-187C1937,-187 1803,-187 1803,-187 1797,-187 1791,-181 1791,-175 1791,-175 1791,-116 1791,-116 1791,-110 1797,-104 1803,-104 1803,-104 1937,-104 1937,-104 1943,-104 1949,-110 1949,-116 1949,-116 1949,-175 1949,-175 1949,-181 1943,-187 1937,-187\"/>\n",
       "<text text-anchor=\"start\" x=\"1799\" y=\"-171.8\" font-family=\"Helvetica,sans-Serif\" font-size=\"14.00\">num_medications ≤ 9.5</text>\n",
       "<text text-anchor=\"start\" x=\"1834.5\" y=\"-156.8\" font-family=\"Helvetica,sans-Serif\" font-size=\"14.00\">gini = 0.454</text>\n",
       "<text text-anchor=\"start\" x=\"1821.5\" y=\"-141.8\" font-family=\"Helvetica,sans-Serif\" font-size=\"14.00\">samples = 4354</text>\n",
       "<text text-anchor=\"start\" x=\"1808\" y=\"-126.8\" font-family=\"Helvetica,sans-Serif\" font-size=\"14.00\">value = [1517, 2837]</text>\n",
       "<text text-anchor=\"start\" x=\"1804\" y=\"-111.8\" font-family=\"Helvetica,sans-Serif\" font-size=\"14.00\">class = Insulin+others</text>\n",
       "</g>\n",
       "<!-- 25&#45;&gt;26 -->\n",
       "<g id=\"edge26\" class=\"edge\"><title>25&#45;&gt;26</title>\n",
       "<path fill=\"none\" stroke=\"black\" d=\"M1870,-222.907C1870,-214.649 1870,-205.864 1870,-197.302\"/>\n",
       "<polygon fill=\"black\" stroke=\"black\" points=\"1873.5,-197.021 1870,-187.021 1866.5,-197.021 1873.5,-197.021\"/>\n",
       "</g>\n",
       "<!-- 29 -->\n",
       "<g id=\"node30\" class=\"node\"><title>29</title>\n",
       "<path fill=\"#399de5\" fill-opacity=\"0.239216\" stroke=\"black\" d=\"M2184,-187C2184,-187 2052,-187 2052,-187 2046,-187 2040,-181 2040,-175 2040,-175 2040,-116 2040,-116 2040,-110 2046,-104 2052,-104 2052,-104 2184,-104 2184,-104 2190,-104 2196,-110 2196,-116 2196,-116 2196,-175 2196,-175 2196,-181 2190,-187 2184,-187\"/>\n",
       "<text text-anchor=\"start\" x=\"2048\" y=\"-171.8\" font-family=\"Helvetica,sans-Serif\" font-size=\"14.00\">number_inpatient ≤ 1.5</text>\n",
       "<text text-anchor=\"start\" x=\"2082.5\" y=\"-156.8\" font-family=\"Helvetica,sans-Serif\" font-size=\"14.00\">gini = 0.491</text>\n",
       "<text text-anchor=\"start\" x=\"2069.5\" y=\"-141.8\" font-family=\"Helvetica,sans-Serif\" font-size=\"14.00\">samples = 1873</text>\n",
       "<text text-anchor=\"start\" x=\"2060\" y=\"-126.8\" font-family=\"Helvetica,sans-Serif\" font-size=\"14.00\">value = [809, 1064]</text>\n",
       "<text text-anchor=\"start\" x=\"2052\" y=\"-111.8\" font-family=\"Helvetica,sans-Serif\" font-size=\"14.00\">class = Insulin+others</text>\n",
       "</g>\n",
       "<!-- 25&#45;&gt;29 -->\n",
       "<g id=\"edge29\" class=\"edge\"><title>25&#45;&gt;29</title>\n",
       "<path fill=\"none\" stroke=\"black\" d=\"M1948.13,-226.641C1974.29,-214.298 2003.63,-200.459 2030.46,-187.799\"/>\n",
       "<polygon fill=\"black\" stroke=\"black\" points=\"2032.29,-190.807 2039.84,-183.375 2029.3,-184.476 2032.29,-190.807\"/>\n",
       "</g>\n",
       "<!-- 27 -->\n",
       "<g id=\"node28\" class=\"node\"><title>27</title>\n",
       "<path fill=\"#e58139\" fill-opacity=\"0.015686\" stroke=\"black\" d=\"M1847.5,-68C1847.5,-68 1746.5,-68 1746.5,-68 1740.5,-68 1734.5,-62 1734.5,-56 1734.5,-56 1734.5,-12 1734.5,-12 1734.5,-6 1740.5,-0 1746.5,-0 1746.5,-0 1847.5,-0 1847.5,-0 1853.5,-0 1859.5,-6 1859.5,-12 1859.5,-12 1859.5,-56 1859.5,-56 1859.5,-62 1853.5,-68 1847.5,-68\"/>\n",
       "<text text-anchor=\"start\" x=\"1769\" y=\"-52.8\" font-family=\"Helvetica,sans-Serif\" font-size=\"14.00\">gini = 0.5</text>\n",
       "<text text-anchor=\"start\" x=\"1752\" y=\"-37.8\" font-family=\"Helvetica,sans-Serif\" font-size=\"14.00\">samples = 280</text>\n",
       "<text text-anchor=\"start\" x=\"1742.5\" y=\"-22.8\" font-family=\"Helvetica,sans-Serif\" font-size=\"14.00\">value = [141, 139]</text>\n",
       "<text text-anchor=\"start\" x=\"1754.5\" y=\"-7.8\" font-family=\"Helvetica,sans-Serif\" font-size=\"14.00\">class = insulin</text>\n",
       "</g>\n",
       "<!-- 26&#45;&gt;27 -->\n",
       "<g id=\"edge27\" class=\"edge\"><title>26&#45;&gt;27</title>\n",
       "<path fill=\"none\" stroke=\"black\" d=\"M1842.82,-103.726C1836.92,-94.879 1830.67,-85.51 1824.75,-76.6303\"/>\n",
       "<polygon fill=\"black\" stroke=\"black\" points=\"1827.66,-74.6787 1819.2,-68.2996 1821.83,-78.5616 1827.66,-74.6787\"/>\n",
       "</g>\n",
       "<!-- 28 -->\n",
       "<g id=\"node29\" class=\"node\"><title>28</title>\n",
       "<path fill=\"#399de5\" fill-opacity=\"0.490196\" stroke=\"black\" d=\"M2014,-68C2014,-68 1890,-68 1890,-68 1884,-68 1878,-62 1878,-56 1878,-56 1878,-12 1878,-12 1878,-6 1884,-0 1890,-0 1890,-0 2014,-0 2014,-0 2020,-0 2026,-6 2026,-12 2026,-12 2026,-56 2026,-56 2026,-62 2020,-68 2014,-68\"/>\n",
       "<text text-anchor=\"start\" x=\"1916.5\" y=\"-52.8\" font-family=\"Helvetica,sans-Serif\" font-size=\"14.00\">gini = 0.447</text>\n",
       "<text text-anchor=\"start\" x=\"1903.5\" y=\"-37.8\" font-family=\"Helvetica,sans-Serif\" font-size=\"14.00\">samples = 4074</text>\n",
       "<text text-anchor=\"start\" x=\"1890\" y=\"-22.8\" font-family=\"Helvetica,sans-Serif\" font-size=\"14.00\">value = [1376, 2698]</text>\n",
       "<text text-anchor=\"start\" x=\"1886\" y=\"-7.8\" font-family=\"Helvetica,sans-Serif\" font-size=\"14.00\">class = Insulin+others</text>\n",
       "</g>\n",
       "<!-- 26&#45;&gt;28 -->\n",
       "<g id=\"edge28\" class=\"edge\"><title>26&#45;&gt;28</title>\n",
       "<path fill=\"none\" stroke=\"black\" d=\"M1900.53,-103.726C1907.23,-94.7878 1914.32,-85.3168 1921.03,-76.3558\"/>\n",
       "<polygon fill=\"black\" stroke=\"black\" points=\"1923.87,-78.402 1927.06,-68.2996 1918.27,-74.206 1923.87,-78.402\"/>\n",
       "</g>\n",
       "<!-- 30 -->\n",
       "<g id=\"node31\" class=\"node\"><title>30</title>\n",
       "<path fill=\"#399de5\" fill-opacity=\"0.313725\" stroke=\"black\" d=\"M2180,-68C2180,-68 2056,-68 2056,-68 2050,-68 2044,-62 2044,-56 2044,-56 2044,-12 2044,-12 2044,-6 2050,-0 2056,-0 2056,-0 2180,-0 2180,-0 2186,-0 2192,-6 2192,-12 2192,-12 2192,-56 2192,-56 2192,-62 2186,-68 2180,-68\"/>\n",
       "<text text-anchor=\"start\" x=\"2082.5\" y=\"-52.8\" font-family=\"Helvetica,sans-Serif\" font-size=\"14.00\">gini = 0.483</text>\n",
       "<text text-anchor=\"start\" x=\"2069.5\" y=\"-37.8\" font-family=\"Helvetica,sans-Serif\" font-size=\"14.00\">samples = 1164</text>\n",
       "<text text-anchor=\"start\" x=\"2063.5\" y=\"-22.8\" font-family=\"Helvetica,sans-Serif\" font-size=\"14.00\">value = [474, 690]</text>\n",
       "<text text-anchor=\"start\" x=\"2052\" y=\"-7.8\" font-family=\"Helvetica,sans-Serif\" font-size=\"14.00\">class = Insulin+others</text>\n",
       "</g>\n",
       "<!-- 29&#45;&gt;30 -->\n",
       "<g id=\"edge30\" class=\"edge\"><title>29&#45;&gt;30</title>\n",
       "<path fill=\"none\" stroke=\"black\" d=\"M2118,-103.726C2118,-95.5175 2118,-86.8595 2118,-78.56\"/>\n",
       "<polygon fill=\"black\" stroke=\"black\" points=\"2121.5,-78.2996 2118,-68.2996 2114.5,-78.2996 2121.5,-78.2996\"/>\n",
       "</g>\n",
       "<!-- 31 -->\n",
       "<g id=\"node32\" class=\"node\"><title>31</title>\n",
       "<path fill=\"#399de5\" fill-opacity=\"0.105882\" stroke=\"black\" d=\"M2346,-68C2346,-68 2222,-68 2222,-68 2216,-68 2210,-62 2210,-56 2210,-56 2210,-12 2210,-12 2210,-6 2216,-0 2222,-0 2222,-0 2346,-0 2346,-0 2352,-0 2358,-6 2358,-12 2358,-12 2358,-56 2358,-56 2358,-62 2352,-68 2346,-68\"/>\n",
       "<text text-anchor=\"start\" x=\"2248.5\" y=\"-52.8\" font-family=\"Helvetica,sans-Serif\" font-size=\"14.00\">gini = 0.498</text>\n",
       "<text text-anchor=\"start\" x=\"2239\" y=\"-37.8\" font-family=\"Helvetica,sans-Serif\" font-size=\"14.00\">samples = 709</text>\n",
       "<text text-anchor=\"start\" x=\"2229.5\" y=\"-22.8\" font-family=\"Helvetica,sans-Serif\" font-size=\"14.00\">value = [335, 374]</text>\n",
       "<text text-anchor=\"start\" x=\"2218\" y=\"-7.8\" font-family=\"Helvetica,sans-Serif\" font-size=\"14.00\">class = Insulin+others</text>\n",
       "</g>\n",
       "<!-- 29&#45;&gt;31 -->\n",
       "<g id=\"edge31\" class=\"edge\"><title>29&#45;&gt;31</title>\n",
       "<path fill=\"none\" stroke=\"black\" d=\"M2179.81,-103.726C2194.68,-93.9161 2210.53,-83.4644 2225.26,-73.7496\"/>\n",
       "<polygon fill=\"black\" stroke=\"black\" points=\"2227.36,-76.5532 2233.78,-68.1252 2223.51,-70.7099 2227.36,-76.5532\"/>\n",
       "</g>\n",
       "</g>\n",
       "</svg>\n"
      ],
      "text/plain": [
       "<graphviz.files.Source at 0x7f04b7610b70>"
      ]
     },
     "execution_count": 86,
     "metadata": {},
     "output_type": "execute_result"
    }
   ],
   "source": [
    "dot_data = export_graphviz(\n",
    "    m6,\n",
    "    out_file=None,\n",
    "    feature_names=X.columns,\n",
    "    class_names=['insulin', 'Insulin+others'],\n",
    "    filled=True,\n",
    "    rounded=True,\n",
    "    special_characters=True)\n",
    "graph = graphviz.Source(dot_data)\n",
    "graph"
   ]
  },
  {
   "cell_type": "code",
   "execution_count": 87,
   "metadata": {},
   "outputs": [],
   "source": []
  }
 ],
 "metadata": {
  "kernelspec": {
   "display_name": "Python 3",
   "language": "python",
   "name": "python3"
  },
  "language_info": {
   "codemirror_mode": {
    "name": "ipython",
    "version": 3
   },
   "file_extension": ".py",
   "mimetype": "text/x-python",
   "name": "python",
   "nbconvert_exporter": "python",
   "pygments_lexer": "ipython3",
   "version": "3.7.1"
  }
 },
 "nbformat": 4,
 "nbformat_minor": 1
}
